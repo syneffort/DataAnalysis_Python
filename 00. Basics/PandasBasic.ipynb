{
 "metadata": {
  "language_info": {
   "codemirror_mode": {
    "name": "ipython",
    "version": 3
   },
   "file_extension": ".py",
   "mimetype": "text/x-python",
   "name": "python",
   "nbconvert_exporter": "python",
   "pygments_lexer": "ipython3",
   "version": "3.5.6-final"
  },
  "orig_nbformat": 2,
  "kernelspec": {
   "name": "python3",
   "display_name": "Python 3",
   "language": "python"
  }
 },
 "nbformat": 4,
 "nbformat_minor": 2,
 "cells": [
  {
   "cell_type": "code",
   "execution_count": 1,
   "metadata": {},
   "outputs": [],
   "source": [
    "import pandas as pd\n",
    "import numpy as np"
   ]
  },
  {
   "cell_type": "code",
   "execution_count": 2,
   "metadata": {},
   "outputs": [
    {
     "output_type": "execute_result",
     "data": {
      "text/plain": [
       "0    1.0\n",
       "1    3.0\n",
       "2    5.0\n",
       "3    NaN\n",
       "4    6.0\n",
       "5    8.0\n",
       "dtype: float64"
      ]
     },
     "metadata": {},
     "execution_count": 2
    }
   ],
   "source": [
    "s = pd.Series([1,3,5,np.nan,6,8])\n",
    "s"
   ]
  },
  {
   "cell_type": "code",
   "execution_count": 3,
   "metadata": {},
   "outputs": [
    {
     "output_type": "execute_result",
     "data": {
      "text/plain": [
       "DatetimeIndex(['2013-01-01', '2013-01-02', '2013-01-03', '2013-01-04',\n",
       "               '2013-01-05', '2013-01-06'],\n",
       "              dtype='datetime64[ns]', freq='D')"
      ]
     },
     "metadata": {},
     "execution_count": 3
    }
   ],
   "source": [
    "dates = pd.date_range('20130101', periods=6)\n",
    "dates"
   ]
  },
  {
   "cell_type": "code",
   "execution_count": 4,
   "metadata": {},
   "outputs": [
    {
     "output_type": "execute_result",
     "data": {
      "text/html": "<div>\n<style scoped>\n    .dataframe tbody tr th:only-of-type {\n        vertical-align: middle;\n    }\n\n    .dataframe tbody tr th {\n        vertical-align: top;\n    }\n\n    .dataframe thead th {\n        text-align: right;\n    }\n</style>\n<table border=\"1\" class=\"dataframe\">\n  <thead>\n    <tr style=\"text-align: right;\">\n      <th></th>\n      <th>A</th>\n      <th>B</th>\n      <th>C</th>\n      <th>D</th>\n    </tr>\n  </thead>\n  <tbody>\n    <tr>\n      <th>2013-01-01</th>\n      <td>-0.714057</td>\n      <td>1.144606</td>\n      <td>1.043462</td>\n      <td>1.032382</td>\n    </tr>\n    <tr>\n      <th>2013-01-02</th>\n      <td>0.145732</td>\n      <td>-1.105265</td>\n      <td>-1.060651</td>\n      <td>-1.428891</td>\n    </tr>\n    <tr>\n      <th>2013-01-03</th>\n      <td>0.432988</td>\n      <td>2.041437</td>\n      <td>2.089421</td>\n      <td>0.588848</td>\n    </tr>\n    <tr>\n      <th>2013-01-04</th>\n      <td>1.057972</td>\n      <td>0.440762</td>\n      <td>0.414154</td>\n      <td>-0.115355</td>\n    </tr>\n    <tr>\n      <th>2013-01-05</th>\n      <td>0.069159</td>\n      <td>1.555257</td>\n      <td>-0.586350</td>\n      <td>-0.959729</td>\n    </tr>\n    <tr>\n      <th>2013-01-06</th>\n      <td>0.920605</td>\n      <td>0.441707</td>\n      <td>1.826096</td>\n      <td>1.860218</td>\n    </tr>\n  </tbody>\n</table>\n</div>",
      "text/plain": [
       "                   A         B         C         D\n",
       "2013-01-01 -0.714057  1.144606  1.043462  1.032382\n",
       "2013-01-02  0.145732 -1.105265 -1.060651 -1.428891\n",
       "2013-01-03  0.432988  2.041437  2.089421  0.588848\n",
       "2013-01-04  1.057972  0.440762  0.414154 -0.115355\n",
       "2013-01-05  0.069159  1.555257 -0.586350 -0.959729\n",
       "2013-01-06  0.920605  0.441707  1.826096  1.860218"
      ]
     },
     "metadata": {},
     "execution_count": 4
    }
   ],
   "source": [
    "df = pd.DataFrame(np.random.randn(6,4), index=dates, columns=['A','B','C','D'])\n",
    "df"
   ]
  },
  {
   "cell_type": "code",
   "execution_count": 5,
   "metadata": {},
   "outputs": [
    {
     "output_type": "execute_result",
     "data": {
      "text/html": "<div>\n<style scoped>\n    .dataframe tbody tr th:only-of-type {\n        vertical-align: middle;\n    }\n\n    .dataframe tbody tr th {\n        vertical-align: top;\n    }\n\n    .dataframe thead th {\n        text-align: right;\n    }\n</style>\n<table border=\"1\" class=\"dataframe\">\n  <thead>\n    <tr style=\"text-align: right;\">\n      <th></th>\n      <th>A</th>\n      <th>B</th>\n      <th>C</th>\n      <th>D</th>\n    </tr>\n  </thead>\n  <tbody>\n    <tr>\n      <th>2013-01-01</th>\n      <td>-0.714057</td>\n      <td>1.144606</td>\n      <td>1.043462</td>\n      <td>1.032382</td>\n    </tr>\n    <tr>\n      <th>2013-01-02</th>\n      <td>0.145732</td>\n      <td>-1.105265</td>\n      <td>-1.060651</td>\n      <td>-1.428891</td>\n    </tr>\n    <tr>\n      <th>2013-01-03</th>\n      <td>0.432988</td>\n      <td>2.041437</td>\n      <td>2.089421</td>\n      <td>0.588848</td>\n    </tr>\n  </tbody>\n</table>\n</div>",
      "text/plain": [
       "                   A         B         C         D\n",
       "2013-01-01 -0.714057  1.144606  1.043462  1.032382\n",
       "2013-01-02  0.145732 -1.105265 -1.060651 -1.428891\n",
       "2013-01-03  0.432988  2.041437  2.089421  0.588848"
      ]
     },
     "metadata": {},
     "execution_count": 5
    }
   ],
   "source": [
    "df.head(3)"
   ]
  },
  {
   "cell_type": "code",
   "execution_count": 6,
   "metadata": {},
   "outputs": [
    {
     "output_type": "execute_result",
     "data": {
      "text/plain": [
       "DatetimeIndex(['2013-01-01', '2013-01-02', '2013-01-03', '2013-01-04',\n",
       "               '2013-01-05', '2013-01-06'],\n",
       "              dtype='datetime64[ns]', freq='D')"
      ]
     },
     "metadata": {},
     "execution_count": 6
    }
   ],
   "source": [
    "df.index"
   ]
  },
  {
   "cell_type": "code",
   "execution_count": 7,
   "metadata": {},
   "outputs": [
    {
     "output_type": "execute_result",
     "data": {
      "text/plain": [
       "Index(['A', 'B', 'C', 'D'], dtype='object')"
      ]
     },
     "metadata": {},
     "execution_count": 7
    }
   ],
   "source": [
    "df.columns"
   ]
  },
  {
   "cell_type": "code",
   "execution_count": 8,
   "metadata": {},
   "outputs": [
    {
     "output_type": "execute_result",
     "data": {
      "text/plain": [
       "array([[-0.71405697,  1.14460561,  1.04346216,  1.03238184],\n",
       "       [ 0.14573172, -1.10526541, -1.06065072, -1.42889075],\n",
       "       [ 0.43298823,  2.04143728,  2.08942096,  0.58884842],\n",
       "       [ 1.05797178,  0.44076216,  0.41415375, -0.11535469],\n",
       "       [ 0.06915932,  1.55525695, -0.58634972, -0.95972897],\n",
       "       [ 0.92060525,  0.44170688,  1.82609649,  1.86021835]])"
      ]
     },
     "metadata": {},
     "execution_count": 8
    }
   ],
   "source": [
    "df.values"
   ]
  },
  {
   "cell_type": "code",
   "execution_count": 9,
   "metadata": {},
   "outputs": [
    {
     "output_type": "stream",
     "name": "stdout",
     "text": [
      "<class 'pandas.core.frame.DataFrame'>\nDatetimeIndex: 6 entries, 2013-01-01 to 2013-01-06\nFreq: D\nData columns (total 4 columns):\nA    6 non-null float64\nB    6 non-null float64\nC    6 non-null float64\nD    6 non-null float64\ndtypes: float64(4)\nmemory usage: 240.0 bytes\n"
     ]
    }
   ],
   "source": [
    "df.info()"
   ]
  },
  {
   "cell_type": "code",
   "execution_count": 10,
   "metadata": {},
   "outputs": [
    {
     "output_type": "execute_result",
     "data": {
      "text/html": "<div>\n<style scoped>\n    .dataframe tbody tr th:only-of-type {\n        vertical-align: middle;\n    }\n\n    .dataframe tbody tr th {\n        vertical-align: top;\n    }\n\n    .dataframe thead th {\n        text-align: right;\n    }\n</style>\n<table border=\"1\" class=\"dataframe\">\n  <thead>\n    <tr style=\"text-align: right;\">\n      <th></th>\n      <th>A</th>\n      <th>B</th>\n      <th>C</th>\n      <th>D</th>\n    </tr>\n  </thead>\n  <tbody>\n    <tr>\n      <th>count</th>\n      <td>6.000000</td>\n      <td>6.000000</td>\n      <td>6.000000</td>\n      <td>6.000000</td>\n    </tr>\n    <tr>\n      <th>mean</th>\n      <td>0.318733</td>\n      <td>0.753084</td>\n      <td>0.621022</td>\n      <td>0.162912</td>\n    </tr>\n    <tr>\n      <th>std</th>\n      <td>0.645081</td>\n      <td>1.104951</td>\n      <td>1.274003</td>\n      <td>1.240148</td>\n    </tr>\n    <tr>\n      <th>min</th>\n      <td>-0.714057</td>\n      <td>-1.105265</td>\n      <td>-1.060651</td>\n      <td>-1.428891</td>\n    </tr>\n    <tr>\n      <th>25%</th>\n      <td>0.088302</td>\n      <td>0.440998</td>\n      <td>-0.336224</td>\n      <td>-0.748635</td>\n    </tr>\n    <tr>\n      <th>50%</th>\n      <td>0.289360</td>\n      <td>0.793156</td>\n      <td>0.728808</td>\n      <td>0.236747</td>\n    </tr>\n    <tr>\n      <th>75%</th>\n      <td>0.798701</td>\n      <td>1.452594</td>\n      <td>1.630438</td>\n      <td>0.921498</td>\n    </tr>\n    <tr>\n      <th>max</th>\n      <td>1.057972</td>\n      <td>2.041437</td>\n      <td>2.089421</td>\n      <td>1.860218</td>\n    </tr>\n  </tbody>\n</table>\n</div>",
      "text/plain": [
       "              A         B         C         D\n",
       "count  6.000000  6.000000  6.000000  6.000000\n",
       "mean   0.318733  0.753084  0.621022  0.162912\n",
       "std    0.645081  1.104951  1.274003  1.240148\n",
       "min   -0.714057 -1.105265 -1.060651 -1.428891\n",
       "25%    0.088302  0.440998 -0.336224 -0.748635\n",
       "50%    0.289360  0.793156  0.728808  0.236747\n",
       "75%    0.798701  1.452594  1.630438  0.921498\n",
       "max    1.057972  2.041437  2.089421  1.860218"
      ]
     },
     "metadata": {},
     "execution_count": 10
    }
   ],
   "source": [
    "df.describe()"
   ]
  },
  {
   "cell_type": "code",
   "execution_count": 11,
   "metadata": {},
   "outputs": [
    {
     "output_type": "execute_result",
     "data": {
      "text/html": "<div>\n<style scoped>\n    .dataframe tbody tr th:only-of-type {\n        vertical-align: middle;\n    }\n\n    .dataframe tbody tr th {\n        vertical-align: top;\n    }\n\n    .dataframe thead th {\n        text-align: right;\n    }\n</style>\n<table border=\"1\" class=\"dataframe\">\n  <thead>\n    <tr style=\"text-align: right;\">\n      <th></th>\n      <th>A</th>\n      <th>B</th>\n      <th>C</th>\n      <th>D</th>\n    </tr>\n  </thead>\n  <tbody>\n    <tr>\n      <th>2013-01-03</th>\n      <td>0.432988</td>\n      <td>2.041437</td>\n      <td>2.089421</td>\n      <td>0.588848</td>\n    </tr>\n    <tr>\n      <th>2013-01-05</th>\n      <td>0.069159</td>\n      <td>1.555257</td>\n      <td>-0.586350</td>\n      <td>-0.959729</td>\n    </tr>\n    <tr>\n      <th>2013-01-01</th>\n      <td>-0.714057</td>\n      <td>1.144606</td>\n      <td>1.043462</td>\n      <td>1.032382</td>\n    </tr>\n    <tr>\n      <th>2013-01-06</th>\n      <td>0.920605</td>\n      <td>0.441707</td>\n      <td>1.826096</td>\n      <td>1.860218</td>\n    </tr>\n    <tr>\n      <th>2013-01-04</th>\n      <td>1.057972</td>\n      <td>0.440762</td>\n      <td>0.414154</td>\n      <td>-0.115355</td>\n    </tr>\n    <tr>\n      <th>2013-01-02</th>\n      <td>0.145732</td>\n      <td>-1.105265</td>\n      <td>-1.060651</td>\n      <td>-1.428891</td>\n    </tr>\n  </tbody>\n</table>\n</div>",
      "text/plain": [
       "                   A         B         C         D\n",
       "2013-01-03  0.432988  2.041437  2.089421  0.588848\n",
       "2013-01-05  0.069159  1.555257 -0.586350 -0.959729\n",
       "2013-01-01 -0.714057  1.144606  1.043462  1.032382\n",
       "2013-01-06  0.920605  0.441707  1.826096  1.860218\n",
       "2013-01-04  1.057972  0.440762  0.414154 -0.115355\n",
       "2013-01-02  0.145732 -1.105265 -1.060651 -1.428891"
      ]
     },
     "metadata": {},
     "execution_count": 11
    }
   ],
   "source": [
    "df.sort_values(by='B', ascending=False)"
   ]
  },
  {
   "cell_type": "code",
   "execution_count": 12,
   "metadata": {},
   "outputs": [
    {
     "output_type": "execute_result",
     "data": {
      "text/plain": [
       "2013-01-01    1.144606\n",
       "2013-01-02   -1.105265\n",
       "2013-01-03    2.041437\n",
       "2013-01-04    0.440762\n",
       "2013-01-05    1.555257\n",
       "2013-01-06    0.441707\n",
       "Freq: D, Name: B, dtype: float64"
      ]
     },
     "metadata": {},
     "execution_count": 12
    }
   ],
   "source": [
    "df['B']"
   ]
  },
  {
   "cell_type": "code",
   "execution_count": 13,
   "metadata": {},
   "outputs": [
    {
     "output_type": "execute_result",
     "data": {
      "text/html": "<div>\n<style scoped>\n    .dataframe tbody tr th:only-of-type {\n        vertical-align: middle;\n    }\n\n    .dataframe tbody tr th {\n        vertical-align: top;\n    }\n\n    .dataframe thead th {\n        text-align: right;\n    }\n</style>\n<table border=\"1\" class=\"dataframe\">\n  <thead>\n    <tr style=\"text-align: right;\">\n      <th></th>\n      <th>A</th>\n      <th>B</th>\n      <th>C</th>\n      <th>D</th>\n    </tr>\n  </thead>\n  <tbody>\n    <tr>\n      <th>2013-01-01</th>\n      <td>-0.714057</td>\n      <td>1.144606</td>\n      <td>1.043462</td>\n      <td>1.032382</td>\n    </tr>\n    <tr>\n      <th>2013-01-02</th>\n      <td>0.145732</td>\n      <td>-1.105265</td>\n      <td>-1.060651</td>\n      <td>-1.428891</td>\n    </tr>\n    <tr>\n      <th>2013-01-03</th>\n      <td>0.432988</td>\n      <td>2.041437</td>\n      <td>2.089421</td>\n      <td>0.588848</td>\n    </tr>\n  </tbody>\n</table>\n</div>",
      "text/plain": [
       "                   A         B         C         D\n",
       "2013-01-01 -0.714057  1.144606  1.043462  1.032382\n",
       "2013-01-02  0.145732 -1.105265 -1.060651 -1.428891\n",
       "2013-01-03  0.432988  2.041437  2.089421  0.588848"
      ]
     },
     "metadata": {},
     "execution_count": 13
    }
   ],
   "source": [
    "df[0:3]"
   ]
  },
  {
   "cell_type": "code",
   "execution_count": 14,
   "metadata": {},
   "outputs": [
    {
     "output_type": "execute_result",
     "data": {
      "text/html": "<div>\n<style scoped>\n    .dataframe tbody tr th:only-of-type {\n        vertical-align: middle;\n    }\n\n    .dataframe tbody tr th {\n        vertical-align: top;\n    }\n\n    .dataframe thead th {\n        text-align: right;\n    }\n</style>\n<table border=\"1\" class=\"dataframe\">\n  <thead>\n    <tr style=\"text-align: right;\">\n      <th></th>\n      <th>A</th>\n      <th>B</th>\n      <th>C</th>\n      <th>D</th>\n    </tr>\n  </thead>\n  <tbody>\n    <tr>\n      <th>2013-01-02</th>\n      <td>0.145732</td>\n      <td>-1.105265</td>\n      <td>-1.060651</td>\n      <td>-1.428891</td>\n    </tr>\n    <tr>\n      <th>2013-01-03</th>\n      <td>0.432988</td>\n      <td>2.041437</td>\n      <td>2.089421</td>\n      <td>0.588848</td>\n    </tr>\n    <tr>\n      <th>2013-01-04</th>\n      <td>1.057972</td>\n      <td>0.440762</td>\n      <td>0.414154</td>\n      <td>-0.115355</td>\n    </tr>\n    <tr>\n      <th>2013-01-05</th>\n      <td>0.069159</td>\n      <td>1.555257</td>\n      <td>-0.586350</td>\n      <td>-0.959729</td>\n    </tr>\n  </tbody>\n</table>\n</div>",
      "text/plain": [
       "                   A         B         C         D\n",
       "2013-01-02  0.145732 -1.105265 -1.060651 -1.428891\n",
       "2013-01-03  0.432988  2.041437  2.089421  0.588848\n",
       "2013-01-04  1.057972  0.440762  0.414154 -0.115355\n",
       "2013-01-05  0.069159  1.555257 -0.586350 -0.959729"
      ]
     },
     "metadata": {},
     "execution_count": 14
    }
   ],
   "source": [
    "df['20130102':'20130105']"
   ]
  },
  {
   "cell_type": "code",
   "execution_count": 15,
   "metadata": {},
   "outputs": [
    {
     "output_type": "execute_result",
     "data": {
      "text/plain": [
       "A   -0.714057\n",
       "B    1.144606\n",
       "C    1.043462\n",
       "D    1.032382\n",
       "Name: 2013-01-01 00:00:00, dtype: float64"
      ]
     },
     "metadata": {},
     "execution_count": 15
    }
   ],
   "source": [
    "df.loc[dates[0]]"
   ]
  },
  {
   "cell_type": "code",
   "execution_count": 16,
   "metadata": {},
   "outputs": [
    {
     "output_type": "execute_result",
     "data": {
      "text/html": "<div>\n<style scoped>\n    .dataframe tbody tr th:only-of-type {\n        vertical-align: middle;\n    }\n\n    .dataframe tbody tr th {\n        vertical-align: top;\n    }\n\n    .dataframe thead th {\n        text-align: right;\n    }\n</style>\n<table border=\"1\" class=\"dataframe\">\n  <thead>\n    <tr style=\"text-align: right;\">\n      <th></th>\n      <th>A</th>\n      <th>B</th>\n    </tr>\n  </thead>\n  <tbody>\n    <tr>\n      <th>2013-01-01</th>\n      <td>-0.714057</td>\n      <td>1.144606</td>\n    </tr>\n    <tr>\n      <th>2013-01-02</th>\n      <td>0.145732</td>\n      <td>-1.105265</td>\n    </tr>\n    <tr>\n      <th>2013-01-03</th>\n      <td>0.432988</td>\n      <td>2.041437</td>\n    </tr>\n    <tr>\n      <th>2013-01-04</th>\n      <td>1.057972</td>\n      <td>0.440762</td>\n    </tr>\n    <tr>\n      <th>2013-01-05</th>\n      <td>0.069159</td>\n      <td>1.555257</td>\n    </tr>\n    <tr>\n      <th>2013-01-06</th>\n      <td>0.920605</td>\n      <td>0.441707</td>\n    </tr>\n  </tbody>\n</table>\n</div>",
      "text/plain": [
       "                   A         B\n",
       "2013-01-01 -0.714057  1.144606\n",
       "2013-01-02  0.145732 -1.105265\n",
       "2013-01-03  0.432988  2.041437\n",
       "2013-01-04  1.057972  0.440762\n",
       "2013-01-05  0.069159  1.555257\n",
       "2013-01-06  0.920605  0.441707"
      ]
     },
     "metadata": {},
     "execution_count": 16
    }
   ],
   "source": [
    "df.loc[:,['A','B']]"
   ]
  },
  {
   "cell_type": "code",
   "execution_count": 17,
   "metadata": {},
   "outputs": [
    {
     "output_type": "execute_result",
     "data": {
      "text/html": "<div>\n<style scoped>\n    .dataframe tbody tr th:only-of-type {\n        vertical-align: middle;\n    }\n\n    .dataframe tbody tr th {\n        vertical-align: top;\n    }\n\n    .dataframe thead th {\n        text-align: right;\n    }\n</style>\n<table border=\"1\" class=\"dataframe\">\n  <thead>\n    <tr style=\"text-align: right;\">\n      <th></th>\n      <th>A</th>\n      <th>B</th>\n    </tr>\n  </thead>\n  <tbody>\n    <tr>\n      <th>2013-01-01</th>\n      <td>-0.714057</td>\n      <td>1.144606</td>\n    </tr>\n    <tr>\n      <th>2013-01-02</th>\n      <td>0.145732</td>\n      <td>-1.105265</td>\n    </tr>\n    <tr>\n      <th>2013-01-03</th>\n      <td>0.432988</td>\n      <td>2.041437</td>\n    </tr>\n    <tr>\n      <th>2013-01-04</th>\n      <td>1.057972</td>\n      <td>0.440762</td>\n    </tr>\n  </tbody>\n</table>\n</div>",
      "text/plain": [
       "                   A         B\n",
       "2013-01-01 -0.714057  1.144606\n",
       "2013-01-02  0.145732 -1.105265\n",
       "2013-01-03  0.432988  2.041437\n",
       "2013-01-04  1.057972  0.440762"
      ]
     },
     "metadata": {},
     "execution_count": 17
    }
   ],
   "source": [
    "df.loc['20130101':'20130104',['A','B']]"
   ]
  },
  {
   "cell_type": "code",
   "execution_count": 18,
   "metadata": {},
   "outputs": [
    {
     "output_type": "execute_result",
     "data": {
      "text/plain": [
       "A    0.145732\n",
       "B   -1.105265\n",
       "Name: 2013-01-02 00:00:00, dtype: float64"
      ]
     },
     "metadata": {},
     "execution_count": 18
    }
   ],
   "source": [
    "df.loc['20130102',['A','B']]"
   ]
  },
  {
   "cell_type": "code",
   "execution_count": 19,
   "metadata": {},
   "outputs": [
    {
     "output_type": "execute_result",
     "data": {
      "text/plain": [
       "0.1457317194406516"
      ]
     },
     "metadata": {},
     "execution_count": 19
    }
   ],
   "source": [
    "df.loc['20130102','A']"
   ]
  },
  {
   "cell_type": "code",
   "execution_count": 20,
   "metadata": {},
   "outputs": [
    {
     "output_type": "execute_result",
     "data": {
      "text/plain": [
       "A    1.057972\n",
       "B    0.440762\n",
       "C    0.414154\n",
       "D   -0.115355\n",
       "Name: 2013-01-04 00:00:00, dtype: float64"
      ]
     },
     "metadata": {},
     "execution_count": 20
    }
   ],
   "source": [
    "df.iloc[3]"
   ]
  },
  {
   "cell_type": "code",
   "execution_count": 21,
   "metadata": {},
   "outputs": [
    {
     "output_type": "execute_result",
     "data": {
      "text/html": "<div>\n<style scoped>\n    .dataframe tbody tr th:only-of-type {\n        vertical-align: middle;\n    }\n\n    .dataframe tbody tr th {\n        vertical-align: top;\n    }\n\n    .dataframe thead th {\n        text-align: right;\n    }\n</style>\n<table border=\"1\" class=\"dataframe\">\n  <thead>\n    <tr style=\"text-align: right;\">\n      <th></th>\n      <th>A</th>\n      <th>B</th>\n    </tr>\n  </thead>\n  <tbody>\n    <tr>\n      <th>2013-01-04</th>\n      <td>1.057972</td>\n      <td>0.440762</td>\n    </tr>\n    <tr>\n      <th>2013-01-05</th>\n      <td>0.069159</td>\n      <td>1.555257</td>\n    </tr>\n  </tbody>\n</table>\n</div>",
      "text/plain": [
       "                   A         B\n",
       "2013-01-04  1.057972  0.440762\n",
       "2013-01-05  0.069159  1.555257"
      ]
     },
     "metadata": {},
     "execution_count": 21
    }
   ],
   "source": [
    "df.iloc[3:5,0:2]"
   ]
  },
  {
   "cell_type": "code",
   "execution_count": 22,
   "metadata": {},
   "outputs": [
    {
     "output_type": "execute_result",
     "data": {
      "text/html": "<div>\n<style scoped>\n    .dataframe tbody tr th:only-of-type {\n        vertical-align: middle;\n    }\n\n    .dataframe tbody tr th {\n        vertical-align: top;\n    }\n\n    .dataframe thead th {\n        text-align: right;\n    }\n</style>\n<table border=\"1\" class=\"dataframe\">\n  <thead>\n    <tr style=\"text-align: right;\">\n      <th></th>\n      <th>A</th>\n      <th>C</th>\n    </tr>\n  </thead>\n  <tbody>\n    <tr>\n      <th>2013-01-01</th>\n      <td>-0.714057</td>\n      <td>1.043462</td>\n    </tr>\n    <tr>\n      <th>2013-01-03</th>\n      <td>0.432988</td>\n      <td>2.089421</td>\n    </tr>\n    <tr>\n      <th>2013-01-05</th>\n      <td>0.069159</td>\n      <td>-0.586350</td>\n    </tr>\n  </tbody>\n</table>\n</div>",
      "text/plain": [
       "                   A         C\n",
       "2013-01-01 -0.714057  1.043462\n",
       "2013-01-03  0.432988  2.089421\n",
       "2013-01-05  0.069159 -0.586350"
      ]
     },
     "metadata": {},
     "execution_count": 22
    }
   ],
   "source": [
    "df.iloc[[0,2,4],[0,2]]"
   ]
  },
  {
   "cell_type": "code",
   "execution_count": 23,
   "metadata": {},
   "outputs": [
    {
     "output_type": "execute_result",
     "data": {
      "text/html": "<div>\n<style scoped>\n    .dataframe tbody tr th:only-of-type {\n        vertical-align: middle;\n    }\n\n    .dataframe tbody tr th {\n        vertical-align: top;\n    }\n\n    .dataframe thead th {\n        text-align: right;\n    }\n</style>\n<table border=\"1\" class=\"dataframe\">\n  <thead>\n    <tr style=\"text-align: right;\">\n      <th></th>\n      <th>A</th>\n      <th>B</th>\n      <th>C</th>\n      <th>D</th>\n    </tr>\n  </thead>\n  <tbody>\n    <tr>\n      <th>2013-01-01</th>\n      <td>-0.714057</td>\n      <td>1.144606</td>\n      <td>1.043462</td>\n      <td>1.032382</td>\n    </tr>\n    <tr>\n      <th>2013-01-03</th>\n      <td>0.432988</td>\n      <td>2.041437</td>\n      <td>2.089421</td>\n      <td>0.588848</td>\n    </tr>\n    <tr>\n      <th>2013-01-05</th>\n      <td>0.069159</td>\n      <td>1.555257</td>\n      <td>-0.586350</td>\n      <td>-0.959729</td>\n    </tr>\n  </tbody>\n</table>\n</div>",
      "text/plain": [
       "                   A         B         C         D\n",
       "2013-01-01 -0.714057  1.144606  1.043462  1.032382\n",
       "2013-01-03  0.432988  2.041437  2.089421  0.588848\n",
       "2013-01-05  0.069159  1.555257 -0.586350 -0.959729"
      ]
     },
     "metadata": {},
     "execution_count": 23
    }
   ],
   "source": [
    "df.iloc[[0,2,4],:]"
   ]
  },
  {
   "cell_type": "code",
   "execution_count": 24,
   "metadata": {},
   "outputs": [
    {
     "output_type": "execute_result",
     "data": {
      "text/html": "<div>\n<style scoped>\n    .dataframe tbody tr th:only-of-type {\n        vertical-align: middle;\n    }\n\n    .dataframe tbody tr th {\n        vertical-align: top;\n    }\n\n    .dataframe thead th {\n        text-align: right;\n    }\n</style>\n<table border=\"1\" class=\"dataframe\">\n  <thead>\n    <tr style=\"text-align: right;\">\n      <th></th>\n      <th>B</th>\n      <th>C</th>\n    </tr>\n  </thead>\n  <tbody>\n    <tr>\n      <th>2013-01-01</th>\n      <td>1.144606</td>\n      <td>1.043462</td>\n    </tr>\n    <tr>\n      <th>2013-01-02</th>\n      <td>-1.105265</td>\n      <td>-1.060651</td>\n    </tr>\n    <tr>\n      <th>2013-01-03</th>\n      <td>2.041437</td>\n      <td>2.089421</td>\n    </tr>\n    <tr>\n      <th>2013-01-04</th>\n      <td>0.440762</td>\n      <td>0.414154</td>\n    </tr>\n    <tr>\n      <th>2013-01-05</th>\n      <td>1.555257</td>\n      <td>-0.586350</td>\n    </tr>\n    <tr>\n      <th>2013-01-06</th>\n      <td>0.441707</td>\n      <td>1.826096</td>\n    </tr>\n  </tbody>\n</table>\n</div>",
      "text/plain": [
       "                   B         C\n",
       "2013-01-01  1.144606  1.043462\n",
       "2013-01-02 -1.105265 -1.060651\n",
       "2013-01-03  2.041437  2.089421\n",
       "2013-01-04  0.440762  0.414154\n",
       "2013-01-05  1.555257 -0.586350\n",
       "2013-01-06  0.441707  1.826096"
      ]
     },
     "metadata": {},
     "execution_count": 24
    }
   ],
   "source": [
    "df.iloc[:,1:3]"
   ]
  },
  {
   "cell_type": "code",
   "execution_count": 25,
   "metadata": {},
   "outputs": [
    {
     "output_type": "execute_result",
     "data": {
      "text/html": "<div>\n<style scoped>\n    .dataframe tbody tr th:only-of-type {\n        vertical-align: middle;\n    }\n\n    .dataframe tbody tr th {\n        vertical-align: top;\n    }\n\n    .dataframe thead th {\n        text-align: right;\n    }\n</style>\n<table border=\"1\" class=\"dataframe\">\n  <thead>\n    <tr style=\"text-align: right;\">\n      <th></th>\n      <th>A</th>\n      <th>B</th>\n      <th>C</th>\n      <th>D</th>\n    </tr>\n  </thead>\n  <tbody>\n    <tr>\n      <th>2013-01-01</th>\n      <td>-0.714057</td>\n      <td>1.144606</td>\n      <td>1.043462</td>\n      <td>1.032382</td>\n    </tr>\n    <tr>\n      <th>2013-01-02</th>\n      <td>0.145732</td>\n      <td>-1.105265</td>\n      <td>-1.060651</td>\n      <td>-1.428891</td>\n    </tr>\n    <tr>\n      <th>2013-01-03</th>\n      <td>0.432988</td>\n      <td>2.041437</td>\n      <td>2.089421</td>\n      <td>0.588848</td>\n    </tr>\n    <tr>\n      <th>2013-01-04</th>\n      <td>1.057972</td>\n      <td>0.440762</td>\n      <td>0.414154</td>\n      <td>-0.115355</td>\n    </tr>\n    <tr>\n      <th>2013-01-05</th>\n      <td>0.069159</td>\n      <td>1.555257</td>\n      <td>-0.586350</td>\n      <td>-0.959729</td>\n    </tr>\n    <tr>\n      <th>2013-01-06</th>\n      <td>0.920605</td>\n      <td>0.441707</td>\n      <td>1.826096</td>\n      <td>1.860218</td>\n    </tr>\n  </tbody>\n</table>\n</div>",
      "text/plain": [
       "                   A         B         C         D\n",
       "2013-01-01 -0.714057  1.144606  1.043462  1.032382\n",
       "2013-01-02  0.145732 -1.105265 -1.060651 -1.428891\n",
       "2013-01-03  0.432988  2.041437  2.089421  0.588848\n",
       "2013-01-04  1.057972  0.440762  0.414154 -0.115355\n",
       "2013-01-05  0.069159  1.555257 -0.586350 -0.959729\n",
       "2013-01-06  0.920605  0.441707  1.826096  1.860218"
      ]
     },
     "metadata": {},
     "execution_count": 25
    }
   ],
   "source": [
    "df"
   ]
  },
  {
   "cell_type": "code",
   "execution_count": 26,
   "metadata": {},
   "outputs": [
    {
     "output_type": "execute_result",
     "data": {
      "text/html": "<div>\n<style scoped>\n    .dataframe tbody tr th:only-of-type {\n        vertical-align: middle;\n    }\n\n    .dataframe tbody tr th {\n        vertical-align: top;\n    }\n\n    .dataframe thead th {\n        text-align: right;\n    }\n</style>\n<table border=\"1\" class=\"dataframe\">\n  <thead>\n    <tr style=\"text-align: right;\">\n      <th></th>\n      <th>A</th>\n      <th>B</th>\n      <th>C</th>\n      <th>D</th>\n    </tr>\n  </thead>\n  <tbody>\n    <tr>\n      <th>2013-01-02</th>\n      <td>0.145732</td>\n      <td>-1.105265</td>\n      <td>-1.060651</td>\n      <td>-1.428891</td>\n    </tr>\n    <tr>\n      <th>2013-01-03</th>\n      <td>0.432988</td>\n      <td>2.041437</td>\n      <td>2.089421</td>\n      <td>0.588848</td>\n    </tr>\n    <tr>\n      <th>2013-01-04</th>\n      <td>1.057972</td>\n      <td>0.440762</td>\n      <td>0.414154</td>\n      <td>-0.115355</td>\n    </tr>\n    <tr>\n      <th>2013-01-05</th>\n      <td>0.069159</td>\n      <td>1.555257</td>\n      <td>-0.586350</td>\n      <td>-0.959729</td>\n    </tr>\n    <tr>\n      <th>2013-01-06</th>\n      <td>0.920605</td>\n      <td>0.441707</td>\n      <td>1.826096</td>\n      <td>1.860218</td>\n    </tr>\n  </tbody>\n</table>\n</div>",
      "text/plain": [
       "                   A         B         C         D\n",
       "2013-01-02  0.145732 -1.105265 -1.060651 -1.428891\n",
       "2013-01-03  0.432988  2.041437  2.089421  0.588848\n",
       "2013-01-04  1.057972  0.440762  0.414154 -0.115355\n",
       "2013-01-05  0.069159  1.555257 -0.586350 -0.959729\n",
       "2013-01-06  0.920605  0.441707  1.826096  1.860218"
      ]
     },
     "metadata": {},
     "execution_count": 26
    }
   ],
   "source": [
    "df[df.A > 0]"
   ]
  },
  {
   "cell_type": "code",
   "execution_count": 27,
   "metadata": {},
   "outputs": [
    {
     "output_type": "execute_result",
     "data": {
      "text/html": "<div>\n<style scoped>\n    .dataframe tbody tr th:only-of-type {\n        vertical-align: middle;\n    }\n\n    .dataframe tbody tr th {\n        vertical-align: top;\n    }\n\n    .dataframe thead th {\n        text-align: right;\n    }\n</style>\n<table border=\"1\" class=\"dataframe\">\n  <thead>\n    <tr style=\"text-align: right;\">\n      <th></th>\n      <th>A</th>\n      <th>B</th>\n      <th>C</th>\n      <th>D</th>\n    </tr>\n  </thead>\n  <tbody>\n    <tr>\n      <th>2013-01-01</th>\n      <td>NaN</td>\n      <td>1.144606</td>\n      <td>1.043462</td>\n      <td>1.032382</td>\n    </tr>\n    <tr>\n      <th>2013-01-02</th>\n      <td>0.145732</td>\n      <td>NaN</td>\n      <td>NaN</td>\n      <td>NaN</td>\n    </tr>\n    <tr>\n      <th>2013-01-03</th>\n      <td>0.432988</td>\n      <td>2.041437</td>\n      <td>2.089421</td>\n      <td>0.588848</td>\n    </tr>\n    <tr>\n      <th>2013-01-04</th>\n      <td>1.057972</td>\n      <td>0.440762</td>\n      <td>0.414154</td>\n      <td>NaN</td>\n    </tr>\n    <tr>\n      <th>2013-01-05</th>\n      <td>0.069159</td>\n      <td>1.555257</td>\n      <td>NaN</td>\n      <td>NaN</td>\n    </tr>\n    <tr>\n      <th>2013-01-06</th>\n      <td>0.920605</td>\n      <td>0.441707</td>\n      <td>1.826096</td>\n      <td>1.860218</td>\n    </tr>\n  </tbody>\n</table>\n</div>",
      "text/plain": [
       "                   A         B         C         D\n",
       "2013-01-01       NaN  1.144606  1.043462  1.032382\n",
       "2013-01-02  0.145732       NaN       NaN       NaN\n",
       "2013-01-03  0.432988  2.041437  2.089421  0.588848\n",
       "2013-01-04  1.057972  0.440762  0.414154       NaN\n",
       "2013-01-05  0.069159  1.555257       NaN       NaN\n",
       "2013-01-06  0.920605  0.441707  1.826096  1.860218"
      ]
     },
     "metadata": {},
     "execution_count": 27
    }
   ],
   "source": [
    "df[df > 0]"
   ]
  },
  {
   "cell_type": "code",
   "execution_count": 28,
   "metadata": {},
   "outputs": [
    {
     "output_type": "execute_result",
     "data": {
      "text/html": "<div>\n<style scoped>\n    .dataframe tbody tr th:only-of-type {\n        vertical-align: middle;\n    }\n\n    .dataframe tbody tr th {\n        vertical-align: top;\n    }\n\n    .dataframe thead th {\n        text-align: right;\n    }\n</style>\n<table border=\"1\" class=\"dataframe\">\n  <thead>\n    <tr style=\"text-align: right;\">\n      <th></th>\n      <th>A</th>\n      <th>B</th>\n      <th>C</th>\n      <th>D</th>\n    </tr>\n  </thead>\n  <tbody>\n    <tr>\n      <th>2013-01-01</th>\n      <td>-0.714057</td>\n      <td>1.144606</td>\n      <td>1.043462</td>\n      <td>1.032382</td>\n    </tr>\n    <tr>\n      <th>2013-01-02</th>\n      <td>0.145732</td>\n      <td>-1.105265</td>\n      <td>-1.060651</td>\n      <td>-1.428891</td>\n    </tr>\n    <tr>\n      <th>2013-01-03</th>\n      <td>0.432988</td>\n      <td>2.041437</td>\n      <td>2.089421</td>\n      <td>0.588848</td>\n    </tr>\n    <tr>\n      <th>2013-01-04</th>\n      <td>1.057972</td>\n      <td>0.440762</td>\n      <td>0.414154</td>\n      <td>-0.115355</td>\n    </tr>\n    <tr>\n      <th>2013-01-05</th>\n      <td>0.069159</td>\n      <td>1.555257</td>\n      <td>-0.586350</td>\n      <td>-0.959729</td>\n    </tr>\n    <tr>\n      <th>2013-01-06</th>\n      <td>0.920605</td>\n      <td>0.441707</td>\n      <td>1.826096</td>\n      <td>1.860218</td>\n    </tr>\n  </tbody>\n</table>\n</div>",
      "text/plain": [
       "                   A         B         C         D\n",
       "2013-01-01 -0.714057  1.144606  1.043462  1.032382\n",
       "2013-01-02  0.145732 -1.105265 -1.060651 -1.428891\n",
       "2013-01-03  0.432988  2.041437  2.089421  0.588848\n",
       "2013-01-04  1.057972  0.440762  0.414154 -0.115355\n",
       "2013-01-05  0.069159  1.555257 -0.586350 -0.959729\n",
       "2013-01-06  0.920605  0.441707  1.826096  1.860218"
      ]
     },
     "metadata": {},
     "execution_count": 28
    }
   ],
   "source": [
    "df2 = df.copy()\n",
    "df2"
   ]
  },
  {
   "cell_type": "code",
   "execution_count": 29,
   "metadata": {},
   "outputs": [
    {
     "output_type": "execute_result",
     "data": {
      "text/html": "<div>\n<style scoped>\n    .dataframe tbody tr th:only-of-type {\n        vertical-align: middle;\n    }\n\n    .dataframe tbody tr th {\n        vertical-align: top;\n    }\n\n    .dataframe thead th {\n        text-align: right;\n    }\n</style>\n<table border=\"1\" class=\"dataframe\">\n  <thead>\n    <tr style=\"text-align: right;\">\n      <th></th>\n      <th>A</th>\n      <th>B</th>\n      <th>C</th>\n      <th>D</th>\n      <th>E</th>\n    </tr>\n  </thead>\n  <tbody>\n    <tr>\n      <th>2013-01-01</th>\n      <td>-0.714057</td>\n      <td>1.144606</td>\n      <td>1.043462</td>\n      <td>1.032382</td>\n      <td>one</td>\n    </tr>\n    <tr>\n      <th>2013-01-02</th>\n      <td>0.145732</td>\n      <td>-1.105265</td>\n      <td>-1.060651</td>\n      <td>-1.428891</td>\n      <td>one</td>\n    </tr>\n    <tr>\n      <th>2013-01-03</th>\n      <td>0.432988</td>\n      <td>2.041437</td>\n      <td>2.089421</td>\n      <td>0.588848</td>\n      <td>two</td>\n    </tr>\n    <tr>\n      <th>2013-01-04</th>\n      <td>1.057972</td>\n      <td>0.440762</td>\n      <td>0.414154</td>\n      <td>-0.115355</td>\n      <td>three</td>\n    </tr>\n    <tr>\n      <th>2013-01-05</th>\n      <td>0.069159</td>\n      <td>1.555257</td>\n      <td>-0.586350</td>\n      <td>-0.959729</td>\n      <td>four</td>\n    </tr>\n    <tr>\n      <th>2013-01-06</th>\n      <td>0.920605</td>\n      <td>0.441707</td>\n      <td>1.826096</td>\n      <td>1.860218</td>\n      <td>three</td>\n    </tr>\n  </tbody>\n</table>\n</div>",
      "text/plain": [
       "                   A         B         C         D      E\n",
       "2013-01-01 -0.714057  1.144606  1.043462  1.032382    one\n",
       "2013-01-02  0.145732 -1.105265 -1.060651 -1.428891    one\n",
       "2013-01-03  0.432988  2.041437  2.089421  0.588848    two\n",
       "2013-01-04  1.057972  0.440762  0.414154 -0.115355  three\n",
       "2013-01-05  0.069159  1.555257 -0.586350 -0.959729   four\n",
       "2013-01-06  0.920605  0.441707  1.826096  1.860218  three"
      ]
     },
     "metadata": {},
     "execution_count": 29
    }
   ],
   "source": [
    "df2['E'] = ['one','one','two','three','four','three']\n",
    "df2"
   ]
  },
  {
   "cell_type": "code",
   "execution_count": 30,
   "metadata": {},
   "outputs": [
    {
     "output_type": "execute_result",
     "data": {
      "text/plain": [
       "2013-01-01    False\n",
       "2013-01-02    False\n",
       "2013-01-03     True\n",
       "2013-01-04    False\n",
       "2013-01-05     True\n",
       "2013-01-06    False\n",
       "Freq: D, Name: E, dtype: bool"
      ]
     },
     "metadata": {},
     "execution_count": 30
    }
   ],
   "source": [
    "df2['E'].isin(['two','four'])"
   ]
  },
  {
   "cell_type": "code",
   "execution_count": 31,
   "metadata": {},
   "outputs": [
    {
     "output_type": "execute_result",
     "data": {
      "text/html": "<div>\n<style scoped>\n    .dataframe tbody tr th:only-of-type {\n        vertical-align: middle;\n    }\n\n    .dataframe tbody tr th {\n        vertical-align: top;\n    }\n\n    .dataframe thead th {\n        text-align: right;\n    }\n</style>\n<table border=\"1\" class=\"dataframe\">\n  <thead>\n    <tr style=\"text-align: right;\">\n      <th></th>\n      <th>A</th>\n      <th>B</th>\n      <th>C</th>\n      <th>D</th>\n      <th>E</th>\n    </tr>\n  </thead>\n  <tbody>\n    <tr>\n      <th>2013-01-03</th>\n      <td>0.432988</td>\n      <td>2.041437</td>\n      <td>2.089421</td>\n      <td>0.588848</td>\n      <td>two</td>\n    </tr>\n    <tr>\n      <th>2013-01-05</th>\n      <td>0.069159</td>\n      <td>1.555257</td>\n      <td>-0.586350</td>\n      <td>-0.959729</td>\n      <td>four</td>\n    </tr>\n  </tbody>\n</table>\n</div>",
      "text/plain": [
       "                   A         B         C         D     E\n",
       "2013-01-03  0.432988  2.041437  2.089421  0.588848   two\n",
       "2013-01-05  0.069159  1.555257 -0.586350 -0.959729  four"
      ]
     },
     "metadata": {},
     "execution_count": 31
    }
   ],
   "source": [
    "df2[df2['E'].isin(['two','four'])]"
   ]
  },
  {
   "cell_type": "code",
   "execution_count": 32,
   "metadata": {},
   "outputs": [
    {
     "output_type": "execute_result",
     "data": {
      "text/html": "<div>\n<style scoped>\n    .dataframe tbody tr th:only-of-type {\n        vertical-align: middle;\n    }\n\n    .dataframe tbody tr th {\n        vertical-align: top;\n    }\n\n    .dataframe thead th {\n        text-align: right;\n    }\n</style>\n<table border=\"1\" class=\"dataframe\">\n  <thead>\n    <tr style=\"text-align: right;\">\n      <th></th>\n      <th>A</th>\n      <th>B</th>\n      <th>C</th>\n      <th>D</th>\n    </tr>\n  </thead>\n  <tbody>\n    <tr>\n      <th>2013-01-01</th>\n      <td>-0.714057</td>\n      <td>1.144606</td>\n      <td>1.043462</td>\n      <td>1.032382</td>\n    </tr>\n    <tr>\n      <th>2013-01-02</th>\n      <td>0.145732</td>\n      <td>-1.105265</td>\n      <td>-1.060651</td>\n      <td>-1.428891</td>\n    </tr>\n    <tr>\n      <th>2013-01-03</th>\n      <td>0.432988</td>\n      <td>2.041437</td>\n      <td>2.089421</td>\n      <td>0.588848</td>\n    </tr>\n    <tr>\n      <th>2013-01-04</th>\n      <td>1.057972</td>\n      <td>0.440762</td>\n      <td>0.414154</td>\n      <td>-0.115355</td>\n    </tr>\n    <tr>\n      <th>2013-01-05</th>\n      <td>0.069159</td>\n      <td>1.555257</td>\n      <td>-0.586350</td>\n      <td>-0.959729</td>\n    </tr>\n    <tr>\n      <th>2013-01-06</th>\n      <td>0.920605</td>\n      <td>0.441707</td>\n      <td>1.826096</td>\n      <td>1.860218</td>\n    </tr>\n  </tbody>\n</table>\n</div>",
      "text/plain": [
       "                   A         B         C         D\n",
       "2013-01-01 -0.714057  1.144606  1.043462  1.032382\n",
       "2013-01-02  0.145732 -1.105265 -1.060651 -1.428891\n",
       "2013-01-03  0.432988  2.041437  2.089421  0.588848\n",
       "2013-01-04  1.057972  0.440762  0.414154 -0.115355\n",
       "2013-01-05  0.069159  1.555257 -0.586350 -0.959729\n",
       "2013-01-06  0.920605  0.441707  1.826096  1.860218"
      ]
     },
     "metadata": {},
     "execution_count": 32
    }
   ],
   "source": [
    "df"
   ]
  },
  {
   "cell_type": "code",
   "execution_count": 33,
   "metadata": {},
   "outputs": [
    {
     "output_type": "execute_result",
     "data": {
      "text/html": "<div>\n<style scoped>\n    .dataframe tbody tr th:only-of-type {\n        vertical-align: middle;\n    }\n\n    .dataframe tbody tr th {\n        vertical-align: top;\n    }\n\n    .dataframe thead th {\n        text-align: right;\n    }\n</style>\n<table border=\"1\" class=\"dataframe\">\n  <thead>\n    <tr style=\"text-align: right;\">\n      <th></th>\n      <th>A</th>\n      <th>B</th>\n      <th>C</th>\n      <th>D</th>\n    </tr>\n  </thead>\n  <tbody>\n    <tr>\n      <th>2013-01-01</th>\n      <td>-0.714057</td>\n      <td>1.144606</td>\n      <td>1.043462</td>\n      <td>1.032382</td>\n    </tr>\n    <tr>\n      <th>2013-01-02</th>\n      <td>-0.568325</td>\n      <td>0.039340</td>\n      <td>-0.017189</td>\n      <td>-0.396509</td>\n    </tr>\n    <tr>\n      <th>2013-01-03</th>\n      <td>-0.135337</td>\n      <td>2.080777</td>\n      <td>2.072232</td>\n      <td>0.192340</td>\n    </tr>\n    <tr>\n      <th>2013-01-04</th>\n      <td>0.922635</td>\n      <td>2.521540</td>\n      <td>2.486386</td>\n      <td>0.076985</td>\n    </tr>\n    <tr>\n      <th>2013-01-05</th>\n      <td>0.991794</td>\n      <td>4.076797</td>\n      <td>1.900036</td>\n      <td>-0.882744</td>\n    </tr>\n    <tr>\n      <th>2013-01-06</th>\n      <td>1.912399</td>\n      <td>4.518503</td>\n      <td>3.726133</td>\n      <td>0.977474</td>\n    </tr>\n  </tbody>\n</table>\n</div>",
      "text/plain": [
       "                   A         B         C         D\n",
       "2013-01-01 -0.714057  1.144606  1.043462  1.032382\n",
       "2013-01-02 -0.568325  0.039340 -0.017189 -0.396509\n",
       "2013-01-03 -0.135337  2.080777  2.072232  0.192340\n",
       "2013-01-04  0.922635  2.521540  2.486386  0.076985\n",
       "2013-01-05  0.991794  4.076797  1.900036 -0.882744\n",
       "2013-01-06  1.912399  4.518503  3.726133  0.977474"
      ]
     },
     "metadata": {},
     "execution_count": 33
    }
   ],
   "source": [
    "df.apply(np.cumsum)"
   ]
  },
  {
   "cell_type": "code",
   "execution_count": 34,
   "metadata": {},
   "outputs": [
    {
     "output_type": "execute_result",
     "data": {
      "text/plain": [
       "A    1.772029\n",
       "B    3.146703\n",
       "C    3.150072\n",
       "D    3.289109\n",
       "dtype: float64"
      ]
     },
     "metadata": {},
     "execution_count": 34
    }
   ],
   "source": [
    "df.apply(lambda x: x.max() - x.min())"
   ]
  },
  {
   "cell_type": "code",
   "execution_count": 41,
   "metadata": {},
   "outputs": [],
   "source": [
    "df1 = pd.DataFrame({'A':['A0','A1','A2','A3'],\n",
    "                    'B':['B0','B1','B2','B3'],\n",
    "                    'C':['C0','C1','C2','C3'],\n",
    "                    'D':['D0','D1','D2','D3']},\n",
    "                    index=[0,1,2,3])\n",
    "df2 = pd.DataFrame({'A':['A4','A5','A6','A7'],\n",
    "                    'B':['B4','B5','B6','B7'],\n",
    "                    'C':['C4','C5','C6','C7'],\n",
    "                    'D':['D4','D5','D6','D7']},\n",
    "                    index=[4,5,6,7])\n",
    "df3 = pd.DataFrame({'A':['A8','A8','A10','A11'],\n",
    "                    'B':['B8','B8','B10','B11'],\n",
    "                    'C':['C8','C8','C10','C11'],\n",
    "                    'D':['D8','D8','D10','D11']},\n",
    "                    index=[8,9,10,11])"
   ]
  },
  {
   "cell_type": "code",
   "execution_count": 42,
   "metadata": {},
   "outputs": [
    {
     "output_type": "execute_result",
     "data": {
      "text/html": "<div>\n<style scoped>\n    .dataframe tbody tr th:only-of-type {\n        vertical-align: middle;\n    }\n\n    .dataframe tbody tr th {\n        vertical-align: top;\n    }\n\n    .dataframe thead th {\n        text-align: right;\n    }\n</style>\n<table border=\"1\" class=\"dataframe\">\n  <thead>\n    <tr style=\"text-align: right;\">\n      <th></th>\n      <th>A</th>\n      <th>B</th>\n      <th>C</th>\n      <th>D</th>\n    </tr>\n  </thead>\n  <tbody>\n    <tr>\n      <th>0</th>\n      <td>A0</td>\n      <td>B0</td>\n      <td>C0</td>\n      <td>D0</td>\n    </tr>\n    <tr>\n      <th>1</th>\n      <td>A1</td>\n      <td>B1</td>\n      <td>C1</td>\n      <td>D1</td>\n    </tr>\n    <tr>\n      <th>2</th>\n      <td>A2</td>\n      <td>B2</td>\n      <td>C2</td>\n      <td>D2</td>\n    </tr>\n    <tr>\n      <th>3</th>\n      <td>A3</td>\n      <td>B3</td>\n      <td>C3</td>\n      <td>D3</td>\n    </tr>\n  </tbody>\n</table>\n</div>",
      "text/plain": [
       "    A   B   C   D\n",
       "0  A0  B0  C0  D0\n",
       "1  A1  B1  C1  D1\n",
       "2  A2  B2  C2  D2\n",
       "3  A3  B3  C3  D3"
      ]
     },
     "metadata": {},
     "execution_count": 42
    }
   ],
   "source": [
    "df1"
   ]
  },
  {
   "cell_type": "code",
   "execution_count": 43,
   "metadata": {},
   "outputs": [
    {
     "output_type": "execute_result",
     "data": {
      "text/html": "<div>\n<style scoped>\n    .dataframe tbody tr th:only-of-type {\n        vertical-align: middle;\n    }\n\n    .dataframe tbody tr th {\n        vertical-align: top;\n    }\n\n    .dataframe thead th {\n        text-align: right;\n    }\n</style>\n<table border=\"1\" class=\"dataframe\">\n  <thead>\n    <tr style=\"text-align: right;\">\n      <th></th>\n      <th>A</th>\n      <th>B</th>\n      <th>C</th>\n      <th>D</th>\n    </tr>\n  </thead>\n  <tbody>\n    <tr>\n      <th>4</th>\n      <td>A4</td>\n      <td>B4</td>\n      <td>C4</td>\n      <td>D4</td>\n    </tr>\n    <tr>\n      <th>5</th>\n      <td>A5</td>\n      <td>B5</td>\n      <td>C5</td>\n      <td>D5</td>\n    </tr>\n    <tr>\n      <th>6</th>\n      <td>A6</td>\n      <td>B6</td>\n      <td>C6</td>\n      <td>D6</td>\n    </tr>\n    <tr>\n      <th>7</th>\n      <td>A7</td>\n      <td>B7</td>\n      <td>C7</td>\n      <td>D7</td>\n    </tr>\n  </tbody>\n</table>\n</div>",
      "text/plain": [
       "    A   B   C   D\n",
       "4  A4  B4  C4  D4\n",
       "5  A5  B5  C5  D5\n",
       "6  A6  B6  C6  D6\n",
       "7  A7  B7  C7  D7"
      ]
     },
     "metadata": {},
     "execution_count": 43
    }
   ],
   "source": [
    "df2"
   ]
  },
  {
   "cell_type": "code",
   "execution_count": 44,
   "metadata": {},
   "outputs": [
    {
     "output_type": "execute_result",
     "data": {
      "text/html": "<div>\n<style scoped>\n    .dataframe tbody tr th:only-of-type {\n        vertical-align: middle;\n    }\n\n    .dataframe tbody tr th {\n        vertical-align: top;\n    }\n\n    .dataframe thead th {\n        text-align: right;\n    }\n</style>\n<table border=\"1\" class=\"dataframe\">\n  <thead>\n    <tr style=\"text-align: right;\">\n      <th></th>\n      <th>A</th>\n      <th>B</th>\n      <th>C</th>\n      <th>D</th>\n    </tr>\n  </thead>\n  <tbody>\n    <tr>\n      <th>8</th>\n      <td>A8</td>\n      <td>B8</td>\n      <td>C8</td>\n      <td>D8</td>\n    </tr>\n    <tr>\n      <th>9</th>\n      <td>A8</td>\n      <td>B8</td>\n      <td>C8</td>\n      <td>D8</td>\n    </tr>\n    <tr>\n      <th>10</th>\n      <td>A10</td>\n      <td>B10</td>\n      <td>C10</td>\n      <td>D10</td>\n    </tr>\n    <tr>\n      <th>11</th>\n      <td>A11</td>\n      <td>B11</td>\n      <td>C11</td>\n      <td>D11</td>\n    </tr>\n  </tbody>\n</table>\n</div>",
      "text/plain": [
       "      A    B    C    D\n",
       "8    A8   B8   C8   D8\n",
       "9    A8   B8   C8   D8\n",
       "10  A10  B10  C10  D10\n",
       "11  A11  B11  C11  D11"
      ]
     },
     "metadata": {},
     "execution_count": 44
    }
   ],
   "source": [
    "df3"
   ]
  },
  {
   "cell_type": "code",
   "execution_count": 46,
   "metadata": {},
   "outputs": [
    {
     "output_type": "execute_result",
     "data": {
      "text/html": "<div>\n<style scoped>\n    .dataframe tbody tr th:only-of-type {\n        vertical-align: middle;\n    }\n\n    .dataframe tbody tr th {\n        vertical-align: top;\n    }\n\n    .dataframe thead th {\n        text-align: right;\n    }\n</style>\n<table border=\"1\" class=\"dataframe\">\n  <thead>\n    <tr style=\"text-align: right;\">\n      <th></th>\n      <th>A</th>\n      <th>B</th>\n      <th>C</th>\n      <th>D</th>\n    </tr>\n  </thead>\n  <tbody>\n    <tr>\n      <th>0</th>\n      <td>A0</td>\n      <td>B0</td>\n      <td>C0</td>\n      <td>D0</td>\n    </tr>\n    <tr>\n      <th>1</th>\n      <td>A1</td>\n      <td>B1</td>\n      <td>C1</td>\n      <td>D1</td>\n    </tr>\n    <tr>\n      <th>2</th>\n      <td>A2</td>\n      <td>B2</td>\n      <td>C2</td>\n      <td>D2</td>\n    </tr>\n    <tr>\n      <th>3</th>\n      <td>A3</td>\n      <td>B3</td>\n      <td>C3</td>\n      <td>D3</td>\n    </tr>\n    <tr>\n      <th>4</th>\n      <td>A4</td>\n      <td>B4</td>\n      <td>C4</td>\n      <td>D4</td>\n    </tr>\n    <tr>\n      <th>5</th>\n      <td>A5</td>\n      <td>B5</td>\n      <td>C5</td>\n      <td>D5</td>\n    </tr>\n    <tr>\n      <th>6</th>\n      <td>A6</td>\n      <td>B6</td>\n      <td>C6</td>\n      <td>D6</td>\n    </tr>\n    <tr>\n      <th>7</th>\n      <td>A7</td>\n      <td>B7</td>\n      <td>C7</td>\n      <td>D7</td>\n    </tr>\n    <tr>\n      <th>8</th>\n      <td>A8</td>\n      <td>B8</td>\n      <td>C8</td>\n      <td>D8</td>\n    </tr>\n    <tr>\n      <th>9</th>\n      <td>A8</td>\n      <td>B8</td>\n      <td>C8</td>\n      <td>D8</td>\n    </tr>\n    <tr>\n      <th>10</th>\n      <td>A10</td>\n      <td>B10</td>\n      <td>C10</td>\n      <td>D10</td>\n    </tr>\n    <tr>\n      <th>11</th>\n      <td>A11</td>\n      <td>B11</td>\n      <td>C11</td>\n      <td>D11</td>\n    </tr>\n  </tbody>\n</table>\n</div>",
      "text/plain": [
       "      A    B    C    D\n",
       "0    A0   B0   C0   D0\n",
       "1    A1   B1   C1   D1\n",
       "2    A2   B2   C2   D2\n",
       "3    A3   B3   C3   D3\n",
       "4    A4   B4   C4   D4\n",
       "5    A5   B5   C5   D5\n",
       "6    A6   B6   C6   D6\n",
       "7    A7   B7   C7   D7\n",
       "8    A8   B8   C8   D8\n",
       "9    A8   B8   C8   D8\n",
       "10  A10  B10  C10  D10\n",
       "11  A11  B11  C11  D11"
      ]
     },
     "metadata": {},
     "execution_count": 46
    }
   ],
   "source": [
    "result = pd.concat([df1, df2, df3])\n",
    "result"
   ]
  },
  {
   "cell_type": "code",
   "execution_count": 48,
   "metadata": {},
   "outputs": [
    {
     "output_type": "execute_result",
     "data": {
      "text/html": "<div>\n<style scoped>\n    .dataframe tbody tr th:only-of-type {\n        vertical-align: middle;\n    }\n\n    .dataframe tbody tr th {\n        vertical-align: top;\n    }\n\n    .dataframe thead th {\n        text-align: right;\n    }\n</style>\n<table border=\"1\" class=\"dataframe\">\n  <thead>\n    <tr style=\"text-align: right;\">\n      <th></th>\n      <th></th>\n      <th>A</th>\n      <th>B</th>\n      <th>C</th>\n      <th>D</th>\n    </tr>\n  </thead>\n  <tbody>\n    <tr>\n      <th rowspan=\"4\" valign=\"top\">x</th>\n      <th>0</th>\n      <td>A0</td>\n      <td>B0</td>\n      <td>C0</td>\n      <td>D0</td>\n    </tr>\n    <tr>\n      <th>1</th>\n      <td>A1</td>\n      <td>B1</td>\n      <td>C1</td>\n      <td>D1</td>\n    </tr>\n    <tr>\n      <th>2</th>\n      <td>A2</td>\n      <td>B2</td>\n      <td>C2</td>\n      <td>D2</td>\n    </tr>\n    <tr>\n      <th>3</th>\n      <td>A3</td>\n      <td>B3</td>\n      <td>C3</td>\n      <td>D3</td>\n    </tr>\n    <tr>\n      <th rowspan=\"4\" valign=\"top\">y</th>\n      <th>4</th>\n      <td>A4</td>\n      <td>B4</td>\n      <td>C4</td>\n      <td>D4</td>\n    </tr>\n    <tr>\n      <th>5</th>\n      <td>A5</td>\n      <td>B5</td>\n      <td>C5</td>\n      <td>D5</td>\n    </tr>\n    <tr>\n      <th>6</th>\n      <td>A6</td>\n      <td>B6</td>\n      <td>C6</td>\n      <td>D6</td>\n    </tr>\n    <tr>\n      <th>7</th>\n      <td>A7</td>\n      <td>B7</td>\n      <td>C7</td>\n      <td>D7</td>\n    </tr>\n    <tr>\n      <th rowspan=\"4\" valign=\"top\">z</th>\n      <th>8</th>\n      <td>A8</td>\n      <td>B8</td>\n      <td>C8</td>\n      <td>D8</td>\n    </tr>\n    <tr>\n      <th>9</th>\n      <td>A8</td>\n      <td>B8</td>\n      <td>C8</td>\n      <td>D8</td>\n    </tr>\n    <tr>\n      <th>10</th>\n      <td>A10</td>\n      <td>B10</td>\n      <td>C10</td>\n      <td>D10</td>\n    </tr>\n    <tr>\n      <th>11</th>\n      <td>A11</td>\n      <td>B11</td>\n      <td>C11</td>\n      <td>D11</td>\n    </tr>\n  </tbody>\n</table>\n</div>",
      "text/plain": [
       "        A    B    C    D\n",
       "x 0    A0   B0   C0   D0\n",
       "  1    A1   B1   C1   D1\n",
       "  2    A2   B2   C2   D2\n",
       "  3    A3   B3   C3   D3\n",
       "y 4    A4   B4   C4   D4\n",
       "  5    A5   B5   C5   D5\n",
       "  6    A6   B6   C6   D6\n",
       "  7    A7   B7   C7   D7\n",
       "z 8    A8   B8   C8   D8\n",
       "  9    A8   B8   C8   D8\n",
       "  10  A10  B10  C10  D10\n",
       "  11  A11  B11  C11  D11"
      ]
     },
     "metadata": {},
     "execution_count": 48
    }
   ],
   "source": [
    "result = pd.concat([df1, df2, df3], keys=['x','y','z'])\n",
    "result"
   ]
  },
  {
   "cell_type": "code",
   "execution_count": 49,
   "metadata": {},
   "outputs": [
    {
     "output_type": "execute_result",
     "data": {
      "text/plain": [
       "MultiIndex([('x',  0),\n",
       "            ('x',  1),\n",
       "            ('x',  2),\n",
       "            ('x',  3),\n",
       "            ('y',  4),\n",
       "            ('y',  5),\n",
       "            ('y',  6),\n",
       "            ('y',  7),\n",
       "            ('z',  8),\n",
       "            ('z',  9),\n",
       "            ('z', 10),\n",
       "            ('z', 11)],\n",
       "           )"
      ]
     },
     "metadata": {},
     "execution_count": 49
    }
   ],
   "source": [
    "result.index"
   ]
  },
  {
   "cell_type": "code",
   "execution_count": 53,
   "metadata": {},
   "outputs": [
    {
     "output_type": "execute_result",
     "data": {
      "text/plain": [
       "Index(['x', 'x', 'x', 'x', 'y', 'y', 'y', 'y', 'z', 'z', 'z', 'z'], dtype='object')"
      ]
     },
     "metadata": {},
     "execution_count": 53
    }
   ],
   "source": [
    "result.index.get_level_values(0)"
   ]
  },
  {
   "cell_type": "code",
   "execution_count": 54,
   "metadata": {},
   "outputs": [
    {
     "output_type": "execute_result",
     "data": {
      "text/plain": [
       "Int64Index([0, 1, 2, 3, 4, 5, 6, 7, 8, 9, 10, 11], dtype='int64')"
      ]
     },
     "metadata": {},
     "execution_count": 54
    }
   ],
   "source": [
    "result.index.get_level_values(1)"
   ]
  },
  {
   "cell_type": "code",
   "execution_count": 57,
   "metadata": {},
   "outputs": [],
   "source": [
    "df4 = pd.DataFrame({'B': ['B2','B3','B4','B5'],\n",
    "                    'D': ['D2','D3','D4','D5'],\n",
    "                    'F': ['F2','F3','F4','F5']},\n",
    "                    index=[2,3,4,5])\n",
    "result = pd.concat([df1, df4], axis=1)"
   ]
  },
  {
   "cell_type": "code",
   "execution_count": 58,
   "metadata": {},
   "outputs": [
    {
     "output_type": "execute_result",
     "data": {
      "text/html": "<div>\n<style scoped>\n    .dataframe tbody tr th:only-of-type {\n        vertical-align: middle;\n    }\n\n    .dataframe tbody tr th {\n        vertical-align: top;\n    }\n\n    .dataframe thead th {\n        text-align: right;\n    }\n</style>\n<table border=\"1\" class=\"dataframe\">\n  <thead>\n    <tr style=\"text-align: right;\">\n      <th></th>\n      <th>A</th>\n      <th>B</th>\n      <th>C</th>\n      <th>D</th>\n    </tr>\n  </thead>\n  <tbody>\n    <tr>\n      <th>0</th>\n      <td>A0</td>\n      <td>B0</td>\n      <td>C0</td>\n      <td>D0</td>\n    </tr>\n    <tr>\n      <th>1</th>\n      <td>A1</td>\n      <td>B1</td>\n      <td>C1</td>\n      <td>D1</td>\n    </tr>\n    <tr>\n      <th>2</th>\n      <td>A2</td>\n      <td>B2</td>\n      <td>C2</td>\n      <td>D2</td>\n    </tr>\n    <tr>\n      <th>3</th>\n      <td>A3</td>\n      <td>B3</td>\n      <td>C3</td>\n      <td>D3</td>\n    </tr>\n  </tbody>\n</table>\n</div>",
      "text/plain": [
       "    A   B   C   D\n",
       "0  A0  B0  C0  D0\n",
       "1  A1  B1  C1  D1\n",
       "2  A2  B2  C2  D2\n",
       "3  A3  B3  C3  D3"
      ]
     },
     "metadata": {},
     "execution_count": 58
    }
   ],
   "source": [
    "df1"
   ]
  },
  {
   "cell_type": "code",
   "execution_count": 59,
   "metadata": {},
   "outputs": [
    {
     "output_type": "execute_result",
     "data": {
      "text/html": "<div>\n<style scoped>\n    .dataframe tbody tr th:only-of-type {\n        vertical-align: middle;\n    }\n\n    .dataframe tbody tr th {\n        vertical-align: top;\n    }\n\n    .dataframe thead th {\n        text-align: right;\n    }\n</style>\n<table border=\"1\" class=\"dataframe\">\n  <thead>\n    <tr style=\"text-align: right;\">\n      <th></th>\n      <th>B</th>\n      <th>D</th>\n      <th>F</th>\n    </tr>\n  </thead>\n  <tbody>\n    <tr>\n      <th>2</th>\n      <td>B2</td>\n      <td>D2</td>\n      <td>F2</td>\n    </tr>\n    <tr>\n      <th>3</th>\n      <td>B3</td>\n      <td>D3</td>\n      <td>F3</td>\n    </tr>\n    <tr>\n      <th>4</th>\n      <td>B4</td>\n      <td>D4</td>\n      <td>F4</td>\n    </tr>\n    <tr>\n      <th>5</th>\n      <td>B5</td>\n      <td>D5</td>\n      <td>F5</td>\n    </tr>\n  </tbody>\n</table>\n</div>",
      "text/plain": [
       "    B   D   F\n",
       "2  B2  D2  F2\n",
       "3  B3  D3  F3\n",
       "4  B4  D4  F4\n",
       "5  B5  D5  F5"
      ]
     },
     "metadata": {},
     "execution_count": 59
    }
   ],
   "source": [
    "df4"
   ]
  },
  {
   "cell_type": "code",
   "execution_count": 61,
   "metadata": {},
   "outputs": [
    {
     "output_type": "execute_result",
     "data": {
      "text/html": "<div>\n<style scoped>\n    .dataframe tbody tr th:only-of-type {\n        vertical-align: middle;\n    }\n\n    .dataframe tbody tr th {\n        vertical-align: top;\n    }\n\n    .dataframe thead th {\n        text-align: right;\n    }\n</style>\n<table border=\"1\" class=\"dataframe\">\n  <thead>\n    <tr style=\"text-align: right;\">\n      <th></th>\n      <th>A</th>\n      <th>B</th>\n      <th>C</th>\n      <th>D</th>\n      <th>B</th>\n      <th>D</th>\n      <th>F</th>\n    </tr>\n  </thead>\n  <tbody>\n    <tr>\n      <th>0</th>\n      <td>A0</td>\n      <td>B0</td>\n      <td>C0</td>\n      <td>D0</td>\n      <td>NaN</td>\n      <td>NaN</td>\n      <td>NaN</td>\n    </tr>\n    <tr>\n      <th>1</th>\n      <td>A1</td>\n      <td>B1</td>\n      <td>C1</td>\n      <td>D1</td>\n      <td>NaN</td>\n      <td>NaN</td>\n      <td>NaN</td>\n    </tr>\n    <tr>\n      <th>2</th>\n      <td>A2</td>\n      <td>B2</td>\n      <td>C2</td>\n      <td>D2</td>\n      <td>B2</td>\n      <td>D2</td>\n      <td>F2</td>\n    </tr>\n    <tr>\n      <th>3</th>\n      <td>A3</td>\n      <td>B3</td>\n      <td>C3</td>\n      <td>D3</td>\n      <td>B3</td>\n      <td>D3</td>\n      <td>F3</td>\n    </tr>\n    <tr>\n      <th>4</th>\n      <td>NaN</td>\n      <td>NaN</td>\n      <td>NaN</td>\n      <td>NaN</td>\n      <td>B4</td>\n      <td>D4</td>\n      <td>F4</td>\n    </tr>\n    <tr>\n      <th>5</th>\n      <td>NaN</td>\n      <td>NaN</td>\n      <td>NaN</td>\n      <td>NaN</td>\n      <td>B5</td>\n      <td>D5</td>\n      <td>F5</td>\n    </tr>\n  </tbody>\n</table>\n</div>",
      "text/plain": [
       "     A    B    C    D    B    D    F\n",
       "0   A0   B0   C0   D0  NaN  NaN  NaN\n",
       "1   A1   B1   C1   D1  NaN  NaN  NaN\n",
       "2   A2   B2   C2   D2   B2   D2   F2\n",
       "3   A3   B3   C3   D3   B3   D3   F3\n",
       "4  NaN  NaN  NaN  NaN   B4   D4   F4\n",
       "5  NaN  NaN  NaN  NaN   B5   D5   F5"
      ]
     },
     "metadata": {},
     "execution_count": 61
    }
   ],
   "source": [
    "result"
   ]
  },
  {
   "cell_type": "code",
   "execution_count": 62,
   "metadata": {},
   "outputs": [
    {
     "output_type": "execute_result",
     "data": {
      "text/html": "<div>\n<style scoped>\n    .dataframe tbody tr th:only-of-type {\n        vertical-align: middle;\n    }\n\n    .dataframe tbody tr th {\n        vertical-align: top;\n    }\n\n    .dataframe thead th {\n        text-align: right;\n    }\n</style>\n<table border=\"1\" class=\"dataframe\">\n  <thead>\n    <tr style=\"text-align: right;\">\n      <th></th>\n      <th>A</th>\n      <th>B</th>\n      <th>C</th>\n      <th>D</th>\n      <th>B</th>\n      <th>D</th>\n      <th>F</th>\n    </tr>\n  </thead>\n  <tbody>\n    <tr>\n      <th>2</th>\n      <td>A2</td>\n      <td>B2</td>\n      <td>C2</td>\n      <td>D2</td>\n      <td>B2</td>\n      <td>D2</td>\n      <td>F2</td>\n    </tr>\n    <tr>\n      <th>3</th>\n      <td>A3</td>\n      <td>B3</td>\n      <td>C3</td>\n      <td>D3</td>\n      <td>B3</td>\n      <td>D3</td>\n      <td>F3</td>\n    </tr>\n  </tbody>\n</table>\n</div>",
      "text/plain": [
       "    A   B   C   D   B   D   F\n",
       "2  A2  B2  C2  D2  B2  D2  F2\n",
       "3  A3  B3  C3  D3  B3  D3  F3"
      ]
     },
     "metadata": {},
     "execution_count": 62
    }
   ],
   "source": [
    "result = pd.concat([df1,df4], axis=1, join='inner')\n",
    "result"
   ]
  },
  {
   "cell_type": "code",
   "execution_count": 64,
   "metadata": {},
   "outputs": [
    {
     "output_type": "stream",
     "name": "stderr",
     "text": [
      "ipykernel_launcher:1: FutureWarning: The join_axes-keyword is deprecated. Use .reindex or .reindex_like on the result to achieve the same functionality.\n"
     ]
    },
    {
     "output_type": "execute_result",
     "data": {
      "text/html": "<div>\n<style scoped>\n    .dataframe tbody tr th:only-of-type {\n        vertical-align: middle;\n    }\n\n    .dataframe tbody tr th {\n        vertical-align: top;\n    }\n\n    .dataframe thead th {\n        text-align: right;\n    }\n</style>\n<table border=\"1\" class=\"dataframe\">\n  <thead>\n    <tr style=\"text-align: right;\">\n      <th></th>\n      <th>A</th>\n      <th>B</th>\n      <th>C</th>\n      <th>D</th>\n      <th>B</th>\n      <th>D</th>\n      <th>F</th>\n    </tr>\n  </thead>\n  <tbody>\n    <tr>\n      <th>0</th>\n      <td>A0</td>\n      <td>B0</td>\n      <td>C0</td>\n      <td>D0</td>\n      <td>NaN</td>\n      <td>NaN</td>\n      <td>NaN</td>\n    </tr>\n    <tr>\n      <th>1</th>\n      <td>A1</td>\n      <td>B1</td>\n      <td>C1</td>\n      <td>D1</td>\n      <td>NaN</td>\n      <td>NaN</td>\n      <td>NaN</td>\n    </tr>\n    <tr>\n      <th>2</th>\n      <td>A2</td>\n      <td>B2</td>\n      <td>C2</td>\n      <td>D2</td>\n      <td>B2</td>\n      <td>D2</td>\n      <td>F2</td>\n    </tr>\n    <tr>\n      <th>3</th>\n      <td>A3</td>\n      <td>B3</td>\n      <td>C3</td>\n      <td>D3</td>\n      <td>B3</td>\n      <td>D3</td>\n      <td>F3</td>\n    </tr>\n  </tbody>\n</table>\n</div>",
      "text/plain": [
       "    A   B   C   D    B    D    F\n",
       "0  A0  B0  C0  D0  NaN  NaN  NaN\n",
       "1  A1  B1  C1  D1  NaN  NaN  NaN\n",
       "2  A2  B2  C2  D2   B2   D2   F2\n",
       "3  A3  B3  C3  D3   B3   D3   F3"
      ]
     },
     "metadata": {},
     "execution_count": 64
    }
   ],
   "source": [
    "result = pd.concat([df1,df4], axis=1, join_axes=[df1.index])\n",
    "result"
   ]
  },
  {
   "cell_type": "code",
   "execution_count": 72,
   "metadata": {},
   "outputs": [],
   "source": [
    "left = pd.DataFrame({'Key': ['K0','K4','K2','K3'],\n",
    "                    'A': ['A0','A1','A2','A3'],\n",
    "                    'B': ['B0','B1','B2','B3']})\n",
    "right = pd.DataFrame({'Key': ['K0','K1','K2','K3'],\n",
    "                      'C': ['C0','C1','C2','C3'],\n",
    "                      'D': ['D0','D1','D2','D3']})"
   ]
  },
  {
   "cell_type": "code",
   "execution_count": 73,
   "metadata": {},
   "outputs": [
    {
     "output_type": "execute_result",
     "data": {
      "text/html": "<div>\n<style scoped>\n    .dataframe tbody tr th:only-of-type {\n        vertical-align: middle;\n    }\n\n    .dataframe tbody tr th {\n        vertical-align: top;\n    }\n\n    .dataframe thead th {\n        text-align: right;\n    }\n</style>\n<table border=\"1\" class=\"dataframe\">\n  <thead>\n    <tr style=\"text-align: right;\">\n      <th></th>\n      <th>A</th>\n      <th>B</th>\n      <th>Key</th>\n    </tr>\n  </thead>\n  <tbody>\n    <tr>\n      <th>0</th>\n      <td>A0</td>\n      <td>B0</td>\n      <td>K0</td>\n    </tr>\n    <tr>\n      <th>1</th>\n      <td>A1</td>\n      <td>B1</td>\n      <td>K4</td>\n    </tr>\n    <tr>\n      <th>2</th>\n      <td>A2</td>\n      <td>B2</td>\n      <td>K2</td>\n    </tr>\n    <tr>\n      <th>3</th>\n      <td>A3</td>\n      <td>B3</td>\n      <td>K3</td>\n    </tr>\n  </tbody>\n</table>\n</div>",
      "text/plain": [
       "    A   B Key\n",
       "0  A0  B0  K0\n",
       "1  A1  B1  K4\n",
       "2  A2  B2  K2\n",
       "3  A3  B3  K3"
      ]
     },
     "metadata": {},
     "execution_count": 73
    }
   ],
   "source": [
    "left"
   ]
  },
  {
   "cell_type": "code",
   "execution_count": 74,
   "metadata": {},
   "outputs": [
    {
     "output_type": "execute_result",
     "data": {
      "text/html": "<div>\n<style scoped>\n    .dataframe tbody tr th:only-of-type {\n        vertical-align: middle;\n    }\n\n    .dataframe tbody tr th {\n        vertical-align: top;\n    }\n\n    .dataframe thead th {\n        text-align: right;\n    }\n</style>\n<table border=\"1\" class=\"dataframe\">\n  <thead>\n    <tr style=\"text-align: right;\">\n      <th></th>\n      <th>C</th>\n      <th>D</th>\n      <th>Key</th>\n    </tr>\n  </thead>\n  <tbody>\n    <tr>\n      <th>0</th>\n      <td>C0</td>\n      <td>D0</td>\n      <td>K0</td>\n    </tr>\n    <tr>\n      <th>1</th>\n      <td>C1</td>\n      <td>D1</td>\n      <td>K1</td>\n    </tr>\n    <tr>\n      <th>2</th>\n      <td>C2</td>\n      <td>D2</td>\n      <td>K2</td>\n    </tr>\n    <tr>\n      <th>3</th>\n      <td>C3</td>\n      <td>D3</td>\n      <td>K3</td>\n    </tr>\n  </tbody>\n</table>\n</div>",
      "text/plain": [
       "    C   D Key\n",
       "0  C0  D0  K0\n",
       "1  C1  D1  K1\n",
       "2  C2  D2  K2\n",
       "3  C3  D3  K3"
      ]
     },
     "metadata": {},
     "execution_count": 74
    }
   ],
   "source": [
    "right"
   ]
  },
  {
   "cell_type": "code",
   "execution_count": 75,
   "metadata": {},
   "outputs": [
    {
     "output_type": "execute_result",
     "data": {
      "text/html": "<div>\n<style scoped>\n    .dataframe tbody tr th:only-of-type {\n        vertical-align: middle;\n    }\n\n    .dataframe tbody tr th {\n        vertical-align: top;\n    }\n\n    .dataframe thead th {\n        text-align: right;\n    }\n</style>\n<table border=\"1\" class=\"dataframe\">\n  <thead>\n    <tr style=\"text-align: right;\">\n      <th></th>\n      <th>A</th>\n      <th>B</th>\n      <th>Key</th>\n      <th>C</th>\n      <th>D</th>\n    </tr>\n  </thead>\n  <tbody>\n    <tr>\n      <th>0</th>\n      <td>A0</td>\n      <td>B0</td>\n      <td>K0</td>\n      <td>C0</td>\n      <td>D0</td>\n    </tr>\n    <tr>\n      <th>1</th>\n      <td>A2</td>\n      <td>B2</td>\n      <td>K2</td>\n      <td>C2</td>\n      <td>D2</td>\n    </tr>\n    <tr>\n      <th>2</th>\n      <td>A3</td>\n      <td>B3</td>\n      <td>K3</td>\n      <td>C3</td>\n      <td>D3</td>\n    </tr>\n  </tbody>\n</table>\n</div>",
      "text/plain": [
       "    A   B Key   C   D\n",
       "0  A0  B0  K0  C0  D0\n",
       "1  A2  B2  K2  C2  D2\n",
       "2  A3  B3  K3  C3  D3"
      ]
     },
     "metadata": {},
     "execution_count": 75
    }
   ],
   "source": [
    "pd.merge(left, right, on='Key')"
   ]
  },
  {
   "cell_type": "code",
   "execution_count": 76,
   "metadata": {},
   "outputs": [
    {
     "output_type": "execute_result",
     "data": {
      "text/html": "<div>\n<style scoped>\n    .dataframe tbody tr th:only-of-type {\n        vertical-align: middle;\n    }\n\n    .dataframe tbody tr th {\n        vertical-align: top;\n    }\n\n    .dataframe thead th {\n        text-align: right;\n    }\n</style>\n<table border=\"1\" class=\"dataframe\">\n  <thead>\n    <tr style=\"text-align: right;\">\n      <th></th>\n      <th>A</th>\n      <th>B</th>\n      <th>Key</th>\n      <th>C</th>\n      <th>D</th>\n    </tr>\n  </thead>\n  <tbody>\n    <tr>\n      <th>0</th>\n      <td>A0</td>\n      <td>B0</td>\n      <td>K0</td>\n      <td>C0</td>\n      <td>D0</td>\n    </tr>\n    <tr>\n      <th>1</th>\n      <td>A1</td>\n      <td>B1</td>\n      <td>K4</td>\n      <td>NaN</td>\n      <td>NaN</td>\n    </tr>\n    <tr>\n      <th>2</th>\n      <td>A2</td>\n      <td>B2</td>\n      <td>K2</td>\n      <td>C2</td>\n      <td>D2</td>\n    </tr>\n    <tr>\n      <th>3</th>\n      <td>A3</td>\n      <td>B3</td>\n      <td>K3</td>\n      <td>C3</td>\n      <td>D3</td>\n    </tr>\n  </tbody>\n</table>\n</div>",
      "text/plain": [
       "    A   B Key    C    D\n",
       "0  A0  B0  K0   C0   D0\n",
       "1  A1  B1  K4  NaN  NaN\n",
       "2  A2  B2  K2   C2   D2\n",
       "3  A3  B3  K3   C3   D3"
      ]
     },
     "metadata": {},
     "execution_count": 76
    }
   ],
   "source": [
    "pd.merge(left, right, how='left', on='Key')"
   ]
  },
  {
   "cell_type": "code",
   "execution_count": 77,
   "metadata": {},
   "outputs": [
    {
     "output_type": "execute_result",
     "data": {
      "text/html": "<div>\n<style scoped>\n    .dataframe tbody tr th:only-of-type {\n        vertical-align: middle;\n    }\n\n    .dataframe tbody tr th {\n        vertical-align: top;\n    }\n\n    .dataframe thead th {\n        text-align: right;\n    }\n</style>\n<table border=\"1\" class=\"dataframe\">\n  <thead>\n    <tr style=\"text-align: right;\">\n      <th></th>\n      <th>A</th>\n      <th>B</th>\n      <th>Key</th>\n      <th>C</th>\n      <th>D</th>\n    </tr>\n  </thead>\n  <tbody>\n    <tr>\n      <th>0</th>\n      <td>A0</td>\n      <td>B0</td>\n      <td>K0</td>\n      <td>C0</td>\n      <td>D0</td>\n    </tr>\n    <tr>\n      <th>1</th>\n      <td>A2</td>\n      <td>B2</td>\n      <td>K2</td>\n      <td>C2</td>\n      <td>D2</td>\n    </tr>\n    <tr>\n      <th>2</th>\n      <td>A3</td>\n      <td>B3</td>\n      <td>K3</td>\n      <td>C3</td>\n      <td>D3</td>\n    </tr>\n    <tr>\n      <th>3</th>\n      <td>NaN</td>\n      <td>NaN</td>\n      <td>K1</td>\n      <td>C1</td>\n      <td>D1</td>\n    </tr>\n  </tbody>\n</table>\n</div>",
      "text/plain": [
       "     A    B Key   C   D\n",
       "0   A0   B0  K0  C0  D0\n",
       "1   A2   B2  K2  C2  D2\n",
       "2   A3   B3  K3  C3  D3\n",
       "3  NaN  NaN  K1  C1  D1"
      ]
     },
     "metadata": {},
     "execution_count": 77
    }
   ],
   "source": [
    "pd.merge(left, right, how='right', on='Key')"
   ]
  },
  {
   "cell_type": "code",
   "execution_count": 78,
   "metadata": {},
   "outputs": [
    {
     "output_type": "execute_result",
     "data": {
      "text/html": "<div>\n<style scoped>\n    .dataframe tbody tr th:only-of-type {\n        vertical-align: middle;\n    }\n\n    .dataframe tbody tr th {\n        vertical-align: top;\n    }\n\n    .dataframe thead th {\n        text-align: right;\n    }\n</style>\n<table border=\"1\" class=\"dataframe\">\n  <thead>\n    <tr style=\"text-align: right;\">\n      <th></th>\n      <th>A</th>\n      <th>B</th>\n      <th>Key</th>\n      <th>C</th>\n      <th>D</th>\n    </tr>\n  </thead>\n  <tbody>\n    <tr>\n      <th>0</th>\n      <td>A0</td>\n      <td>B0</td>\n      <td>K0</td>\n      <td>C0</td>\n      <td>D0</td>\n    </tr>\n    <tr>\n      <th>1</th>\n      <td>A2</td>\n      <td>B2</td>\n      <td>K2</td>\n      <td>C2</td>\n      <td>D2</td>\n    </tr>\n    <tr>\n      <th>2</th>\n      <td>A3</td>\n      <td>B3</td>\n      <td>K3</td>\n      <td>C3</td>\n      <td>D3</td>\n    </tr>\n  </tbody>\n</table>\n</div>",
      "text/plain": [
       "    A   B Key   C   D\n",
       "0  A0  B0  K0  C0  D0\n",
       "1  A2  B2  K2  C2  D2\n",
       "2  A3  B3  K3  C3  D3"
      ]
     },
     "metadata": {},
     "execution_count": 78
    }
   ],
   "source": [
    "pd.merge(left, right, how='inner', on='Key')"
   ]
  },
  {
   "cell_type": "code",
   "execution_count": 79,
   "metadata": {},
   "outputs": [
    {
     "output_type": "execute_result",
     "data": {
      "text/html": "<div>\n<style scoped>\n    .dataframe tbody tr th:only-of-type {\n        vertical-align: middle;\n    }\n\n    .dataframe tbody tr th {\n        vertical-align: top;\n    }\n\n    .dataframe thead th {\n        text-align: right;\n    }\n</style>\n<table border=\"1\" class=\"dataframe\">\n  <thead>\n    <tr style=\"text-align: right;\">\n      <th></th>\n      <th>A</th>\n      <th>B</th>\n      <th>Key</th>\n      <th>C</th>\n      <th>D</th>\n    </tr>\n  </thead>\n  <tbody>\n    <tr>\n      <th>0</th>\n      <td>A0</td>\n      <td>B0</td>\n      <td>K0</td>\n      <td>C0</td>\n      <td>D0</td>\n    </tr>\n    <tr>\n      <th>1</th>\n      <td>A1</td>\n      <td>B1</td>\n      <td>K4</td>\n      <td>NaN</td>\n      <td>NaN</td>\n    </tr>\n    <tr>\n      <th>2</th>\n      <td>A2</td>\n      <td>B2</td>\n      <td>K2</td>\n      <td>C2</td>\n      <td>D2</td>\n    </tr>\n    <tr>\n      <th>3</th>\n      <td>A3</td>\n      <td>B3</td>\n      <td>K3</td>\n      <td>C3</td>\n      <td>D3</td>\n    </tr>\n    <tr>\n      <th>4</th>\n      <td>NaN</td>\n      <td>NaN</td>\n      <td>K1</td>\n      <td>C1</td>\n      <td>D1</td>\n    </tr>\n  </tbody>\n</table>\n</div>",
      "text/plain": [
       "     A    B Key    C    D\n",
       "0   A0   B0  K0   C0   D0\n",
       "1   A1   B1  K4  NaN  NaN\n",
       "2   A2   B2  K2   C2   D2\n",
       "3   A3   B3  K3   C3   D3\n",
       "4  NaN  NaN  K1   C1   D1"
      ]
     },
     "metadata": {},
     "execution_count": 79
    }
   ],
   "source": [
    "pd.merge(left, right, how='outer', on='Key')"
   ]
  },
  {
   "cell_type": "code",
   "execution_count": null,
   "metadata": {},
   "outputs": [],
   "source": []
  }
 ]
}
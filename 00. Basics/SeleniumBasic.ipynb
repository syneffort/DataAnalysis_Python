{
 "metadata": {
  "language_info": {
   "codemirror_mode": {
    "name": "ipython",
    "version": 3
   },
   "file_extension": ".py",
   "mimetype": "text/x-python",
   "name": "python",
   "nbconvert_exporter": "python",
   "pygments_lexer": "ipython3",
   "version": "3.5.6-final"
  },
  "orig_nbformat": 2,
  "kernelspec": {
   "name": "python3",
   "display_name": "Python 3.5.6 64-bit ('da': conda)",
   "metadata": {
    "interpreter": {
     "hash": "8c3bf141ecf5125a7bd84b9d797dc4b221a671ab740c92630ce746eb636d4806"
    }
   }
  }
 },
 "nbformat": 4,
 "nbformat_minor": 2,
 "cells": [
  {
   "cell_type": "code",
   "execution_count": 34,
   "metadata": {},
   "outputs": [],
   "source": [
    "from selenium import webdriver"
   ]
  },
  {
   "cell_type": "code",
   "execution_count": 55,
   "metadata": {},
   "outputs": [],
   "source": [
    "driver = webdriver.Chrome('./driver/chromedriver')\n",
    "driver.get('http://mail.naver.com')"
   ]
  },
  {
   "cell_type": "code",
   "execution_count": 9,
   "metadata": {},
   "outputs": [
    {
     "output_type": "stream",
     "name": "stderr",
     "text": [
      "C:\\Users\\synef\\anaconda3\\envs\\da\\lib\\site-packages\\selenium\\webdriver\\remote\\webdriver.py:1031: UserWarning: name used for saved screenshot does not match file type. It should end with a `.png` extension\n  \"type. It should end with a `.png` extension\", UserWarning)\n"
     ]
    },
    {
     "output_type": "execute_result",
     "data": {
      "text/plain": [
       "True"
      ]
     },
     "metadata": {},
     "execution_count": 9
    }
   ],
   "source": [
    "driver.save_screenshot('./images/001.jpg')"
   ]
  },
  {
   "cell_type": "code",
   "execution_count": 56,
   "metadata": {},
   "outputs": [],
   "source": [
    "elemLogin = driver.find_element_by_id('id')\r\n",
    "elemLogin.clear()\r\n",
    "elemLogin.send_keys('****')\r\n",
    "\r\n",
    "elemLogin = driver.find_element_by_id('pw')\r\n",
    "elemLogin.clear()\r\n",
    "elemLogin.send_keys('****')"
   ]
  },
  {
   "cell_type": "code",
   "execution_count": 57,
   "metadata": {},
   "outputs": [],
   "source": [
    "xpath = '//*[@id=\"log.login\"]'\n",
    "driver.find_element_by_xpath(xpath).click()"
   ]
  },
  {
   "cell_type": "code",
   "execution_count": 60,
   "metadata": {},
   "outputs": [],
   "source": [
    "elemLogin = driver.find_element_by_id('id')\n",
    "elemLogin.clear()\n",
    "elemLogin.send_keys('****')\n",
    "\n",
    "elemLogin = driver.find_element_by_id('pw')\n",
    "elemLogin.clear()\n",
    "elemLogin.send_keys('****')\n",
    "\n",
    "elemLogin = driver.find_element_by_id('captcha')\n",
    "elemLogin.clear()\n",
    "elemLogin.send_keys('306')\n",
    "\n",
    "xpath = '//*[@id=\"l5f.login\"]'\n",
    "driver.find_element_by_xpath(xpath).click()"
   ]
  },
  {
   "cell_type": "code",
   "execution_count": null,
   "metadata": {},
   "outputs": [],
   "source": [
    "driver.close()"
   ]
  },
  {
   "cell_type": "code",
   "execution_count": null,
   "metadata": {},
   "outputs": [],
   "source": []
  }
 ]
}
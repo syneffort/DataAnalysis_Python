{
 "metadata": {
  "language_info": {
   "codemirror_mode": {
    "name": "ipython",
    "version": 3
   },
   "file_extension": ".py",
   "mimetype": "text/x-python",
   "name": "python",
   "nbconvert_exporter": "python",
   "pygments_lexer": "ipython3",
   "version": "3.5.6-final"
  },
  "orig_nbformat": 2,
  "kernelspec": {
   "name": "python3",
   "display_name": "Python 3.5.6 64-bit ('da': conda)",
   "metadata": {
    "interpreter": {
     "hash": "8c3bf141ecf5125a7bd84b9d797dc4b221a671ab740c92630ce746eb636d4806"
    }
   }
  }
 },
 "nbformat": 4,
 "nbformat_minor": 2,
 "cells": [
  {
   "cell_type": "code",
   "execution_count": 1,
   "metadata": {},
   "outputs": [
    {
     "output_type": "execute_result",
     "data": {
      "text/plain": [
       ".chicagomag.com/Chicago-Magazine/November-2012/Best-Sandwiches-in-Chicago-City-Provisions-Smoked-Ham/\"><b>Smoked Ham</b><br/>\n",
       "City Provisions<br/>\n",
       "<em>Read more</em> </a></div>\n",
       "</div>\n",
       "<div class=\"sammy\" style=\"position: relative;\">\n",
       "<div class=\"sammyRank\">29</div>\n",
       "<div class=\"sammyListing\"><a href=\"http://www.chicagomag.com/Chicago-Magazine/November-2012/Best-Sandwiches-in-Chicago-Papas-Cache-Sabroso-Jibarito/\"><b>Jibarito</b><br/>\n",
       "Papa’s Cache Sabroso<br/>\n",
       "<em>Read more</em> </a></div>\n",
       "</div>\n",
       "<div class=\"sammy\" style=\"position: relative;\">\n",
       "<div class=\"sammyRank\">30</div>\n",
       "<div class=\"sammyListing\"><a href=\"http://www.chicagomag.com/Chicago-Magazine/November-2012/Best-Sandwiches-in-Chicago-Bavettes-Bar-and-Boeuf-Shaved-Prime-Rib/\"><b>Shaved Prime Rib</b><br/>\n",
       "Bavette’s Bar &amp; Boeuf<br/>\n",
       "<em>Read more</em> </a></div>\n",
       "</div>\n",
       "<div class=\"sammy\" style=\"position: relative;\">\n",
       "<div class=\"sammyRank\">31</div>\n",
       "<div class=\"sammyListing\"><a href=\"http://www.chicagomag.com/Chicago-Magazine/November-2012/Best-Sandwiches-in-Chicago-Hannahs-Bretzel-Serrano-Ham-and-Manchego-Cheese/\"><b>Serrano Ham and Manchego Cheese</b><br/>\n",
       "Hannah’s Bretzel<br/>\n",
       "<em>Read more</em> </a></div>\n",
       "</div>\n",
       "<div class=\"sammy\" style=\"position: relative;\">\n",
       "<div class=\"sammyRank\">32</div>\n",
       "<div class=\"sammyListing\"><a href=\"http://www.chicagomag.com/Chicago-Magazine/November-2012/Best-Sandwiches-in-Chicago-La-Fournette-Tuna-Salad/\"><b>Tuna Salad</b><br/>\n",
       "La Fournette<br/>\n",
       "<em>Read more</em> </a></div>\n",
       "</div>\n",
       "<div class=\"sammy\" style=\"position: relative;\">\n",
       "<div class=\"sammyRank\">33</div>\n",
       "<div class=\"sammyListing\"><a href=\"http://www.chicagomag.com/Chicago-Magazine/November-2012/Best-Sandwiches-in-Chicago-Paramount-Room-Paramount-Reuben/\"><b>Paramount Reuben</b><br/>\n",
       "Paramount Room<br/>\n",
       "<em>Read more</em> </a></div>\n",
       "</div>\n",
       "<div class=\"sammy\" style=\"position: relative;\">\n",
       "<div class=\"sammyRank\">34</div>\n",
       "<div class=\"sammyListing\"><a href=\"http://www.chicagomag.com/Chicago-Magazine/November-2012/Best-Sandwiches-in-Chicago-Melt-Sandwich-Shoppe-The-Istanbul/\"><b>The Istanbul</b><br/>\n",
       "Melt Sandwich Shoppe<br/>\n",
       "<em>Read more</em> </a></div>\n",
       "</div>\n",
       "<div class=\"sammy\" style=\"position: relative;\">\n",
       "<div class=\"sammyRank\">35</div>\n",
       "<div class=\"sammyListing\"><a href=\"http://www.chicagomag.com/Chicago-Magazine/November-2012/Best-Sandwiches-in-Chicago-Floriole-Cafe-and-Bakery-BAD/\"><b>B.A.D.</b><br/>\n",
       "Floriole Cafe &amp; Bakery<br/>\n",
       "<em>Read more</em> </a></div>\n",
       "</div>\n",
       "<div class=\"sammy\" style=\"position: relative;\">\n",
       "<div class=\"sammyRank\">36</div>\n",
       "<div class=\"sammyListing\"><a href=\"http://www.chicagomag.com/Chicago-Magazine/November-2012/Best-Sandwiches-in-Chicago-First-Slice-Pie-Cafe-Duck-Confit-and-Mozzarella/\"><b>Duck Confit and Mozzarella</b><br/>\n",
       "First Slice Pie Café<br/>\n",
       "<em>Read more</em> </a></div>\n",
       "</div>\n",
       "<div class=\"sammy\" style=\"position: relative;\">\n",
       "<div class=\"sammyRank\">37</div>\n",
       "<div class=\"sammyListing\"><a href=\"http://www.chicagomag.com/Chicago-Magazine/November-2012/Best-Sandwiches-in-Chicago-Troquet-Croque-Monsieur/\"><b>Croque Monsieur</b><br/>\n",
       "Troquet<br/>\n",
       "<em>Read more</em> </a></div>\n",
       "</div>\n",
       "<div class=\"sammy\" style=\"position: relative;\">\n",
       "<div class=\"sammyRank\">38</div>\n",
       "<div class=\"sammyListing\"><a href=\"http://www.chicagomag.com/Chicago-Magazine/November-2012/Best-Sandwiches-in-Chicago-Grahamwich-Green-Garbanzo/\"><b>Green Garbanzo</b><br/>\n",
       "Grahamwich<br/>\n",
       "<em>Read more</em> </a></div>\n",
       "</div>\n",
       "<div class=\"sammy\" style=\"position: relative;\">\n",
       "<div class=\"sammyRank\">39</div>\n",
       "<div class=\"sammyListing\"><a href=\"http://www.chicagomag.com/Chicago-Magazine/November-2012/Best-Sandwiches-in-Chicago-Saigon-Sisters-The-Hen-House/\"><b>The Hen House</b><br/>\n",
       "Saigon Sisters<br/>\n",
       "<em>Read more</em> </a></div>\n",
       "</div>\n",
       "<div class=\"sammy\" style=\"position: relative;\">\n",
       "<div class=\"sammyRank\">40</div>\n",
       "<div class=\"sammyListing\"><a href=\"http://www.chicagomag.com/Chicago-Magazine/November-2012/Best-Sandwiches-in-Chicago-Rosalias-Deli-Tuscan-Chicken/\"><b>Tuscan Chicken</b><br/>\n",
       "Rosalia’s Deli<br/>\n",
       "<em>Read more</em> </a></div>\n",
       "</div>\n",
       "<div class=\"sammy\" style=\"position: relative;\">\n",
       "<div class=\"sammyRank\">41</div>\n",
       "<div class=\"sammyListing\"><a href=\"http://www.chicagomag.com/Chicago-Magazine/November-2012/Best-Sandwiches-in-Chicago-Z-and-H-MarketCafe-The-Marty/\"><b>The Marty </b><br/>\n",
       "Z&amp;H MarketCafe<br/>\n",
       "<em>Read more</em> </a></div>\n",
       "</div>\n",
       "<div class=\"sammy\" style=\"position: relative;\">\n",
       "<div class=\"sammyRank\">42</div>\n",
       "<div class=\"sammyListing\"><a href=\"http://www.chicagomag.com/Chicago-Magazine/November-2012/Best-Sandwiches-in-Chicago-Market-House-on-the-Square-Whitefish/\"><b>Whitefish</b><br/>\n",
       "Market House on the Square<br/>\n",
       "<em>Read more</em> </a></div>\n",
       "</div>\n",
       "<div class=\"sammy\" style=\"position: relative;\">\n",
       "<div class=\"sammyRank\">43</div>\n",
       "<div class=\"sammyListing\"><a href=\"http://www.chicagomag.com/Chicago-Magazine/November-2012/Best-Sandwiches-in-Chicago-Elaines-Coffee-Call-Oat-Bread-Pecan-Butter-and-Fruit-Jam/\"><b>Oat Bread, Pecan Butter, and Fruit Jam</b><br/>\n",
       "Elaine’s Coffee Call<br/>\n",
       "<em>Read more</em> </a></div>\n",
       "</div>\n",
       "<div class=\"sammy\" style=\"position: relative;\">\n",
       "<div class=\"sammyRank\">44</div>\n",
       "<div class=\"sammyListing\"><a href=\"http://www.chicagomag.com/Chicago-Magazine/November-2012/Best-Sandwiches-in-Chicago-Marion-Street-Cheese-Market-Cauliflower-Melt/\"><b>Cauliflower Melt</b><br/>\n",
       "Marion Street Cheese Market<br/>\n",
       "<em>Read more</em> </a></div>\n",
       "</div>\n",
       "<div class=\"sammy\" style=\"position: relative;\">\n",
       "<div class=\"sammyRank\">45</div>\n",
       "<div class=\"sammyListing\"><a href=\"http://www.chicagomag.com/Chicago-Magazine/November-2012/Best-Sandwiches-in-Chicago-Cafecito-Cubano/\"><b>Cubana</b><br/>\n",
       "Cafecito<br/>\n",
       "<em>Read more</em> </a></div>\n",
       "</div>\n",
       "<div class=\"sammy\" style=\"position: relative;\">\n",
       "<div class=\"sammyRank\">46</div>\n",
       "<div class=\"sammyListing\"><a href=\"http://www.chicagomag.com/Chicago-Magazine/November-2012/Best-Sandwiches-in-Chicago-Chickpea-Kufta/\"><b>Kufta</b><br/>\n",
       "Chickpea<br/>\n",
       "<em>Read more</em> </a></div>\n",
       "</div>\n",
       "<div class=\"sammy\" style=\"position: relative;\">\n",
       "<div class=\"sammyRank\">47</div>\n",
       "<div class=\"sammyListing\"><a href=\"http://www.chicagomag.com/Chicago-Magazine/November-2012/Best-Sandwiches-in-Chicago-The-Goddess-and-Grocer-Debbies-Egg-Salad/\"><b>Debbie’s Egg Salad</b><br/>\n",
       "The Goddess and Grocer<br/>\n",
       "<em>Read more</em> </a></div>\n",
       "</div>\n",
       "<div class=\"sammy\" style=\"position: relative;\">\n",
       "<div class=\"sammyRank\">48</div>\n",
       "<div class=\"sammyListing\"><a href=\"http://www.chicagomag.com/Chicago-Magazine/November-2012/Best-Sandwiches-in-Chicago-Zenwich-Beef-Curry/\"><b>Beef Curry</b><br/>\n",
       "Zenwich<br/>\n",
       "<em>Read more</em> </a></div>\n",
       "</div>\n",
       "<div class=\"sammy\" style=\"position: relative;\">\n",
       "<div class=\"sammyRank\">49</div>\n",
       "<div class=\"sammyListing\"><a href=\"http://www.chicagomag.com/Chicago-Magazine/November-2012/Best-Sandwiches-in-Chicago-Toni-Patisserie-Le-Vegetarien/\"><b>Le Végétarien</b><br/>\n",
       "Toni Patisserie<br/>\n",
       "<em>Read more</em> </a></div>\n",
       "</div>\n",
       "<div class=\"sammy\" style=\"position: relative; border-bottom: 0\">\n",
       "<div class=\"sammyRank\">50</div>\n",
       "<div class=\"sammyListing\"><a href=\"http://www.chicagomag.com/Chicago-Magazine/November-2012/Best-Sandwiches-in-Chicago-Phoebes-Bakery-The-Gatsby/\"><b>The Gatsby</b><br/>\n",
       "Phoebe’s Bakery<br/>\n",
       "<em>Read more</em> </a></div>\n",
       "</div>\n",
       "<p><!-- /#sandwichFront --></p>\n",
       "<footer>Edited by Carly Boers, Penny Pollack, and Jeff Ruby; Contributors: Cassie Walker Burke, Elly Fishman, Peter Gianopulos, Noah Isackson, Maryanne Johnson, Esther Kang, Megan Lovejoy, Graham Meyer, Matt Schur, Lena Singer, Emmet Sullivan, Jennifer Tanaka, Joanne Trestrail</footer>\n",
       "</div>\n",
       "<div class=\"article-tags\">\n",
       "<p>Tags: <a href=\"https://www.chicagomag.com/tag/best-of-chicago/\" rel=\"tag\">Best of Chicago</a>, <a href=\"https://www.chicagomag.com/tag/dining-drinking/\" rel=\"tag\">Dining &amp; Drinking</a>, <a href=\"https://www.chicagomag.com/tag/print-specific-tags-cover-story/\" rel=\"tag\">Print-Specific Tags - Cover Story</a></p> </div>\n",
       "</div>\n",
       "<div class=\"article-side grid-6 tablet-grid-9 mobile-grid-100 most-pop\">\n",
       "<div class=\"ad-space\">\n",
       "<!-- GPT AdSlot 12 for Ad unit 'trb.chicagomag/hp' ### Size: [[300,250],[300,600]] -->\n",
       "<div class=\"hide-on-mobile\" id=\"div-gpt-ad-2789321-12\">\n",
       "<script>\n",
       "\t\t\t\t\tgoogletag.cmd.push(function() { googletag.display('div-gpt-ad-2789321-12'); });\n",
       "\t\t\t\t</script>\n",
       "</div>\n",
       "<!-- End AdSlot 12 -->\n",
       "<!-- GPT AdSlot 15 for Ad unit 'trb.chicagomag/hp' ### Size: [[300,250] -->\n",
       "<div class=\"hide-on-desktop hide-on-tablet\" id=\"div-gpt-ad-2789321-15\">\n",
       "<script>\n",
       "\t\t\t\t\tgoogletag.cmd.push(function() { googletag.display('div-gpt-ad-2789321-15'); });\n",
       "\t\t\t\t</script>\n",
       "</div>\n",
       "<!-- End AdSlot 15 -->\n",
       "<!-- GPT AdSlot 11 for Ad unit 'trb.chicagomag/hp' ### Size: [[300,250]] -->\n",
       "<div id=\"div-gpt-ad-2789321-11\">\n",
       "<script>\n",
       "\t\t\t\t\tgoogletag.cmd.push(function() { googletag.display('div-gpt-ad-2789321-11'); });\n",
       "\t\t\t\t</script>\n",
       "</div>\n",
       "<!-- End AdSlot 11 -->\n",
       "</div>\n",
       "</div>\n",
       "</div>\n",
       "<!-- end article wrap -->\n",
       "<!-- start ad -->\n",
       "<div class=\"grid-container grid-parent ad-space ad-space-leader hide-on-mobile mb-0\">\n",
       "<!-- GPT AdSlot 5 for Ad unit 'trb.chicagomag/hp' ### Size: [[728,90]] -->\n",
       "<div id=\"div-gpt-ad-2789321-5\">\n",
       "<script>\n",
       "\t\t\tgoogletag.cmd.push(function() { googletag.display('div-gpt-ad-2789321-5'); });\n",
       "\t\t</script>\n",
       "</div>\n",
       "<!-- End AdSlot 5 -->\n",
       "</div>\n",
       "<div class=\"grid-container grid-parent ad-space ad-space-leader hide-on-desktop hide-on-tablet\">\n",
       "<!-- GPT AdSlot 10 for Ad unit 'trb.chicagomag/hp' ### Size: [[320,50]] -->\n",
       "<div id=\"div-gpt-ad-2789321-10\">\n",
       "<script>\n",
       "\t\t\tgoogletag.cmd.push(function() { googletag.display('div-gpt-ad-2789321-10'); });\n",
       "\t\t</script>\n",
       "</div>\n",
       "<!-- End AdSlot 10 -->\n",
       "</div>\n",
       "<!-- end ad -->\n",
       "<div class=\"comments-area grid-container grid-parent\">\n",
       "<div class=\"grid-12 prefix-5 mobile-grid-100 mobile-prefix-0\">\n",
       "<div id=\"comments\">\n",
       "<div class=\"comment-respond\" id=\"respond\">\n",
       "<h3 class=\"comment-reply-title\" id=\"reply-title\">Leave a Comment <small><a href=\"/Chicago-Magazine/November-2012/Best-Sandwiches-Chicago/#respond\" id=\"cancel-comment-reply-link\" rel=\"nofollow\" style=\"display:none;\">Cancel reply</a></small></h3><form action=\"https://www.chicagomag.com/wp-comments-post.php?wpe-comment-post=chicagomag\" class=\"comment-form\" id=\"commentform\" method=\"post\" novalidate=\"\"><p class=\"comment-form-comment\"><label class=\"screen-reader-text\" for=\"comment\">Comment</label><textarea aria-required=\"true\" autocomplete=\"new-password\" cols=\"45\" id=\"c2cc66bfa4\" name=\"c2cc66bfa4\" required=\"\" rows=\"8\"></textarea><textarea aria-hidden=\"true\" autocomplete=\"new-password\" id=\"comment\" name=\"comment\" style=\"padding:0 !important;clip:rect(1px, 1px, 1px, 1px) !important;position:absolute !important;white-space:nowrap !important;height:1px !important;width:1px !important;overflow:hidden !important;\" tabindex=\"-1\"></textarea><script data-noptimize=\"\" type=\"text/javascript\">document.getElementById(\"comment\").setAttribute( \"id\", \"ac8d824db4eb6ce9a5dfbb2e7992bf5e\" );document.getElementById(\"c2cc66bfa4\").setAttribute( \"id\", \"comment\" );</script></p><label class=\"screen-reader-text\" for=\"author\">Name</label><input id=\"author\" name=\"author\" placeholder=\"Name *\" size=\"30\" type=\"text\" value=\"\">\n",
       "<label class=\"screen-reader-text\" for=\"email\">Email</label><input id=\"email\" name=\"email\" placeholder=\"Email *\" size=\"30\" type=\"email\" value=\"\">\n",
       "<label class=\"screen-reader-text\" for=\"url\">Website</label><input id=\"url\" name=\"url\" placeholder=\"Website\" size=\"30\" type=\"url\" value=\"\">\n",
       "<p class=\"comment-form-cookies-consent\"><input id=\"wp-comment-cookies-consent\" name=\"wp-comment-cookies-consent\" type=\"checkbox\" value=\"yes\"> <label for=\"wp-comment-cookies-consent\">Save my name, email, and website in this browser for the next time I comment.</label></input></p>\n",
       "<p class=\"form-submit\"><input class=\"submit\" id=\"submit\" name=\"submit\" type=\"submit\" value=\"Post Comment\"/> <input id=\"comment_post_ID\" name=\"comment_post_ID\" type=\"hidden\" value=\"11772\"/>\n",
       "<input id=\"comment_parent\" name=\"comment_parent\" type=\"hidden\" value=\"0\"/>\n",
       "</p></input></input></input></form> </div><!-- #respond -->\n",
       "</div><!-- #comments -->\n",
       "</div>\n",
       "</div>\n",
       "</main><!-- #main -->\n",
       "</div><!-- #primary -->\n",
       "</div><!-- #content -->\n",
       "</div><!-- #page -->\n",
       "<!-- start footer -->\n",
       "<div id=\"footer\">\n",
       "<div class=\"grid-container\">\n",
       "<div class=\"grid-5 suffix-1 mobile-grid-12 mobile-suffix-0 grid-parent-mobile left\">\n",
       "<div class=\"wrap\">\n",
       "<a href=\"https://cma.pcdfusion.com/pcd/Order?iKey=I**D7B\">Subscribe</a>\n",
       "<a href=\"https://cma.pcdfusion.com/pcd/CustomerSupport/Account/Login?ReturnUrl=%2fpcd%2fCustomerSupport%2fApp%2f3141\">Manage Subscription</a>\n",
       "<a href=\"https://www.chicagomag.com/issue-archive/\">Issue Archive</a>\n",
       "<a href=\"http://www.tronc.com/privacy-policy/\">Privacy Policy</a>\n",
       "<a href=\"http://www.tronc.com/central-terms-of-service/\">Terms of Service</a>\n",
       "</div>\n",
       "</div>\n",
       "<div class=\"grid-10 prefix-1 suffix-1 mobile-grid-100 mobile-prefix-0 grid-parent-mobile middle hide-on-mobile\">\n",
       "<div class=\"wrap\">\n",
       "<h2>Follow Us</h2>\n",
       "<div class=\"footer-social\">\n",
       "<a href=\"https://www.facebook.com/ChicagoMagazine\" target=\"_blank\"><i class=\"fab fa-facebook-f\"></i></a>\n",
       "<a href=\"http://www.twitter.com/chicagomag/\" target=\"_blank\"><i class=\"fab fa-twitter\"></i></a>\n",
       "<a href=\"http://instagram.com/chicagomag\" target=\"_blank\"><i class=\"fab fa-instagram\"></i></a>\n",
       "<a href=\"https://www.youtube.com/channel/UCOkRC6Y4LUyvglGmyC52KPw\" target=\"_blank\"><i class=\"fab fa-youtube\"></i></a>\n",
       "</div>\n",
       "<h2>Get Our Newsletters</h2>\n",
       "<p>Subscribe to one or more of our free e-mail newsletters to get instant updates on local news, events, and opportunities in Chicago.</p>\n",
       "<div class=\"footer-form\" style=\"display:flex; margin-top:60px;\">\n",
       "<table>\n",
       "<tr>\n",
       "<td><input type=\"text\"/></td>\n",
       "<td><button style=\"background:#d2232a; color:#fff;\">Sign Up</button></td>\n",
       "</tr>\n",
       "</table>\n",
       "</div>\n",
       "<div class=\"copyright\">©2020 Chicago magazine / A Chicago Tribune Media Group website</div>\n",
       "</div>\n",
       "</div>\n",
       "<div class=\"grid-5 prefix-1 mobile-grid-12 mobile-prefix-0 mobile-suffix-0 grid-parent-mobile right\">\n",
       "<div class=\"wrap\">\n",
       "<a href=\"https://www.chicagomag.com/about-the-magazine/\">About the Magazine</a>\n",
       "<a href=\"https://www.chicagomag.com/contact-us/\">Contact Us</a>\n",
       "<a href=\"https://www.chicagomag.com/advertise/\">Advertise</a>\n",
       "<a href=\"https://www.chicagomag.com/resource-guide/\">Resource Guide</a>\n",
       "<a href=\"https://www.chicagomag.com/events/\">Events</a>\n",
       "</div>\n",
       "</div>\n",
       "<div class=\"mobile-grid-100 mobile-prefix-0 mobile-suffix-1 grid-parent-mobile middle hide-on-desktop hide-on-tablet\">\n",
       "<div class=\"wrap\">\n",
       "<h2>Follow Us</h2>\n",
       "<div class=\"footer-social\">\n",
       "<a href=\"https://www.facebook.com/ChicagoMagazine\" target=\"_blank\"><i class=\"fab fa-facebook-f\"></i></a>\n",
       "<a href=\"http://www.twitter.com/chicagomag/\" target=\"_blank\"><i class=\"fab fa-twitter\"></i></a>\n",
       "<a href=\"http://instagram.com/chicagomag\" target=\"_blank\"><i class=\"fab fa-instagram\"></i></a>\n",
       "<a href=\"https://www.youtube.com/channel/UCOkRC6Y4LUyvglGmyC52KPw\" target=\"_blank\"><i class=\"fab fa-youtube\"></i></a>\n",
       "</div>\n",
       "<h2>Get Our Newsletters</h2>\n",
       "<p>Subscribe to one or more of our free e-mail newsletters to get instant updates on local news, events, and opportunities in Chicago.</p>\n",
       "<div class=\"footer-form\" style=\"display:flex; margin-top:60px;\">\n",
       "<input style=\"width:80%;\" type=\"text\"/>\n",
       "<button style=\"width:20%; background:#d2232a; color:#fff;\">Sign Up</button>\n",
       "</div>\n",
       "<div class=\"copyright\">©2020 Chicago magazine / A Chicago Tribune Media Group website</div>\n",
       "</div>\n",
       "</div>\n",
       "</div>\n",
       "</div>\n",
       "<!-- end footer -->\n",
       "<script src=\"https://ajax.googleapis.com/ajax/libs/jquery/3.4.1/jquery.min.js\"></script>\n",
       "<script>\n",
       "\n",
       "\tjQuery(document).ready(function($) {\n",
       "\n",
       "\t\t$(\".grid-toggle\").click(function(){\n",
       "\t\t\t$(\".grid-guide\").toggle();\n",
       "\t\t});\n",
       "\n",
       "\t\t$(\".nav2-toggle\").click(function(){\n",
       "\t\t\t$(\"#nav2-overlay\").toggle();\n",
       "\t\t\t$(\"#nav2-overlay-top\").toggle();\n",
       "\t\t\t$(\"#nav2-overlay-btm\").toggle();\n",
       "\t\t\t$(\"#nav2-inner-overlay\").toggle();\n",
       "\t\t\t$(\"#nav2-inner\").toggle();\n",
       "\t\t\t$(\"#nav2-open\").toggle();\n",
       "\t\t\t$(\"#nav2-close\").toggle();\n",
       "\t\t});\n",
       "\n",
       "\t\t$(\".search-open\").click(function(){\n",
       "\t\t\t$('#search-overlay').fadeIn().css('display', 'inline-block');\n",
       "\t\t\t$('.search-field').focus();\n",
       "\t\t\t//$('#search-close').fadeIn().css('display', 'block');\n",
       "\t\t});\n",
       "\n",
       "\t\t$(\".search-close-btn\").click(function(){\n",
       "\t\t\t$(\"#search-overlay\").fadeOut().toggle();\n",
       "\t\t\t$(\"#search-close\").fadeOut().toggle();\n",
       "\t\t});\n",
       "  \n",
       "\t});\n",
       "\n",
       "</script>\n",
       "<script>\n",
       "\n",
       "\tjQuery(document).ready(function($) {\n",
       "\n",
       "\t\t$(\".toggle-rock\").click(function(){\n",
       "\t\t\t$('.indie-rock').fadeOut().css('display', 'none');\n",
       "\t\t\t$('.new-music').fadeOut().css('display', 'none');\n",
       "\t\t\t$('.rock').fadeIn().css('display', 'block');\n",
       "\t\t});\n",
       "\n",
       "\t\t$(\".toggle-indie-rock\").click(function(){\n",
       "\t\t\t$('.rock').fadeOut().css('display', 'none');\n",
       "\t\t\t$('.new-music').fadeOut().css('display', 'none');\n",
       "\t\t\t$('.indie-rock').fadeIn().css('display', 'block');\n",
       "\t\t});\n",
       "\n",
       "\t\t$(\".toggle-new-music\").click(function(){\n",
       "\t\t\t$('.indie-rock').fadeOut().css('display', 'none');\n",
       "\t\t\t$('.rock').fadeOut().css('display', 'none');\n",
       "\t\t\t$('.new-music').fadeIn().css('display', 'block');\n",
       "\t\t});\n",
       "\n",
       "\t\t$(\".toggle-all-genre\").click(function(){\n",
       "\t\t\t$('.indie-rock').fadeIn().css('display', 'block');\n",
       "\t\t\t$('.rock').fadeIn().css('display', 'block');\n",
       "\t\t\t$('.new-music').fadeIn().css('display', 'block');\n",
       "\t\t});\n",
       "  \n",
       "\t});\n",
       "\n",
       "</script>\n",
       "<div class=\"site-footer\">\n",
       "<footer class=\"site-info\" itemscope=\"\" itemtype=\"https://schema.org/WPFooter\">\n",
       "<div class=\"inside-site-info grid-container grid-parent\">\n",
       "<div class=\"copyright-bar\">\n",
       "<span class=\"copyright\">© 2021 Chicago Magazine</span> • Built with <a href=\"https://generatepress.com\" itemprop=\"url\">GeneratePress</a> </div>\n",
       "</div>\n",
       "</footer>\n",
       "</div><!-- .site-footer -->\n",
       "<!--[if lte IE 11]>\n",
       "<script src='https://www.chicagomag.com/wp-content/themes/generatepress/assets/js/classList.min.js?ver=3.0.2' id='generate-classlist-js'></script>\n",
       "<![endif]-->\n",
       "<script id=\"generate-main-js-extra\">\n",
       "var generatepressMenu = {\"toggleOpenedSubMenus\":\"1\",\"openSubMenuLabel\":\"Open Sub-Menu\",\"closeSubMenuLabel\":\"Close Sub-Menu\"};\n",
       "</script>\n",
       "<script id=\"generate-main-js\" src=\"https://www.chicagomag.com/wp-content/themes/generatepress/assets/js/main.min.js?ver=3.0.2\"></script>\n",
       "<script id=\"comment-reply-js\" src=\"https://www.chicagomag.com/wp-includes/js/comment-reply.min.js?ver=5.6\"></script>\n",
       "<script id=\"heateor_sss_sharing_js-js-before\">\n",
       "function heateorSssLoadEvent(e) {var t=window.onload;if (typeof window.onload!=\"function\") {window.onload=e}else{window.onload=function() {t();e()}}};\tvar heateorSssSharingAjaxUrl = 'https://www.chicagomag.com/wp-admin/admin-ajax.php', heateorSssCloseIconPath = 'https://www.chicagomag.com/wp-content/plugins/sassy-social-share/public/../images/close.png', heateorSssPluginIconPath = 'https://www.chicagomag.com/wp-content/plugins/sassy-social-share/public/../images/logo.png', heateorSssHorizontalSharingCountEnable = 0, heateorSssVerticalSharingCountEnable = 0, heateorSssSharingOffset = -10; var heateorSssMobileStickySharingEnabled = 0;var heateorSssCopyLinkMessage = \"Link copied.\";var heateorSssUrlCountFetched = [], heateorSssSharesText = 'Shares', heateorSssShareText = 'Share';function heateorSssPopup(e) {window.open(e,\"popUpWindow\",\"height=400,width=600,left=400,top=100,resizable,scrollbars,toolbar=0,personalbar=0,menubar=no,location=no,directories=no,status\")};var heateorSssWhatsappShareAPI = \"web\";\n",
       "</script>\n",
       "<script id=\"heateor_sss_sharing_js-js\" src=\"https://www.chicagomag.com/wp-content/plugins/sassy-social-share/public/js/sassy-social-share-public.js?ver=3.3.20\"></script>\n",
       "<script id=\"__ytprefsfitvids__-js\" src=\"https://www.chicagomag.com/wp-content/plugins/youtube-embed-plus-pro/scripts/fitvids.min.js?ver=13.4.2\"></script>\n",
       "<script id=\"wp-embed-js\" src=\"https://www.chicagomag.com/wp-includes/js/wp-embed.min.js?ver=5.6\"></script>\n",
       "<script>\n",
       "// When the user scrolls down 20px from the top of the document, slide down the navbar\n",
       "window.onscroll = function() {scrollFunction()};\n",
       "\n",
       "function scrollFunction() {\n",
       "  if (document.body.scrollTop > 240 || document.documentElement.scrollTop > 240) {\n",
       "    document.getElementById(\"navbar\").style.top = \"0\";\n",
       "  } else {\n",
       "    document.getElementById(\"navbar\").style.top = \"-45px\";\n",
       "  }\n",
       "}\n",
       "</script>\n",
       "</body>\n",
       "</html>"
      ]
     },
     "metadata": {},
     "execution_count": 1
    }
   ],
   "source": [
    "from bs4 import BeautifulSoup\n",
    "import urllib.request\n",
    "\n",
    "url = 'https://www.chicagomag.com/Chicago-Magazine/November-2012/Best-Sandwiches-Chicago/'\n",
    "\n",
    "headers = {'User-Agent':'Chrome/6.0.3359.181'}\n",
    "req = urllib.request.Request(url, headers=headers)\n",
    "html = urllib.request.urlopen(req)\n",
    "soup = BeautifulSoup(html, 'html.parser')\n",
    "\n",
    "soup"
   ]
  },
  {
   "cell_type": "code",
   "execution_count": 2,
   "metadata": {},
   "outputs": [
    {
     "output_type": "stream",
     "name": "stdout",
     "text": [
      "[<div class=\"sammy\" style=\"position: relative;\">\n<div class=\"sammyRank\">1</div>\n<div class=\"sammyListing\"><a href=\"/Chicago-Magazine/November-2012/Best-Sandwiches-in-Chicago-Old-Oak-Tap-BLT/\"><b>BLT</b><br/>\nOld Oak Tap<br/>\n<em>Read more</em> </a></div>\n</div>, <div class=\"sammy\" style=\"position: relative;\">\n<div class=\"sammyRank\">2</div>\n<div class=\"sammyListing\"><a href=\"/Chicago-Magazine/November-2012/Best-Sandwiches-in-Chicago-Au-Cheval-Fried-Bologna/\"><b>Fried Bologna</b><br/>\nAu Cheval<br/>\n<em>Read more</em> </a></div>\n</div>, <div class=\"sammy\" style=\"position: relative;\">\n<div class=\"sammyRank\">3</div>\n<div class=\"sammyListing\"><a href=\"/Chicago-Magazine/November-2012/Best-Sandwiches-in-Chicago-Xoco-Woodland-Mushroom/\"><b>Woodland Mushroom</b><br/>\nXoco<br/>\n<em>Read more</em> </a></div>\n</div>, <div class=\"sammy\" style=\"position: relative;\">\n<div class=\"sammyRank\">4</div>\n<div class=\"sammyListing\"><a href=\"/Chicago-Magazine/November-2012/Best-Sandwiches-in-Chicago-Als-Deli-Roast-Beef/\"><b>Roast Beef</b><br/>\nAl’s Deli<br/>\n<em>Read more</em> </a></div>\n</div>, <div class=\"sammy\" style=\"position: relative;\">\n<div class=\"sammyRank\">5</div>\n<div class=\"sammyListing\"><a href=\"/Chicago-Magazine/November-2012/Best-Sandwiches-in-Chicago-Publican-Quality-Meats-PB-L/\"><b>PB&amp;L</b><br/>\nPublican Quality Meats<br/>\n<em>Read more</em> </a></div>\n</div>, <div class=\"sammy\" style=\"position: relative;\">\n<div class=\"sammyRank\">6</div>\n<div class=\"sammyListing\"><a href=\"http://www.chicagomag.com/Chicago-Magazine/November-2012/Best-Sandwiches-in-Chicago-Hendrickx-Belgian-Bread-Crafter-Belgian-Chicken-Curry-Salad/\"><b>Belgian Chicken Curry Salad</b><br/>\nHendrickx Belgian Bread Crafter<br/>\n<em>Read more</em> </a></div>\n</div>, <div class=\"sammy\" style=\"position: relative;\">\n<div class=\"sammyRank\">7</div>\n<div class=\"sammyListing\"><a href=\"/Chicago-Magazine/November-2012/Best-Sandwiches-in-Chicago-Acadia-Lobster-Roll/\"><b>Lobster Roll</b><br/>\nAcadia<br/>\n<em>Read more</em> </a></div>\n</div>, <div class=\"sammy\" style=\"position: relative;\">\n<div class=\"sammyRank\">8</div>\n<div class=\"sammyListing\"><a href=\"/Chicago-Magazine/November-2012/Best-Sandwiches-in-Chicago-Birchwood-Kitchen-Smoked-Salmon-Salad/\"><b>Smoked Salmon Salad</b><br/>\nBirchwood Kitchen<br/>\n<em>Read more</em> </a></div>\n</div>, <div class=\"sammy\" style=\"position: relative;\">\n<div class=\"sammyRank\">9</div>\n<div class=\"sammyListing\"><a href=\"/Chicago-Magazine/November-2012/Best-Sandwiches-in-Chicago-Cemitas-Puebla-Atomica-Cemitas/\"><b>Atomica Cemitas</b><br/>\nCemitas Puebla<br/>\n<em>Read more</em> </a></div>\n</div>, <div class=\"sammy\" style=\"position: relative;\">\n<div class=\"sammyRank\">10</div>\n<div class=\"sammyListing\"><a href=\"/Chicago-Magazine/November-2012/Best-Sandwiches-in-Chicago-Nana-Grilled-Laughing-Bird-Shrimp-and-Fried-Oyster-Po-Boy/\"><b>Grilled Laughing Bird Shrimp and Fried Po’ Boy</b><br/>\nNana<br/>\n<em>Read more</em> </a></div>\n</div>, <div class=\"sammy\" style=\"position: relative;\">\n<div class=\"sammyRank\">11</div>\n<div class=\"sammyListing\"><a href=\"http://www.chicagomag.com/Chicago-Magazine/November-2012/Best-Sandwiches-in-Chicago-Lula-Cafe-Ham-and-Raclette-Panino/\"><b>Ham and Raclette Panino</b><br/>\nLula Cafe<br/>\n<em>Read more</em> </a></div>\n</div>, <div class=\"sammy\" style=\"position: relative;\">\n<div class=\"sammyRank\">12</div>\n<div class=\"sammyListing\"><a href=\"http://www.chicagomag.com/Chicago-Magazine/November-2012/Best-Sandwiches-in-Chicago-Ricobenes-Breaded-Steak/\"><b>Breaded Steak</b><br/>\nRicobene’s<br/>\n<em>Read more</em> </a></div>\n</div>, <div class=\"sammy\" style=\"position: relative;\">\n<div class=\"sammyRank\">13</div>\n<div class=\"sammyListing\"><a href=\"http://www.chicagomag.com/Chicago-Magazine/November-2012/Best-Sandwiches-in-Chicago-Frog-n-Snail-The-Hawkeye/\"><b>The Hawkeye</b><br/>\nFrog n Snail<br/>\n<em>Read more</em> </a></div>\n</div>, <div class=\"sammy\" style=\"position: relative;\">\n<div class=\"sammyRank\">14</div>\n<div class=\"sammyListing\"><a href=\"http://www.chicagomag.com/Chicago-Magazine/November-2012/Best-Sandwiches-in-Chicago-Crosbys-Kitchen-Chicken-Dip/\"><b>Chicken Dip</b><br/>\nCrosby’s Kitchen<br/>\n<em>Read more</em> </a></div>\n</div>, <div class=\"sammy\" style=\"position: relative;\">\n<div class=\"sammyRank\">15</div>\n<div class=\"sammyListing\"><a href=\"http://www.chicagomag.com/Chicago-Magazine/November-2012/Best-Sandwiches-in-Chicago-Longman-and-Eagle-Wild-Boar-Sloppy-Joe/\"><b>Wild Boar Sloppy Joe</b><br/>\nLongman &amp; Eagle<br/>\n<em>Read more</em> </a></div>\n</div>, <div class=\"sammy\" style=\"position: relative;\">\n<div class=\"sammyRank\">16</div>\n<div class=\"sammyListing\"><a href=\"http://www.chicagomag.com/Chicago-Magazine/November-2012/Best-Sandwiches-in-Chicago-Bari-Meatball-Sub/\"><b>Meatball Sub</b><br/>\nBari<br/>\n<em>Read more</em> </a></div>\n</div>, <div class=\"sammy\" style=\"position: relative;\">\n<div class=\"sammyRank\">17</div>\n<div class=\"sammyListing\"><a href=\"http://www.chicagomag.com/Chicago-Magazine/November-2012/Best-Sandwiches-in-Chicago-Mannys-Corned-Beef/\"><b>Corned Beef</b><br/>\nManny’s<br/>\n<em>Read more</em> </a></div>\n</div>, <div class=\"sammy\" style=\"position: relative;\">\n<div class=\"sammyRank\">18</div>\n<div class=\"sammyListing\"><a href=\"http://www.chicagomag.com/Chicago-Magazine/November-2012/Best-Sandwiches-in-Chicago-Eggys-Turkey-Club/\"><b>Turkey Club</b><br/>\nEggy’s<br/>\n<em>Read more</em> </a></div>\n</div>, <div class=\"sammy\" style=\"position: relative;\">\n<div class=\"sammyRank\">19</div>\n<div class=\"sammyListing\"><a href=\"http://www.chicagomag.com/Chicago-Magazine/November-2012/Best-Sandwiches-in-Chicago-Old-Jerusalem-Falafel/\"><b>Falafel</b><br/>\nOld Jerusalem<br/>\n<em>Read more</em> </a></div>\n</div>, <div class=\"sammy\" style=\"position: relative;\">\n<div class=\"sammyRank\">20</div>\n<div class=\"sammyListing\"><a href=\"http://www.chicagomag.com/Chicago-Magazine/November-2012/Best-Sandwiches-in-Chicago-Mindys-HotChocolate-Crab-Cake/\"><b>Crab Cake</b><br/>\nMindy’s HotChocolate<br/>\n<em>Read more</em> </a></div>\n</div>, <div class=\"sammy\" style=\"position: relative;\">\n<div class=\"sammyRank\">21</div>\n<div class=\"sammyListing\"><a href=\"http://www.chicagomag.com/Chicago-Magazine/November-2012/Best-Sandwiches-in-Chicago-Olgas-Delicatessen-Chicken-Schnitzel/\"><b>Chicken Schnitzel</b><br/>\nOlga’s Delicatessen<br/>\n<em>Read more</em> </a></div>\n</div>, <div class=\"sammy\" style=\"position: relative;\">\n<div class=\"sammyRank\">22</div>\n<div class=\"sammyListing\"><a href=\"http://www.chicagomag.com/Chicago-Magazine/November-2012/Best-Sandwiches-in-Chicago-Dawali-Mediterranean-Kitchen-Shawarma/\"><b>Shawarma</b><br/>\nDawali Mediterranean Kitchen<br/>\n<em>Read more</em> </a></div>\n</div>, <div class=\"sammy\" style=\"position: relative;\">\n<div class=\"sammyRank\">23</div>\n<div class=\"sammyListing\"><a href=\"http://www.chicagomag.com/Chicago-Magazine/November-2012/Best-Sandwiches-in-Chicago-Big-Jones-Toasted-Pimiento-Cheese/\"><b>Toasted Pimiento Cheese</b><br/>\nBig Jones<br/>\n<em>Read more</em> </a></div>\n</div>, <div class=\"sammy\" style=\"position: relative;\">\n<div class=\"sammyRank\">24</div>\n<div class=\"sammyListing\"><a href=\"http://www.chicagomag.com/Chicago-Magazine/November-2012/Best-Sandwiches-in-Chicago-La-Pane-Vegetarian-Panino/\"><b>Vegetarian Panino</b><br/>\nLa Pane<br/>\n<em>Read more</em> </a></div>\n</div>, <div class=\"sammy\" style=\"position: relative;\">\n<div class=\"sammyRank\">25</div>\n<div class=\"sammyListing\"><a href=\"/Chicago-Magazine/November-2012/Best-Sandwiches-in-Chicago-Pastoral-Cali-Chevre/\"><b>Cali Chèvre</b><br/>\nPastoral<br/>\n<em>Read more</em> </a></div>\n</div>, <div class=\"sammy\" style=\"position: relative;\">\n<div class=\"sammyRank\">26</div>\n<div class=\"sammyListing\"><a href=\"http://www.chicagomag.com/Chicago-Magazine/November-2012/Best-Sandwiches-in-Chicago-Maxs-Deli-Pastrami/\"><b>Pastrami</b><br/>\nMax’s Deli<br/>\n<em>Read more</em> </a></div>\n</div>, <div class=\"sammy\" style=\"position: relative;\">\n<div class=\"sammyRank\">27</div>\n<div class=\"sammyListing\"><a href=\"http://www.chicagomag.com/Chicago-Magazine/November-2012/Best-Sandwiches-in-Chicago-Luckys-Sandwich-Co-The-Fredo/\"><b>The Fredo</b><br/>\nLucky’s Sandwich Co.<br/>\n<em>Read more</em> </a></div>\n</div>, <div class=\"sammy\" style=\"position: relative;\">\n<div class=\"sammyRank\">28</div>\n<div class=\"sammyListing\"><a href=\"http://www.chicagomag.com/Chicago-Magazine/November-2012/Best-Sandwiches-in-Chicago-City-Provisions-Smoked-Ham/\"><b>Smoked Ham</b><br/>\nCity Provisions<br/>\n<em>Read more</em> </a></div>\n</div>, <div class=\"sammy\" style=\"position: relative;\">\n<div class=\"sammyRank\">29</div>\n<div class=\"sammyListing\"><a href=\"http://www.chicagomag.com/Chicago-Magazine/November-2012/Best-Sandwiches-in-Chicago-Papas-Cache-Sabroso-Jibarito/\"><b>Jibarito</b><br/>\nPapa’s Cache Sabroso<br/>\n<em>Read more</em> </a></div>\n</div>, <div class=\"sammy\" style=\"position: relative;\">\n<div class=\"sammyRank\">30</div>\n<div class=\"sammyListing\"><a href=\"http://www.chicagomag.com/Chicago-Magazine/November-2012/Best-Sandwiches-in-Chicago-Bavettes-Bar-and-Boeuf-Shaved-Prime-Rib/\"><b>Shaved Prime Rib</b><br/>\nBavette’s Bar &amp; Boeuf<br/>\n<em>Read more</em> </a></div>\n</div>, <div class=\"sammy\" style=\"position: relative;\">\n<div class=\"sammyRank\">31</div>\n<div class=\"sammyListing\"><a href=\"http://www.chicagomag.com/Chicago-Magazine/November-2012/Best-Sandwiches-in-Chicago-Hannahs-Bretzel-Serrano-Ham-and-Manchego-Cheese/\"><b>Serrano Ham and Manchego Cheese</b><br/>\nHannah’s Bretzel<br/>\n<em>Read more</em> </a></div>\n</div>, <div class=\"sammy\" style=\"position: relative;\">\n<div class=\"sammyRank\">32</div>\n<div class=\"sammyListing\"><a href=\"http://www.chicagomag.com/Chicago-Magazine/November-2012/Best-Sandwiches-in-Chicago-La-Fournette-Tuna-Salad/\"><b>Tuna Salad</b><br/>\nLa Fournette<br/>\n<em>Read more</em> </a></div>\n</div>, <div class=\"sammy\" style=\"position: relative;\">\n<div class=\"sammyRank\">33</div>\n<div class=\"sammyListing\"><a href=\"http://www.chicagomag.com/Chicago-Magazine/November-2012/Best-Sandwiches-in-Chicago-Paramount-Room-Paramount-Reuben/\"><b>Paramount Reuben</b><br/>\nParamount Room<br/>\n<em>Read more</em> </a></div>\n</div>, <div class=\"sammy\" style=\"position: relative;\">\n<div class=\"sammyRank\">34</div>\n<div class=\"sammyListing\"><a href=\"http://www.chicagomag.com/Chicago-Magazine/November-2012/Best-Sandwiches-in-Chicago-Melt-Sandwich-Shoppe-The-Istanbul/\"><b>The Istanbul</b><br/>\nMelt Sandwich Shoppe<br/>\n<em>Read more</em> </a></div>\n</div>, <div class=\"sammy\" style=\"position: relative;\">\n<div class=\"sammyRank\">35</div>\n<div class=\"sammyListing\"><a href=\"http://www.chicagomag.com/Chicago-Magazine/November-2012/Best-Sandwiches-in-Chicago-Floriole-Cafe-and-Bakery-BAD/\"><b>B.A.D.</b><br/>\nFloriole Cafe &amp; Bakery<br/>\n<em>Read more</em> </a></div>\n</div>, <div class=\"sammy\" style=\"position: relative;\">\n<div class=\"sammyRank\">36</div>\n<div class=\"sammyListing\"><a href=\"http://www.chicagomag.com/Chicago-Magazine/November-2012/Best-Sandwiches-in-Chicago-First-Slice-Pie-Cafe-Duck-Confit-and-Mozzarella/\"><b>Duck Confit and Mozzarella</b><br/>\nFirst Slice Pie Café<br/>\n<em>Read more</em> </a></div>\n</div>, <div class=\"sammy\" style=\"position: relative;\">\n<div class=\"sammyRank\">37</div>\n<div class=\"sammyListing\"><a href=\"http://www.chicagomag.com/Chicago-Magazine/November-2012/Best-Sandwiches-in-Chicago-Troquet-Croque-Monsieur/\"><b>Croque Monsieur</b><br/>\nTroquet<br/>\n<em>Read more</em> </a></div>\n</div>, <div class=\"sammy\" style=\"position: relative;\">\n<div class=\"sammyRank\">38</div>\n<div class=\"sammyListing\"><a href=\"http://www.chicagomag.com/Chicago-Magazine/November-2012/Best-Sandwiches-in-Chicago-Grahamwich-Green-Garbanzo/\"><b>Green Garbanzo</b><br/>\nGrahamwich<br/>\n<em>Read more</em> </a></div>\n</div>, <div class=\"sammy\" style=\"position: relative;\">\n<div class=\"sammyRank\">39</div>\n<div class=\"sammyListing\"><a href=\"http://www.chicagomag.com/Chicago-Magazine/November-2012/Best-Sandwiches-in-Chicago-Saigon-Sisters-The-Hen-House/\"><b>The Hen House</b><br/>\nSaigon Sisters<br/>\n<em>Read more</em> </a></div>\n</div>, <div class=\"sammy\" style=\"position: relative;\">\n<div class=\"sammyRank\">40</div>\n<div class=\"sammyListing\"><a href=\"http://www.chicagomag.com/Chicago-Magazine/November-2012/Best-Sandwiches-in-Chicago-Rosalias-Deli-Tuscan-Chicken/\"><b>Tuscan Chicken</b><br/>\nRosalia’s Deli<br/>\n<em>Read more</em> </a></div>\n</div>, <div class=\"sammy\" style=\"position: relative;\">\n<div class=\"sammyRank\">41</div>\n<div class=\"sammyListing\"><a href=\"http://www.chicagomag.com/Chicago-Magazine/November-2012/Best-Sandwiches-in-Chicago-Z-and-H-MarketCafe-The-Marty/\"><b>The Marty </b><br/>\nZ&amp;H MarketCafe<br/>\n<em>Read more</em> </a></div>\n</div>, <div class=\"sammy\" style=\"position: relative;\">\n<div class=\"sammyRank\">42</div>\n<div class=\"sammyListing\"><a href=\"http://www.chicagomag.com/Chicago-Magazine/November-2012/Best-Sandwiches-in-Chicago-Market-House-on-the-Square-Whitefish/\"><b>Whitefish</b><br/>\nMarket House on the Square<br/>\n<em>Read more</em> </a></div>\n</div>, <div class=\"sammy\" style=\"position: relative;\">\n<div class=\"sammyRank\">43</div>\n<div class=\"sammyListing\"><a href=\"http://www.chicagomag.com/Chicago-Magazine/November-2012/Best-Sandwiches-in-Chicago-Elaines-Coffee-Call-Oat-Bread-Pecan-Butter-and-Fruit-Jam/\"><b>Oat Bread, Pecan Butter, and Fruit Jam</b><br/>\nElaine’s Coffee Call<br/>\n<em>Read more</em> </a></div>\n</div>, <div class=\"sammy\" style=\"position: relative;\">\n<div class=\"sammyRank\">44</div>\n<div class=\"sammyListing\"><a href=\"http://www.chicagomag.com/Chicago-Magazine/November-2012/Best-Sandwiches-in-Chicago-Marion-Street-Cheese-Market-Cauliflower-Melt/\"><b>Cauliflower Melt</b><br/>\nMarion Street Cheese Market<br/>\n<em>Read more</em> </a></div>\n</div>, <div class=\"sammy\" style=\"position: relative;\">\n<div class=\"sammyRank\">45</div>\n<div class=\"sammyListing\"><a href=\"http://www.chicagomag.com/Chicago-Magazine/November-2012/Best-Sandwiches-in-Chicago-Cafecito-Cubano/\"><b>Cubana</b><br/>\nCafecito<br/>\n<em>Read more</em> </a></div>\n</div>, <div class=\"sammy\" style=\"position: relative;\">\n<div class=\"sammyRank\">46</div>\n<div class=\"sammyListing\"><a href=\"http://www.chicagomag.com/Chicago-Magazine/November-2012/Best-Sandwiches-in-Chicago-Chickpea-Kufta/\"><b>Kufta</b><br/>\nChickpea<br/>\n<em>Read more</em> </a></div>\n</div>, <div class=\"sammy\" style=\"position: relative;\">\n<div class=\"sammyRank\">47</div>\n<div class=\"sammyListing\"><a href=\"http://www.chicagomag.com/Chicago-Magazine/November-2012/Best-Sandwiches-in-Chicago-The-Goddess-and-Grocer-Debbies-Egg-Salad/\"><b>Debbie’s Egg Salad</b><br/>\nThe Goddess and Grocer<br/>\n<em>Read more</em> </a></div>\n</div>, <div class=\"sammy\" style=\"position: relative;\">\n<div class=\"sammyRank\">48</div>\n<div class=\"sammyListing\"><a href=\"http://www.chicagomag.com/Chicago-Magazine/November-2012/Best-Sandwiches-in-Chicago-Zenwich-Beef-Curry/\"><b>Beef Curry</b><br/>\nZenwich<br/>\n<em>Read more</em> </a></div>\n</div>, <div class=\"sammy\" style=\"position: relative;\">\n<div class=\"sammyRank\">49</div>\n<div class=\"sammyListing\"><a href=\"http://www.chicagomag.com/Chicago-Magazine/November-2012/Best-Sandwiches-in-Chicago-Toni-Patisserie-Le-Vegetarien/\"><b>Le Végétarien</b><br/>\nToni Patisserie<br/>\n<em>Read more</em> </a></div>\n</div>, <div class=\"sammy\" style=\"position: relative; border-bottom: 0\">\n<div class=\"sammyRank\">50</div>\n<div class=\"sammyListing\"><a href=\"http://www.chicagomag.com/Chicago-Magazine/November-2012/Best-Sandwiches-in-Chicago-Phoebes-Bakery-The-Gatsby/\"><b>The Gatsby</b><br/>\nPhoebe’s Bakery<br/>\n<em>Read more</em> </a></div>\n</div>]\n"
     ]
    }
   ],
   "source": [
    "print(soup.find_all('div', 'sammy'))"
   ]
  },
  {
   "cell_type": "code",
   "execution_count": 3,
   "metadata": {},
   "outputs": [
    {
     "output_type": "execute_result",
     "data": {
      "text/plain": [
       "50"
      ]
     },
     "metadata": {},
     "execution_count": 3
    }
   ],
   "source": [
    "len(soup.find_all('div', 'sammy'))"
   ]
  },
  {
   "cell_type": "code",
   "execution_count": 4,
   "metadata": {},
   "outputs": [
    {
     "output_type": "stream",
     "name": "stdout",
     "text": [
      "<div class=\"sammy\" style=\"position: relative;\">\n<div class=\"sammyRank\">1</div>\n<div class=\"sammyListing\"><a href=\"/Chicago-Magazine/November-2012/Best-Sandwiches-in-Chicago-Old-Oak-Tap-BLT/\"><b>BLT</b><br/>\nOld Oak Tap<br/>\n<em>Read more</em> </a></div>\n</div>\n"
     ]
    }
   ],
   "source": [
    "print(soup.find_all('div', 'sammy')[0])"
   ]
  },
  {
   "cell_type": "code",
   "execution_count": 5,
   "metadata": {},
   "outputs": [
    {
     "output_type": "execute_result",
     "data": {
      "text/plain": [
       "bs4.element.Tag"
      ]
     },
     "metadata": {},
     "execution_count": 5
    }
   ],
   "source": [
    "tmp_one = soup.find_all('div', 'sammy')[0]\n",
    "type(tmp_one)"
   ]
  },
  {
   "cell_type": "code",
   "execution_count": 6,
   "metadata": {},
   "outputs": [
    {
     "output_type": "execute_result",
     "data": {
      "text/plain": [
       "<div class=\"sammyRank\">1</div>"
      ]
     },
     "metadata": {},
     "execution_count": 6
    }
   ],
   "source": [
    "tmp_one.find(class_='sammyRank')"
   ]
  },
  {
   "cell_type": "code",
   "execution_count": 7,
   "metadata": {},
   "outputs": [
    {
     "output_type": "execute_result",
     "data": {
      "text/plain": [
       "'1'"
      ]
     },
     "metadata": {},
     "execution_count": 7
    }
   ],
   "source": [
    "tmp_one.find(class_='sammyRank').get_text()"
   ]
  },
  {
   "cell_type": "code",
   "execution_count": 8,
   "metadata": {},
   "outputs": [
    {
     "output_type": "execute_result",
     "data": {
      "text/plain": [
       "'BLT\\nOld Oak Tap\\nRead more '"
      ]
     },
     "metadata": {},
     "execution_count": 8
    }
   ],
   "source": [
    "tmp_one.find(class_='sammyListing').get_text()"
   ]
  },
  {
   "cell_type": "code",
   "execution_count": 9,
   "metadata": {},
   "outputs": [
    {
     "output_type": "execute_result",
     "data": {
      "text/plain": [
       "'/Chicago-Magazine/November-2012/Best-Sandwiches-in-Chicago-Old-Oak-Tap-BLT/'"
      ]
     },
     "metadata": {},
     "execution_count": 9
    }
   ],
   "source": [
    "tmp_one.find('a')['href']"
   ]
  },
  {
   "cell_type": "code",
   "execution_count": 10,
   "metadata": {},
   "outputs": [
    {
     "output_type": "stream",
     "name": "stdout",
     "text": [
      "BLT\nOld Oak Tap\nRead more \n"
     ]
    }
   ],
   "source": [
    "import re\n",
    "\n",
    "tmp_string = tmp_one.find(class_='sammyListing').get_text()\n",
    "\n",
    "tmp = re.split(('\\n|\\r\\n'), tmp_string)\n",
    "\n",
    "for val in tmp:\n",
    "    print(val)"
   ]
  },
  {
   "cell_type": "code",
   "execution_count": 30,
   "metadata": {},
   "outputs": [],
   "source": [
    "import urllib.parse\n",
    "\n",
    "rank = []\n",
    "mainMenu = []\n",
    "cafeName = []\n",
    "urlAdd = []\n",
    "\n",
    "listSoup = soup.find_all('div', 'sammy')\n",
    "\n",
    "for item in listSoup:\n",
    "    rank.append(item.find(class_='sammyRank').get_text())\n",
    "\n",
    "    tmpString = item.find(class_='sammyListing').get_text()\n",
    "    tmp = re.split(('\\n|\\r\\n'), tmpString)\n",
    "    mainMenu.append(tmp[0])\n",
    "    cafeName.append(tmp[1])\n",
    "    urlAdd.append(urllib.parse.urljoin(url, item.find('a')['href']))"
   ]
  },
  {
   "cell_type": "code",
   "execution_count": 31,
   "metadata": {},
   "outputs": [
    {
     "output_type": "execute_result",
     "data": {
      "text/plain": [
       "['1', '2', '3', '4', '5']"
      ]
     },
     "metadata": {},
     "execution_count": 31
    }
   ],
   "source": [
    "rank[:5]"
   ]
  },
  {
   "cell_type": "code",
   "execution_count": 32,
   "metadata": {},
   "outputs": [
    {
     "output_type": "execute_result",
     "data": {
      "text/plain": [
       "['BLT', 'Fried Bologna', 'Woodland Mushroom', 'Roast Beef', 'PB&L']"
      ]
     },
     "metadata": {},
     "execution_count": 32
    }
   ],
   "source": [
    "mainMenu[:5]"
   ]
  },
  {
   "cell_type": "code",
   "execution_count": 33,
   "metadata": {},
   "outputs": [
    {
     "output_type": "execute_result",
     "data": {
      "text/plain": [
       "['Old Oak Tap', 'Au Cheval', 'Xoco', 'Al’s Deli', 'Publican Quality Meats']"
      ]
     },
     "metadata": {},
     "execution_count": 33
    }
   ],
   "source": [
    "cafeName[:5]"
   ]
  },
  {
   "cell_type": "code",
   "execution_count": 40,
   "metadata": {},
   "outputs": [
    {
     "output_type": "execute_result",
     "data": {
      "text/plain": [
       "['https://www.chicagomag.com/Chicago-Magazine/November-2012/Best-Sandwiches-in-Chicago-Old-Oak-Tap-BLT/',\n",
       " 'https://www.chicagomag.com/Chicago-Magazine/November-2012/Best-Sandwiches-in-Chicago-Au-Cheval-Fried-Bologna/',\n",
       " 'https://www.chicagomag.com/Chicago-Magazine/November-2012/Best-Sandwiches-in-Chicago-Xoco-Woodland-Mushroom/',\n",
       " 'https://www.chicagomag.com/Chicago-Magazine/November-2012/Best-Sandwiches-in-Chicago-Als-Deli-Roast-Beef/',\n",
       " 'https://www.chicagomag.com/Chicago-Magazine/November-2012/Best-Sandwiches-in-Chicago-Publican-Quality-Meats-PB-L/']"
      ]
     },
     "metadata": {},
     "execution_count": 40
    }
   ],
   "source": [
    "urlAdd[:5]"
   ]
  },
  {
   "cell_type": "code",
   "execution_count": 41,
   "metadata": {},
   "outputs": [
    {
     "output_type": "execute_result",
     "data": {
      "text/plain": [
       "(50, 50, 50, 50)"
      ]
     },
     "metadata": {},
     "execution_count": 41
    }
   ],
   "source": [
    "len(rank), len(mainMenu), len(cafeName), len(urlAdd)"
   ]
  },
  {
   "cell_type": "code",
   "execution_count": 42,
   "metadata": {},
   "outputs": [
    {
     "output_type": "execute_result",
     "data": {
      "text/html": "<div>\n<style scoped>\n    .dataframe tbody tr th:only-of-type {\n        vertical-align: middle;\n    }\n\n    .dataframe tbody tr th {\n        vertical-align: top;\n    }\n\n    .dataframe thead th {\n        text-align: right;\n    }\n</style>\n<table border=\"1\" class=\"dataframe\">\n  <thead>\n    <tr style=\"text-align: right;\">\n      <th></th>\n      <th>Cafe</th>\n      <th>Menu</th>\n      <th>Rank</th>\n      <th>URL</th>\n    </tr>\n  </thead>\n  <tbody>\n    <tr>\n      <th>0</th>\n      <td>Old Oak Tap</td>\n      <td>BLT</td>\n      <td>1</td>\n      <td>https://www.chicagomag.com/Chicago-Magazine/No...</td>\n    </tr>\n    <tr>\n      <th>1</th>\n      <td>Au Cheval</td>\n      <td>Fried Bologna</td>\n      <td>2</td>\n      <td>https://www.chicagomag.com/Chicago-Magazine/No...</td>\n    </tr>\n    <tr>\n      <th>2</th>\n      <td>Xoco</td>\n      <td>Woodland Mushroom</td>\n      <td>3</td>\n      <td>https://www.chicagomag.com/Chicago-Magazine/No...</td>\n    </tr>\n    <tr>\n      <th>3</th>\n      <td>Al’s Deli</td>\n      <td>Roast Beef</td>\n      <td>4</td>\n      <td>https://www.chicagomag.com/Chicago-Magazine/No...</td>\n    </tr>\n    <tr>\n      <th>4</th>\n      <td>Publican Quality Meats</td>\n      <td>PB&amp;L</td>\n      <td>5</td>\n      <td>https://www.chicagomag.com/Chicago-Magazine/No...</td>\n    </tr>\n  </tbody>\n</table>\n</div>",
      "text/plain": [
       "                     Cafe               Menu Rank  \\\n",
       "0             Old Oak Tap                BLT    1   \n",
       "1               Au Cheval      Fried Bologna    2   \n",
       "2                    Xoco  Woodland Mushroom    3   \n",
       "3               Al’s Deli         Roast Beef    4   \n",
       "4  Publican Quality Meats               PB&L    5   \n",
       "\n",
       "                                                 URL  \n",
       "0  https://www.chicagomag.com/Chicago-Magazine/No...  \n",
       "1  https://www.chicagomag.com/Chicago-Magazine/No...  \n",
       "2  https://www.chicagomag.com/Chicago-Magazine/No...  \n",
       "3  https://www.chicagomag.com/Chicago-Magazine/No...  \n",
       "4  https://www.chicagomag.com/Chicago-Magazine/No...  "
      ]
     },
     "metadata": {},
     "execution_count": 42
    }
   ],
   "source": [
    "import pandas as pd\n",
    "\n",
    "data = {'Rank':rank, 'Menu':mainMenu, 'Cafe':cafeName, 'URL':urlAdd}\n",
    "df = pd.DataFrame(data)\n",
    "df.head()"
   ]
  },
  {
   "cell_type": "code",
   "execution_count": 44,
   "metadata": {},
   "outputs": [
    {
     "output_type": "execute_result",
     "data": {
      "text/html": "<div>\n<style scoped>\n    .dataframe tbody tr th:only-of-type {\n        vertical-align: middle;\n    }\n\n    .dataframe tbody tr th {\n        vertical-align: top;\n    }\n\n    .dataframe thead th {\n        text-align: right;\n    }\n</style>\n<table border=\"1\" class=\"dataframe\">\n  <thead>\n    <tr style=\"text-align: right;\">\n      <th></th>\n      <th>Rank</th>\n      <th>Cafe</th>\n      <th>Menu</th>\n      <th>URL</th>\n    </tr>\n  </thead>\n  <tbody>\n    <tr>\n      <th>0</th>\n      <td>1</td>\n      <td>Old Oak Tap</td>\n      <td>BLT</td>\n      <td>https://www.chicagomag.com/Chicago-Magazine/No...</td>\n    </tr>\n    <tr>\n      <th>1</th>\n      <td>2</td>\n      <td>Au Cheval</td>\n      <td>Fried Bologna</td>\n      <td>https://www.chicagomag.com/Chicago-Magazine/No...</td>\n    </tr>\n    <tr>\n      <th>2</th>\n      <td>3</td>\n      <td>Xoco</td>\n      <td>Woodland Mushroom</td>\n      <td>https://www.chicagomag.com/Chicago-Magazine/No...</td>\n    </tr>\n    <tr>\n      <th>3</th>\n      <td>4</td>\n      <td>Al’s Deli</td>\n      <td>Roast Beef</td>\n      <td>https://www.chicagomag.com/Chicago-Magazine/No...</td>\n    </tr>\n    <tr>\n      <th>4</th>\n      <td>5</td>\n      <td>Publican Quality Meats</td>\n      <td>PB&amp;L</td>\n      <td>https://www.chicagomag.com/Chicago-Magazine/No...</td>\n    </tr>\n  </tbody>\n</table>\n</div>",
      "text/plain": [
       "  Rank                    Cafe               Menu  \\\n",
       "0    1             Old Oak Tap                BLT   \n",
       "1    2               Au Cheval      Fried Bologna   \n",
       "2    3                    Xoco  Woodland Mushroom   \n",
       "3    4               Al’s Deli         Roast Beef   \n",
       "4    5  Publican Quality Meats               PB&L   \n",
       "\n",
       "                                                 URL  \n",
       "0  https://www.chicagomag.com/Chicago-Magazine/No...  \n",
       "1  https://www.chicagomag.com/Chicago-Magazine/No...  \n",
       "2  https://www.chicagomag.com/Chicago-Magazine/No...  \n",
       "3  https://www.chicagomag.com/Chicago-Magazine/No...  \n",
       "4  https://www.chicagomag.com/Chicago-Magazine/No...  "
      ]
     },
     "metadata": {},
     "execution_count": 44
    }
   ],
   "source": [
    "df = pd.DataFrame(data, columns=['Rank','Cafe','Menu','URL'])\n",
    "df.head()"
   ]
  },
  {
   "cell_type": "code",
   "execution_count": 45,
   "metadata": {},
   "outputs": [],
   "source": [
    "df.to_csv('./data/03. best_sandwiches_list_chicago.csv', sep=',', encoding='UTF-8')"
   ]
  },
  {
   "source": [
    "# 파일로 부터 재시작"
   ],
   "cell_type": "markdown",
   "metadata": {}
  },
  {
   "cell_type": "code",
   "execution_count": 26,
   "metadata": {},
   "outputs": [],
   "source": [
    "from bs4 import BeautifulSoup\n",
    "import urllib.request\n",
    "from urllib.request import urlopen\n",
    "import pandas as pd"
   ]
  },
  {
   "cell_type": "code",
   "execution_count": 27,
   "metadata": {},
   "outputs": [
    {
     "output_type": "execute_result",
     "data": {
      "text/html": "<div>\n<style scoped>\n    .dataframe tbody tr th:only-of-type {\n        vertical-align: middle;\n    }\n\n    .dataframe tbody tr th {\n        vertical-align: top;\n    }\n\n    .dataframe thead th {\n        text-align: right;\n    }\n</style>\n<table border=\"1\" class=\"dataframe\">\n  <thead>\n    <tr style=\"text-align: right;\">\n      <th></th>\n      <th>Rank</th>\n      <th>Cafe</th>\n      <th>Menu</th>\n      <th>URL</th>\n    </tr>\n  </thead>\n  <tbody>\n    <tr>\n      <th>0</th>\n      <td>1</td>\n      <td>Old Oak Tap</td>\n      <td>BLT</td>\n      <td>https://www.chicagomag.com/Chicago-Magazine/No...</td>\n    </tr>\n    <tr>\n      <th>1</th>\n      <td>2</td>\n      <td>Au Cheval</td>\n      <td>Fried Bologna</td>\n      <td>https://www.chicagomag.com/Chicago-Magazine/No...</td>\n    </tr>\n    <tr>\n      <th>2</th>\n      <td>3</td>\n      <td>Xoco</td>\n      <td>Woodland Mushroom</td>\n      <td>https://www.chicagomag.com/Chicago-Magazine/No...</td>\n    </tr>\n    <tr>\n      <th>3</th>\n      <td>4</td>\n      <td>Al’s Deli</td>\n      <td>Roast Beef</td>\n      <td>https://www.chicagomag.com/Chicago-Magazine/No...</td>\n    </tr>\n    <tr>\n      <th>4</th>\n      <td>5</td>\n      <td>Publican Quality Meats</td>\n      <td>PB&amp;L</td>\n      <td>https://www.chicagomag.com/Chicago-Magazine/No...</td>\n    </tr>\n  </tbody>\n</table>\n</div>",
      "text/plain": [
       "   Rank                    Cafe               Menu  \\\n",
       "0     1             Old Oak Tap                BLT   \n",
       "1     2               Au Cheval      Fried Bologna   \n",
       "2     3                    Xoco  Woodland Mushroom   \n",
       "3     4               Al’s Deli         Roast Beef   \n",
       "4     5  Publican Quality Meats               PB&L   \n",
       "\n",
       "                                                 URL  \n",
       "0  https://www.chicagomag.com/Chicago-Magazine/No...  \n",
       "1  https://www.chicagomag.com/Chicago-Magazine/No...  \n",
       "2  https://www.chicagomag.com/Chicago-Magazine/No...  \n",
       "3  https://www.chicagomag.com/Chicago-Magazine/No...  \n",
       "4  https://www.chicagomag.com/Chicago-Magazine/No...  "
      ]
     },
     "metadata": {},
     "execution_count": 27
    }
   ],
   "source": [
    "df = pd.read_csv('./data/03. best_sandwiches_list_chicago.csv', index_col=0)\n",
    "df.head()"
   ]
  },
  {
   "cell_type": "code",
   "execution_count": 28,
   "metadata": {},
   "outputs": [
    {
     "output_type": "execute_result",
     "data": {
      "text/plain": [
       "'https://www.chicagomag.com/Chicago-Magazine/November-2012/Best-Sandwiches-in-Chicago-Old-Oak-Tap-BLT/'"
      ]
     },
     "metadata": {},
     "execution_count": 28
    }
   ],
   "source": [
    "df['URL'][0]"
   ]
  },
  {
   "cell_type": "code",
   "execution_count": 29,
   "metadata": {},
   "outputs": [
    {
     "output_type": "execute_result",
     "data": {
      "text/plain": [
       "</div> </div>\n",
       "</header>\n",
       "<nav class=\"main-navigation sub-menu-right\" id=\"site-navigation\" itemscope=\"\" itemtype=\"https://schema.org/SiteNavigationElement\">\n",
       "<div class=\"inside-navigation grid-container grid-parent\">\n",
       "<button aria-controls=\"primary-menu\" aria-expanded=\"false\" class=\"menu-toggle\">\n",
       "<span class=\"mobile-menu\">Menu</span> </button>\n",
       "<div class=\"main-nav\" id=\"primary-menu\"><ul class=\"menu sf-menu\" id=\"menu-main\"><li class=\"menu-item menu-item-type-taxonomy menu-item-object-category menu-item-32855\" id=\"menu-item-32855\"><a href=\"https://www.chicagomag.com/news/\">News &amp; Politics</a></li>\n",
       "<li class=\"menu-item menu-item-type-taxonomy menu-item-object-category menu-item-32856\" id=\"menu-item-32856\"><a href=\"https://www.chicagomag.com/dining-drinking/\">Dining &amp; Drinking</a></li>\n",
       "<li class=\"menu-item menu-item-type-taxonomy menu-item-object-category menu-item-33687\" id=\"menu-item-33687\"><a href=\"https://www.chicagomag.com/city-life/\">City Life</a></li>\n",
       "<li class=\"menu-item menu-item-type-taxonomy menu-item-object-category menu-item-32857\" id=\"menu-item-32857\"><a href=\"https://www.chicagomag.com/arts-culture/\">Culture</a></li>\n",
       "<li class=\"menu-item menu-item-type-taxonomy menu-item-object-category menu-item-32858\" id=\"menu-item-32858\"><a href=\"https://www.chicagomag.com/real-estate/\">Real Estate</a></li>\n",
       "<li class=\"menu-item menu-item-type-taxonomy menu-item-object-category menu-item-32859\" id=\"menu-item-32859\"><a href=\"https://www.chicagomag.com/style-shopping/\">Style</a></li>\n",
       "<li class=\"menu-item menu-item-type-post_type menu-item-object-page menu-item-29785\" id=\"menu-item-29785\"><a href=\"https://www.chicagomag.com/top-doctors/\">Top Docs</a></li>\n",
       "</ul></div> </div>\n",
       "</nav>\n",
       "<div class=\"hfeed site grid-container container grid-parent\" id=\"page\">\n",
       "<div class=\"site-content\" id=\"content\">\n",
       "<div id=\"page-title\"></div>\n",
       "<!-- start external content -->\n",
       "<!-- end external content -->\n",
       "<div class=\"content-area grid-parent mobile-grid-100 grid-100 tablet-grid-100\" id=\"primary\">\n",
       "<main class=\"site-main\" id=\"main\">\n",
       "<style>\n",
       "\t\n",
       "  .article-wrap {\n",
       "\t\tmargin-top: 2.22222vw !important;\n",
       "\t}\n",
       "\t\n",
       "\t.single .article-img {\n",
       "\t\ttext-align: left;\n",
       "\t}\n",
       "  \n",
       "  @media only screen and (max-width: 1024px) {\n",
       "   \n",
       "\t\t.container.grid-container {\n",
       "      width: 100%;\n",
       "    }\n",
       "    \n",
       "    .article-wrap .grid-10:first-of-type {\n",
       "      display: none;\n",
       "    }\n",
       "\t\t\n",
       "    .article-side {\n",
       "      padding-left: 0 !important;\n",
       "    }\n",
       "    \n",
       "    .article-img {\n",
       "      max-width: 100%;\n",
       "    }\n",
       "    \n",
       "  }\n",
       "\n",
       "  @media only screen and (max-width: 480px) {\n",
       "    \n",
       "    .site-header {\n",
       "\t\t\twidth: 100% !important;\n",
       "      height: 70px;\n",
       "    }\n",
       "    \n",
       "    .main-navigation {\n",
       "      display: none !important;\n",
       "    }\n",
       "    \n",
       "    .article-body p, .article-body li {\n",
       "      font-size: 18px;\n",
       "    }\n",
       "    \n",
       "    .drop-cap {\n",
       "      width: 70px;\n",
       "      height: 70px;\n",
       "      font-size: 60px;\n",
       "      line-height: 70px;\n",
       "    }\n",
       "    \n",
       "    .drop-cap-secondary {\n",
       "      font-size: 60px;\n",
       "      height: 45px;\n",
       "    }\n",
       "    \n",
       "  }\n",
       "  \n",
       "</style>\n",
       "<!-- start featured -->\n",
       "<!-- start super article featured image -->\n",
       "<!-- end super article featured image -->\n",
       "<!-- start head and deck -->\n",
       "<div class=\"grid-container grid-parent art-head-deck\">\n",
       "<div class=\"grid-12 prefix-5 tablet-grid-14 tablet-prefix-0 mobile-grid-100 mobile-prefix-0\">\n",
       "<div class=\"art-head h60\">1. Old Oak Tap BLT</div>\n",
       "<div class=\"art-deck\"><p>“Truly inspired.”</p>\n",
       "</div>\n",
       "<div class=\"art-byline-wrap\">\n",
       "</div>\n",
       "<div class=\"art-timestamp\">October 9, 2012, 6:13 pm</div>\n",
       "<div class=\"heateor_sss_sharing_container heateor_sss_horizontal_sharing\" heateor-sss-data-href=\"https://www.chicagomag.com/chicago-magazine/november-2012/best-sandwiches-in-chicago-old-oak-tap-blt/\" ss-offset=\"0\"><ul class=\"heateor_sss_sharing_ul\"><li class=\"heateorSssSharingRound\"><i alt=\"Facebook\" class=\"heateorSssSharing heateorSssFacebookBackground\" onclick='heateorSssPopup(\"https://www.facebook.com/sharer/sharer.php?u=https%3A%2F%2Fwww.chicagomag.com%2Fchicago-magazine%2Fnovember-2012%2Fbest-sandwiches-in-chicago-old-oak-tap-blt%2F\")' style=\"width:24px;height:24px;border-radius:999px;\" title=\"Facebook\"><ss class=\"heateorSssSharingSvg heateorSssFacebookSvg\" style=\"display:block;border-radius:999px;\"></ss></i></li><li class=\"heateorSssSharingRound\"><i alt=\"Twitter\" class=\"heateorSssSharing heateorSssTwitterBackground\" onclick='heateorSssPopup(\"http://twitter.com/intent/tweet?text=1.%20Old%20Oak%20Tap%20BLT&amp;url=https%3A%2F%2Fwww.chicagomag.com%2Fchicago-magazine%2Fnovember-2012%2Fbest-sandwiches-in-chicago-old-oak-tap-blt%2F\")' style=\"width:24px;height:24px;border-radius:999px;\" title=\"Twitter\"><ss class=\"heateorSssSharingSvg heateorSssTwitterSvg\" style=\"display:block;border-radius:999px;\"></ss></i></li><li class=\"heateorSssSharingRound\"><i alt=\"Email\" class=\"heateorSssSharing heateorSssEmailBackground\" onclick=\"window.open('mailto:?subject=' + decodeURIComponent('1.%20Old%20Oak%20Tap%20BLT' ).replace('&amp;', '%26') + '&amp;body=' + decodeURIComponent('https%3A%2F%2Fwww.chicagomag.com%2Fchicago-magazine%2Fnovember-2012%2Fbest-sandwiches-in-chicago-old-oak-tap-blt%2F' ), '_blank')\" style=\"width:24px;height:24px;border-radius:999px;\" title=\"Email\"><ss class=\"heateorSssSharingSvg heateorSssEmailSvg\" style=\"display:block\"></ss></i></li><li class=\"heateorSssSharingRound\"><i alt=\"Copy Link\" class=\"heateorSssSharing heateorSssCopyLinkBackground\" style=\"width:24px;height:24px;border-radius:999px;\" title=\"Copy Link\"><ss class=\"heateorSssSharingSvg heateorSssCopyLinkSvg\" style=\"display:block;border-radius:999px;\"></ss></i></li><li class=\"heateorSssSharingRound\"><i alt=\"Comment\" class=\"heateorSssSharing heateorSssCommentBackground\" style=\"width:24px;height:24px;border-radius:999px;\" title=\"Comment\"><a href=\"https://www.chicagomag.com/chicago-magazine/november-2012/best-sandwiches-in-chicago-old-oak-tap-blt/#respond\" rel=\"nofollow\"><ss class=\"heateorSssSharingSvg heateorSssCommentSvg\" style=\"display:block\"></ss></a></i></li></ul><div class=\"heateorSssClear\"></div></div>\n",
       "</div>\n",
       "</div>\n",
       "<!-- end head and deck -->\n",
       "<!-- start featured image below meta data -->\n",
       "<div class=\"grid-container grid-parent featured-img\">\n",
       "<div class=\"grid-12 prefix-5 tablet-grid-14 tablet-prefix-0 mobile-grid-100 mobile-prefix-0\">\n",
       "<div class=\"article-img\">\n",
       "<figure>\n",
       "<img src=\"/wp-content/archive/Chicago-Magazine/November-2012/Best-Sandwiches-in-Chicago-Old-Oak-Tap-BLT/01-Old-Oak-Trap-BLT-500.jpg\"/>\n",
       "<figcaption> <span class=\"photo-credit\">Photo: Anna Knott; Food stylist: Lisa Kuehl</span></figcaption>\n",
       "</figure>\n",
       "</div>\n",
       "</div>\n",
       "</div>\n",
       "<!-- end featured image below meta data -->\n",
       "<!-- end featured -->\n",
       "<!-- start article wrap -->\n",
       "<div class=\"grid-container grid-parent article-wrap\">\n",
       "<div class=\"grid-4 hide-on-tablet hide-on-mobile\"> </div>\n",
       "<div class=\"grid-12 prefix-1 tablet-grid-14 tablet-prefix-0 suffix-1 mobile-grid-100 mobile-prefix-0 mobile-suffix-0\">\n",
       "<div class=\"article-body\">\n",
       "<p>\n",
       "\tThe B is applewood smoked—nice and snappy. The L is arugula—fresh and peppery. The T is a fried green slice—jacketed in cornmeal and greaseless. Slathered with pimiento cheese, the grilled ciabatta somehow stays crisp, providing three distinct layers of crunch. Truly inspired.</p>\n",
       "<p class=\"addy\">\n",
       "<em>$10. 2109 W. Chicago Ave., 773-772-0406, <a href=\"http://www.theoldoaktap.com/\">theoldoaktap.com</a></em></p>\n",
       "<aside class=\"story-nav-aside\">\n",
       "<a class=\"story-nav\" href=\"http://www.chicagomag.com/Chicago-Magazine/November-2012/Best-Sandwiches-in-Chicago-Phoebes-Bakery-The-Gatsby/\" id=\"story-nav-left\"><br/>\n",
       "<span class=\"previous\">Previous</span><br/>\n",
       "<span class=\"story-nav-head\">50. The Gatsby</span><br/>\n",
       "        Phoebe’s Bakery<br/>\n",
       "</a><br/>\n",
       "<a class=\"story-nav\" href=\"/Chicago-Magazine/November-2012/Best-Sandwiches-in-Chicago-Au-Cheval-Fried-Bologna/\" id=\"story-nav-right\"><br/>\n",
       "<span class=\"next\">Next</span><br/>\n",
       "<span class=\"story-nav-head\">2. Fried Bologna</span><br/>\n",
       "        Au Cheval<br/>\n",
       "</a><br/>\n",
       "</aside>\n",
       "</div>\n",
       "<div class=\"article-tags\">\n",
       "</div>\n",
       "</div>\n",
       "<div class=\"article-side grid-6 tablet-grid-9 mobile-grid-100 most-pop\">\n",
       "<div class=\"ad-space\">\n",
       "<!-- GPT AdSlot 12 for Ad unit 'trb.chicagomag/hp' ### Size: [[300,250],[300,600]] -->\n",
       "<div class=\"hide-on-mobile\" id=\"div-gpt-ad-2789321-12\">\n",
       "<script>\n",
       "\t\t\t\t\tgoogletag.cmd.push(function() { googletag.display('div-gpt-ad-2789321-12'); });\n",
       "\t\t\t\t</script>\n",
       "</div>\n",
       "<!-- End AdSlot 12 -->\n",
       "<!-- GPT AdSlot 15 for Ad unit 'trb.chicagomag/hp' ### Size: [[300,250] -->\n",
       "<div class=\"hide-on-desktop hide-on-tablet\" id=\"div-gpt-ad-2789321-15\">\n",
       "<script>\n",
       "\t\t\t\t\tgoogletag.cmd.push(function() { googletag.display('div-gpt-ad-2789321-15'); });\n",
       "\t\t\t\t</script>\n",
       "</div>\n",
       "<!-- End AdSlot 15 -->\n",
       "<!-- GPT AdSlot 11 for Ad unit 'trb.chicagomag/hp' ### Size: [[300,250]] -->\n",
       "<div id=\"div-gpt-ad-2789321-11\">\n",
       "<script>\n",
       "\t\t\t\t\tgoogletag.cmd.push(function() { googletag.display('div-gpt-ad-2789321-11'); });\n",
       "\t\t\t\t</script>\n",
       "</div>\n",
       "<!-- End AdSlot 11 -->\n",
       "</div>\n",
       "</div>\n",
       "</div>\n",
       "<!-- end article wrap -->\n",
       "<!-- start ad -->\n",
       "<div class=\"grid-container grid-parent ad-space ad-space-leader hide-on-mobile mb-0\">\n",
       "<!-- GPT AdSlot 5 for Ad unit 'trb.chicagomag/hp' ### Size: [[728,90]] -->\n",
       "<div id=\"div-gpt-ad-2789321-5\">\n",
       "<script>\n",
       "\t\t\tgoogletag.cmd.push(function() { googletag.display('div-gpt-ad-2789321-5'); });\n",
       "\t\t</script>\n",
       "</div>\n",
       "<!-- End AdSlot 5 -->\n",
       "</div>\n",
       "<div class=\"grid-container grid-parent ad-space ad-space-leader hide-on-desktop hide-on-tablet\">\n",
       "<!-- GPT AdSlot 10 for Ad unit 'trb.chicagomag/hp' ### Size: [[320,50]] -->\n",
       "<div id=\"div-gpt-ad-2789321-10\">\n",
       "<script>\n",
       "\t\t\tgoogletag.cmd.push(function() { googletag.display('div-gpt-ad-2789321-10'); });\n",
       "\t\t</script>\n",
       "</div>\n",
       "<!-- End AdSlot 10 -->\n",
       "</div>\n",
       "<!-- end ad -->\n",
       "<div class=\"comments-area grid-container grid-parent\">\n",
       "<div class=\"grid-12 prefix-5 mobile-grid-100 mobile-prefix-0\">\n",
       "<div id=\"comments\">\n",
       "<div class=\"comment-respond\" id=\"respond\">\n",
       "<h3 class=\"comment-reply-title\" id=\"reply-title\">Leave a Comment <small><a href=\"/Chicago-Magazine/November-2012/Best-Sandwiches-in-Chicago-Old-Oak-Tap-BLT/#respond\" id=\"cancel-comment-reply-link\" rel=\"nofollow\" style=\"display:none;\">Cancel reply</a></small></h3><form action=\"https://www.chicagomag.com/wp-comments-post.php?wpe-comment-post=chicagomag\" class=\"comment-form\" id=\"commentform\" method=\"post\" novalidate=\"\"><p class=\"comment-form-comment\"><label class=\"screen-reader-text\" for=\"comment\">Comment</label><textarea aria-required=\"true\" autocomplete=\"new-password\" cols=\"45\" id=\"a81c4f01c5\" name=\"a81c4f01c5\" required=\"\" rows=\"8\"></textarea><textarea aria-hidden=\"true\" autocomplete=\"new-password\" id=\"comment\" name=\"comment\" style=\"padding:0 !important;clip:rect(1px, 1px, 1px, 1px) !important;position:absolute !important;white-space:nowrap !important;height:1px !important;width:1px !important;overflow:hidden !important;\" tabindex=\"-1\"></textarea><script data-noptimize=\"\" type=\"text/javascript\">document.getElementById(\"comment\").setAttribute( \"id\", \"ad2aff4d9ebc09094214019c98892476\" );document.getElementById(\"a81c4f01c5\").setAttribute( \"id\", \"comment\" );</script></p><label class=\"screen-reader-text\" for=\"author\">Name</label><input id=\"author\" name=\"author\" placeholder=\"Name *\" size=\"30\" type=\"text\" value=\"\">\n",
       "<label class=\"screen-reader-text\" for=\"email\">Email</label><input id=\"email\" name=\"email\" placeholder=\"Email *\" size=\"30\" type=\"email\" value=\"\">\n",
       "<label class=\"screen-reader-text\" for=\"url\">Website</label><input id=\"url\" name=\"url\" placeholder=\"Website\" size=\"30\" type=\"url\" value=\"\">\n",
       "<p class=\"comment-form-cookies-consent\"><input id=\"wp-comment-cookies-consent\" name=\"wp-comment-cookies-consent\" type=\"checkbox\" value=\"yes\"> <label for=\"wp-comment-cookies-consent\">Save my name, email, and website in this browser for the next time I comment.</label></input></p>\n",
       "<p class=\"form-submit\"><input class=\"submit\" id=\"submit\" name=\"submit\" type=\"submit\" value=\"Post Comment\"/> <input id=\"comment_post_ID\" name=\"comment_post_ID\" type=\"hidden\" value=\"11773\"/>\n",
       "<input id=\"comment_parent\" name=\"comment_parent\" type=\"hidden\" value=\"0\"/>\n",
       "</p></input></input></input></form> </div><!-- #respond -->\n",
       "</div><!-- #comments -->\n",
       "</div>\n",
       "</div>\n",
       "</main><!-- #main -->\n",
       "</div><!-- #primary -->\n",
       "</div><!-- #content -->\n",
       "</div><!-- #page -->\n",
       "<!-- start footer -->\n",
       "<div id=\"footer\">\n",
       "<div class=\"grid-container\">\n",
       "<div class=\"grid-5 suffix-1 mobile-grid-12 mobile-suffix-0 grid-parent-mobile left\">\n",
       "<div class=\"wrap\">\n",
       "<a href=\"https://cma.pcdfusion.com/pcd/Order?iKey=I**D7B\">Subscribe</a>\n",
       "<a href=\"https://cma.pcdfusion.com/pcd/CustomerSupport/Account/Login?ReturnUrl=%2fpcd%2fCustomerSupport%2fApp%2f3141\">Manage Subscription</a>\n",
       "<a href=\"https://www.chicagomag.com/issue-archive/\">Issue Archive</a>\n",
       "<a href=\"http://www.tronc.com/privacy-policy/\">Privacy Policy</a>\n",
       "<a href=\"http://www.tronc.com/central-terms-of-service/\">Terms of Service</a>\n",
       "</div>\n",
       "</div>\n",
       "<div class=\"grid-10 prefix-1 suffix-1 mobile-grid-100 mobile-prefix-0 grid-parent-mobile middle hide-on-mobile\">\n",
       "<div class=\"wrap\">\n",
       "<h2>Follow Us</h2>\n",
       "<div class=\"footer-social\">\n",
       "<a href=\"https://www.facebook.com/ChicagoMagazine\" target=\"_blank\"><i class=\"fab fa-facebook-f\"></i></a>\n",
       "<a href=\"http://www.twitter.com/chicagomag/\" target=\"_blank\"><i class=\"fab fa-twitter\"></i></a>\n",
       "<a href=\"http://instagram.com/chicagomag\" target=\"_blank\"><i class=\"fab fa-instagram\"></i></a>\n",
       "<a href=\"https://www.youtube.com/channel/UCOkRC6Y4LUyvglGmyC52KPw\" target=\"_blank\"><i class=\"fab fa-youtube\"></i></a>\n",
       "</div>\n",
       "<h2>Get Our Newsletters</h2>\n",
       "<p>Subscribe to one or more of our free e-mail newsletters to get instant updates on local news, events, and opportunities in Chicago.</p>\n",
       "<div class=\"footer-form\" style=\"display:flex; margin-top:60px;\">\n",
       "<table>\n",
       "<tr>\n",
       "<td><input type=\"text\"/></td>\n",
       "<td><button style=\"background:#d2232a; color:#fff;\">Sign Up</button></td>\n",
       "</tr>\n",
       "</table>\n",
       "</div>\n",
       "<div class=\"copyright\">©2020 Chicago magazine / A Chicago Tribune Media Group website</div>\n",
       "</div>\n",
       "</div>\n",
       "<div class=\"grid-5 prefix-1 mobile-grid-12 mobile-prefix-0 mobile-suffix-0 grid-parent-mobile right\">\n",
       "<div class=\"wrap\">\n",
       "<a href=\"https://www.chicagomag.com/about-the-magazine/\">About the Magazine</a>\n",
       "<a href=\"https://www.chicagomag.com/contact-us/\">Contact Us</a>\n",
       "<a href=\"https://www.chicagomag.com/advertise/\">Advertise</a>\n",
       "<a href=\"https://www.chicagomag.com/resource-guide/\">Resource Guide</a>\n",
       "<a href=\"https://www.chicagomag.com/events/\">Events</a>\n",
       "</div>\n",
       "</div>\n",
       "<div class=\"mobile-grid-100 mobile-prefix-0 mobile-suffix-1 grid-parent-mobile middle hide-on-desktop hide-on-tablet\">\n",
       "<div class=\"wrap\">\n",
       "<h2>Follow Us</h2>\n",
       "<div class=\"footer-social\">\n",
       "<a href=\"https://www.facebook.com/ChicagoMagazine\" target=\"_blank\"><i class=\"fab fa-facebook-f\"></i></a>\n",
       "<a href=\"http://www.twitter.com/chicagomag/\" target=\"_blank\"><i class=\"fab fa-twitter\"></i></a>\n",
       "<a href=\"http://instagram.com/chicagomag\" target=\"_blank\"><i class=\"fab fa-instagram\"></i></a>\n",
       "<a href=\"https://www.youtube.com/channel/UCOkRC6Y4LUyvglGmyC52KPw\" target=\"_blank\"><i class=\"fab fa-youtube\"></i></a>\n",
       "</div>\n",
       "<h2>Get Our Newsletters</h2>\n",
       "<p>Subscribe to one or more of our free e-mail newsletters to get instant updates on local news, events, and opportunities in Chicago.</p>\n",
       "<div class=\"footer-form\" style=\"display:flex; margin-top:60px;\">\n",
       "<input style=\"width:80%;\" type=\"text\"/>\n",
       "<button style=\"width:20%; background:#d2232a; color:#fff;\">Sign Up</button>\n",
       "</div>\n",
       "<div class=\"copyright\">©2020 Chicago magazine / A Chicago Tribune Media Group website</div>\n",
       "</div>\n",
       "</div>\n",
       "</div>\n",
       "</div>\n",
       "<!-- end footer -->\n",
       "<script src=\"https://ajax.googleapis.com/ajax/libs/jquery/3.4.1/jquery.min.js\"></script>\n",
       "<script>\n",
       "\n",
       "\tjQuery(document).ready(function($) {\n",
       "\n",
       "\t\t$(\".grid-toggle\").click(function(){\n",
       "\t\t\t$(\".grid-guide\").toggle();\n",
       "\t\t});\n",
       "\n",
       "\t\t$(\".nav2-toggle\").click(function(){\n",
       "\t\t\t$(\"#nav2-overlay\").toggle();\n",
       "\t\t\t$(\"#nav2-overlay-top\").toggle();\n",
       "\t\t\t$(\"#nav2-overlay-btm\").toggle();\n",
       "\t\t\t$(\"#nav2-inner-overlay\").toggle();\n",
       "\t\t\t$(\"#nav2-inner\").toggle();\n",
       "\t\t\t$(\"#nav2-open\").toggle();\n",
       "\t\t\t$(\"#nav2-close\").toggle();\n",
       "\t\t});\n",
       "\n",
       "\t\t$(\".search-open\").click(function(){\n",
       "\t\t\t$('#search-overlay').fadeIn().css('display', 'inline-block');\n",
       "\t\t\t$('.search-field').focus();\n",
       "\t\t\t//$('#search-close').fadeIn().css('display', 'block');\n",
       "\t\t});\n",
       "\n",
       "\t\t$(\".search-close-btn\").click(function(){\n",
       "\t\t\t$(\"#search-overlay\").fadeOut().toggle();\n",
       "\t\t\t$(\"#search-close\").fadeOut().toggle();\n",
       "\t\t});\n",
       "  \n",
       "\t});\n",
       "\n",
       "</script>\n",
       "<script>\n",
       "\n",
       "\tjQuery(document).ready(function($) {\n",
       "\n",
       "\t\t$(\".toggle-rock\").click(function(){\n",
       "\t\t\t$('.indie-rock').fadeOut().css('display', 'none');\n",
       "\t\t\t$('.new-music').fadeOut().css('display', 'none');\n",
       "\t\t\t$('.rock').fadeIn().css('display', 'block');\n",
       "\t\t});\n",
       "\n",
       "\t\t$(\".toggle-indie-rock\").click(function(){\n",
       "\t\t\t$('.rock').fadeOut().css('display', 'none');\n",
       "\t\t\t$('.new-music').fadeOut().css('display', 'none');\n",
       "\t\t\t$('.indie-rock').fadeIn().css('display', 'block');\n",
       "\t\t});\n",
       "\n",
       "\t\t$(\".toggle-new-music\").click(function(){\n",
       "\t\t\t$('.indie-rock').fadeOut().css('display', 'none');\n",
       "\t\t\t$('.rock').fadeOut().css('display', 'none');\n",
       "\t\t\t$('.new-music').fadeIn().css('display', 'block');\n",
       "\t\t});\n",
       "\n",
       "\t\t$(\".toggle-all-genre\").click(function(){\n",
       "\t\t\t$('.indie-rock').fadeIn().css('display', 'block');\n",
       "\t\t\t$('.rock').fadeIn().css('display', 'block');\n",
       "\t\t\t$('.new-music').fadeIn().css('display', 'block');\n",
       "\t\t});\n",
       "  \n",
       "\t});\n",
       "\n",
       "</script>\n",
       "<div class=\"site-footer\">\n",
       "<footer class=\"site-info\" itemscope=\"\" itemtype=\"https://schema.org/WPFooter\">\n",
       "<div class=\"inside-site-info grid-container grid-parent\">\n",
       "<div class=\"copyright-bar\">\n",
       "<span class=\"copyright\">© 2021 Chicago Magazine</span> • Built with <a href=\"https://generatepress.com\" itemprop=\"url\">GeneratePress</a> </div>\n",
       "</div>\n",
       "</footer>\n",
       "</div><!-- .site-footer -->\n",
       "<!--[if lte IE 11]>\n",
       "<script src='https://www.chicagomag.com/wp-content/themes/generatepress/assets/js/classList.min.js?ver=3.0.2' id='generate-classlist-js'></script>\n",
       "<![endif]-->\n",
       "<script id=\"generate-main-js-extra\">\n",
       "var generatepressMenu = {\"toggleOpenedSubMenus\":\"1\",\"openSubMenuLabel\":\"Open Sub-Menu\",\"closeSubMenuLabel\":\"Close Sub-Menu\"};\n",
       "</script>\n",
       "<script id=\"generate-main-js\" src=\"https://www.chicagomag.com/wp-content/themes/generatepress/assets/js/main.min.js?ver=3.0.2\"></script>\n",
       "<script id=\"comment-reply-js\" src=\"https://www.chicagomag.com/wp-includes/js/comment-reply.min.js?ver=5.6\"></script>\n",
       "<script id=\"heateor_sss_sharing_js-js-before\">\n",
       "function heateorSssLoadEvent(e) {var t=window.onload;if (typeof window.onload!=\"function\") {window.onload=e}else{window.onload=function() {t();e()}}};\tvar heateorSssSharingAjaxUrl = 'https://www.chicagomag.com/wp-admin/admin-ajax.php', heateorSssCloseIconPath = 'https://www.chicagomag.com/wp-content/plugins/sassy-social-share/public/../images/close.png', heateorSssPluginIconPath = 'https://www.chicagomag.com/wp-content/plugins/sassy-social-share/public/../images/logo.png', heateorSssHorizontalSharingCountEnable = 0, heateorSssVerticalSharingCountEnable = 0, heateorSssSharingOffset = -10; var heateorSssMobileStickySharingEnabled = 0;var heateorSssCopyLinkMessage = \"Link copied.\";var heateorSssUrlCountFetched = [], heateorSssSharesText = 'Shares', heateorSssShareText = 'Share';function heateorSssPopup(e) {window.open(e,\"popUpWindow\",\"height=400,width=600,left=400,top=100,resizable,scrollbars,toolbar=0,personalbar=0,menubar=no,location=no,directories=no,status\")};var heateorSssWhatsappShareAPI = \"web\";\n",
       "</script>\n",
       "<script id=\"heateor_sss_sharing_js-js\" src=\"https://www.chicagomag.com/wp-content/plugins/sassy-social-share/public/js/sassy-social-share-public.js?ver=3.3.20\"></script>\n",
       "<script id=\"__ytprefsfitvids__-js\" src=\"https://www.chicagomag.com/wp-content/plugins/youtube-embed-plus-pro/scripts/fitvids.min.js?ver=13.4.2\"></script>\n",
       "<script id=\"wp-embed-js\" src=\"https://www.chicagomag.com/wp-includes/js/wp-embed.min.js?ver=5.6\"></script>\n",
       "<script>\n",
       "// When the user scrolls down 20px from the top of the document, slide down the navbar\n",
       "window.onscroll = function() {scrollFunction()};\n",
       "\n",
       "function scrollFunction() {\n",
       "  if (document.body.scrollTop > 240 || document.documentElement.scrollTop > 240) {\n",
       "    document.getElementById(\"navbar\").style.top = \"0\";\n",
       "  } else {\n",
       "    document.getElementById(\"navbar\").style.top = \"-45px\";\n",
       "  }\n",
       "}\n",
       "</script>\n",
       "</body>\n",
       "</html>"
      ]
     },
     "metadata": {},
     "execution_count": 29
    }
   ],
   "source": [
    "headers = {'User-Agent':'Chrome/6.0.3359.181'}\n",
    "req = urllib.request.Request(df['URL'][0], headers=headers)\n",
    "html = urllib.request.urlopen(req)\n",
    "soupTmp = BeautifulSoup(html, 'html.parser')\n",
    "soupTmp"
   ]
  },
  {
   "cell_type": "code",
   "execution_count": 30,
   "metadata": {},
   "outputs": [
    {
     "output_type": "stream",
     "name": "stdout",
     "text": [
      "<p class=\"addy\">\n<em>$10. 2109 W. Chicago Ave., 773-772-0406, <a href=\"http://www.theoldoaktap.com/\">theoldoaktap.com</a></em></p>\n"
     ]
    }
   ],
   "source": [
    "print(soupTmp.find('p','addy'))"
   ]
  },
  {
   "cell_type": "code",
   "execution_count": 31,
   "metadata": {},
   "outputs": [
    {
     "output_type": "execute_result",
     "data": {
      "text/plain": [
       "'\\n$10. 2109 W. Chicago Ave., 773-772-0406, theoldoaktap.com'"
      ]
     },
     "metadata": {},
     "execution_count": 31
    }
   ],
   "source": [
    "priceTmp = soupTmp.find('p','addy').get_text()\n",
    "priceTmp"
   ]
  },
  {
   "cell_type": "code",
   "execution_count": 32,
   "metadata": {},
   "outputs": [
    {
     "output_type": "execute_result",
     "data": {
      "text/plain": [
       "['$10.', '2109', 'W.', 'Chicago', 'Ave.,', '773-772-0406,', 'theoldoaktap.com']"
      ]
     },
     "metadata": {},
     "execution_count": 32
    }
   ],
   "source": [
    "priceTmp.split()"
   ]
  },
  {
   "cell_type": "code",
   "execution_count": 33,
   "metadata": {},
   "outputs": [
    {
     "output_type": "execute_result",
     "data": {
      "text/plain": [
       "'$10.'"
      ]
     },
     "metadata": {},
     "execution_count": 33
    }
   ],
   "source": [
    "priceTmp.split()[0]"
   ]
  },
  {
   "cell_type": "code",
   "execution_count": 34,
   "metadata": {},
   "outputs": [
    {
     "output_type": "execute_result",
     "data": {
      "text/plain": [
       "'$10'"
      ]
     },
     "metadata": {},
     "execution_count": 34
    }
   ],
   "source": [
    "priceTmp.split()[0][:-1]"
   ]
  },
  {
   "cell_type": "code",
   "execution_count": 35,
   "metadata": {},
   "outputs": [
    {
     "output_type": "execute_result",
     "data": {
      "text/plain": [
       "'2109 W. Chicago Ave.,'"
      ]
     },
     "metadata": {},
     "execution_count": 35
    }
   ],
   "source": [
    "' '.join(priceTmp.split()[1:-2])"
   ]
  },
  {
   "cell_type": "code",
   "execution_count": 36,
   "metadata": {},
   "outputs": [
    {
     "output_type": "stream",
     "name": "stderr",
     "text": [
      "100%|██████████| 50/50 [01:31<00:00,  1.84s/it]\n"
     ]
    }
   ],
   "source": [
    "from tqdm import tqdm\n",
    "\n",
    "price = []\n",
    "address = []\n",
    "\n",
    "headers = {'User-Agent':'Chrome/6.0.3359.181'}\n",
    "for n in tqdm(df.index):\n",
    "    req = urllib.request.Request(df['URL'][n], headers=headers)\n",
    "    html = urllib.request.urlopen(req)\n",
    "    soupTmp = BeautifulSoup(html, 'html.parser')\n",
    "\n",
    "    getttings = soupTmp.find('p', 'addy').get_text()\n",
    "\n",
    "    price.append(getttings.split()[0][:-1])\n",
    "    address.append(' '.join(getttings.split()[1:-2]))"
   ]
  },
  {
   "cell_type": "code",
   "execution_count": 37,
   "metadata": {},
   "outputs": [
    {
     "output_type": "execute_result",
     "data": {
      "text/plain": [
       "['$10',\n",
       " '$9',\n",
       " '$9.50',\n",
       " '$9.40',\n",
       " '$10',\n",
       " '$7.25',\n",
       " '$16',\n",
       " '$10',\n",
       " '$9',\n",
       " '$17',\n",
       " '$11',\n",
       " '$5.49',\n",
       " '$14',\n",
       " '$10',\n",
       " '$13',\n",
       " '$4.50',\n",
       " '$11.95',\n",
       " '$11.50',\n",
       " '$6.25',\n",
       " '$15',\n",
       " '$5',\n",
       " '$6',\n",
       " '$8',\n",
       " '$5.99',\n",
       " '$7.52',\n",
       " '$11.95',\n",
       " '$7.50',\n",
       " '$12.95',\n",
       " '$7',\n",
       " '$21',\n",
       " '$9.79',\n",
       " '$9.75',\n",
       " '$13',\n",
       " '$7.95',\n",
       " '$9',\n",
       " '$9',\n",
       " '$8',\n",
       " '$8',\n",
       " '$7',\n",
       " '$6',\n",
       " '$7.25',\n",
       " '$11',\n",
       " '$6',\n",
       " '$9',\n",
       " '$5.49',\n",
       " '$8',\n",
       " '$6.50',\n",
       " '$7.50',\n",
       " '$8.75',\n",
       " '$6.85']"
      ]
     },
     "metadata": {},
     "execution_count": 37
    }
   ],
   "source": [
    "price"
   ]
  },
  {
   "cell_type": "code",
   "execution_count": 38,
   "metadata": {},
   "outputs": [
    {
     "output_type": "execute_result",
     "data": {
      "text/plain": [
       "['2109 W. Chicago Ave.,',\n",
       " '800 W. Randolph St.,',\n",
       " '445 N. Clark St.,',\n",
       " '914 Noyes St., Evanston,',\n",
       " '825 W. Fulton Mkt.,',\n",
       " '100 E. Walton',\n",
       " '1639 S. Wabash Ave.,',\n",
       " '2211 W. North Ave.,',\n",
       " '3619 W. North Ave.,',\n",
       " '3267 S. Halsted St.,',\n",
       " '2537 N. Kedzie Blvd.,',\n",
       " 'Multiple',\n",
       " '3124 N. Broadway,',\n",
       " '3455 N. Southport Ave.,',\n",
       " '2657 N. Kedzie Ave.,',\n",
       " '1120 W. Grand Ave.,',\n",
       " '1141 S. Jefferson St.,',\n",
       " '333 E. Benton Pl.,',\n",
       " '1411 N. Wells St.,',\n",
       " '1747 N. Damen Ave.,',\n",
       " '3209 W. Irving Park',\n",
       " 'Multiple',\n",
       " '5347 N. Clark St.,',\n",
       " '2954 W. Irving Park Rd.,',\n",
       " 'Multiple',\n",
       " '191 Skokie Valley Rd., Highland Park,',\n",
       " 'Multiple',\n",
       " '1818 W. Wilson Ave.,',\n",
       " '2517 W. Division St.,',\n",
       " '218 W. Kinzie',\n",
       " 'Multiple',\n",
       " '1547 N. Wells St.,',\n",
       " '415 N. Milwaukee Ave.,',\n",
       " '1840 N. Damen Ave.,',\n",
       " '1220 W. Webster Ave.,',\n",
       " '5357 N. Ashland Ave.,',\n",
       " '1834 W. Montrose Ave.,',\n",
       " '615 N. State St.,',\n",
       " 'Multiple',\n",
       " '241 N. York Rd., Elmhurst,',\n",
       " '1323 E. 57th St.,',\n",
       " '655 Forest Ave., Lake Forest,',\n",
       " 'Hotel Lincoln, 1816 N. Clark St.,',\n",
       " '100 S. Marion St., Oak Park,',\n",
       " '26 E. Congress Pkwy.,',\n",
       " '2018 W. Chicago Ave.,',\n",
       " '25 E. Delaware Pl.,',\n",
       " '416 N. York St., Elmhurst,',\n",
       " '65 E. Washington St.,',\n",
       " '3351 N. Broadway,']"
      ]
     },
     "metadata": {},
     "execution_count": 38
    }
   ],
   "source": [
    "address"
   ]
  },
  {
   "cell_type": "code",
   "execution_count": 39,
   "metadata": {},
   "outputs": [
    {
     "output_type": "execute_result",
     "data": {
      "text/plain": [
       "(50, 50, 50)"
      ]
     },
     "metadata": {},
     "execution_count": 39
    }
   ],
   "source": [
    "len(price), len(address), len(df)"
   ]
  },
  {
   "cell_type": "code",
   "execution_count": 40,
   "metadata": {},
   "outputs": [
    {
     "output_type": "execute_result",
     "data": {
      "text/html": "<div>\n<style scoped>\n    .dataframe tbody tr th:only-of-type {\n        vertical-align: middle;\n    }\n\n    .dataframe tbody tr th {\n        vertical-align: top;\n    }\n\n    .dataframe thead th {\n        text-align: right;\n    }\n</style>\n<table border=\"1\" class=\"dataframe\">\n  <thead>\n    <tr style=\"text-align: right;\">\n      <th></th>\n      <th>Rank</th>\n      <th>Cafe</th>\n      <th>Menu</th>\n      <th>URL</th>\n      <th>Price</th>\n      <th>Address</th>\n    </tr>\n  </thead>\n  <tbody>\n    <tr>\n      <th>0</th>\n      <td>1</td>\n      <td>Old Oak Tap</td>\n      <td>BLT</td>\n      <td>https://www.chicagomag.com/Chicago-Magazine/No...</td>\n      <td>$10</td>\n      <td>2109 W. Chicago Ave.,</td>\n    </tr>\n    <tr>\n      <th>1</th>\n      <td>2</td>\n      <td>Au Cheval</td>\n      <td>Fried Bologna</td>\n      <td>https://www.chicagomag.com/Chicago-Magazine/No...</td>\n      <td>$9</td>\n      <td>800 W. Randolph St.,</td>\n    </tr>\n    <tr>\n      <th>2</th>\n      <td>3</td>\n      <td>Xoco</td>\n      <td>Woodland Mushroom</td>\n      <td>https://www.chicagomag.com/Chicago-Magazine/No...</td>\n      <td>$9.50</td>\n      <td>445 N. Clark St.,</td>\n    </tr>\n    <tr>\n      <th>3</th>\n      <td>4</td>\n      <td>Al’s Deli</td>\n      <td>Roast Beef</td>\n      <td>https://www.chicagomag.com/Chicago-Magazine/No...</td>\n      <td>$9.40</td>\n      <td>914 Noyes St., Evanston,</td>\n    </tr>\n    <tr>\n      <th>4</th>\n      <td>5</td>\n      <td>Publican Quality Meats</td>\n      <td>PB&amp;L</td>\n      <td>https://www.chicagomag.com/Chicago-Magazine/No...</td>\n      <td>$10</td>\n      <td>825 W. Fulton Mkt.,</td>\n    </tr>\n  </tbody>\n</table>\n</div>",
      "text/plain": [
       "   Rank                    Cafe               Menu  \\\n",
       "0     1             Old Oak Tap                BLT   \n",
       "1     2               Au Cheval      Fried Bologna   \n",
       "2     3                    Xoco  Woodland Mushroom   \n",
       "3     4               Al’s Deli         Roast Beef   \n",
       "4     5  Publican Quality Meats               PB&L   \n",
       "\n",
       "                                                 URL  Price  \\\n",
       "0  https://www.chicagomag.com/Chicago-Magazine/No...    $10   \n",
       "1  https://www.chicagomag.com/Chicago-Magazine/No...     $9   \n",
       "2  https://www.chicagomag.com/Chicago-Magazine/No...  $9.50   \n",
       "3  https://www.chicagomag.com/Chicago-Magazine/No...  $9.40   \n",
       "4  https://www.chicagomag.com/Chicago-Magazine/No...    $10   \n",
       "\n",
       "                    Address  \n",
       "0     2109 W. Chicago Ave.,  \n",
       "1      800 W. Randolph St.,  \n",
       "2         445 N. Clark St.,  \n",
       "3  914 Noyes St., Evanston,  \n",
       "4       825 W. Fulton Mkt.,  "
      ]
     },
     "metadata": {},
     "execution_count": 40
    }
   ],
   "source": [
    "df['Price'] = price\n",
    "df['Address'] = address\n",
    "\n",
    "df.head()"
   ]
  },
  {
   "cell_type": "code",
   "execution_count": 41,
   "metadata": {},
   "outputs": [
    {
     "output_type": "execute_result",
     "data": {
      "text/html": "<div>\n<style scoped>\n    .dataframe tbody tr th:only-of-type {\n        vertical-align: middle;\n    }\n\n    .dataframe tbody tr th {\n        vertical-align: top;\n    }\n\n    .dataframe thead th {\n        text-align: right;\n    }\n</style>\n<table border=\"1\" class=\"dataframe\">\n  <thead>\n    <tr style=\"text-align: right;\">\n      <th></th>\n      <th>Cafe</th>\n      <th>Menu</th>\n      <th>Price</th>\n      <th>Address</th>\n      <th>URL</th>\n    </tr>\n    <tr>\n      <th>Rank</th>\n      <th></th>\n      <th></th>\n      <th></th>\n      <th></th>\n      <th></th>\n    </tr>\n  </thead>\n  <tbody>\n    <tr>\n      <th>1</th>\n      <td>Old Oak Tap</td>\n      <td>BLT</td>\n      <td>$10</td>\n      <td>2109 W. Chicago Ave.,</td>\n      <td>https://www.chicagomag.com/Chicago-Magazine/No...</td>\n    </tr>\n    <tr>\n      <th>2</th>\n      <td>Au Cheval</td>\n      <td>Fried Bologna</td>\n      <td>$9</td>\n      <td>800 W. Randolph St.,</td>\n      <td>https://www.chicagomag.com/Chicago-Magazine/No...</td>\n    </tr>\n    <tr>\n      <th>3</th>\n      <td>Xoco</td>\n      <td>Woodland Mushroom</td>\n      <td>$9.50</td>\n      <td>445 N. Clark St.,</td>\n      <td>https://www.chicagomag.com/Chicago-Magazine/No...</td>\n    </tr>\n    <tr>\n      <th>4</th>\n      <td>Al’s Deli</td>\n      <td>Roast Beef</td>\n      <td>$9.40</td>\n      <td>914 Noyes St., Evanston,</td>\n      <td>https://www.chicagomag.com/Chicago-Magazine/No...</td>\n    </tr>\n    <tr>\n      <th>5</th>\n      <td>Publican Quality Meats</td>\n      <td>PB&amp;L</td>\n      <td>$10</td>\n      <td>825 W. Fulton Mkt.,</td>\n      <td>https://www.chicagomag.com/Chicago-Magazine/No...</td>\n    </tr>\n  </tbody>\n</table>\n</div>",
      "text/plain": [
       "                        Cafe               Menu  Price  \\\n",
       "Rank                                                     \n",
       "1                Old Oak Tap                BLT    $10   \n",
       "2                  Au Cheval      Fried Bologna     $9   \n",
       "3                       Xoco  Woodland Mushroom  $9.50   \n",
       "4                  Al’s Deli         Roast Beef  $9.40   \n",
       "5     Publican Quality Meats               PB&L    $10   \n",
       "\n",
       "                       Address  \\\n",
       "Rank                             \n",
       "1        2109 W. Chicago Ave.,   \n",
       "2         800 W. Randolph St.,   \n",
       "3            445 N. Clark St.,   \n",
       "4     914 Noyes St., Evanston,   \n",
       "5          825 W. Fulton Mkt.,   \n",
       "\n",
       "                                                    URL  \n",
       "Rank                                                     \n",
       "1     https://www.chicagomag.com/Chicago-Magazine/No...  \n",
       "2     https://www.chicagomag.com/Chicago-Magazine/No...  \n",
       "3     https://www.chicagomag.com/Chicago-Magazine/No...  \n",
       "4     https://www.chicagomag.com/Chicago-Magazine/No...  \n",
       "5     https://www.chicagomag.com/Chicago-Magazine/No...  "
      ]
     },
     "metadata": {},
     "execution_count": 41
    }
   ],
   "source": [
    "df = df.loc[:, ['Rank','Cafe','Menu','Price','Address','URL']]\n",
    "df.set_index('Rank', inplace=True)\n",
    "df.head()"
   ]
  },
  {
   "cell_type": "code",
   "execution_count": 42,
   "metadata": {},
   "outputs": [],
   "source": [
    "df.to_csv('./data/03. best_sandwich_list_chicago2.csv', sep=',', encoding='UTF-8')"
   ]
  },
  {
   "source": [
    "# 지도에 표기하기"
   ],
   "cell_type": "markdown",
   "metadata": {}
  },
  {
   "cell_type": "code",
   "execution_count": 7,
   "metadata": {},
   "outputs": [],
   "source": [
    "import folium\n",
    "import pandas as pd\n",
    "import googlemaps\n",
    "import numpy as np\n",
    "from tqdm import tqdm"
   ]
  },
  {
   "cell_type": "code",
   "execution_count": 11,
   "metadata": {},
   "outputs": [
    {
     "output_type": "execute_result",
     "data": {
      "text/plain": [
       "                        Cafe               Menu  Price  \\\n",
       "Rank                                                     \n",
       "1                Old Oak Tap                BLT    $10   \n",
       "2                  Au Cheval      Fried Bologna     $9   \n",
       "3                       Xoco  Woodland Mushroom  $9.50   \n",
       "4                  Al’s Deli         Roast Beef  $9.40   \n",
       "5     Publican Quality Meats               PB&L    $10   \n",
       "\n",
       "                       Address  \\\n",
       "Rank                             \n",
       "1        2109 W. Chicago Ave.,   \n",
       "2         800 W. Randolph St.,   \n",
       "3            445 N. Clark St.,   \n",
       "4     914 Noyes St., Evanston,   \n",
       "5          825 W. Fulton Mkt.,   \n",
       "\n",
       "                                                    URL  \n",
       "Rank                                                     \n",
       "1     https://www.chicagomag.com/Chicago-Magazine/No...  \n",
       "2     https://www.chicagomag.com/Chicago-Magazine/No...  \n",
       "3     https://www.chicagomag.com/Chicago-Magazine/No...  \n",
       "4     https://www.chicagomag.com/Chicago-Magazine/No...  \n",
       "5     https://www.chicagomag.com/Chicago-Magazine/No...  "
      ],
      "text/html": "<div>\n<style scoped>\n    .dataframe tbody tr th:only-of-type {\n        vertical-align: middle;\n    }\n\n    .dataframe tbody tr th {\n        vertical-align: top;\n    }\n\n    .dataframe thead th {\n        text-align: right;\n    }\n</style>\n<table border=\"1\" class=\"dataframe\">\n  <thead>\n    <tr style=\"text-align: right;\">\n      <th></th>\n      <th>Cafe</th>\n      <th>Menu</th>\n      <th>Price</th>\n      <th>Address</th>\n      <th>URL</th>\n    </tr>\n    <tr>\n      <th>Rank</th>\n      <th></th>\n      <th></th>\n      <th></th>\n      <th></th>\n      <th></th>\n    </tr>\n  </thead>\n  <tbody>\n    <tr>\n      <th>1</th>\n      <td>Old Oak Tap</td>\n      <td>BLT</td>\n      <td>$10</td>\n      <td>2109 W. Chicago Ave.,</td>\n      <td>https://www.chicagomag.com/Chicago-Magazine/No...</td>\n    </tr>\n    <tr>\n      <th>2</th>\n      <td>Au Cheval</td>\n      <td>Fried Bologna</td>\n      <td>$9</td>\n      <td>800 W. Randolph St.,</td>\n      <td>https://www.chicagomag.com/Chicago-Magazine/No...</td>\n    </tr>\n    <tr>\n      <th>3</th>\n      <td>Xoco</td>\n      <td>Woodland Mushroom</td>\n      <td>$9.50</td>\n      <td>445 N. Clark St.,</td>\n      <td>https://www.chicagomag.com/Chicago-Magazine/No...</td>\n    </tr>\n    <tr>\n      <th>4</th>\n      <td>Al’s Deli</td>\n      <td>Roast Beef</td>\n      <td>$9.40</td>\n      <td>914 Noyes St., Evanston,</td>\n      <td>https://www.chicagomag.com/Chicago-Magazine/No...</td>\n    </tr>\n    <tr>\n      <th>5</th>\n      <td>Publican Quality Meats</td>\n      <td>PB&amp;L</td>\n      <td>$10</td>\n      <td>825 W. Fulton Mkt.,</td>\n      <td>https://www.chicagomag.com/Chicago-Magazine/No...</td>\n    </tr>\n  </tbody>\n</table>\n</div>"
     },
     "metadata": {},
     "execution_count": 11
    }
   ],
   "source": [
    "df = pd.read_csv('./data/03. best_sandwich_list_chicago2.csv', index_col=0)\n",
    "df.head()"
   ]
  },
  {
   "cell_type": "code",
   "execution_count": 3,
   "metadata": {},
   "outputs": [],
   "source": [
    "gmapsKey = '**********'\n",
    "gmaps = googlemaps.Client(key=gmapsKey)"
   ]
  },
  {
   "cell_type": "code",
   "execution_count": 8,
   "metadata": {},
   "outputs": [
    {
     "output_type": "stream",
     "name": "stderr",
     "text": [
      "100%|██████████| 50/50 [00:21<00:00,  2.36it/s]\n"
     ]
    }
   ],
   "source": [
    "lat = []\n",
    "lng = []\n",
    "\n",
    "for n in tqdm(df.index):\n",
    "    if df['Address'][n] != 'Multiple':\n",
    "        targetName = df['Address'][n]+', '+'Chicago'\n",
    "        gmapsOutput = gmaps.geocode(targetName)\n",
    "        locationOutput = gmapsOutput[0].get('geometry')\n",
    "        lat.append(locationOutput['location']['lat'])\n",
    "        lng.append(locationOutput['location']['lng'])\n",
    "    else:\n",
    "        lat.append(np.nan)\n",
    "        lng.append(np.nan)"
   ]
  },
  {
   "cell_type": "code",
   "execution_count": 12,
   "metadata": {},
   "outputs": [
    {
     "output_type": "execute_result",
     "data": {
      "text/plain": [
       "                        Cafe               Menu  Price  \\\n",
       "Rank                                                     \n",
       "1                Old Oak Tap                BLT    $10   \n",
       "2                  Au Cheval      Fried Bologna     $9   \n",
       "3                       Xoco  Woodland Mushroom  $9.50   \n",
       "4                  Al’s Deli         Roast Beef  $9.40   \n",
       "5     Publican Quality Meats               PB&L    $10   \n",
       "\n",
       "                       Address  \\\n",
       "Rank                             \n",
       "1        2109 W. Chicago Ave.,   \n",
       "2         800 W. Randolph St.,   \n",
       "3            445 N. Clark St.,   \n",
       "4     914 Noyes St., Evanston,   \n",
       "5          825 W. Fulton Mkt.,   \n",
       "\n",
       "                                                    URL        lat        lng  \n",
       "Rank                                                                           \n",
       "1     https://www.chicagomag.com/Chicago-Magazine/No...  41.895605 -87.679961  \n",
       "2     https://www.chicagomag.com/Chicago-Magazine/No...  41.884658 -87.647667  \n",
       "3     https://www.chicagomag.com/Chicago-Magazine/No...  41.890523 -87.630783  \n",
       "4     https://www.chicagomag.com/Chicago-Magazine/No...  42.058322 -87.683748  \n",
       "5     https://www.chicagomag.com/Chicago-Magazine/No...  41.886604 -87.648536  "
      ],
      "text/html": "<div>\n<style scoped>\n    .dataframe tbody tr th:only-of-type {\n        vertical-align: middle;\n    }\n\n    .dataframe tbody tr th {\n        vertical-align: top;\n    }\n\n    .dataframe thead th {\n        text-align: right;\n    }\n</style>\n<table border=\"1\" class=\"dataframe\">\n  <thead>\n    <tr style=\"text-align: right;\">\n      <th></th>\n      <th>Cafe</th>\n      <th>Menu</th>\n      <th>Price</th>\n      <th>Address</th>\n      <th>URL</th>\n      <th>lat</th>\n      <th>lng</th>\n    </tr>\n    <tr>\n      <th>Rank</th>\n      <th></th>\n      <th></th>\n      <th></th>\n      <th></th>\n      <th></th>\n      <th></th>\n      <th></th>\n    </tr>\n  </thead>\n  <tbody>\n    <tr>\n      <th>1</th>\n      <td>Old Oak Tap</td>\n      <td>BLT</td>\n      <td>$10</td>\n      <td>2109 W. Chicago Ave.,</td>\n      <td>https://www.chicagomag.com/Chicago-Magazine/No...</td>\n      <td>41.895605</td>\n      <td>-87.679961</td>\n    </tr>\n    <tr>\n      <th>2</th>\n      <td>Au Cheval</td>\n      <td>Fried Bologna</td>\n      <td>$9</td>\n      <td>800 W. Randolph St.,</td>\n      <td>https://www.chicagomag.com/Chicago-Magazine/No...</td>\n      <td>41.884658</td>\n      <td>-87.647667</td>\n    </tr>\n    <tr>\n      <th>3</th>\n      <td>Xoco</td>\n      <td>Woodland Mushroom</td>\n      <td>$9.50</td>\n      <td>445 N. Clark St.,</td>\n      <td>https://www.chicagomag.com/Chicago-Magazine/No...</td>\n      <td>41.890523</td>\n      <td>-87.630783</td>\n    </tr>\n    <tr>\n      <th>4</th>\n      <td>Al’s Deli</td>\n      <td>Roast Beef</td>\n      <td>$9.40</td>\n      <td>914 Noyes St., Evanston,</td>\n      <td>https://www.chicagomag.com/Chicago-Magazine/No...</td>\n      <td>42.058322</td>\n      <td>-87.683748</td>\n    </tr>\n    <tr>\n      <th>5</th>\n      <td>Publican Quality Meats</td>\n      <td>PB&amp;L</td>\n      <td>$10</td>\n      <td>825 W. Fulton Mkt.,</td>\n      <td>https://www.chicagomag.com/Chicago-Magazine/No...</td>\n      <td>41.886604</td>\n      <td>-87.648536</td>\n    </tr>\n  </tbody>\n</table>\n</div>"
     },
     "metadata": {},
     "execution_count": 12
    }
   ],
   "source": [
    "df['lat'] = lat\n",
    "df['lng'] = lng\n",
    "df.head()"
   ]
  },
  {
   "cell_type": "code",
   "execution_count": 13,
   "metadata": {},
   "outputs": [
    {
     "output_type": "execute_result",
     "data": {
      "text/plain": [
       "                        Cafe               Menu  Price  \\\n",
       "Rank                                                     \n",
       "1                Old Oak Tap                BLT    $10   \n",
       "2                  Au Cheval      Fried Bologna     $9   \n",
       "3                       Xoco  Woodland Mushroom  $9.50   \n",
       "4                  Al’s Deli         Roast Beef  $9.40   \n",
       "5     Publican Quality Meats               PB&L    $10   \n",
       "\n",
       "                       Address        lat        lng  \\\n",
       "Rank                                                   \n",
       "1        2109 W. Chicago Ave.,  41.895605 -87.679961   \n",
       "2         800 W. Randolph St.,  41.884658 -87.647667   \n",
       "3            445 N. Clark St.,  41.890523 -87.630783   \n",
       "4     914 Noyes St., Evanston,  42.058322 -87.683748   \n",
       "5          825 W. Fulton Mkt.,  41.886604 -87.648536   \n",
       "\n",
       "                                                    URL  \n",
       "Rank                                                     \n",
       "1     https://www.chicagomag.com/Chicago-Magazine/No...  \n",
       "2     https://www.chicagomag.com/Chicago-Magazine/No...  \n",
       "3     https://www.chicagomag.com/Chicago-Magazine/No...  \n",
       "4     https://www.chicagomag.com/Chicago-Magazine/No...  \n",
       "5     https://www.chicagomag.com/Chicago-Magazine/No...  "
      ],
      "text/html": "<div>\n<style scoped>\n    .dataframe tbody tr th:only-of-type {\n        vertical-align: middle;\n    }\n\n    .dataframe tbody tr th {\n        vertical-align: top;\n    }\n\n    .dataframe thead th {\n        text-align: right;\n    }\n</style>\n<table border=\"1\" class=\"dataframe\">\n  <thead>\n    <tr style=\"text-align: right;\">\n      <th></th>\n      <th>Cafe</th>\n      <th>Menu</th>\n      <th>Price</th>\n      <th>Address</th>\n      <th>lat</th>\n      <th>lng</th>\n      <th>URL</th>\n    </tr>\n    <tr>\n      <th>Rank</th>\n      <th></th>\n      <th></th>\n      <th></th>\n      <th></th>\n      <th></th>\n      <th></th>\n      <th></th>\n    </tr>\n  </thead>\n  <tbody>\n    <tr>\n      <th>1</th>\n      <td>Old Oak Tap</td>\n      <td>BLT</td>\n      <td>$10</td>\n      <td>2109 W. Chicago Ave.,</td>\n      <td>41.895605</td>\n      <td>-87.679961</td>\n      <td>https://www.chicagomag.com/Chicago-Magazine/No...</td>\n    </tr>\n    <tr>\n      <th>2</th>\n      <td>Au Cheval</td>\n      <td>Fried Bologna</td>\n      <td>$9</td>\n      <td>800 W. Randolph St.,</td>\n      <td>41.884658</td>\n      <td>-87.647667</td>\n      <td>https://www.chicagomag.com/Chicago-Magazine/No...</td>\n    </tr>\n    <tr>\n      <th>3</th>\n      <td>Xoco</td>\n      <td>Woodland Mushroom</td>\n      <td>$9.50</td>\n      <td>445 N. Clark St.,</td>\n      <td>41.890523</td>\n      <td>-87.630783</td>\n      <td>https://www.chicagomag.com/Chicago-Magazine/No...</td>\n    </tr>\n    <tr>\n      <th>4</th>\n      <td>Al’s Deli</td>\n      <td>Roast Beef</td>\n      <td>$9.40</td>\n      <td>914 Noyes St., Evanston,</td>\n      <td>42.058322</td>\n      <td>-87.683748</td>\n      <td>https://www.chicagomag.com/Chicago-Magazine/No...</td>\n    </tr>\n    <tr>\n      <th>5</th>\n      <td>Publican Quality Meats</td>\n      <td>PB&amp;L</td>\n      <td>$10</td>\n      <td>825 W. Fulton Mkt.,</td>\n      <td>41.886604</td>\n      <td>-87.648536</td>\n      <td>https://www.chicagomag.com/Chicago-Magazine/No...</td>\n    </tr>\n  </tbody>\n</table>\n</div>"
     },
     "metadata": {},
     "execution_count": 13
    }
   ],
   "source": [
    "df = df.loc[:, ['Cafe','Menu','Price','Address','lat','lng','URL']]\n",
    "df.head()"
   ]
  },
  {
   "cell_type": "code",
   "execution_count": 14,
   "metadata": {},
   "outputs": [],
   "source": [
    "df.to_csv('./data/03. best_sandwich_list_chicago3.csv', sep=',', encoding='UTF-8')"
   ]
  },
  {
   "source": [
    "# 지도 지도 출력"
   ],
   "cell_type": "markdown",
   "metadata": {}
  },
  {
   "cell_type": "code",
   "execution_count": 15,
   "metadata": {},
   "outputs": [],
   "source": [
    "import folium\n",
    "import pandas as pd\n",
    "import numpy as np"
   ]
  },
  {
   "cell_type": "code",
   "execution_count": 16,
   "metadata": {},
   "outputs": [
    {
     "output_type": "execute_result",
     "data": {
      "text/plain": [
       "                        Cafe               Menu  Price  \\\n",
       "Rank                                                     \n",
       "1                Old Oak Tap                BLT    $10   \n",
       "2                  Au Cheval      Fried Bologna     $9   \n",
       "3                       Xoco  Woodland Mushroom  $9.50   \n",
       "4                  Al’s Deli         Roast Beef  $9.40   \n",
       "5     Publican Quality Meats               PB&L    $10   \n",
       "\n",
       "                       Address        lat        lng  \\\n",
       "Rank                                                   \n",
       "1        2109 W. Chicago Ave.,  41.895605 -87.679961   \n",
       "2         800 W. Randolph St.,  41.884658 -87.647667   \n",
       "3            445 N. Clark St.,  41.890523 -87.630783   \n",
       "4     914 Noyes St., Evanston,  42.058322 -87.683748   \n",
       "5          825 W. Fulton Mkt.,  41.886604 -87.648536   \n",
       "\n",
       "                                                    URL  \n",
       "Rank                                                     \n",
       "1     https://www.chicagomag.com/Chicago-Magazine/No...  \n",
       "2     https://www.chicagomag.com/Chicago-Magazine/No...  \n",
       "3     https://www.chicagomag.com/Chicago-Magazine/No...  \n",
       "4     https://www.chicagomag.com/Chicago-Magazine/No...  \n",
       "5     https://www.chicagomag.com/Chicago-Magazine/No...  "
      ],
      "text/html": "<div>\n<style scoped>\n    .dataframe tbody tr th:only-of-type {\n        vertical-align: middle;\n    }\n\n    .dataframe tbody tr th {\n        vertical-align: top;\n    }\n\n    .dataframe thead th {\n        text-align: right;\n    }\n</style>\n<table border=\"1\" class=\"dataframe\">\n  <thead>\n    <tr style=\"text-align: right;\">\n      <th></th>\n      <th>Cafe</th>\n      <th>Menu</th>\n      <th>Price</th>\n      <th>Address</th>\n      <th>lat</th>\n      <th>lng</th>\n      <th>URL</th>\n    </tr>\n    <tr>\n      <th>Rank</th>\n      <th></th>\n      <th></th>\n      <th></th>\n      <th></th>\n      <th></th>\n      <th></th>\n      <th></th>\n    </tr>\n  </thead>\n  <tbody>\n    <tr>\n      <th>1</th>\n      <td>Old Oak Tap</td>\n      <td>BLT</td>\n      <td>$10</td>\n      <td>2109 W. Chicago Ave.,</td>\n      <td>41.895605</td>\n      <td>-87.679961</td>\n      <td>https://www.chicagomag.com/Chicago-Magazine/No...</td>\n    </tr>\n    <tr>\n      <th>2</th>\n      <td>Au Cheval</td>\n      <td>Fried Bologna</td>\n      <td>$9</td>\n      <td>800 W. Randolph St.,</td>\n      <td>41.884658</td>\n      <td>-87.647667</td>\n      <td>https://www.chicagomag.com/Chicago-Magazine/No...</td>\n    </tr>\n    <tr>\n      <th>3</th>\n      <td>Xoco</td>\n      <td>Woodland Mushroom</td>\n      <td>$9.50</td>\n      <td>445 N. Clark St.,</td>\n      <td>41.890523</td>\n      <td>-87.630783</td>\n      <td>https://www.chicagomag.com/Chicago-Magazine/No...</td>\n    </tr>\n    <tr>\n      <th>4</th>\n      <td>Al’s Deli</td>\n      <td>Roast Beef</td>\n      <td>$9.40</td>\n      <td>914 Noyes St., Evanston,</td>\n      <td>42.058322</td>\n      <td>-87.683748</td>\n      <td>https://www.chicagomag.com/Chicago-Magazine/No...</td>\n    </tr>\n    <tr>\n      <th>5</th>\n      <td>Publican Quality Meats</td>\n      <td>PB&amp;L</td>\n      <td>$10</td>\n      <td>825 W. Fulton Mkt.,</td>\n      <td>41.886604</td>\n      <td>-87.648536</td>\n      <td>https://www.chicagomag.com/Chicago-Magazine/No...</td>\n    </tr>\n  </tbody>\n</table>\n</div>"
     },
     "metadata": {},
     "execution_count": 16
    }
   ],
   "source": [
    "df = pd.read_csv('./data/03. best_sandwich_list_chicago3.csv', index_col=0)\n",
    "df.head()"
   ]
  },
  {
   "cell_type": "code",
   "execution_count": 17,
   "metadata": {},
   "outputs": [
    {
     "output_type": "execute_result",
     "data": {
      "text/plain": [
       "<folium.folium.Map at 0x22486be44e0>"
      ],
      "text/html": "<div style=\"width:100%;\"><div style=\"position:relative;width:100%;height:0;padding-bottom:60%;\"><span style=\"color:#565656\">Make this Notebook Trusted to load map: File -> Trust Notebook</span><iframe src=\"about:blank\" style=\"position:absolute;width:100%;height:100%;left:0;top:0;border:none !important;\" data-html=%3C%21DOCTYPE%20html%3E%0A%3Chead%3E%20%20%20%20%0A%20%20%20%20%3Cmeta%20http-equiv%3D%22content-type%22%20content%3D%22text/html%3B%20charset%3DUTF-8%22%20/%3E%0A%20%20%20%20%0A%20%20%20%20%20%20%20%20%3Cscript%3E%0A%20%20%20%20%20%20%20%20%20%20%20%20L_NO_TOUCH%20%3D%20false%3B%0A%20%20%20%20%20%20%20%20%20%20%20%20L_DISABLE_3D%20%3D%20false%3B%0A%20%20%20%20%20%20%20%20%3C/script%3E%0A%20%20%20%20%0A%20%20%20%20%3Cstyle%3Ehtml%2C%20body%20%7Bwidth%3A%20100%25%3Bheight%3A%20100%25%3Bmargin%3A%200%3Bpadding%3A%200%3B%7D%3C/style%3E%0A%20%20%20%20%3Cstyle%3E%23map%20%7Bposition%3Aabsolute%3Btop%3A0%3Bbottom%3A0%3Bright%3A0%3Bleft%3A0%3B%7D%3C/style%3E%0A%20%20%20%20%3Cscript%20src%3D%22https%3A//cdn.jsdelivr.net/npm/leaflet%401.6.0/dist/leaflet.js%22%3E%3C/script%3E%0A%20%20%20%20%3Cscript%20src%3D%22https%3A//code.jquery.com/jquery-1.12.4.min.js%22%3E%3C/script%3E%0A%20%20%20%20%3Cscript%20src%3D%22https%3A//maxcdn.bootstrapcdn.com/bootstrap/3.2.0/js/bootstrap.min.js%22%3E%3C/script%3E%0A%20%20%20%20%3Cscript%20src%3D%22https%3A//cdnjs.cloudflare.com/ajax/libs/Leaflet.awesome-markers/2.0.2/leaflet.awesome-markers.js%22%3E%3C/script%3E%0A%20%20%20%20%3Clink%20rel%3D%22stylesheet%22%20href%3D%22https%3A//cdn.jsdelivr.net/npm/leaflet%401.6.0/dist/leaflet.css%22/%3E%0A%20%20%20%20%3Clink%20rel%3D%22stylesheet%22%20href%3D%22https%3A//maxcdn.bootstrapcdn.com/bootstrap/3.2.0/css/bootstrap.min.css%22/%3E%0A%20%20%20%20%3Clink%20rel%3D%22stylesheet%22%20href%3D%22https%3A//maxcdn.bootstrapcdn.com/bootstrap/3.2.0/css/bootstrap-theme.min.css%22/%3E%0A%20%20%20%20%3Clink%20rel%3D%22stylesheet%22%20href%3D%22https%3A//maxcdn.bootstrapcdn.com/font-awesome/4.6.3/css/font-awesome.min.css%22/%3E%0A%20%20%20%20%3Clink%20rel%3D%22stylesheet%22%20href%3D%22https%3A//cdnjs.cloudflare.com/ajax/libs/Leaflet.awesome-markers/2.0.2/leaflet.awesome-markers.css%22/%3E%0A%20%20%20%20%3Clink%20rel%3D%22stylesheet%22%20href%3D%22https%3A//cdn.jsdelivr.net/gh/python-visualization/folium/folium/templates/leaflet.awesome.rotate.min.css%22/%3E%0A%20%20%20%20%0A%20%20%20%20%20%20%20%20%20%20%20%20%3Cmeta%20name%3D%22viewport%22%20content%3D%22width%3Ddevice-width%2C%0A%20%20%20%20%20%20%20%20%20%20%20%20%20%20%20%20initial-scale%3D1.0%2C%20maximum-scale%3D1.0%2C%20user-scalable%3Dno%22%20/%3E%0A%20%20%20%20%20%20%20%20%20%20%20%20%3Cstyle%3E%0A%20%20%20%20%20%20%20%20%20%20%20%20%20%20%20%20%23map_bb569c9dc1af42dca1479ef6d6e9f471%20%7B%0A%20%20%20%20%20%20%20%20%20%20%20%20%20%20%20%20%20%20%20%20position%3A%20relative%3B%0A%20%20%20%20%20%20%20%20%20%20%20%20%20%20%20%20%20%20%20%20width%3A%20100.0%25%3B%0A%20%20%20%20%20%20%20%20%20%20%20%20%20%20%20%20%20%20%20%20height%3A%20100.0%25%3B%0A%20%20%20%20%20%20%20%20%20%20%20%20%20%20%20%20%20%20%20%20left%3A%200.0%25%3B%0A%20%20%20%20%20%20%20%20%20%20%20%20%20%20%20%20%20%20%20%20top%3A%200.0%25%3B%0A%20%20%20%20%20%20%20%20%20%20%20%20%20%20%20%20%7D%0A%20%20%20%20%20%20%20%20%20%20%20%20%3C/style%3E%0A%20%20%20%20%20%20%20%20%0A%3C/head%3E%0A%3Cbody%3E%20%20%20%20%0A%20%20%20%20%0A%20%20%20%20%20%20%20%20%20%20%20%20%3Cdiv%20class%3D%22folium-map%22%20id%3D%22map_bb569c9dc1af42dca1479ef6d6e9f471%22%20%3E%3C/div%3E%0A%20%20%20%20%20%20%20%20%0A%3C/body%3E%0A%3Cscript%3E%20%20%20%20%0A%20%20%20%20%0A%20%20%20%20%20%20%20%20%20%20%20%20var%20map_bb569c9dc1af42dca1479ef6d6e9f471%20%3D%20L.map%28%0A%20%20%20%20%20%20%20%20%20%20%20%20%20%20%20%20%22map_bb569c9dc1af42dca1479ef6d6e9f471%22%2C%0A%20%20%20%20%20%20%20%20%20%20%20%20%20%20%20%20%7B%0A%20%20%20%20%20%20%20%20%20%20%20%20%20%20%20%20%20%20%20%20center%3A%20%5B41.92424770227273%2C%20-87.68099156363635%5D%2C%0A%20%20%20%20%20%20%20%20%20%20%20%20%20%20%20%20%20%20%20%20crs%3A%20L.CRS.EPSG3857%2C%0A%20%20%20%20%20%20%20%20%20%20%20%20%20%20%20%20%20%20%20%20zoom%3A%2011%2C%0A%20%20%20%20%20%20%20%20%20%20%20%20%20%20%20%20%20%20%20%20preferCanvas%3A%20false%2C%0A%20%20%20%20%20%20%20%20%20%20%20%20%20%20%20%20%20%20%20%20zoomControl%3A%20true%2C%0A%20%20%20%20%20%20%20%20%20%20%20%20%20%20%20%20%7D%0A%20%20%20%20%20%20%20%20%20%20%20%20%29%3B%0A%0A%20%20%20%20%20%20%20%20%20%20%20%20%0A%0A%20%20%20%20%20%20%20%20%0A%20%20%20%20%0A%20%20%20%20%20%20%20%20%20%20%20%20var%20tile_layer_871f33d0159642f6882bf47ca0232473%20%3D%20L.tileLayer%28%0A%20%20%20%20%20%20%20%20%20%20%20%20%20%20%20%20%22https%3A//%7Bs%7D.tile.openstreetmap.org/%7Bz%7D/%7Bx%7D/%7By%7D.png%22%2C%0A%20%20%20%20%20%20%20%20%20%20%20%20%20%20%20%20%7B%22attribution%22%3A%20%22Data%20by%20%5Cu0026copy%3B%20%5Cu003ca%20href%3D%5C%22http%3A//openstreetmap.org%5C%22%5Cu003eOpenStreetMap%5Cu003c/a%5Cu003e%2C%20under%20%5Cu003ca%20href%3D%5C%22http%3A//www.openstreetmap.org/copyright%5C%22%5Cu003eODbL%5Cu003c/a%5Cu003e.%22%2C%20%22detectRetina%22%3A%20false%2C%20%22maxNativeZoom%22%3A%2018%2C%20%22maxZoom%22%3A%2018%2C%20%22minZoom%22%3A%200%2C%20%22noWrap%22%3A%20false%2C%20%22opacity%22%3A%201%2C%20%22subdomains%22%3A%20%22abc%22%2C%20%22tms%22%3A%20false%7D%0A%20%20%20%20%20%20%20%20%20%20%20%20%29.addTo%28map_bb569c9dc1af42dca1479ef6d6e9f471%29%3B%0A%20%20%20%20%20%20%20%20%0A%20%20%20%20%0A%20%20%20%20%20%20%20%20%20%20%20%20var%20marker_49879614e7494b39a297da1d4bd9b924%20%3D%20L.marker%28%0A%20%20%20%20%20%20%20%20%20%20%20%20%20%20%20%20%5B41.92424770227273%2C%20-87.68099156363635%5D%2C%0A%20%20%20%20%20%20%20%20%20%20%20%20%20%20%20%20%7B%7D%0A%20%20%20%20%20%20%20%20%20%20%20%20%29.addTo%28map_bb569c9dc1af42dca1479ef6d6e9f471%29%3B%0A%20%20%20%20%20%20%20%20%0A%20%20%20%20%0A%20%20%20%20%20%20%20%20var%20popup_19e33b2ec5b14e35be3f9a63dfcad6e5%20%3D%20L.popup%28%7B%22maxWidth%22%3A%20%22100%25%22%7D%29%3B%0A%0A%20%20%20%20%20%20%20%20%0A%20%20%20%20%20%20%20%20%20%20%20%20var%20html_aac1f9615e2c428193645ade47bb37cc%20%3D%20%24%28%60%3Cdiv%20id%3D%22html_aac1f9615e2c428193645ade47bb37cc%22%20style%3D%22width%3A%20100.0%25%3B%20height%3A%20100.0%25%3B%22%3Ecenter%3C/div%3E%60%29%5B0%5D%3B%0A%20%20%20%20%20%20%20%20%20%20%20%20popup_19e33b2ec5b14e35be3f9a63dfcad6e5.setContent%28html_aac1f9615e2c428193645ade47bb37cc%29%3B%0A%20%20%20%20%20%20%20%20%0A%0A%20%20%20%20%20%20%20%20marker_49879614e7494b39a297da1d4bd9b924.bindPopup%28popup_19e33b2ec5b14e35be3f9a63dfcad6e5%29%0A%20%20%20%20%20%20%20%20%3B%0A%0A%20%20%20%20%20%20%20%20%0A%20%20%20%20%0A%3C/script%3E onload=\"this.contentDocument.open();this.contentDocument.write(    decodeURIComponent(this.getAttribute('data-html')));this.contentDocument.close();\" allowfullscreen webkitallowfullscreen mozallowfullscreen></iframe></div></div>"
     },
     "metadata": {},
     "execution_count": 17
    }
   ],
   "source": [
    "mapping = folium.Map(location=[df['lat'].mean(), df['lng'].mean()], zoom_start=11)\n",
    "folium.Marker([df['lat'].mean(), df['lng'].mean()], popup='center').add_to(mapping)\n",
    "mapping"
   ]
  },
  {
   "cell_type": "code",
   "execution_count": 18,
   "metadata": {},
   "outputs": [
    {
     "output_type": "execute_result",
     "data": {
      "text/plain": [
       "<folium.folium.Map at 0x2248a13b470>"
      ],
      "text/html": "<div style=\"width:100%;\"><div style=\"position:relative;width:100%;height:0;padding-bottom:60%;\"><span style=\"color:#565656\">Make this Notebook Trusted to load map: File -> Trust Notebook</span><iframe src=\"about:blank\" style=\"position:absolute;width:100%;height:100%;left:0;top:0;border:none !important;\" data-html=%3C%21DOCTYPE%20html%3E%0A%3Chead%3E%20%20%20%20%0A%20%20%20%20%3Cmeta%20http-equiv%3D%22content-type%22%20content%3D%22text/html%3B%20charset%3DUTF-8%22%20/%3E%0A%20%20%20%20%0A%20%20%20%20%20%20%20%20%3Cscript%3E%0A%20%20%20%20%20%20%20%20%20%20%20%20L_NO_TOUCH%20%3D%20false%3B%0A%20%20%20%20%20%20%20%20%20%20%20%20L_DISABLE_3D%20%3D%20false%3B%0A%20%20%20%20%20%20%20%20%3C/script%3E%0A%20%20%20%20%0A%20%20%20%20%3Cstyle%3Ehtml%2C%20body%20%7Bwidth%3A%20100%25%3Bheight%3A%20100%25%3Bmargin%3A%200%3Bpadding%3A%200%3B%7D%3C/style%3E%0A%20%20%20%20%3Cstyle%3E%23map%20%7Bposition%3Aabsolute%3Btop%3A0%3Bbottom%3A0%3Bright%3A0%3Bleft%3A0%3B%7D%3C/style%3E%0A%20%20%20%20%3Cscript%20src%3D%22https%3A//cdn.jsdelivr.net/npm/leaflet%401.6.0/dist/leaflet.js%22%3E%3C/script%3E%0A%20%20%20%20%3Cscript%20src%3D%22https%3A//code.jquery.com/jquery-1.12.4.min.js%22%3E%3C/script%3E%0A%20%20%20%20%3Cscript%20src%3D%22https%3A//maxcdn.bootstrapcdn.com/bootstrap/3.2.0/js/bootstrap.min.js%22%3E%3C/script%3E%0A%20%20%20%20%3Cscript%20src%3D%22https%3A//cdnjs.cloudflare.com/ajax/libs/Leaflet.awesome-markers/2.0.2/leaflet.awesome-markers.js%22%3E%3C/script%3E%0A%20%20%20%20%3Clink%20rel%3D%22stylesheet%22%20href%3D%22https%3A//cdn.jsdelivr.net/npm/leaflet%401.6.0/dist/leaflet.css%22/%3E%0A%20%20%20%20%3Clink%20rel%3D%22stylesheet%22%20href%3D%22https%3A//maxcdn.bootstrapcdn.com/bootstrap/3.2.0/css/bootstrap.min.css%22/%3E%0A%20%20%20%20%3Clink%20rel%3D%22stylesheet%22%20href%3D%22https%3A//maxcdn.bootstrapcdn.com/bootstrap/3.2.0/css/bootstrap-theme.min.css%22/%3E%0A%20%20%20%20%3Clink%20rel%3D%22stylesheet%22%20href%3D%22https%3A//maxcdn.bootstrapcdn.com/font-awesome/4.6.3/css/font-awesome.min.css%22/%3E%0A%20%20%20%20%3Clink%20rel%3D%22stylesheet%22%20href%3D%22https%3A//cdnjs.cloudflare.com/ajax/libs/Leaflet.awesome-markers/2.0.2/leaflet.awesome-markers.css%22/%3E%0A%20%20%20%20%3Clink%20rel%3D%22stylesheet%22%20href%3D%22https%3A//cdn.jsdelivr.net/gh/python-visualization/folium/folium/templates/leaflet.awesome.rotate.min.css%22/%3E%0A%20%20%20%20%0A%20%20%20%20%20%20%20%20%20%20%20%20%3Cmeta%20name%3D%22viewport%22%20content%3D%22width%3Ddevice-width%2C%0A%20%20%20%20%20%20%20%20%20%20%20%20%20%20%20%20initial-scale%3D1.0%2C%20maximum-scale%3D1.0%2C%20user-scalable%3Dno%22%20/%3E%0A%20%20%20%20%20%20%20%20%20%20%20%20%3Cstyle%3E%0A%20%20%20%20%20%20%20%20%20%20%20%20%20%20%20%20%23map_cc62e9fcf51f42918074e369efb6ce74%20%7B%0A%20%20%20%20%20%20%20%20%20%20%20%20%20%20%20%20%20%20%20%20position%3A%20relative%3B%0A%20%20%20%20%20%20%20%20%20%20%20%20%20%20%20%20%20%20%20%20width%3A%20100.0%25%3B%0A%20%20%20%20%20%20%20%20%20%20%20%20%20%20%20%20%20%20%20%20height%3A%20100.0%25%3B%0A%20%20%20%20%20%20%20%20%20%20%20%20%20%20%20%20%20%20%20%20left%3A%200.0%25%3B%0A%20%20%20%20%20%20%20%20%20%20%20%20%20%20%20%20%20%20%20%20top%3A%200.0%25%3B%0A%20%20%20%20%20%20%20%20%20%20%20%20%20%20%20%20%7D%0A%20%20%20%20%20%20%20%20%20%20%20%20%3C/style%3E%0A%20%20%20%20%20%20%20%20%0A%3C/head%3E%0A%3Cbody%3E%20%20%20%20%0A%20%20%20%20%0A%20%20%20%20%20%20%20%20%20%20%20%20%3Cdiv%20class%3D%22folium-map%22%20id%3D%22map_cc62e9fcf51f42918074e369efb6ce74%22%20%3E%3C/div%3E%0A%20%20%20%20%20%20%20%20%0A%3C/body%3E%0A%3Cscript%3E%20%20%20%20%0A%20%20%20%20%0A%20%20%20%20%20%20%20%20%20%20%20%20var%20map_cc62e9fcf51f42918074e369efb6ce74%20%3D%20L.map%28%0A%20%20%20%20%20%20%20%20%20%20%20%20%20%20%20%20%22map_cc62e9fcf51f42918074e369efb6ce74%22%2C%0A%20%20%20%20%20%20%20%20%20%20%20%20%20%20%20%20%7B%0A%20%20%20%20%20%20%20%20%20%20%20%20%20%20%20%20%20%20%20%20center%3A%20%5B41.92424770227273%2C%20-87.68099156363635%5D%2C%0A%20%20%20%20%20%20%20%20%20%20%20%20%20%20%20%20%20%20%20%20crs%3A%20L.CRS.EPSG3857%2C%0A%20%20%20%20%20%20%20%20%20%20%20%20%20%20%20%20%20%20%20%20zoom%3A%2011%2C%0A%20%20%20%20%20%20%20%20%20%20%20%20%20%20%20%20%20%20%20%20preferCanvas%3A%20false%2C%0A%20%20%20%20%20%20%20%20%20%20%20%20%20%20%20%20%20%20%20%20zoomControl%3A%20true%2C%0A%20%20%20%20%20%20%20%20%20%20%20%20%20%20%20%20%7D%0A%20%20%20%20%20%20%20%20%20%20%20%20%29%3B%0A%0A%20%20%20%20%20%20%20%20%20%20%20%20%0A%0A%20%20%20%20%20%20%20%20%0A%20%20%20%20%0A%20%20%20%20%20%20%20%20%20%20%20%20var%20tile_layer_a67c05dd43c4444091e58cfb0ab63c1b%20%3D%20L.tileLayer%28%0A%20%20%20%20%20%20%20%20%20%20%20%20%20%20%20%20%22https%3A//%7Bs%7D.tile.openstreetmap.org/%7Bz%7D/%7Bx%7D/%7By%7D.png%22%2C%0A%20%20%20%20%20%20%20%20%20%20%20%20%20%20%20%20%7B%22attribution%22%3A%20%22Data%20by%20%5Cu0026copy%3B%20%5Cu003ca%20href%3D%5C%22http%3A//openstreetmap.org%5C%22%5Cu003eOpenStreetMap%5Cu003c/a%5Cu003e%2C%20under%20%5Cu003ca%20href%3D%5C%22http%3A//www.openstreetmap.org/copyright%5C%22%5Cu003eODbL%5Cu003c/a%5Cu003e.%22%2C%20%22detectRetina%22%3A%20false%2C%20%22maxNativeZoom%22%3A%2018%2C%20%22maxZoom%22%3A%2018%2C%20%22minZoom%22%3A%200%2C%20%22noWrap%22%3A%20false%2C%20%22opacity%22%3A%201%2C%20%22subdomains%22%3A%20%22abc%22%2C%20%22tms%22%3A%20false%7D%0A%20%20%20%20%20%20%20%20%20%20%20%20%29.addTo%28map_cc62e9fcf51f42918074e369efb6ce74%29%3B%0A%20%20%20%20%20%20%20%20%0A%20%20%20%20%0A%20%20%20%20%20%20%20%20%20%20%20%20var%20marker_b021a4030cda44f3bb45dfee7e41ba2f%20%3D%20L.marker%28%0A%20%20%20%20%20%20%20%20%20%20%20%20%20%20%20%20%5B41.8956049%2C%20-87.67996149999998%5D%2C%0A%20%20%20%20%20%20%20%20%20%20%20%20%20%20%20%20%7B%7D%0A%20%20%20%20%20%20%20%20%20%20%20%20%29.addTo%28map_cc62e9fcf51f42918074e369efb6ce74%29%3B%0A%20%20%20%20%20%20%20%20%0A%20%20%20%20%0A%20%20%20%20%20%20%20%20var%20popup_113ad312d298431c90a0be5677e393ca%20%3D%20L.popup%28%7B%22maxWidth%22%3A%20%22100%25%22%7D%29%3B%0A%0A%20%20%20%20%20%20%20%20%0A%20%20%20%20%20%20%20%20%20%20%20%20var%20html_5cedba689a0c4bb19336a4f7d167f6b8%20%3D%20%24%28%60%3Cdiv%20id%3D%22html_5cedba689a0c4bb19336a4f7d167f6b8%22%20style%3D%22width%3A%20100.0%25%3B%20height%3A%20100.0%25%3B%22%3EOld%20Oak%20Tap%3C/div%3E%60%29%5B0%5D%3B%0A%20%20%20%20%20%20%20%20%20%20%20%20popup_113ad312d298431c90a0be5677e393ca.setContent%28html_5cedba689a0c4bb19336a4f7d167f6b8%29%3B%0A%20%20%20%20%20%20%20%20%0A%0A%20%20%20%20%20%20%20%20marker_b021a4030cda44f3bb45dfee7e41ba2f.bindPopup%28popup_113ad312d298431c90a0be5677e393ca%29%0A%20%20%20%20%20%20%20%20%3B%0A%0A%20%20%20%20%20%20%20%20%0A%20%20%20%20%0A%20%20%20%20%0A%20%20%20%20%20%20%20%20%20%20%20%20var%20marker_f210606accc84a6ab7b1a6d257905bba%20%3D%20L.marker%28%0A%20%20%20%20%20%20%20%20%20%20%20%20%20%20%20%20%5B41.884658200000004%2C%20-87.6476668%5D%2C%0A%20%20%20%20%20%20%20%20%20%20%20%20%20%20%20%20%7B%7D%0A%20%20%20%20%20%20%20%20%20%20%20%20%29.addTo%28map_cc62e9fcf51f42918074e369efb6ce74%29%3B%0A%20%20%20%20%20%20%20%20%0A%20%20%20%20%0A%20%20%20%20%20%20%20%20var%20popup_dcebb2c613a244b3ab4fb9e66d610279%20%3D%20L.popup%28%7B%22maxWidth%22%3A%20%22100%25%22%7D%29%3B%0A%0A%20%20%20%20%20%20%20%20%0A%20%20%20%20%20%20%20%20%20%20%20%20var%20html_e567b4e0ace5487cb7c5e765e8dabcf0%20%3D%20%24%28%60%3Cdiv%20id%3D%22html_e567b4e0ace5487cb7c5e765e8dabcf0%22%20style%3D%22width%3A%20100.0%25%3B%20height%3A%20100.0%25%3B%22%3EAu%20Cheval%3C/div%3E%60%29%5B0%5D%3B%0A%20%20%20%20%20%20%20%20%20%20%20%20popup_dcebb2c613a244b3ab4fb9e66d610279.setContent%28html_e567b4e0ace5487cb7c5e765e8dabcf0%29%3B%0A%20%20%20%20%20%20%20%20%0A%0A%20%20%20%20%20%20%20%20marker_f210606accc84a6ab7b1a6d257905bba.bindPopup%28popup_dcebb2c613a244b3ab4fb9e66d610279%29%0A%20%20%20%20%20%20%20%20%3B%0A%0A%20%20%20%20%20%20%20%20%0A%20%20%20%20%0A%20%20%20%20%0A%20%20%20%20%20%20%20%20%20%20%20%20var%20marker_aeaddf64431043c9bc1a18faa648f794%20%3D%20L.marker%28%0A%20%20%20%20%20%20%20%20%20%20%20%20%20%20%20%20%5B41.890522600000004%2C%20-87.6307834%5D%2C%0A%20%20%20%20%20%20%20%20%20%20%20%20%20%20%20%20%7B%7D%0A%20%20%20%20%20%20%20%20%20%20%20%20%29.addTo%28map_cc62e9fcf51f42918074e369efb6ce74%29%3B%0A%20%20%20%20%20%20%20%20%0A%20%20%20%20%0A%20%20%20%20%20%20%20%20var%20popup_cfc7b13859f5451db1833c9a361d599f%20%3D%20L.popup%28%7B%22maxWidth%22%3A%20%22100%25%22%7D%29%3B%0A%0A%20%20%20%20%20%20%20%20%0A%20%20%20%20%20%20%20%20%20%20%20%20var%20html_5fbbef6a925e404794bb12729d72fc66%20%3D%20%24%28%60%3Cdiv%20id%3D%22html_5fbbef6a925e404794bb12729d72fc66%22%20style%3D%22width%3A%20100.0%25%3B%20height%3A%20100.0%25%3B%22%3EXoco%3C/div%3E%60%29%5B0%5D%3B%0A%20%20%20%20%20%20%20%20%20%20%20%20popup_cfc7b13859f5451db1833c9a361d599f.setContent%28html_5fbbef6a925e404794bb12729d72fc66%29%3B%0A%20%20%20%20%20%20%20%20%0A%0A%20%20%20%20%20%20%20%20marker_aeaddf64431043c9bc1a18faa648f794.bindPopup%28popup_cfc7b13859f5451db1833c9a361d599f%29%0A%20%20%20%20%20%20%20%20%3B%0A%0A%20%20%20%20%20%20%20%20%0A%20%20%20%20%0A%20%20%20%20%0A%20%20%20%20%20%20%20%20%20%20%20%20var%20marker_efc9acc4bbdd49539758ec0dc2e94c86%20%3D%20L.marker%28%0A%20%20%20%20%20%20%20%20%20%20%20%20%20%20%20%20%5B42.0583217%2C%20-87.6837479%5D%2C%0A%20%20%20%20%20%20%20%20%20%20%20%20%20%20%20%20%7B%7D%0A%20%20%20%20%20%20%20%20%20%20%20%20%29.addTo%28map_cc62e9fcf51f42918074e369efb6ce74%29%3B%0A%20%20%20%20%20%20%20%20%0A%20%20%20%20%0A%20%20%20%20%20%20%20%20var%20popup_e3c32d4c2b5440438fb8f0762d721cc4%20%3D%20L.popup%28%7B%22maxWidth%22%3A%20%22100%25%22%7D%29%3B%0A%0A%20%20%20%20%20%20%20%20%0A%20%20%20%20%20%20%20%20%20%20%20%20var%20html_94ff67b5cef8411891a54bd817944437%20%3D%20%24%28%60%3Cdiv%20id%3D%22html_94ff67b5cef8411891a54bd817944437%22%20style%3D%22width%3A%20100.0%25%3B%20height%3A%20100.0%25%3B%22%3EAl%E2%80%99s%20Deli%3C/div%3E%60%29%5B0%5D%3B%0A%20%20%20%20%20%20%20%20%20%20%20%20popup_e3c32d4c2b5440438fb8f0762d721cc4.setContent%28html_94ff67b5cef8411891a54bd817944437%29%3B%0A%20%20%20%20%20%20%20%20%0A%0A%20%20%20%20%20%20%20%20marker_efc9acc4bbdd49539758ec0dc2e94c86.bindPopup%28popup_e3c32d4c2b5440438fb8f0762d721cc4%29%0A%20%20%20%20%20%20%20%20%3B%0A%0A%20%20%20%20%20%20%20%20%0A%20%20%20%20%0A%20%20%20%20%0A%20%20%20%20%20%20%20%20%20%20%20%20var%20marker_957f176f1f544b7790758c1c2339c9f3%20%3D%20L.marker%28%0A%20%20%20%20%20%20%20%20%20%20%20%20%20%20%20%20%5B41.8866036%2C%20-87.64853649999998%5D%2C%0A%20%20%20%20%20%20%20%20%20%20%20%20%20%20%20%20%7B%7D%0A%20%20%20%20%20%20%20%20%20%20%20%20%29.addTo%28map_cc62e9fcf51f42918074e369efb6ce74%29%3B%0A%20%20%20%20%20%20%20%20%0A%20%20%20%20%0A%20%20%20%20%20%20%20%20var%20popup_6c286e114e654e50a6bf08273839ea08%20%3D%20L.popup%28%7B%22maxWidth%22%3A%20%22100%25%22%7D%29%3B%0A%0A%20%20%20%20%20%20%20%20%0A%20%20%20%20%20%20%20%20%20%20%20%20var%20html_7e2b7d6f7a3c45e48b3b7be36eb9d01b%20%3D%20%24%28%60%3Cdiv%20id%3D%22html_7e2b7d6f7a3c45e48b3b7be36eb9d01b%22%20style%3D%22width%3A%20100.0%25%3B%20height%3A%20100.0%25%3B%22%3EPublican%20Quality%20Meats%3C/div%3E%60%29%5B0%5D%3B%0A%20%20%20%20%20%20%20%20%20%20%20%20popup_6c286e114e654e50a6bf08273839ea08.setContent%28html_7e2b7d6f7a3c45e48b3b7be36eb9d01b%29%3B%0A%20%20%20%20%20%20%20%20%0A%0A%20%20%20%20%20%20%20%20marker_957f176f1f544b7790758c1c2339c9f3.bindPopup%28popup_6c286e114e654e50a6bf08273839ea08%29%0A%20%20%20%20%20%20%20%20%3B%0A%0A%20%20%20%20%20%20%20%20%0A%20%20%20%20%0A%20%20%20%20%0A%20%20%20%20%20%20%20%20%20%20%20%20var%20marker_036d40b3c0f74a76abbd1569498704ad%20%3D%20L.marker%28%0A%20%20%20%20%20%20%20%20%20%20%20%20%20%20%20%20%5B41.9000869%2C%20-87.6253366%5D%2C%0A%20%20%20%20%20%20%20%20%20%20%20%20%20%20%20%20%7B%7D%0A%20%20%20%20%20%20%20%20%20%20%20%20%29.addTo%28map_cc62e9fcf51f42918074e369efb6ce74%29%3B%0A%20%20%20%20%20%20%20%20%0A%20%20%20%20%0A%20%20%20%20%20%20%20%20var%20popup_c614258e96484c2798a6a703f59b94cf%20%3D%20L.popup%28%7B%22maxWidth%22%3A%20%22100%25%22%7D%29%3B%0A%0A%20%20%20%20%20%20%20%20%0A%20%20%20%20%20%20%20%20%20%20%20%20var%20html_82afeeca4374428089c66aed812fc8e5%20%3D%20%24%28%60%3Cdiv%20id%3D%22html_82afeeca4374428089c66aed812fc8e5%22%20style%3D%22width%3A%20100.0%25%3B%20height%3A%20100.0%25%3B%22%3EHendrickx%20Belgian%20Bread%20Crafter%3C/div%3E%60%29%5B0%5D%3B%0A%20%20%20%20%20%20%20%20%20%20%20%20popup_c614258e96484c2798a6a703f59b94cf.setContent%28html_82afeeca4374428089c66aed812fc8e5%29%3B%0A%20%20%20%20%20%20%20%20%0A%0A%20%20%20%20%20%20%20%20marker_036d40b3c0f74a76abbd1569498704ad.bindPopup%28popup_c614258e96484c2798a6a703f59b94cf%29%0A%20%20%20%20%20%20%20%20%3B%0A%0A%20%20%20%20%20%20%20%20%0A%20%20%20%20%0A%20%20%20%20%0A%20%20%20%20%20%20%20%20%20%20%20%20var%20marker_05728e85008944f8b96b168a020cbb7a%20%3D%20L.marker%28%0A%20%20%20%20%20%20%20%20%20%20%20%20%20%20%20%20%5B41.8590541%2C%20-87.6252007%5D%2C%0A%20%20%20%20%20%20%20%20%20%20%20%20%20%20%20%20%7B%7D%0A%20%20%20%20%20%20%20%20%20%20%20%20%29.addTo%28map_cc62e9fcf51f42918074e369efb6ce74%29%3B%0A%20%20%20%20%20%20%20%20%0A%20%20%20%20%0A%20%20%20%20%20%20%20%20var%20popup_5ae1b48d35b74ecfaee47ac2a0fd725d%20%3D%20L.popup%28%7B%22maxWidth%22%3A%20%22100%25%22%7D%29%3B%0A%0A%20%20%20%20%20%20%20%20%0A%20%20%20%20%20%20%20%20%20%20%20%20var%20html_acbdb5c833384f02847039130bae70a5%20%3D%20%24%28%60%3Cdiv%20id%3D%22html_acbdb5c833384f02847039130bae70a5%22%20style%3D%22width%3A%20100.0%25%3B%20height%3A%20100.0%25%3B%22%3EAcadia%3C/div%3E%60%29%5B0%5D%3B%0A%20%20%20%20%20%20%20%20%20%20%20%20popup_5ae1b48d35b74ecfaee47ac2a0fd725d.setContent%28html_acbdb5c833384f02847039130bae70a5%29%3B%0A%20%20%20%20%20%20%20%20%0A%0A%20%20%20%20%20%20%20%20marker_05728e85008944f8b96b168a020cbb7a.bindPopup%28popup_5ae1b48d35b74ecfaee47ac2a0fd725d%29%0A%20%20%20%20%20%20%20%20%3B%0A%0A%20%20%20%20%20%20%20%20%0A%20%20%20%20%0A%20%20%20%20%0A%20%20%20%20%20%20%20%20%20%20%20%20var%20marker_216a324cf0b34966a0aa09a68103baba%20%3D%20L.marker%28%0A%20%20%20%20%20%20%20%20%20%20%20%20%20%20%20%20%5B41.910203100000004%2C%20-87.68287529999998%5D%2C%0A%20%20%20%20%20%20%20%20%20%20%20%20%20%20%20%20%7B%7D%0A%20%20%20%20%20%20%20%20%20%20%20%20%29.addTo%28map_cc62e9fcf51f42918074e369efb6ce74%29%3B%0A%20%20%20%20%20%20%20%20%0A%20%20%20%20%0A%20%20%20%20%20%20%20%20var%20popup_fc67b09ef2f8475f985e4a00938811ff%20%3D%20L.popup%28%7B%22maxWidth%22%3A%20%22100%25%22%7D%29%3B%0A%0A%20%20%20%20%20%20%20%20%0A%20%20%20%20%20%20%20%20%20%20%20%20var%20html_f0898ecd834a48e6afeebddf0274e012%20%3D%20%24%28%60%3Cdiv%20id%3D%22html_f0898ecd834a48e6afeebddf0274e012%22%20style%3D%22width%3A%20100.0%25%3B%20height%3A%20100.0%25%3B%22%3EBirchwood%20Kitchen%3C/div%3E%60%29%5B0%5D%3B%0A%20%20%20%20%20%20%20%20%20%20%20%20popup_fc67b09ef2f8475f985e4a00938811ff.setContent%28html_f0898ecd834a48e6afeebddf0274e012%29%3B%0A%20%20%20%20%20%20%20%20%0A%0A%20%20%20%20%20%20%20%20marker_216a324cf0b34966a0aa09a68103baba.bindPopup%28popup_fc67b09ef2f8475f985e4a00938811ff%29%0A%20%20%20%20%20%20%20%20%3B%0A%0A%20%20%20%20%20%20%20%20%0A%20%20%20%20%0A%20%20%20%20%0A%20%20%20%20%20%20%20%20%20%20%20%20var%20marker_41cd4f202dad4268b382038464490750%20%3D%20L.marker%28%0A%20%20%20%20%20%20%20%20%20%20%20%20%20%20%20%20%5B41.9097558%2C%20-87.71767270000001%5D%2C%0A%20%20%20%20%20%20%20%20%20%20%20%20%20%20%20%20%7B%7D%0A%20%20%20%20%20%20%20%20%20%20%20%20%29.addTo%28map_cc62e9fcf51f42918074e369efb6ce74%29%3B%0A%20%20%20%20%20%20%20%20%0A%20%20%20%20%0A%20%20%20%20%20%20%20%20var%20popup_93edeac078274db4b407797cb688d7b4%20%3D%20L.popup%28%7B%22maxWidth%22%3A%20%22100%25%22%7D%29%3B%0A%0A%20%20%20%20%20%20%20%20%0A%20%20%20%20%20%20%20%20%20%20%20%20var%20html_ade196f9a00e4affb728f5fedf2e7ecb%20%3D%20%24%28%60%3Cdiv%20id%3D%22html_ade196f9a00e4affb728f5fedf2e7ecb%22%20style%3D%22width%3A%20100.0%25%3B%20height%3A%20100.0%25%3B%22%3ECemitas%20Puebla%3C/div%3E%60%29%5B0%5D%3B%0A%20%20%20%20%20%20%20%20%20%20%20%20popup_93edeac078274db4b407797cb688d7b4.setContent%28html_ade196f9a00e4affb728f5fedf2e7ecb%29%3B%0A%20%20%20%20%20%20%20%20%0A%0A%20%20%20%20%20%20%20%20marker_41cd4f202dad4268b382038464490750.bindPopup%28popup_93edeac078274db4b407797cb688d7b4%29%0A%20%20%20%20%20%20%20%20%3B%0A%0A%20%20%20%20%20%20%20%20%0A%20%20%20%20%0A%20%20%20%20%0A%20%20%20%20%20%20%20%20%20%20%20%20var%20marker_bc8502bad99c42bd9d9ea0d8a0fcd650%20%3D%20L.marker%28%0A%20%20%20%20%20%20%20%20%20%20%20%20%20%20%20%20%5B41.8345302%2C%20-87.64564920000001%5D%2C%0A%20%20%20%20%20%20%20%20%20%20%20%20%20%20%20%20%7B%7D%0A%20%20%20%20%20%20%20%20%20%20%20%20%29.addTo%28map_cc62e9fcf51f42918074e369efb6ce74%29%3B%0A%20%20%20%20%20%20%20%20%0A%20%20%20%20%0A%20%20%20%20%20%20%20%20var%20popup_011e84e5bd8d4d82a70281c7ddbb10bf%20%3D%20L.popup%28%7B%22maxWidth%22%3A%20%22100%25%22%7D%29%3B%0A%0A%20%20%20%20%20%20%20%20%0A%20%20%20%20%20%20%20%20%20%20%20%20var%20html_32c04c46164c44e688bbd9661dc38fbd%20%3D%20%24%28%60%3Cdiv%20id%3D%22html_32c04c46164c44e688bbd9661dc38fbd%22%20style%3D%22width%3A%20100.0%25%3B%20height%3A%20100.0%25%3B%22%3ENana%3C/div%3E%60%29%5B0%5D%3B%0A%20%20%20%20%20%20%20%20%20%20%20%20popup_011e84e5bd8d4d82a70281c7ddbb10bf.setContent%28html_32c04c46164c44e688bbd9661dc38fbd%29%3B%0A%20%20%20%20%20%20%20%20%0A%0A%20%20%20%20%20%20%20%20marker_bc8502bad99c42bd9d9ea0d8a0fcd650.bindPopup%28popup_011e84e5bd8d4d82a70281c7ddbb10bf%29%0A%20%20%20%20%20%20%20%20%3B%0A%0A%20%20%20%20%20%20%20%20%0A%20%20%20%20%0A%20%20%20%20%0A%20%20%20%20%20%20%20%20%20%20%20%20var%20marker_0de3d44a03094179abf7d9586792c3b2%20%3D%20L.marker%28%0A%20%20%20%20%20%20%20%20%20%20%20%20%20%20%20%20%5B41.927620700000006%2C%20-87.70679200000001%5D%2C%0A%20%20%20%20%20%20%20%20%20%20%20%20%20%20%20%20%7B%7D%0A%20%20%20%20%20%20%20%20%20%20%20%20%29.addTo%28map_cc62e9fcf51f42918074e369efb6ce74%29%3B%0A%20%20%20%20%20%20%20%20%0A%20%20%20%20%0A%20%20%20%20%20%20%20%20var%20popup_027c20e615744e05a65bb58a2461baf1%20%3D%20L.popup%28%7B%22maxWidth%22%3A%20%22100%25%22%7D%29%3B%0A%0A%20%20%20%20%20%20%20%20%0A%20%20%20%20%20%20%20%20%20%20%20%20var%20html_040fb570eab9492aaaab5af6623651eb%20%3D%20%24%28%60%3Cdiv%20id%3D%22html_040fb570eab9492aaaab5af6623651eb%22%20style%3D%22width%3A%20100.0%25%3B%20height%3A%20100.0%25%3B%22%3ELula%20Cafe%3C/div%3E%60%29%5B0%5D%3B%0A%20%20%20%20%20%20%20%20%20%20%20%20popup_027c20e615744e05a65bb58a2461baf1.setContent%28html_040fb570eab9492aaaab5af6623651eb%29%3B%0A%20%20%20%20%20%20%20%20%0A%0A%20%20%20%20%20%20%20%20marker_0de3d44a03094179abf7d9586792c3b2.bindPopup%28popup_027c20e615744e05a65bb58a2461baf1%29%0A%20%20%20%20%20%20%20%20%3B%0A%0A%20%20%20%20%20%20%20%20%0A%20%20%20%20%0A%20%20%20%20%0A%20%20%20%20%20%20%20%20%20%20%20%20var%20marker_5d44d24b212844f9912975276f6fa77e%20%3D%20L.marker%28%0A%20%20%20%20%20%20%20%20%20%20%20%20%20%20%20%20%5B41.9384419%2C%20-87.64464369999997%5D%2C%0A%20%20%20%20%20%20%20%20%20%20%20%20%20%20%20%20%7B%7D%0A%20%20%20%20%20%20%20%20%20%20%20%20%29.addTo%28map_cc62e9fcf51f42918074e369efb6ce74%29%3B%0A%20%20%20%20%20%20%20%20%0A%20%20%20%20%0A%20%20%20%20%20%20%20%20var%20popup_082e3e020351455f9c8f1f7907b9718b%20%3D%20L.popup%28%7B%22maxWidth%22%3A%20%22100%25%22%7D%29%3B%0A%0A%20%20%20%20%20%20%20%20%0A%20%20%20%20%20%20%20%20%20%20%20%20var%20html_4bf76dd85ada4058ace7a76dd7b61ec7%20%3D%20%24%28%60%3Cdiv%20id%3D%22html_4bf76dd85ada4058ace7a76dd7b61ec7%22%20style%3D%22width%3A%20100.0%25%3B%20height%3A%20100.0%25%3B%22%3EFrog%20n%20Snail%3C/div%3E%60%29%5B0%5D%3B%0A%20%20%20%20%20%20%20%20%20%20%20%20popup_082e3e020351455f9c8f1f7907b9718b.setContent%28html_4bf76dd85ada4058ace7a76dd7b61ec7%29%3B%0A%20%20%20%20%20%20%20%20%0A%0A%20%20%20%20%20%20%20%20marker_5d44d24b212844f9912975276f6fa77e.bindPopup%28popup_082e3e020351455f9c8f1f7907b9718b%29%0A%20%20%20%20%20%20%20%20%3B%0A%0A%20%20%20%20%20%20%20%20%0A%20%20%20%20%0A%20%20%20%20%0A%20%20%20%20%20%20%20%20%20%20%20%20var%20marker_126505c99c0143cca529ad1b97879ace%20%3D%20L.marker%28%0A%20%20%20%20%20%20%20%20%20%20%20%20%20%20%20%20%5B41.9451044%2C%20-87.6636812%5D%2C%0A%20%20%20%20%20%20%20%20%20%20%20%20%20%20%20%20%7B%7D%0A%20%20%20%20%20%20%20%20%20%20%20%20%29.addTo%28map_cc62e9fcf51f42918074e369efb6ce74%29%3B%0A%20%20%20%20%20%20%20%20%0A%20%20%20%20%0A%20%20%20%20%20%20%20%20var%20popup_553f7d59138d45afb305d786965de115%20%3D%20L.popup%28%7B%22maxWidth%22%3A%20%22100%25%22%7D%29%3B%0A%0A%20%20%20%20%20%20%20%20%0A%20%20%20%20%20%20%20%20%20%20%20%20var%20html_ba8a55e700fd460eb50f5a5c246aebd3%20%3D%20%24%28%60%3Cdiv%20id%3D%22html_ba8a55e700fd460eb50f5a5c246aebd3%22%20style%3D%22width%3A%20100.0%25%3B%20height%3A%20100.0%25%3B%22%3ECrosby%E2%80%99s%20Kitchen%3C/div%3E%60%29%5B0%5D%3B%0A%20%20%20%20%20%20%20%20%20%20%20%20popup_553f7d59138d45afb305d786965de115.setContent%28html_ba8a55e700fd460eb50f5a5c246aebd3%29%3B%0A%20%20%20%20%20%20%20%20%0A%0A%20%20%20%20%20%20%20%20marker_126505c99c0143cca529ad1b97879ace.bindPopup%28popup_553f7d59138d45afb305d786965de115%29%0A%20%20%20%20%20%20%20%20%3B%0A%0A%20%20%20%20%20%20%20%20%0A%20%20%20%20%0A%20%20%20%20%0A%20%20%20%20%20%20%20%20%20%20%20%20var%20marker_f4658e452757442ca77bfafafba3ea07%20%3D%20L.marker%28%0A%20%20%20%20%20%20%20%20%20%20%20%20%20%20%20%20%5B41.930109%2C%20-87.7072408%5D%2C%0A%20%20%20%20%20%20%20%20%20%20%20%20%20%20%20%20%7B%7D%0A%20%20%20%20%20%20%20%20%20%20%20%20%29.addTo%28map_cc62e9fcf51f42918074e369efb6ce74%29%3B%0A%20%20%20%20%20%20%20%20%0A%20%20%20%20%0A%20%20%20%20%20%20%20%20var%20popup_2decffee393041ba90f2c1d1aa95c547%20%3D%20L.popup%28%7B%22maxWidth%22%3A%20%22100%25%22%7D%29%3B%0A%0A%20%20%20%20%20%20%20%20%0A%20%20%20%20%20%20%20%20%20%20%20%20var%20html_8471e9f2c59d4822ab7965379b93a0f2%20%3D%20%24%28%60%3Cdiv%20id%3D%22html_8471e9f2c59d4822ab7965379b93a0f2%22%20style%3D%22width%3A%20100.0%25%3B%20height%3A%20100.0%25%3B%22%3ELongman%20%26%20Eagle%3C/div%3E%60%29%5B0%5D%3B%0A%20%20%20%20%20%20%20%20%20%20%20%20popup_2decffee393041ba90f2c1d1aa95c547.setContent%28html_8471e9f2c59d4822ab7965379b93a0f2%29%3B%0A%20%20%20%20%20%20%20%20%0A%0A%20%20%20%20%20%20%20%20marker_f4658e452757442ca77bfafafba3ea07.bindPopup%28popup_2decffee393041ba90f2c1d1aa95c547%29%0A%20%20%20%20%20%20%20%20%3B%0A%0A%20%20%20%20%20%20%20%20%0A%20%20%20%20%0A%20%20%20%20%0A%20%20%20%20%20%20%20%20%20%20%20%20var%20marker_0ad1831d491a4040b046ffd0a6d57a68%20%3D%20L.marker%28%0A%20%20%20%20%20%20%20%20%20%20%20%20%20%20%20%20%5B41.8912971%2C%20-87.6555453%5D%2C%0A%20%20%20%20%20%20%20%20%20%20%20%20%20%20%20%20%7B%7D%0A%20%20%20%20%20%20%20%20%20%20%20%20%29.addTo%28map_cc62e9fcf51f42918074e369efb6ce74%29%3B%0A%20%20%20%20%20%20%20%20%0A%20%20%20%20%0A%20%20%20%20%20%20%20%20var%20popup_85aea7bd5840422aa73c2c5ecbeb665d%20%3D%20L.popup%28%7B%22maxWidth%22%3A%20%22100%25%22%7D%29%3B%0A%0A%20%20%20%20%20%20%20%20%0A%20%20%20%20%20%20%20%20%20%20%20%20var%20html_137ebd05f1cb4ecb83ab7be0587f88a6%20%3D%20%24%28%60%3Cdiv%20id%3D%22html_137ebd05f1cb4ecb83ab7be0587f88a6%22%20style%3D%22width%3A%20100.0%25%3B%20height%3A%20100.0%25%3B%22%3EBari%3C/div%3E%60%29%5B0%5D%3B%0A%20%20%20%20%20%20%20%20%20%20%20%20popup_85aea7bd5840422aa73c2c5ecbeb665d.setContent%28html_137ebd05f1cb4ecb83ab7be0587f88a6%29%3B%0A%20%20%20%20%20%20%20%20%0A%0A%20%20%20%20%20%20%20%20marker_0ad1831d491a4040b046ffd0a6d57a68.bindPopup%28popup_85aea7bd5840422aa73c2c5ecbeb665d%29%0A%20%20%20%20%20%20%20%20%3B%0A%0A%20%20%20%20%20%20%20%20%0A%20%20%20%20%0A%20%20%20%20%0A%20%20%20%20%20%20%20%20%20%20%20%20var%20marker_cdc1fa41b09240aab31a1718f64cdbd5%20%3D%20L.marker%28%0A%20%20%20%20%20%20%20%20%20%20%20%20%20%20%20%20%5B41.867852899999995%2C%20-87.64192890000001%5D%2C%0A%20%20%20%20%20%20%20%20%20%20%20%20%20%20%20%20%7B%7D%0A%20%20%20%20%20%20%20%20%20%20%20%20%29.addTo%28map_cc62e9fcf51f42918074e369efb6ce74%29%3B%0A%20%20%20%20%20%20%20%20%0A%20%20%20%20%0A%20%20%20%20%20%20%20%20var%20popup_d6f2396270854112a97b32afca0d702e%20%3D%20L.popup%28%7B%22maxWidth%22%3A%20%22100%25%22%7D%29%3B%0A%0A%20%20%20%20%20%20%20%20%0A%20%20%20%20%20%20%20%20%20%20%20%20var%20html_5693e677a50c474caf8f0e9a911d0c94%20%3D%20%24%28%60%3Cdiv%20id%3D%22html_5693e677a50c474caf8f0e9a911d0c94%22%20style%3D%22width%3A%20100.0%25%3B%20height%3A%20100.0%25%3B%22%3EManny%E2%80%99s%3C/div%3E%60%29%5B0%5D%3B%0A%20%20%20%20%20%20%20%20%20%20%20%20popup_d6f2396270854112a97b32afca0d702e.setContent%28html_5693e677a50c474caf8f0e9a911d0c94%29%3B%0A%20%20%20%20%20%20%20%20%0A%0A%20%20%20%20%20%20%20%20marker_cdc1fa41b09240aab31a1718f64cdbd5.bindPopup%28popup_d6f2396270854112a97b32afca0d702e%29%0A%20%20%20%20%20%20%20%20%3B%0A%0A%20%20%20%20%20%20%20%20%0A%20%20%20%20%0A%20%20%20%20%0A%20%20%20%20%20%20%20%20%20%20%20%20var%20marker_dbe79d298c7547d788c93e584c0886b7%20%3D%20L.marker%28%0A%20%20%20%20%20%20%20%20%20%20%20%20%20%20%20%20%5B41.8852691%2C%20-87.6184837%5D%2C%0A%20%20%20%20%20%20%20%20%20%20%20%20%20%20%20%20%7B%7D%0A%20%20%20%20%20%20%20%20%20%20%20%20%29.addTo%28map_cc62e9fcf51f42918074e369efb6ce74%29%3B%0A%20%20%20%20%20%20%20%20%0A%20%20%20%20%0A%20%20%20%20%20%20%20%20var%20popup_66ee320c07d64040852928b54268c939%20%3D%20L.popup%28%7B%22maxWidth%22%3A%20%22100%25%22%7D%29%3B%0A%0A%20%20%20%20%20%20%20%20%0A%20%20%20%20%20%20%20%20%20%20%20%20var%20html_de62b70f28b74aa58b56ac1b43302597%20%3D%20%24%28%60%3Cdiv%20id%3D%22html_de62b70f28b74aa58b56ac1b43302597%22%20style%3D%22width%3A%20100.0%25%3B%20height%3A%20100.0%25%3B%22%3EEggy%E2%80%99s%3C/div%3E%60%29%5B0%5D%3B%0A%20%20%20%20%20%20%20%20%20%20%20%20popup_66ee320c07d64040852928b54268c939.setContent%28html_de62b70f28b74aa58b56ac1b43302597%29%3B%0A%20%20%20%20%20%20%20%20%0A%0A%20%20%20%20%20%20%20%20marker_dbe79d298c7547d788c93e584c0886b7.bindPopup%28popup_66ee320c07d64040852928b54268c939%29%0A%20%20%20%20%20%20%20%20%3B%0A%0A%20%20%20%20%20%20%20%20%0A%20%20%20%20%0A%20%20%20%20%0A%20%20%20%20%20%20%20%20%20%20%20%20var%20marker_c920ea8210a547ac8fa7b70ca92831bd%20%3D%20L.marker%28%0A%20%20%20%20%20%20%20%20%20%20%20%20%20%20%20%20%5B41.9080539%2C%20-87.63431130000001%5D%2C%0A%20%20%20%20%20%20%20%20%20%20%20%20%20%20%20%20%7B%7D%0A%20%20%20%20%20%20%20%20%20%20%20%20%29.addTo%28map_cc62e9fcf51f42918074e369efb6ce74%29%3B%0A%20%20%20%20%20%20%20%20%0A%20%20%20%20%0A%20%20%20%20%20%20%20%20var%20popup_2e87b1fc42ca4c2cb32b03f554bbc61b%20%3D%20L.popup%28%7B%22maxWidth%22%3A%20%22100%25%22%7D%29%3B%0A%0A%20%20%20%20%20%20%20%20%0A%20%20%20%20%20%20%20%20%20%20%20%20var%20html_6d0facfddeb24e5faa5c73412e8fd357%20%3D%20%24%28%60%3Cdiv%20id%3D%22html_6d0facfddeb24e5faa5c73412e8fd357%22%20style%3D%22width%3A%20100.0%25%3B%20height%3A%20100.0%25%3B%22%3EOld%20Jerusalem%3C/div%3E%60%29%5B0%5D%3B%0A%20%20%20%20%20%20%20%20%20%20%20%20popup_2e87b1fc42ca4c2cb32b03f554bbc61b.setContent%28html_6d0facfddeb24e5faa5c73412e8fd357%29%3B%0A%20%20%20%20%20%20%20%20%0A%0A%20%20%20%20%20%20%20%20marker_c920ea8210a547ac8fa7b70ca92831bd.bindPopup%28popup_2e87b1fc42ca4c2cb32b03f554bbc61b%29%0A%20%20%20%20%20%20%20%20%3B%0A%0A%20%20%20%20%20%20%20%20%0A%20%20%20%20%0A%20%20%20%20%0A%20%20%20%20%20%20%20%20%20%20%20%20var%20marker_8dc52cadbe6c40f3bf8dcd89c144a7d0%20%3D%20L.marker%28%0A%20%20%20%20%20%20%20%20%20%20%20%20%20%20%20%20%5B41.91369539999999%2C%20-87.6771273%5D%2C%0A%20%20%20%20%20%20%20%20%20%20%20%20%20%20%20%20%7B%7D%0A%20%20%20%20%20%20%20%20%20%20%20%20%29.addTo%28map_cc62e9fcf51f42918074e369efb6ce74%29%3B%0A%20%20%20%20%20%20%20%20%0A%20%20%20%20%0A%20%20%20%20%20%20%20%20var%20popup_33af75bb5ff446d9817c8a2bed1e877d%20%3D%20L.popup%28%7B%22maxWidth%22%3A%20%22100%25%22%7D%29%3B%0A%0A%20%20%20%20%20%20%20%20%0A%20%20%20%20%20%20%20%20%20%20%20%20var%20html_212d9c9727cb4cf88e720f52203d04c5%20%3D%20%24%28%60%3Cdiv%20id%3D%22html_212d9c9727cb4cf88e720f52203d04c5%22%20style%3D%22width%3A%20100.0%25%3B%20height%3A%20100.0%25%3B%22%3EMindy%E2%80%99s%20HotChocolate%3C/div%3E%60%29%5B0%5D%3B%0A%20%20%20%20%20%20%20%20%20%20%20%20popup_33af75bb5ff446d9817c8a2bed1e877d.setContent%28html_212d9c9727cb4cf88e720f52203d04c5%29%3B%0A%20%20%20%20%20%20%20%20%0A%0A%20%20%20%20%20%20%20%20marker_8dc52cadbe6c40f3bf8dcd89c144a7d0.bindPopup%28popup_33af75bb5ff446d9817c8a2bed1e877d%29%0A%20%20%20%20%20%20%20%20%3B%0A%0A%20%20%20%20%20%20%20%20%0A%20%20%20%20%0A%20%20%20%20%0A%20%20%20%20%20%20%20%20%20%20%20%20var%20marker_128d0939c6c54e58814261fd3d72c6d4%20%3D%20L.marker%28%0A%20%20%20%20%20%20%20%20%20%20%20%20%20%20%20%20%5B41.95368870000001%2C%20-87.7084498%5D%2C%0A%20%20%20%20%20%20%20%20%20%20%20%20%20%20%20%20%7B%7D%0A%20%20%20%20%20%20%20%20%20%20%20%20%29.addTo%28map_cc62e9fcf51f42918074e369efb6ce74%29%3B%0A%20%20%20%20%20%20%20%20%0A%20%20%20%20%0A%20%20%20%20%20%20%20%20var%20popup_53ba69b9012d49a193fe1f72a8d6aa29%20%3D%20L.popup%28%7B%22maxWidth%22%3A%20%22100%25%22%7D%29%3B%0A%0A%20%20%20%20%20%20%20%20%0A%20%20%20%20%20%20%20%20%20%20%20%20var%20html_ce9376fbeb444e1a9be6563df25468d8%20%3D%20%24%28%60%3Cdiv%20id%3D%22html_ce9376fbeb444e1a9be6563df25468d8%22%20style%3D%22width%3A%20100.0%25%3B%20height%3A%20100.0%25%3B%22%3EOlga%E2%80%99s%20Delicatessen%3C/div%3E%60%29%5B0%5D%3B%0A%20%20%20%20%20%20%20%20%20%20%20%20popup_53ba69b9012d49a193fe1f72a8d6aa29.setContent%28html_ce9376fbeb444e1a9be6563df25468d8%29%3B%0A%20%20%20%20%20%20%20%20%0A%0A%20%20%20%20%20%20%20%20marker_128d0939c6c54e58814261fd3d72c6d4.bindPopup%28popup_53ba69b9012d49a193fe1f72a8d6aa29%29%0A%20%20%20%20%20%20%20%20%3B%0A%0A%20%20%20%20%20%20%20%20%0A%20%20%20%20%0A%20%20%20%20%0A%20%20%20%20%20%20%20%20%20%20%20%20var%20marker_d313e65cd6de4e1e8f32b8055d4b31ad%20%3D%20L.marker%28%0A%20%20%20%20%20%20%20%20%20%20%20%20%20%20%20%20%5B41.9794496%2C%20-87.66795719999998%5D%2C%0A%20%20%20%20%20%20%20%20%20%20%20%20%20%20%20%20%7B%7D%0A%20%20%20%20%20%20%20%20%20%20%20%20%29.addTo%28map_cc62e9fcf51f42918074e369efb6ce74%29%3B%0A%20%20%20%20%20%20%20%20%0A%20%20%20%20%0A%20%20%20%20%20%20%20%20var%20popup_1d9f1ce616bf4d049a64aee26e2d00b3%20%3D%20L.popup%28%7B%22maxWidth%22%3A%20%22100%25%22%7D%29%3B%0A%0A%20%20%20%20%20%20%20%20%0A%20%20%20%20%20%20%20%20%20%20%20%20var%20html_86f4bbbf31f44d558be3f952739575f1%20%3D%20%24%28%60%3Cdiv%20id%3D%22html_86f4bbbf31f44d558be3f952739575f1%22%20style%3D%22width%3A%20100.0%25%3B%20height%3A%20100.0%25%3B%22%3EBig%20Jones%3C/div%3E%60%29%5B0%5D%3B%0A%20%20%20%20%20%20%20%20%20%20%20%20popup_1d9f1ce616bf4d049a64aee26e2d00b3.setContent%28html_86f4bbbf31f44d558be3f952739575f1%29%3B%0A%20%20%20%20%20%20%20%20%0A%0A%20%20%20%20%20%20%20%20marker_d313e65cd6de4e1e8f32b8055d4b31ad.bindPopup%28popup_1d9f1ce616bf4d049a64aee26e2d00b3%29%0A%20%20%20%20%20%20%20%20%3B%0A%0A%20%20%20%20%20%20%20%20%0A%20%20%20%20%0A%20%20%20%20%0A%20%20%20%20%20%20%20%20%20%20%20%20var%20marker_a68458deb37c4eb7a065fc61102cceb5%20%3D%20L.marker%28%0A%20%20%20%20%20%20%20%20%20%20%20%20%20%20%20%20%5B41.954156299999994%2C%20-87.70271070000001%5D%2C%0A%20%20%20%20%20%20%20%20%20%20%20%20%20%20%20%20%7B%7D%0A%20%20%20%20%20%20%20%20%20%20%20%20%29.addTo%28map_cc62e9fcf51f42918074e369efb6ce74%29%3B%0A%20%20%20%20%20%20%20%20%0A%20%20%20%20%0A%20%20%20%20%20%20%20%20var%20popup_91019db41a804af0b7d4b7438c2519d6%20%3D%20L.popup%28%7B%22maxWidth%22%3A%20%22100%25%22%7D%29%3B%0A%0A%20%20%20%20%20%20%20%20%0A%20%20%20%20%20%20%20%20%20%20%20%20var%20html_5fdcab0697f84a1386dcca4ba85113b5%20%3D%20%24%28%60%3Cdiv%20id%3D%22html_5fdcab0697f84a1386dcca4ba85113b5%22%20style%3D%22width%3A%20100.0%25%3B%20height%3A%20100.0%25%3B%22%3ELa%20Pane%3C/div%3E%60%29%5B0%5D%3B%0A%20%20%20%20%20%20%20%20%20%20%20%20popup_91019db41a804af0b7d4b7438c2519d6.setContent%28html_5fdcab0697f84a1386dcca4ba85113b5%29%3B%0A%20%20%20%20%20%20%20%20%0A%0A%20%20%20%20%20%20%20%20marker_a68458deb37c4eb7a065fc61102cceb5.bindPopup%28popup_91019db41a804af0b7d4b7438c2519d6%29%0A%20%20%20%20%20%20%20%20%3B%0A%0A%20%20%20%20%20%20%20%20%0A%20%20%20%20%0A%20%20%20%20%0A%20%20%20%20%20%20%20%20%20%20%20%20var%20marker_ead71f2ce32b4d428759b9602a5a58d8%20%3D%20L.marker%28%0A%20%20%20%20%20%20%20%20%20%20%20%20%20%20%20%20%5B42.156690999999995%2C%20-87.803618%5D%2C%0A%20%20%20%20%20%20%20%20%20%20%20%20%20%20%20%20%7B%7D%0A%20%20%20%20%20%20%20%20%20%20%20%20%29.addTo%28map_cc62e9fcf51f42918074e369efb6ce74%29%3B%0A%20%20%20%20%20%20%20%20%0A%20%20%20%20%0A%20%20%20%20%20%20%20%20var%20popup_5aea9c370801443eb02a6c5cf3208f53%20%3D%20L.popup%28%7B%22maxWidth%22%3A%20%22100%25%22%7D%29%3B%0A%0A%20%20%20%20%20%20%20%20%0A%20%20%20%20%20%20%20%20%20%20%20%20var%20html_d04e4f955a2941118cfee1d932dcb070%20%3D%20%24%28%60%3Cdiv%20id%3D%22html_d04e4f955a2941118cfee1d932dcb070%22%20style%3D%22width%3A%20100.0%25%3B%20height%3A%20100.0%25%3B%22%3EMax%E2%80%99s%20Deli%3C/div%3E%60%29%5B0%5D%3B%0A%20%20%20%20%20%20%20%20%20%20%20%20popup_5aea9c370801443eb02a6c5cf3208f53.setContent%28html_d04e4f955a2941118cfee1d932dcb070%29%3B%0A%20%20%20%20%20%20%20%20%0A%0A%20%20%20%20%20%20%20%20marker_ead71f2ce32b4d428759b9602a5a58d8.bindPopup%28popup_5aea9c370801443eb02a6c5cf3208f53%29%0A%20%20%20%20%20%20%20%20%3B%0A%0A%20%20%20%20%20%20%20%20%0A%20%20%20%20%0A%20%20%20%20%0A%20%20%20%20%20%20%20%20%20%20%20%20var%20marker_43c9c91ab7254c729600dab3a2145edf%20%3D%20L.marker%28%0A%20%20%20%20%20%20%20%20%20%20%20%20%20%20%20%20%5B41.965298700000005%2C%20-87.67557959999998%5D%2C%0A%20%20%20%20%20%20%20%20%20%20%20%20%20%20%20%20%7B%7D%0A%20%20%20%20%20%20%20%20%20%20%20%20%29.addTo%28map_cc62e9fcf51f42918074e369efb6ce74%29%3B%0A%20%20%20%20%20%20%20%20%0A%20%20%20%20%0A%20%20%20%20%20%20%20%20var%20popup_706750691e63410fa0c6bb41096218ce%20%3D%20L.popup%28%7B%22maxWidth%22%3A%20%22100%25%22%7D%29%3B%0A%0A%20%20%20%20%20%20%20%20%0A%20%20%20%20%20%20%20%20%20%20%20%20var%20html_d671ab070d86466c823ae5643b977370%20%3D%20%24%28%60%3Cdiv%20id%3D%22html_d671ab070d86466c823ae5643b977370%22%20style%3D%22width%3A%20100.0%25%3B%20height%3A%20100.0%25%3B%22%3ECity%20Provisions%3C/div%3E%60%29%5B0%5D%3B%0A%20%20%20%20%20%20%20%20%20%20%20%20popup_706750691e63410fa0c6bb41096218ce.setContent%28html_d671ab070d86466c823ae5643b977370%29%3B%0A%20%20%20%20%20%20%20%20%0A%0A%20%20%20%20%20%20%20%20marker_43c9c91ab7254c729600dab3a2145edf.bindPopup%28popup_706750691e63410fa0c6bb41096218ce%29%0A%20%20%20%20%20%20%20%20%3B%0A%0A%20%20%20%20%20%20%20%20%0A%20%20%20%20%0A%20%20%20%20%0A%20%20%20%20%20%20%20%20%20%20%20%20var%20marker_f0bf859392c04e2c9c92af7b52b4d294%20%3D%20L.marker%28%0A%20%20%20%20%20%20%20%20%20%20%20%20%20%20%20%20%5B41.9027178%2C%20-87.6902192%5D%2C%0A%20%20%20%20%20%20%20%20%20%20%20%20%20%20%20%20%7B%7D%0A%20%20%20%20%20%20%20%20%20%20%20%20%29.addTo%28map_cc62e9fcf51f42918074e369efb6ce74%29%3B%0A%20%20%20%20%20%20%20%20%0A%20%20%20%20%0A%20%20%20%20%20%20%20%20var%20popup_78b40870d30b4b8c8e96c82a07ec9a9c%20%3D%20L.popup%28%7B%22maxWidth%22%3A%20%22100%25%22%7D%29%3B%0A%0A%20%20%20%20%20%20%20%20%0A%20%20%20%20%20%20%20%20%20%20%20%20var%20html_c171e646fbd14f81a7f32fed4aa33321%20%3D%20%24%28%60%3Cdiv%20id%3D%22html_c171e646fbd14f81a7f32fed4aa33321%22%20style%3D%22width%3A%20100.0%25%3B%20height%3A%20100.0%25%3B%22%3EPapa%E2%80%99s%20Cache%20Sabroso%3C/div%3E%60%29%5B0%5D%3B%0A%20%20%20%20%20%20%20%20%20%20%20%20popup_78b40870d30b4b8c8e96c82a07ec9a9c.setContent%28html_c171e646fbd14f81a7f32fed4aa33321%29%3B%0A%20%20%20%20%20%20%20%20%0A%0A%20%20%20%20%20%20%20%20marker_f0bf859392c04e2c9c92af7b52b4d294.bindPopup%28popup_78b40870d30b4b8c8e96c82a07ec9a9c%29%0A%20%20%20%20%20%20%20%20%3B%0A%0A%20%20%20%20%20%20%20%20%0A%20%20%20%20%0A%20%20%20%20%0A%20%20%20%20%20%20%20%20%20%20%20%20var%20marker_fd0f1ad9ea7742ceabb3ee464af5d9c0%20%3D%20L.marker%28%0A%20%20%20%20%20%20%20%20%20%20%20%20%20%20%20%20%5B41.889368299999994%2C%20-87.63494870000001%5D%2C%0A%20%20%20%20%20%20%20%20%20%20%20%20%20%20%20%20%7B%7D%0A%20%20%20%20%20%20%20%20%20%20%20%20%29.addTo%28map_cc62e9fcf51f42918074e369efb6ce74%29%3B%0A%20%20%20%20%20%20%20%20%0A%20%20%20%20%0A%20%20%20%20%20%20%20%20var%20popup_fbd1d424b3d24a0384c637d1e7fe9e5b%20%3D%20L.popup%28%7B%22maxWidth%22%3A%20%22100%25%22%7D%29%3B%0A%0A%20%20%20%20%20%20%20%20%0A%20%20%20%20%20%20%20%20%20%20%20%20var%20html_1ed3f273c9ee4e80aee32c9d4dd43f7f%20%3D%20%24%28%60%3Cdiv%20id%3D%22html_1ed3f273c9ee4e80aee32c9d4dd43f7f%22%20style%3D%22width%3A%20100.0%25%3B%20height%3A%20100.0%25%3B%22%3EBavette%E2%80%99s%20Bar%20%26%20Boeuf%3C/div%3E%60%29%5B0%5D%3B%0A%20%20%20%20%20%20%20%20%20%20%20%20popup_fbd1d424b3d24a0384c637d1e7fe9e5b.setContent%28html_1ed3f273c9ee4e80aee32c9d4dd43f7f%29%3B%0A%20%20%20%20%20%20%20%20%0A%0A%20%20%20%20%20%20%20%20marker_fd0f1ad9ea7742ceabb3ee464af5d9c0.bindPopup%28popup_fbd1d424b3d24a0384c637d1e7fe9e5b%29%0A%20%20%20%20%20%20%20%20%3B%0A%0A%20%20%20%20%20%20%20%20%0A%20%20%20%20%0A%20%20%20%20%0A%20%20%20%20%20%20%20%20%20%20%20%20var%20marker_b3e26f42aeb844f69a526e98f965f61c%20%3D%20L.marker%28%0A%20%20%20%20%20%20%20%20%20%20%20%20%20%20%20%20%5B41.910525799999995%2C%20-87.6343775%5D%2C%0A%20%20%20%20%20%20%20%20%20%20%20%20%20%20%20%20%7B%7D%0A%20%20%20%20%20%20%20%20%20%20%20%20%29.addTo%28map_cc62e9fcf51f42918074e369efb6ce74%29%3B%0A%20%20%20%20%20%20%20%20%0A%20%20%20%20%0A%20%20%20%20%20%20%20%20var%20popup_95d5276be0904e94bc635d077be2758b%20%3D%20L.popup%28%7B%22maxWidth%22%3A%20%22100%25%22%7D%29%3B%0A%0A%20%20%20%20%20%20%20%20%0A%20%20%20%20%20%20%20%20%20%20%20%20var%20html_d0b43d21597548fdabe9f14791d6e1aa%20%3D%20%24%28%60%3Cdiv%20id%3D%22html_d0b43d21597548fdabe9f14791d6e1aa%22%20style%3D%22width%3A%20100.0%25%3B%20height%3A%20100.0%25%3B%22%3ELa%20Fournette%3C/div%3E%60%29%5B0%5D%3B%0A%20%20%20%20%20%20%20%20%20%20%20%20popup_95d5276be0904e94bc635d077be2758b.setContent%28html_d0b43d21597548fdabe9f14791d6e1aa%29%3B%0A%20%20%20%20%20%20%20%20%0A%0A%20%20%20%20%20%20%20%20marker_b3e26f42aeb844f69a526e98f965f61c.bindPopup%28popup_95d5276be0904e94bc635d077be2758b%29%0A%20%20%20%20%20%20%20%20%3B%0A%0A%20%20%20%20%20%20%20%20%0A%20%20%20%20%0A%20%20%20%20%0A%20%20%20%20%20%20%20%20%20%20%20%20var%20marker_663511cf35944a14964f6bcd38bfe065%20%3D%20L.marker%28%0A%20%20%20%20%20%20%20%20%20%20%20%20%20%20%20%20%5B41.889618799999994%2C%20-87.64484259999998%5D%2C%0A%20%20%20%20%20%20%20%20%20%20%20%20%20%20%20%20%7B%7D%0A%20%20%20%20%20%20%20%20%20%20%20%20%29.addTo%28map_cc62e9fcf51f42918074e369efb6ce74%29%3B%0A%20%20%20%20%20%20%20%20%0A%20%20%20%20%0A%20%20%20%20%20%20%20%20var%20popup_a3b4445601f942f0bcf17d9efdceff83%20%3D%20L.popup%28%7B%22maxWidth%22%3A%20%22100%25%22%7D%29%3B%0A%0A%20%20%20%20%20%20%20%20%0A%20%20%20%20%20%20%20%20%20%20%20%20var%20html_e81481dcc40c44d9b220aecd020dea3f%20%3D%20%24%28%60%3Cdiv%20id%3D%22html_e81481dcc40c44d9b220aecd020dea3f%22%20style%3D%22width%3A%20100.0%25%3B%20height%3A%20100.0%25%3B%22%3EParamount%20Room%3C/div%3E%60%29%5B0%5D%3B%0A%20%20%20%20%20%20%20%20%20%20%20%20popup_a3b4445601f942f0bcf17d9efdceff83.setContent%28html_e81481dcc40c44d9b220aecd020dea3f%29%3B%0A%20%20%20%20%20%20%20%20%0A%0A%20%20%20%20%20%20%20%20marker_663511cf35944a14964f6bcd38bfe065.bindPopup%28popup_a3b4445601f942f0bcf17d9efdceff83%29%0A%20%20%20%20%20%20%20%20%3B%0A%0A%20%20%20%20%20%20%20%20%0A%20%20%20%20%0A%20%20%20%20%0A%20%20%20%20%20%20%20%20%20%20%20%20var%20marker_d978537cd0734a5e8c1b33c2cb38526f%20%3D%20L.marker%28%0A%20%20%20%20%20%20%20%20%20%20%20%20%20%20%20%20%5B41.91504990000001%2C%20-87.6778047%5D%2C%0A%20%20%20%20%20%20%20%20%20%20%20%20%20%20%20%20%7B%7D%0A%20%20%20%20%20%20%20%20%20%20%20%20%29.addTo%28map_cc62e9fcf51f42918074e369efb6ce74%29%3B%0A%20%20%20%20%20%20%20%20%0A%20%20%20%20%0A%20%20%20%20%20%20%20%20var%20popup_66520d1be34949db82cd33e5dc6f5eef%20%3D%20L.popup%28%7B%22maxWidth%22%3A%20%22100%25%22%7D%29%3B%0A%0A%20%20%20%20%20%20%20%20%0A%20%20%20%20%20%20%20%20%20%20%20%20var%20html_fb90030634e44be2935183812bae60a0%20%3D%20%24%28%60%3Cdiv%20id%3D%22html_fb90030634e44be2935183812bae60a0%22%20style%3D%22width%3A%20100.0%25%3B%20height%3A%20100.0%25%3B%22%3EMelt%20Sandwich%20Shoppe%3C/div%3E%60%29%5B0%5D%3B%0A%20%20%20%20%20%20%20%20%20%20%20%20popup_66520d1be34949db82cd33e5dc6f5eef.setContent%28html_fb90030634e44be2935183812bae60a0%29%3B%0A%20%20%20%20%20%20%20%20%0A%0A%20%20%20%20%20%20%20%20marker_d978537cd0734a5e8c1b33c2cb38526f.bindPopup%28popup_66520d1be34949db82cd33e5dc6f5eef%29%0A%20%20%20%20%20%20%20%20%3B%0A%0A%20%20%20%20%20%20%20%20%0A%20%20%20%20%0A%20%20%20%20%0A%20%20%20%20%20%20%20%20%20%20%20%20var%20marker_94bd3939bfd24529926eb7683df6837a%20%3D%20L.marker%28%0A%20%20%20%20%20%20%20%20%20%20%20%20%20%20%20%20%5B41.9218521%2C%20-87.6592124%5D%2C%0A%20%20%20%20%20%20%20%20%20%20%20%20%20%20%20%20%7B%7D%0A%20%20%20%20%20%20%20%20%20%20%20%20%29.addTo%28map_cc62e9fcf51f42918074e369efb6ce74%29%3B%0A%20%20%20%20%20%20%20%20%0A%20%20%20%20%0A%20%20%20%20%20%20%20%20var%20popup_cd798216e4754f1298a920170aabdbff%20%3D%20L.popup%28%7B%22maxWidth%22%3A%20%22100%25%22%7D%29%3B%0A%0A%20%20%20%20%20%20%20%20%0A%20%20%20%20%20%20%20%20%20%20%20%20var%20html_c796aae2bd484457965b8e5cffd06541%20%3D%20%24%28%60%3Cdiv%20id%3D%22html_c796aae2bd484457965b8e5cffd06541%22%20style%3D%22width%3A%20100.0%25%3B%20height%3A%20100.0%25%3B%22%3EFloriole%20Cafe%20%26%20Bakery%3C/div%3E%60%29%5B0%5D%3B%0A%20%20%20%20%20%20%20%20%20%20%20%20popup_cd798216e4754f1298a920170aabdbff.setContent%28html_c796aae2bd484457965b8e5cffd06541%29%3B%0A%20%20%20%20%20%20%20%20%0A%0A%20%20%20%20%20%20%20%20marker_94bd3939bfd24529926eb7683df6837a.bindPopup%28popup_cd798216e4754f1298a920170aabdbff%29%0A%20%20%20%20%20%20%20%20%3B%0A%0A%20%20%20%20%20%20%20%20%0A%20%20%20%20%0A%20%20%20%20%0A%20%20%20%20%20%20%20%20%20%20%20%20var%20marker_f3ca3d3220ae4771b63a6e65bb977b22%20%3D%20L.marker%28%0A%20%20%20%20%20%20%20%20%20%20%20%20%20%20%20%20%5B41.979709899999996%2C%20-87.66934409999998%5D%2C%0A%20%20%20%20%20%20%20%20%20%20%20%20%20%20%20%20%7B%7D%0A%20%20%20%20%20%20%20%20%20%20%20%20%29.addTo%28map_cc62e9fcf51f42918074e369efb6ce74%29%3B%0A%20%20%20%20%20%20%20%20%0A%20%20%20%20%0A%20%20%20%20%20%20%20%20var%20popup_dc8071504264468da7e9f3381c2c30ba%20%3D%20L.popup%28%7B%22maxWidth%22%3A%20%22100%25%22%7D%29%3B%0A%0A%20%20%20%20%20%20%20%20%0A%20%20%20%20%20%20%20%20%20%20%20%20var%20html_379eef1d79c444d49c98f11e30ff40f0%20%3D%20%24%28%60%3Cdiv%20id%3D%22html_379eef1d79c444d49c98f11e30ff40f0%22%20style%3D%22width%3A%20100.0%25%3B%20height%3A%20100.0%25%3B%22%3EFirst%20Slice%20Pie%20Caf%C3%A9%3C/div%3E%60%29%5B0%5D%3B%0A%20%20%20%20%20%20%20%20%20%20%20%20popup_dc8071504264468da7e9f3381c2c30ba.setContent%28html_379eef1d79c444d49c98f11e30ff40f0%29%3B%0A%20%20%20%20%20%20%20%20%0A%0A%20%20%20%20%20%20%20%20marker_f3ca3d3220ae4771b63a6e65bb977b22.bindPopup%28popup_dc8071504264468da7e9f3381c2c30ba%29%0A%20%20%20%20%20%20%20%20%3B%0A%0A%20%20%20%20%20%20%20%20%0A%20%20%20%20%0A%20%20%20%20%0A%20%20%20%20%20%20%20%20%20%20%20%20var%20marker_285e1ae9bfa049aeb744c5a99fee199d%20%3D%20L.marker%28%0A%20%20%20%20%20%20%20%20%20%20%20%20%20%20%20%20%5B41.9617122%2C%20-87.67581620000001%5D%2C%0A%20%20%20%20%20%20%20%20%20%20%20%20%20%20%20%20%7B%7D%0A%20%20%20%20%20%20%20%20%20%20%20%20%29.addTo%28map_cc62e9fcf51f42918074e369efb6ce74%29%3B%0A%20%20%20%20%20%20%20%20%0A%20%20%20%20%0A%20%20%20%20%20%20%20%20var%20popup_a4eb556d9e704f6888f7cc0d4ea33a54%20%3D%20L.popup%28%7B%22maxWidth%22%3A%20%22100%25%22%7D%29%3B%0A%0A%20%20%20%20%20%20%20%20%0A%20%20%20%20%20%20%20%20%20%20%20%20var%20html_548c329e42a44500865ff7e244196ed0%20%3D%20%24%28%60%3Cdiv%20id%3D%22html_548c329e42a44500865ff7e244196ed0%22%20style%3D%22width%3A%20100.0%25%3B%20height%3A%20100.0%25%3B%22%3ETroquet%3C/div%3E%60%29%5B0%5D%3B%0A%20%20%20%20%20%20%20%20%20%20%20%20popup_a4eb556d9e704f6888f7cc0d4ea33a54.setContent%28html_548c329e42a44500865ff7e244196ed0%29%3B%0A%20%20%20%20%20%20%20%20%0A%0A%20%20%20%20%20%20%20%20marker_285e1ae9bfa049aeb744c5a99fee199d.bindPopup%28popup_a4eb556d9e704f6888f7cc0d4ea33a54%29%0A%20%20%20%20%20%20%20%20%3B%0A%0A%20%20%20%20%20%20%20%20%0A%20%20%20%20%0A%20%20%20%20%0A%20%20%20%20%20%20%20%20%20%20%20%20var%20marker_c0bb04ba8ec849cd8293283b3925e336%20%3D%20L.marker%28%0A%20%20%20%20%20%20%20%20%20%20%20%20%20%20%20%20%5B41.89296119999999%2C%20-87.6278214%5D%2C%0A%20%20%20%20%20%20%20%20%20%20%20%20%20%20%20%20%7B%7D%0A%20%20%20%20%20%20%20%20%20%20%20%20%29.addTo%28map_cc62e9fcf51f42918074e369efb6ce74%29%3B%0A%20%20%20%20%20%20%20%20%0A%20%20%20%20%0A%20%20%20%20%20%20%20%20var%20popup_997d75d248464f97949772d55993eb36%20%3D%20L.popup%28%7B%22maxWidth%22%3A%20%22100%25%22%7D%29%3B%0A%0A%20%20%20%20%20%20%20%20%0A%20%20%20%20%20%20%20%20%20%20%20%20var%20html_049b76afe216495aafe3e9a246485b79%20%3D%20%24%28%60%3Cdiv%20id%3D%22html_049b76afe216495aafe3e9a246485b79%22%20style%3D%22width%3A%20100.0%25%3B%20height%3A%20100.0%25%3B%22%3EGrahamwich%3C/div%3E%60%29%5B0%5D%3B%0A%20%20%20%20%20%20%20%20%20%20%20%20popup_997d75d248464f97949772d55993eb36.setContent%28html_049b76afe216495aafe3e9a246485b79%29%3B%0A%20%20%20%20%20%20%20%20%0A%0A%20%20%20%20%20%20%20%20marker_c0bb04ba8ec849cd8293283b3925e336.bindPopup%28popup_997d75d248464f97949772d55993eb36%29%0A%20%20%20%20%20%20%20%20%3B%0A%0A%20%20%20%20%20%20%20%20%0A%20%20%20%20%0A%20%20%20%20%0A%20%20%20%20%20%20%20%20%20%20%20%20var%20marker_16ee8e15502b4684bfb1622514c053d8%20%3D%20L.marker%28%0A%20%20%20%20%20%20%20%20%20%20%20%20%20%20%20%20%5B41.9047551%2C%20-87.9396459%5D%2C%0A%20%20%20%20%20%20%20%20%20%20%20%20%20%20%20%20%7B%7D%0A%20%20%20%20%20%20%20%20%20%20%20%20%29.addTo%28map_cc62e9fcf51f42918074e369efb6ce74%29%3B%0A%20%20%20%20%20%20%20%20%0A%20%20%20%20%0A%20%20%20%20%20%20%20%20var%20popup_0701cd96daa84595a099992cafca930d%20%3D%20L.popup%28%7B%22maxWidth%22%3A%20%22100%25%22%7D%29%3B%0A%0A%20%20%20%20%20%20%20%20%0A%20%20%20%20%20%20%20%20%20%20%20%20var%20html_78db37e7656445059f552e4804d26ca5%20%3D%20%24%28%60%3Cdiv%20id%3D%22html_78db37e7656445059f552e4804d26ca5%22%20style%3D%22width%3A%20100.0%25%3B%20height%3A%20100.0%25%3B%22%3ERosalia%E2%80%99s%20Deli%3C/div%3E%60%29%5B0%5D%3B%0A%20%20%20%20%20%20%20%20%20%20%20%20popup_0701cd96daa84595a099992cafca930d.setContent%28html_78db37e7656445059f552e4804d26ca5%29%3B%0A%20%20%20%20%20%20%20%20%0A%0A%20%20%20%20%20%20%20%20marker_16ee8e15502b4684bfb1622514c053d8.bindPopup%28popup_0701cd96daa84595a099992cafca930d%29%0A%20%20%20%20%20%20%20%20%3B%0A%0A%20%20%20%20%20%20%20%20%0A%20%20%20%20%0A%20%20%20%20%0A%20%20%20%20%20%20%20%20%20%20%20%20var%20marker_a7ebd2478b9b4362a54fac0d724c7028%20%3D%20L.marker%28%0A%20%20%20%20%20%20%20%20%20%20%20%20%20%20%20%20%5B41.7913185%2C%20-87.5938456%5D%2C%0A%20%20%20%20%20%20%20%20%20%20%20%20%20%20%20%20%7B%7D%0A%20%20%20%20%20%20%20%20%20%20%20%20%29.addTo%28map_cc62e9fcf51f42918074e369efb6ce74%29%3B%0A%20%20%20%20%20%20%20%20%0A%20%20%20%20%0A%20%20%20%20%20%20%20%20var%20popup_369538cd36304873baaa4028e445f968%20%3D%20L.popup%28%7B%22maxWidth%22%3A%20%22100%25%22%7D%29%3B%0A%0A%20%20%20%20%20%20%20%20%0A%20%20%20%20%20%20%20%20%20%20%20%20var%20html_6d94585090864004b58541f7615cb7de%20%3D%20%24%28%60%3Cdiv%20id%3D%22html_6d94585090864004b58541f7615cb7de%22%20style%3D%22width%3A%20100.0%25%3B%20height%3A%20100.0%25%3B%22%3EZ%26H%20MarketCafe%3C/div%3E%60%29%5B0%5D%3B%0A%20%20%20%20%20%20%20%20%20%20%20%20popup_369538cd36304873baaa4028e445f968.setContent%28html_6d94585090864004b58541f7615cb7de%29%3B%0A%20%20%20%20%20%20%20%20%0A%0A%20%20%20%20%20%20%20%20marker_a7ebd2478b9b4362a54fac0d724c7028.bindPopup%28popup_369538cd36304873baaa4028e445f968%29%0A%20%20%20%20%20%20%20%20%3B%0A%0A%20%20%20%20%20%20%20%20%0A%20%20%20%20%0A%20%20%20%20%0A%20%20%20%20%20%20%20%20%20%20%20%20var%20marker_c83e7db49d2b481b80a9e3deb2ba88a0%20%3D%20L.marker%28%0A%20%20%20%20%20%20%20%20%20%20%20%20%20%20%20%20%5B42.2518352%2C%20-87.84149980000001%5D%2C%0A%20%20%20%20%20%20%20%20%20%20%20%20%20%20%20%20%7B%7D%0A%20%20%20%20%20%20%20%20%20%20%20%20%29.addTo%28map_cc62e9fcf51f42918074e369efb6ce74%29%3B%0A%20%20%20%20%20%20%20%20%0A%20%20%20%20%0A%20%20%20%20%20%20%20%20var%20popup_062b43980cfc43aeb8653b44e6e06304%20%3D%20L.popup%28%7B%22maxWidth%22%3A%20%22100%25%22%7D%29%3B%0A%0A%20%20%20%20%20%20%20%20%0A%20%20%20%20%20%20%20%20%20%20%20%20var%20html_80ac2e12a12b49159367eb826941ed08%20%3D%20%24%28%60%3Cdiv%20id%3D%22html_80ac2e12a12b49159367eb826941ed08%22%20style%3D%22width%3A%20100.0%25%3B%20height%3A%20100.0%25%3B%22%3EMarket%20House%20on%20the%20Square%3C/div%3E%60%29%5B0%5D%3B%0A%20%20%20%20%20%20%20%20%20%20%20%20popup_062b43980cfc43aeb8653b44e6e06304.setContent%28html_80ac2e12a12b49159367eb826941ed08%29%3B%0A%20%20%20%20%20%20%20%20%0A%0A%20%20%20%20%20%20%20%20marker_c83e7db49d2b481b80a9e3deb2ba88a0.bindPopup%28popup_062b43980cfc43aeb8653b44e6e06304%29%0A%20%20%20%20%20%20%20%20%3B%0A%0A%20%20%20%20%20%20%20%20%0A%20%20%20%20%0A%20%20%20%20%0A%20%20%20%20%20%20%20%20%20%20%20%20var%20marker_11b7db0c140e4ee69b4981ed02fe34e3%20%3D%20L.marker%28%0A%20%20%20%20%20%20%20%20%20%20%20%20%20%20%20%20%5B41.9152875%2C%20-87.6343888%5D%2C%0A%20%20%20%20%20%20%20%20%20%20%20%20%20%20%20%20%7B%7D%0A%20%20%20%20%20%20%20%20%20%20%20%20%29.addTo%28map_cc62e9fcf51f42918074e369efb6ce74%29%3B%0A%20%20%20%20%20%20%20%20%0A%20%20%20%20%0A%20%20%20%20%20%20%20%20var%20popup_284fe499e06e4aeabfa37984f221cc0b%20%3D%20L.popup%28%7B%22maxWidth%22%3A%20%22100%25%22%7D%29%3B%0A%0A%20%20%20%20%20%20%20%20%0A%20%20%20%20%20%20%20%20%20%20%20%20var%20html_e814506524d0438f83e7f26975fc0dfd%20%3D%20%24%28%60%3Cdiv%20id%3D%22html_e814506524d0438f83e7f26975fc0dfd%22%20style%3D%22width%3A%20100.0%25%3B%20height%3A%20100.0%25%3B%22%3EElaine%E2%80%99s%20Coffee%20Call%3C/div%3E%60%29%5B0%5D%3B%0A%20%20%20%20%20%20%20%20%20%20%20%20popup_284fe499e06e4aeabfa37984f221cc0b.setContent%28html_e814506524d0438f83e7f26975fc0dfd%29%3B%0A%20%20%20%20%20%20%20%20%0A%0A%20%20%20%20%20%20%20%20marker_11b7db0c140e4ee69b4981ed02fe34e3.bindPopup%28popup_284fe499e06e4aeabfa37984f221cc0b%29%0A%20%20%20%20%20%20%20%20%3B%0A%0A%20%20%20%20%20%20%20%20%0A%20%20%20%20%0A%20%20%20%20%0A%20%20%20%20%20%20%20%20%20%20%20%20var%20marker_308e01985cf74985bd7640c146d328ab%20%3D%20L.marker%28%0A%20%20%20%20%20%20%20%20%20%20%20%20%20%20%20%20%5B41.8863622%2C%20-87.8022297%5D%2C%0A%20%20%20%20%20%20%20%20%20%20%20%20%20%20%20%20%7B%7D%0A%20%20%20%20%20%20%20%20%20%20%20%20%29.addTo%28map_cc62e9fcf51f42918074e369efb6ce74%29%3B%0A%20%20%20%20%20%20%20%20%0A%20%20%20%20%0A%20%20%20%20%20%20%20%20var%20popup_d5433a1f2a8a4d078656bc1dc1c0035b%20%3D%20L.popup%28%7B%22maxWidth%22%3A%20%22100%25%22%7D%29%3B%0A%0A%20%20%20%20%20%20%20%20%0A%20%20%20%20%20%20%20%20%20%20%20%20var%20html_2db3b76e2fbe45a790d3cc4b8a1c3fc7%20%3D%20%24%28%60%3Cdiv%20id%3D%22html_2db3b76e2fbe45a790d3cc4b8a1c3fc7%22%20style%3D%22width%3A%20100.0%25%3B%20height%3A%20100.0%25%3B%22%3EMarion%20Street%20Cheese%20Market%3C/div%3E%60%29%5B0%5D%3B%0A%20%20%20%20%20%20%20%20%20%20%20%20popup_d5433a1f2a8a4d078656bc1dc1c0035b.setContent%28html_2db3b76e2fbe45a790d3cc4b8a1c3fc7%29%3B%0A%20%20%20%20%20%20%20%20%0A%0A%20%20%20%20%20%20%20%20marker_308e01985cf74985bd7640c146d328ab.bindPopup%28popup_d5433a1f2a8a4d078656bc1dc1c0035b%29%0A%20%20%20%20%20%20%20%20%3B%0A%0A%20%20%20%20%20%20%20%20%0A%20%20%20%20%0A%20%20%20%20%0A%20%20%20%20%20%20%20%20%20%20%20%20var%20marker_e5417b0746ab45cbad5ab5baf7a0ca2e%20%3D%20L.marker%28%0A%20%20%20%20%20%20%20%20%20%20%20%20%20%20%20%20%5B41.875810200000004%2C%20-87.6264489%5D%2C%0A%20%20%20%20%20%20%20%20%20%20%20%20%20%20%20%20%7B%7D%0A%20%20%20%20%20%20%20%20%20%20%20%20%29.addTo%28map_cc62e9fcf51f42918074e369efb6ce74%29%3B%0A%20%20%20%20%20%20%20%20%0A%20%20%20%20%0A%20%20%20%20%20%20%20%20var%20popup_b1d416783fe44429b56a6eed01d9b9e5%20%3D%20L.popup%28%7B%22maxWidth%22%3A%20%22100%25%22%7D%29%3B%0A%0A%20%20%20%20%20%20%20%20%0A%20%20%20%20%20%20%20%20%20%20%20%20var%20html_584e953b655e4fd0a30e159e8d9448dc%20%3D%20%24%28%60%3Cdiv%20id%3D%22html_584e953b655e4fd0a30e159e8d9448dc%22%20style%3D%22width%3A%20100.0%25%3B%20height%3A%20100.0%25%3B%22%3ECafecito%3C/div%3E%60%29%5B0%5D%3B%0A%20%20%20%20%20%20%20%20%20%20%20%20popup_b1d416783fe44429b56a6eed01d9b9e5.setContent%28html_584e953b655e4fd0a30e159e8d9448dc%29%3B%0A%20%20%20%20%20%20%20%20%0A%0A%20%20%20%20%20%20%20%20marker_e5417b0746ab45cbad5ab5baf7a0ca2e.bindPopup%28popup_b1d416783fe44429b56a6eed01d9b9e5%29%0A%20%20%20%20%20%20%20%20%3B%0A%0A%20%20%20%20%20%20%20%20%0A%20%20%20%20%0A%20%20%20%20%0A%20%20%20%20%20%20%20%20%20%20%20%20var%20marker_c04c3d4434ed4b8bbbb0b38e060037c6%20%3D%20L.marker%28%0A%20%20%20%20%20%20%20%20%20%20%20%20%20%20%20%20%5B41.8961134%2C%20-87.67785699999999%5D%2C%0A%20%20%20%20%20%20%20%20%20%20%20%20%20%20%20%20%7B%7D%0A%20%20%20%20%20%20%20%20%20%20%20%20%29.addTo%28map_cc62e9fcf51f42918074e369efb6ce74%29%3B%0A%20%20%20%20%20%20%20%20%0A%20%20%20%20%0A%20%20%20%20%20%20%20%20var%20popup_1c7eaaabe7a54466b6fa7147afbfc667%20%3D%20L.popup%28%7B%22maxWidth%22%3A%20%22100%25%22%7D%29%3B%0A%0A%20%20%20%20%20%20%20%20%0A%20%20%20%20%20%20%20%20%20%20%20%20var%20html_92655dd95b1048439325fc2779d14386%20%3D%20%24%28%60%3Cdiv%20id%3D%22html_92655dd95b1048439325fc2779d14386%22%20style%3D%22width%3A%20100.0%25%3B%20height%3A%20100.0%25%3B%22%3EChickpea%3C/div%3E%60%29%5B0%5D%3B%0A%20%20%20%20%20%20%20%20%20%20%20%20popup_1c7eaaabe7a54466b6fa7147afbfc667.setContent%28html_92655dd95b1048439325fc2779d14386%29%3B%0A%20%20%20%20%20%20%20%20%0A%0A%20%20%20%20%20%20%20%20marker_c04c3d4434ed4b8bbbb0b38e060037c6.bindPopup%28popup_1c7eaaabe7a54466b6fa7147afbfc667%29%0A%20%20%20%20%20%20%20%20%3B%0A%0A%20%20%20%20%20%20%20%20%0A%20%20%20%20%0A%20%20%20%20%0A%20%20%20%20%20%20%20%20%20%20%20%20var%20marker_6faac60265c44766b244f90ef2d3220a%20%3D%20L.marker%28%0A%20%20%20%20%20%20%20%20%20%20%20%20%20%20%20%20%5B41.89897850000001%2C%20-87.6273926%5D%2C%0A%20%20%20%20%20%20%20%20%20%20%20%20%20%20%20%20%7B%7D%0A%20%20%20%20%20%20%20%20%20%20%20%20%29.addTo%28map_cc62e9fcf51f42918074e369efb6ce74%29%3B%0A%20%20%20%20%20%20%20%20%0A%20%20%20%20%0A%20%20%20%20%20%20%20%20var%20popup_f1693528a0c5486391c96e6f7f9f4e60%20%3D%20L.popup%28%7B%22maxWidth%22%3A%20%22100%25%22%7D%29%3B%0A%0A%20%20%20%20%20%20%20%20%0A%20%20%20%20%20%20%20%20%20%20%20%20var%20html_8187ab51940c48699561f5536d205d3a%20%3D%20%24%28%60%3Cdiv%20id%3D%22html_8187ab51940c48699561f5536d205d3a%22%20style%3D%22width%3A%20100.0%25%3B%20height%3A%20100.0%25%3B%22%3EThe%20Goddess%20and%20Grocer%3C/div%3E%60%29%5B0%5D%3B%0A%20%20%20%20%20%20%20%20%20%20%20%20popup_f1693528a0c5486391c96e6f7f9f4e60.setContent%28html_8187ab51940c48699561f5536d205d3a%29%3B%0A%20%20%20%20%20%20%20%20%0A%0A%20%20%20%20%20%20%20%20marker_6faac60265c44766b244f90ef2d3220a.bindPopup%28popup_f1693528a0c5486391c96e6f7f9f4e60%29%0A%20%20%20%20%20%20%20%20%3B%0A%0A%20%20%20%20%20%20%20%20%0A%20%20%20%20%0A%20%20%20%20%0A%20%20%20%20%20%20%20%20%20%20%20%20var%20marker_756b06b2d37a40399cfb75bd9843abd3%20%3D%20L.marker%28%0A%20%20%20%20%20%20%20%20%20%20%20%20%20%20%20%20%5B41.910583200000005%2C%20-87.94048839999998%5D%2C%0A%20%20%20%20%20%20%20%20%20%20%20%20%20%20%20%20%7B%7D%0A%20%20%20%20%20%20%20%20%20%20%20%20%29.addTo%28map_cc62e9fcf51f42918074e369efb6ce74%29%3B%0A%20%20%20%20%20%20%20%20%0A%20%20%20%20%0A%20%20%20%20%20%20%20%20var%20popup_e2f3ad539ae444dea4cdd4164c70d7f7%20%3D%20L.popup%28%7B%22maxWidth%22%3A%20%22100%25%22%7D%29%3B%0A%0A%20%20%20%20%20%20%20%20%0A%20%20%20%20%20%20%20%20%20%20%20%20var%20html_fda732f4180b42aba7674f48d99d9152%20%3D%20%24%28%60%3Cdiv%20id%3D%22html_fda732f4180b42aba7674f48d99d9152%22%20style%3D%22width%3A%20100.0%25%3B%20height%3A%20100.0%25%3B%22%3EZenwich%3C/div%3E%60%29%5B0%5D%3B%0A%20%20%20%20%20%20%20%20%20%20%20%20popup_e2f3ad539ae444dea4cdd4164c70d7f7.setContent%28html_fda732f4180b42aba7674f48d99d9152%29%3B%0A%20%20%20%20%20%20%20%20%0A%0A%20%20%20%20%20%20%20%20marker_756b06b2d37a40399cfb75bd9843abd3.bindPopup%28popup_e2f3ad539ae444dea4cdd4164c70d7f7%29%0A%20%20%20%20%20%20%20%20%3B%0A%0A%20%20%20%20%20%20%20%20%0A%20%20%20%20%0A%20%20%20%20%0A%20%20%20%20%20%20%20%20%20%20%20%20var%20marker_148e68558a9a41af8c481d6b3316bb99%20%3D%20L.marker%28%0A%20%20%20%20%20%20%20%20%20%20%20%20%20%20%20%20%5B41.8831061%2C%20-87.6254381%5D%2C%0A%20%20%20%20%20%20%20%20%20%20%20%20%20%20%20%20%7B%7D%0A%20%20%20%20%20%20%20%20%20%20%20%20%29.addTo%28map_cc62e9fcf51f42918074e369efb6ce74%29%3B%0A%20%20%20%20%20%20%20%20%0A%20%20%20%20%0A%20%20%20%20%20%20%20%20var%20popup_90381424c18d4c02810508731d295638%20%3D%20L.popup%28%7B%22maxWidth%22%3A%20%22100%25%22%7D%29%3B%0A%0A%20%20%20%20%20%20%20%20%0A%20%20%20%20%20%20%20%20%20%20%20%20var%20html_aef321d2d52e48d5af2805c64b946f2a%20%3D%20%24%28%60%3Cdiv%20id%3D%22html_aef321d2d52e48d5af2805c64b946f2a%22%20style%3D%22width%3A%20100.0%25%3B%20height%3A%20100.0%25%3B%22%3EToni%20Patisserie%3C/div%3E%60%29%5B0%5D%3B%0A%20%20%20%20%20%20%20%20%20%20%20%20popup_90381424c18d4c02810508731d295638.setContent%28html_aef321d2d52e48d5af2805c64b946f2a%29%3B%0A%20%20%20%20%20%20%20%20%0A%0A%20%20%20%20%20%20%20%20marker_148e68558a9a41af8c481d6b3316bb99.bindPopup%28popup_90381424c18d4c02810508731d295638%29%0A%20%20%20%20%20%20%20%20%3B%0A%0A%20%20%20%20%20%20%20%20%0A%20%20%20%20%0A%20%20%20%20%0A%20%20%20%20%20%20%20%20%20%20%20%20var%20marker_a5ea9344117c491a9c55b20255e71507%20%3D%20L.marker%28%0A%20%20%20%20%20%20%20%20%20%20%20%20%20%20%20%20%5B41.9431632%2C%20-87.6445071%5D%2C%0A%20%20%20%20%20%20%20%20%20%20%20%20%20%20%20%20%7B%7D%0A%20%20%20%20%20%20%20%20%20%20%20%20%29.addTo%28map_cc62e9fcf51f42918074e369efb6ce74%29%3B%0A%20%20%20%20%20%20%20%20%0A%20%20%20%20%0A%20%20%20%20%20%20%20%20var%20popup_00df388613634c5592a7f18fa0f27dfc%20%3D%20L.popup%28%7B%22maxWidth%22%3A%20%22100%25%22%7D%29%3B%0A%0A%20%20%20%20%20%20%20%20%0A%20%20%20%20%20%20%20%20%20%20%20%20var%20html_6b5924d7f3fa44658f73148decf3839a%20%3D%20%24%28%60%3Cdiv%20id%3D%22html_6b5924d7f3fa44658f73148decf3839a%22%20style%3D%22width%3A%20100.0%25%3B%20height%3A%20100.0%25%3B%22%3EPhoebe%E2%80%99s%20Bakery%3C/div%3E%60%29%5B0%5D%3B%0A%20%20%20%20%20%20%20%20%20%20%20%20popup_00df388613634c5592a7f18fa0f27dfc.setContent%28html_6b5924d7f3fa44658f73148decf3839a%29%3B%0A%20%20%20%20%20%20%20%20%0A%0A%20%20%20%20%20%20%20%20marker_a5ea9344117c491a9c55b20255e71507.bindPopup%28popup_00df388613634c5592a7f18fa0f27dfc%29%0A%20%20%20%20%20%20%20%20%3B%0A%0A%20%20%20%20%20%20%20%20%0A%20%20%20%20%0A%3C/script%3E onload=\"this.contentDocument.open();this.contentDocument.write(    decodeURIComponent(this.getAttribute('data-html')));this.contentDocument.close();\" allowfullscreen webkitallowfullscreen mozallowfullscreen></iframe></div></div>"
     },
     "metadata": {},
     "execution_count": 18
    }
   ],
   "source": [
    "mapping = folium.Map(location=[df['lat'].mean(), df['lng'].mean()], zoom_start=11)\n",
    "\n",
    "for n in df.index:\n",
    "    if df['Address'][n] != 'Multiple':\n",
    "        folium.Marker([df['lat'][n], df['lng'][n]], popup=df['Cafe'][n]).add_to(mapping)\n",
    "\n",
    "mapping"
   ]
  },
  {
   "cell_type": "code",
   "execution_count": null,
   "metadata": {},
   "outputs": [],
   "source": []
  }
 ]
}
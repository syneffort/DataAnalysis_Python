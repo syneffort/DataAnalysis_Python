{
 "metadata": {
  "language_info": {
   "codemirror_mode": {
    "name": "ipython",
    "version": 3
   },
   "file_extension": ".py",
   "mimetype": "text/x-python",
   "name": "python",
   "nbconvert_exporter": "python",
   "pygments_lexer": "ipython3",
   "version": "3.5.6-final"
  },
  "orig_nbformat": 2,
  "kernelspec": {
   "name": "python3",
   "display_name": "Python 3.5.6 64-bit ('da': conda)",
   "metadata": {
    "interpreter": {
     "hash": "8c3bf141ecf5125a7bd84b9d797dc4b221a671ab740c92630ce746eb636d4806"
    }
   }
  }
 },
 "nbformat": 4,
 "nbformat_minor": 2,
 "cells": [
  {
   "cell_type": "code",
   "execution_count": 1,
   "metadata": {},
   "outputs": [
    {
     "output_type": "execute_result",
     "data": {
      "text/plain": [
       ".chicagomag.com/Chicago-Magazine/November-2012/Best-Sandwiches-in-Chicago-City-Provisions-Smoked-Ham/\"><b>Smoked Ham</b><br/>\n",
       "City Provisions<br/>\n",
       "<em>Read more</em> </a></div>\n",
       "</div>\n",
       "<div class=\"sammy\" style=\"position: relative;\">\n",
       "<div class=\"sammyRank\">29</div>\n",
       "<div class=\"sammyListing\"><a href=\"http://www.chicagomag.com/Chicago-Magazine/November-2012/Best-Sandwiches-in-Chicago-Papas-Cache-Sabroso-Jibarito/\"><b>Jibarito</b><br/>\n",
       "Papa’s Cache Sabroso<br/>\n",
       "<em>Read more</em> </a></div>\n",
       "</div>\n",
       "<div class=\"sammy\" style=\"position: relative;\">\n",
       "<div class=\"sammyRank\">30</div>\n",
       "<div class=\"sammyListing\"><a href=\"http://www.chicagomag.com/Chicago-Magazine/November-2012/Best-Sandwiches-in-Chicago-Bavettes-Bar-and-Boeuf-Shaved-Prime-Rib/\"><b>Shaved Prime Rib</b><br/>\n",
       "Bavette’s Bar &amp; Boeuf<br/>\n",
       "<em>Read more</em> </a></div>\n",
       "</div>\n",
       "<div class=\"sammy\" style=\"position: relative;\">\n",
       "<div class=\"sammyRank\">31</div>\n",
       "<div class=\"sammyListing\"><a href=\"http://www.chicagomag.com/Chicago-Magazine/November-2012/Best-Sandwiches-in-Chicago-Hannahs-Bretzel-Serrano-Ham-and-Manchego-Cheese/\"><b>Serrano Ham and Manchego Cheese</b><br/>\n",
       "Hannah’s Bretzel<br/>\n",
       "<em>Read more</em> </a></div>\n",
       "</div>\n",
       "<div class=\"sammy\" style=\"position: relative;\">\n",
       "<div class=\"sammyRank\">32</div>\n",
       "<div class=\"sammyListing\"><a href=\"http://www.chicagomag.com/Chicago-Magazine/November-2012/Best-Sandwiches-in-Chicago-La-Fournette-Tuna-Salad/\"><b>Tuna Salad</b><br/>\n",
       "La Fournette<br/>\n",
       "<em>Read more</em> </a></div>\n",
       "</div>\n",
       "<div class=\"sammy\" style=\"position: relative;\">\n",
       "<div class=\"sammyRank\">33</div>\n",
       "<div class=\"sammyListing\"><a href=\"http://www.chicagomag.com/Chicago-Magazine/November-2012/Best-Sandwiches-in-Chicago-Paramount-Room-Paramount-Reuben/\"><b>Paramount Reuben</b><br/>\n",
       "Paramount Room<br/>\n",
       "<em>Read more</em> </a></div>\n",
       "</div>\n",
       "<div class=\"sammy\" style=\"position: relative;\">\n",
       "<div class=\"sammyRank\">34</div>\n",
       "<div class=\"sammyListing\"><a href=\"http://www.chicagomag.com/Chicago-Magazine/November-2012/Best-Sandwiches-in-Chicago-Melt-Sandwich-Shoppe-The-Istanbul/\"><b>The Istanbul</b><br/>\n",
       "Melt Sandwich Shoppe<br/>\n",
       "<em>Read more</em> </a></div>\n",
       "</div>\n",
       "<div class=\"sammy\" style=\"position: relative;\">\n",
       "<div class=\"sammyRank\">35</div>\n",
       "<div class=\"sammyListing\"><a href=\"http://www.chicagomag.com/Chicago-Magazine/November-2012/Best-Sandwiches-in-Chicago-Floriole-Cafe-and-Bakery-BAD/\"><b>B.A.D.</b><br/>\n",
       "Floriole Cafe &amp; Bakery<br/>\n",
       "<em>Read more</em> </a></div>\n",
       "</div>\n",
       "<div class=\"sammy\" style=\"position: relative;\">\n",
       "<div class=\"sammyRank\">36</div>\n",
       "<div class=\"sammyListing\"><a href=\"http://www.chicagomag.com/Chicago-Magazine/November-2012/Best-Sandwiches-in-Chicago-First-Slice-Pie-Cafe-Duck-Confit-and-Mozzarella/\"><b>Duck Confit and Mozzarella</b><br/>\n",
       "First Slice Pie Café<br/>\n",
       "<em>Read more</em> </a></div>\n",
       "</div>\n",
       "<div class=\"sammy\" style=\"position: relative;\">\n",
       "<div class=\"sammyRank\">37</div>\n",
       "<div class=\"sammyListing\"><a href=\"http://www.chicagomag.com/Chicago-Magazine/November-2012/Best-Sandwiches-in-Chicago-Troquet-Croque-Monsieur/\"><b>Croque Monsieur</b><br/>\n",
       "Troquet<br/>\n",
       "<em>Read more</em> </a></div>\n",
       "</div>\n",
       "<div class=\"sammy\" style=\"position: relative;\">\n",
       "<div class=\"sammyRank\">38</div>\n",
       "<div class=\"sammyListing\"><a href=\"http://www.chicagomag.com/Chicago-Magazine/November-2012/Best-Sandwiches-in-Chicago-Grahamwich-Green-Garbanzo/\"><b>Green Garbanzo</b><br/>\n",
       "Grahamwich<br/>\n",
       "<em>Read more</em> </a></div>\n",
       "</div>\n",
       "<div class=\"sammy\" style=\"position: relative;\">\n",
       "<div class=\"sammyRank\">39</div>\n",
       "<div class=\"sammyListing\"><a href=\"http://www.chicagomag.com/Chicago-Magazine/November-2012/Best-Sandwiches-in-Chicago-Saigon-Sisters-The-Hen-House/\"><b>The Hen House</b><br/>\n",
       "Saigon Sisters<br/>\n",
       "<em>Read more</em> </a></div>\n",
       "</div>\n",
       "<div class=\"sammy\" style=\"position: relative;\">\n",
       "<div class=\"sammyRank\">40</div>\n",
       "<div class=\"sammyListing\"><a href=\"http://www.chicagomag.com/Chicago-Magazine/November-2012/Best-Sandwiches-in-Chicago-Rosalias-Deli-Tuscan-Chicken/\"><b>Tuscan Chicken</b><br/>\n",
       "Rosalia’s Deli<br/>\n",
       "<em>Read more</em> </a></div>\n",
       "</div>\n",
       "<div class=\"sammy\" style=\"position: relative;\">\n",
       "<div class=\"sammyRank\">41</div>\n",
       "<div class=\"sammyListing\"><a href=\"http://www.chicagomag.com/Chicago-Magazine/November-2012/Best-Sandwiches-in-Chicago-Z-and-H-MarketCafe-The-Marty/\"><b>The Marty </b><br/>\n",
       "Z&amp;H MarketCafe<br/>\n",
       "<em>Read more</em> </a></div>\n",
       "</div>\n",
       "<div class=\"sammy\" style=\"position: relative;\">\n",
       "<div class=\"sammyRank\">42</div>\n",
       "<div class=\"sammyListing\"><a href=\"http://www.chicagomag.com/Chicago-Magazine/November-2012/Best-Sandwiches-in-Chicago-Market-House-on-the-Square-Whitefish/\"><b>Whitefish</b><br/>\n",
       "Market House on the Square<br/>\n",
       "<em>Read more</em> </a></div>\n",
       "</div>\n",
       "<div class=\"sammy\" style=\"position: relative;\">\n",
       "<div class=\"sammyRank\">43</div>\n",
       "<div class=\"sammyListing\"><a href=\"http://www.chicagomag.com/Chicago-Magazine/November-2012/Best-Sandwiches-in-Chicago-Elaines-Coffee-Call-Oat-Bread-Pecan-Butter-and-Fruit-Jam/\"><b>Oat Bread, Pecan Butter, and Fruit Jam</b><br/>\n",
       "Elaine’s Coffee Call<br/>\n",
       "<em>Read more</em> </a></div>\n",
       "</div>\n",
       "<div class=\"sammy\" style=\"position: relative;\">\n",
       "<div class=\"sammyRank\">44</div>\n",
       "<div class=\"sammyListing\"><a href=\"http://www.chicagomag.com/Chicago-Magazine/November-2012/Best-Sandwiches-in-Chicago-Marion-Street-Cheese-Market-Cauliflower-Melt/\"><b>Cauliflower Melt</b><br/>\n",
       "Marion Street Cheese Market<br/>\n",
       "<em>Read more</em> </a></div>\n",
       "</div>\n",
       "<div class=\"sammy\" style=\"position: relative;\">\n",
       "<div class=\"sammyRank\">45</div>\n",
       "<div class=\"sammyListing\"><a href=\"http://www.chicagomag.com/Chicago-Magazine/November-2012/Best-Sandwiches-in-Chicago-Cafecito-Cubano/\"><b>Cubana</b><br/>\n",
       "Cafecito<br/>\n",
       "<em>Read more</em> </a></div>\n",
       "</div>\n",
       "<div class=\"sammy\" style=\"position: relative;\">\n",
       "<div class=\"sammyRank\">46</div>\n",
       "<div class=\"sammyListing\"><a href=\"http://www.chicagomag.com/Chicago-Magazine/November-2012/Best-Sandwiches-in-Chicago-Chickpea-Kufta/\"><b>Kufta</b><br/>\n",
       "Chickpea<br/>\n",
       "<em>Read more</em> </a></div>\n",
       "</div>\n",
       "<div class=\"sammy\" style=\"position: relative;\">\n",
       "<div class=\"sammyRank\">47</div>\n",
       "<div class=\"sammyListing\"><a href=\"http://www.chicagomag.com/Chicago-Magazine/November-2012/Best-Sandwiches-in-Chicago-The-Goddess-and-Grocer-Debbies-Egg-Salad/\"><b>Debbie’s Egg Salad</b><br/>\n",
       "The Goddess and Grocer<br/>\n",
       "<em>Read more</em> </a></div>\n",
       "</div>\n",
       "<div class=\"sammy\" style=\"position: relative;\">\n",
       "<div class=\"sammyRank\">48</div>\n",
       "<div class=\"sammyListing\"><a href=\"http://www.chicagomag.com/Chicago-Magazine/November-2012/Best-Sandwiches-in-Chicago-Zenwich-Beef-Curry/\"><b>Beef Curry</b><br/>\n",
       "Zenwich<br/>\n",
       "<em>Read more</em> </a></div>\n",
       "</div>\n",
       "<div class=\"sammy\" style=\"position: relative;\">\n",
       "<div class=\"sammyRank\">49</div>\n",
       "<div class=\"sammyListing\"><a href=\"http://www.chicagomag.com/Chicago-Magazine/November-2012/Best-Sandwiches-in-Chicago-Toni-Patisserie-Le-Vegetarien/\"><b>Le Végétarien</b><br/>\n",
       "Toni Patisserie<br/>\n",
       "<em>Read more</em> </a></div>\n",
       "</div>\n",
       "<div class=\"sammy\" style=\"position: relative; border-bottom: 0\">\n",
       "<div class=\"sammyRank\">50</div>\n",
       "<div class=\"sammyListing\"><a href=\"http://www.chicagomag.com/Chicago-Magazine/November-2012/Best-Sandwiches-in-Chicago-Phoebes-Bakery-The-Gatsby/\"><b>The Gatsby</b><br/>\n",
       "Phoebe’s Bakery<br/>\n",
       "<em>Read more</em> </a></div>\n",
       "</div>\n",
       "<p><!-- /#sandwichFront --></p>\n",
       "<footer>Edited by Carly Boers, Penny Pollack, and Jeff Ruby; Contributors: Cassie Walker Burke, Elly Fishman, Peter Gianopulos, Noah Isackson, Maryanne Johnson, Esther Kang, Megan Lovejoy, Graham Meyer, Matt Schur, Lena Singer, Emmet Sullivan, Jennifer Tanaka, Joanne Trestrail</footer>\n",
       "</div>\n",
       "<div class=\"article-tags\">\n",
       "<p>Tags: <a href=\"https://www.chicagomag.com/tag/best-of-chicago/\" rel=\"tag\">Best of Chicago</a>, <a href=\"https://www.chicagomag.com/tag/dining-drinking/\" rel=\"tag\">Dining &amp; Drinking</a>, <a href=\"https://www.chicagomag.com/tag/print-specific-tags-cover-story/\" rel=\"tag\">Print-Specific Tags - Cover Story</a></p> </div>\n",
       "</div>\n",
       "<div class=\"article-side grid-6 tablet-grid-9 mobile-grid-100 most-pop\">\n",
       "<div class=\"ad-space\">\n",
       "<!-- GPT AdSlot 12 for Ad unit 'trb.chicagomag/hp' ### Size: [[300,250],[300,600]] -->\n",
       "<div class=\"hide-on-mobile\" id=\"div-gpt-ad-2789321-12\">\n",
       "<script>\n",
       "\t\t\t\t\tgoogletag.cmd.push(function() { googletag.display('div-gpt-ad-2789321-12'); });\n",
       "\t\t\t\t</script>\n",
       "</div>\n",
       "<!-- End AdSlot 12 -->\n",
       "<!-- GPT AdSlot 15 for Ad unit 'trb.chicagomag/hp' ### Size: [[300,250] -->\n",
       "<div class=\"hide-on-desktop hide-on-tablet\" id=\"div-gpt-ad-2789321-15\">\n",
       "<script>\n",
       "\t\t\t\t\tgoogletag.cmd.push(function() { googletag.display('div-gpt-ad-2789321-15'); });\n",
       "\t\t\t\t</script>\n",
       "</div>\n",
       "<!-- End AdSlot 15 -->\n",
       "<!-- GPT AdSlot 11 for Ad unit 'trb.chicagomag/hp' ### Size: [[300,250]] -->\n",
       "<div id=\"div-gpt-ad-2789321-11\">\n",
       "<script>\n",
       "\t\t\t\t\tgoogletag.cmd.push(function() { googletag.display('div-gpt-ad-2789321-11'); });\n",
       "\t\t\t\t</script>\n",
       "</div>\n",
       "<!-- End AdSlot 11 -->\n",
       "</div>\n",
       "</div>\n",
       "</div>\n",
       "<!-- end article wrap -->\n",
       "<!-- start ad -->\n",
       "<div class=\"grid-container grid-parent ad-space ad-space-leader hide-on-mobile mb-0\">\n",
       "<!-- GPT AdSlot 5 for Ad unit 'trb.chicagomag/hp' ### Size: [[728,90]] -->\n",
       "<div id=\"div-gpt-ad-2789321-5\">\n",
       "<script>\n",
       "\t\t\tgoogletag.cmd.push(function() { googletag.display('div-gpt-ad-2789321-5'); });\n",
       "\t\t</script>\n",
       "</div>\n",
       "<!-- End AdSlot 5 -->\n",
       "</div>\n",
       "<div class=\"grid-container grid-parent ad-space ad-space-leader hide-on-desktop hide-on-tablet\">\n",
       "<!-- GPT AdSlot 10 for Ad unit 'trb.chicagomag/hp' ### Size: [[320,50]] -->\n",
       "<div id=\"div-gpt-ad-2789321-10\">\n",
       "<script>\n",
       "\t\t\tgoogletag.cmd.push(function() { googletag.display('div-gpt-ad-2789321-10'); });\n",
       "\t\t</script>\n",
       "</div>\n",
       "<!-- End AdSlot 10 -->\n",
       "</div>\n",
       "<!-- end ad -->\n",
       "<div class=\"comments-area grid-container grid-parent\">\n",
       "<div class=\"grid-12 prefix-5 mobile-grid-100 mobile-prefix-0\">\n",
       "<div id=\"comments\">\n",
       "<div class=\"comment-respond\" id=\"respond\">\n",
       "<h3 class=\"comment-reply-title\" id=\"reply-title\">Leave a Comment <small><a href=\"/Chicago-Magazine/November-2012/Best-Sandwiches-Chicago/#respond\" id=\"cancel-comment-reply-link\" rel=\"nofollow\" style=\"display:none;\">Cancel reply</a></small></h3><form action=\"https://www.chicagomag.com/wp-comments-post.php?wpe-comment-post=chicagomag\" class=\"comment-form\" id=\"commentform\" method=\"post\" novalidate=\"\"><p class=\"comment-form-comment\"><label class=\"screen-reader-text\" for=\"comment\">Comment</label><textarea aria-required=\"true\" autocomplete=\"new-password\" cols=\"45\" id=\"c2cc66bfa4\" name=\"c2cc66bfa4\" required=\"\" rows=\"8\"></textarea><textarea aria-hidden=\"true\" autocomplete=\"new-password\" id=\"comment\" name=\"comment\" style=\"padding:0 !important;clip:rect(1px, 1px, 1px, 1px) !important;position:absolute !important;white-space:nowrap !important;height:1px !important;width:1px !important;overflow:hidden !important;\" tabindex=\"-1\"></textarea><script data-noptimize=\"\" type=\"text/javascript\">document.getElementById(\"comment\").setAttribute( \"id\", \"afd2feca585598bbbdb68fd4197cabe1\" );document.getElementById(\"c2cc66bfa4\").setAttribute( \"id\", \"comment\" );</script></p><label class=\"screen-reader-text\" for=\"author\">Name</label><input id=\"author\" name=\"author\" placeholder=\"Name *\" size=\"30\" type=\"text\" value=\"\">\n",
       "<label class=\"screen-reader-text\" for=\"email\">Email</label><input id=\"email\" name=\"email\" placeholder=\"Email *\" size=\"30\" type=\"email\" value=\"\">\n",
       "<label class=\"screen-reader-text\" for=\"url\">Website</label><input id=\"url\" name=\"url\" placeholder=\"Website\" size=\"30\" type=\"url\" value=\"\">\n",
       "<p class=\"comment-form-cookies-consent\"><input id=\"wp-comment-cookies-consent\" name=\"wp-comment-cookies-consent\" type=\"checkbox\" value=\"yes\"> <label for=\"wp-comment-cookies-consent\">Save my name, email, and website in this browser for the next time I comment.</label></input></p>\n",
       "<p class=\"form-submit\"><input class=\"submit\" id=\"submit\" name=\"submit\" type=\"submit\" value=\"Post Comment\"/> <input id=\"comment_post_ID\" name=\"comment_post_ID\" type=\"hidden\" value=\"11772\"/>\n",
       "<input id=\"comment_parent\" name=\"comment_parent\" type=\"hidden\" value=\"0\"/>\n",
       "</p></input></input></input></form> </div><!-- #respond -->\n",
       "</div><!-- #comments -->\n",
       "</div>\n",
       "</div>\n",
       "</main><!-- #main -->\n",
       "</div><!-- #primary -->\n",
       "</div><!-- #content -->\n",
       "</div><!-- #page -->\n",
       "<!-- start footer -->\n",
       "<div id=\"footer\">\n",
       "<div class=\"grid-container\">\n",
       "<div class=\"grid-5 suffix-1 mobile-grid-12 mobile-suffix-0 grid-parent-mobile left\">\n",
       "<div class=\"wrap\">\n",
       "<a href=\"https://cma.pcdfusion.com/pcd/Order?iKey=I**D7B\">Subscribe</a>\n",
       "<a href=\"https://cma.pcdfusion.com/pcd/CustomerSupport/Account/Login?ReturnUrl=%2fpcd%2fCustomerSupport%2fApp%2f3141\">Manage Subscription</a>\n",
       "<a href=\"https://www.chicagomag.com/issue-archive/\">Issue Archive</a>\n",
       "<a href=\"http://www.tronc.com/privacy-policy/\">Privacy Policy</a>\n",
       "<a href=\"http://www.tronc.com/central-terms-of-service/\">Terms of Service</a>\n",
       "</div>\n",
       "</div>\n",
       "<div class=\"grid-10 prefix-1 suffix-1 mobile-grid-100 mobile-prefix-0 grid-parent-mobile middle hide-on-mobile\">\n",
       "<div class=\"wrap\">\n",
       "<h2>Follow Us</h2>\n",
       "<div class=\"footer-social\">\n",
       "<a href=\"https://www.facebook.com/ChicagoMagazine\" target=\"_blank\"><i class=\"fab fa-facebook-f\"></i></a>\n",
       "<a href=\"http://www.twitter.com/chicagomag/\" target=\"_blank\"><i class=\"fab fa-twitter\"></i></a>\n",
       "<a href=\"http://instagram.com/chicagomag\" target=\"_blank\"><i class=\"fab fa-instagram\"></i></a>\n",
       "<a href=\"https://www.youtube.com/channel/UCOkRC6Y4LUyvglGmyC52KPw\" target=\"_blank\"><i class=\"fab fa-youtube\"></i></a>\n",
       "</div>\n",
       "<h2>Get Our Newsletters</h2>\n",
       "<p>Subscribe to one or more of our free e-mail newsletters to get instant updates on local news, events, and opportunities in Chicago.</p>\n",
       "<div class=\"footer-form\" style=\"display:flex; margin-top:60px;\">\n",
       "<table>\n",
       "<tr>\n",
       "<td><input type=\"text\"/></td>\n",
       "<td><button style=\"background:#d2232a; color:#fff;\">Sign Up</button></td>\n",
       "</tr>\n",
       "</table>\n",
       "</div>\n",
       "<div class=\"copyright\">©2020 Chicago magazine / A Chicago Tribune Media Group website</div>\n",
       "</div>\n",
       "</div>\n",
       "<div class=\"grid-5 prefix-1 mobile-grid-12 mobile-prefix-0 mobile-suffix-0 grid-parent-mobile right\">\n",
       "<div class=\"wrap\">\n",
       "<a href=\"https://www.chicagomag.com/about-the-magazine/\">About the Magazine</a>\n",
       "<a href=\"https://www.chicagomag.com/contact-us/\">Contact Us</a>\n",
       "<a href=\"https://www.chicagomag.com/advertise/\">Advertise</a>\n",
       "<a href=\"https://www.chicagomag.com/resource-guide/\">Resource Guide</a>\n",
       "<a href=\"https://www.chicagomag.com/events/\">Events</a>\n",
       "</div>\n",
       "</div>\n",
       "<div class=\"mobile-grid-100 mobile-prefix-0 mobile-suffix-1 grid-parent-mobile middle hide-on-desktop hide-on-tablet\">\n",
       "<div class=\"wrap\">\n",
       "<h2>Follow Us</h2>\n",
       "<div class=\"footer-social\">\n",
       "<a href=\"https://www.facebook.com/ChicagoMagazine\" target=\"_blank\"><i class=\"fab fa-facebook-f\"></i></a>\n",
       "<a href=\"http://www.twitter.com/chicagomag/\" target=\"_blank\"><i class=\"fab fa-twitter\"></i></a>\n",
       "<a href=\"http://instagram.com/chicagomag\" target=\"_blank\"><i class=\"fab fa-instagram\"></i></a>\n",
       "<a href=\"https://www.youtube.com/channel/UCOkRC6Y4LUyvglGmyC52KPw\" target=\"_blank\"><i class=\"fab fa-youtube\"></i></a>\n",
       "</div>\n",
       "<h2>Get Our Newsletters</h2>\n",
       "<p>Subscribe to one or more of our free e-mail newsletters to get instant updates on local news, events, and opportunities in Chicago.</p>\n",
       "<div class=\"footer-form\" style=\"display:flex; margin-top:60px;\">\n",
       "<input style=\"width:80%;\" type=\"text\"/>\n",
       "<button style=\"width:20%; background:#d2232a; color:#fff;\">Sign Up</button>\n",
       "</div>\n",
       "<div class=\"copyright\">©2020 Chicago magazine / A Chicago Tribune Media Group website</div>\n",
       "</div>\n",
       "</div>\n",
       "</div>\n",
       "</div>\n",
       "<!-- end footer -->\n",
       "<script src=\"https://ajax.googleapis.com/ajax/libs/jquery/3.4.1/jquery.min.js\"></script>\n",
       "<script>\n",
       "\n",
       "\tjQuery(document).ready(function($) {\n",
       "\n",
       "\t\t$(\".grid-toggle\").click(function(){\n",
       "\t\t\t$(\".grid-guide\").toggle();\n",
       "\t\t});\n",
       "\n",
       "\t\t$(\".nav2-toggle\").click(function(){\n",
       "\t\t\t$(\"#nav2-overlay\").toggle();\n",
       "\t\t\t$(\"#nav2-overlay-top\").toggle();\n",
       "\t\t\t$(\"#nav2-overlay-btm\").toggle();\n",
       "\t\t\t$(\"#nav2-inner-overlay\").toggle();\n",
       "\t\t\t$(\"#nav2-inner\").toggle();\n",
       "\t\t\t$(\"#nav2-open\").toggle();\n",
       "\t\t\t$(\"#nav2-close\").toggle();\n",
       "\t\t});\n",
       "\n",
       "\t\t$(\".search-open\").click(function(){\n",
       "\t\t\t$('#search-overlay').fadeIn().css('display', 'inline-block');\n",
       "\t\t\t$('.search-field').focus();\n",
       "\t\t\t//$('#search-close').fadeIn().css('display', 'block');\n",
       "\t\t});\n",
       "\n",
       "\t\t$(\".search-close-btn\").click(function(){\n",
       "\t\t\t$(\"#search-overlay\").fadeOut().toggle();\n",
       "\t\t\t$(\"#search-close\").fadeOut().toggle();\n",
       "\t\t});\n",
       "  \n",
       "\t});\n",
       "\n",
       "</script>\n",
       "<script>\n",
       "\n",
       "\tjQuery(document).ready(function($) {\n",
       "\n",
       "\t\t$(\".toggle-rock\").click(function(){\n",
       "\t\t\t$('.indie-rock').fadeOut().css('display', 'none');\n",
       "\t\t\t$('.new-music').fadeOut().css('display', 'none');\n",
       "\t\t\t$('.rock').fadeIn().css('display', 'block');\n",
       "\t\t});\n",
       "\n",
       "\t\t$(\".toggle-indie-rock\").click(function(){\n",
       "\t\t\t$('.rock').fadeOut().css('display', 'none');\n",
       "\t\t\t$('.new-music').fadeOut().css('display', 'none');\n",
       "\t\t\t$('.indie-rock').fadeIn().css('display', 'block');\n",
       "\t\t});\n",
       "\n",
       "\t\t$(\".toggle-new-music\").click(function(){\n",
       "\t\t\t$('.indie-rock').fadeOut().css('display', 'none');\n",
       "\t\t\t$('.rock').fadeOut().css('display', 'none');\n",
       "\t\t\t$('.new-music').fadeIn().css('display', 'block');\n",
       "\t\t});\n",
       "\n",
       "\t\t$(\".toggle-all-genre\").click(function(){\n",
       "\t\t\t$('.indie-rock').fadeIn().css('display', 'block');\n",
       "\t\t\t$('.rock').fadeIn().css('display', 'block');\n",
       "\t\t\t$('.new-music').fadeIn().css('display', 'block');\n",
       "\t\t});\n",
       "  \n",
       "\t});\n",
       "\n",
       "</script>\n",
       "<div class=\"site-footer\">\n",
       "<footer class=\"site-info\" itemscope=\"\" itemtype=\"https://schema.org/WPFooter\">\n",
       "<div class=\"inside-site-info grid-container grid-parent\">\n",
       "<div class=\"copyright-bar\">\n",
       "<span class=\"copyright\">© 2021 Chicago Magazine</span> • Built with <a href=\"https://generatepress.com\" itemprop=\"url\">GeneratePress</a> </div>\n",
       "</div>\n",
       "</footer>\n",
       "</div><!-- .site-footer -->\n",
       "<!--[if lte IE 11]>\n",
       "<script src='https://www.chicagomag.com/wp-content/themes/generatepress/assets/js/classList.min.js?ver=3.0.2' id='generate-classlist-js'></script>\n",
       "<![endif]-->\n",
       "<script id=\"generate-main-js-extra\">\n",
       "var generatepressMenu = {\"toggleOpenedSubMenus\":\"1\",\"openSubMenuLabel\":\"Open Sub-Menu\",\"closeSubMenuLabel\":\"Close Sub-Menu\"};\n",
       "</script>\n",
       "<script id=\"generate-main-js\" src=\"https://www.chicagomag.com/wp-content/themes/generatepress/assets/js/main.min.js?ver=3.0.2\"></script>\n",
       "<script id=\"comment-reply-js\" src=\"https://www.chicagomag.com/wp-includes/js/comment-reply.min.js?ver=5.6\"></script>\n",
       "<script id=\"heateor_sss_sharing_js-js-before\">\n",
       "function heateorSssLoadEvent(e) {var t=window.onload;if (typeof window.onload!=\"function\") {window.onload=e}else{window.onload=function() {t();e()}}};\tvar heateorSssSharingAjaxUrl = 'https://www.chicagomag.com/wp-admin/admin-ajax.php', heateorSssCloseIconPath = 'https://www.chicagomag.com/wp-content/plugins/sassy-social-share/public/../images/close.png', heateorSssPluginIconPath = 'https://www.chicagomag.com/wp-content/plugins/sassy-social-share/public/../images/logo.png', heateorSssHorizontalSharingCountEnable = 0, heateorSssVerticalSharingCountEnable = 0, heateorSssSharingOffset = -10; var heateorSssMobileStickySharingEnabled = 0;var heateorSssCopyLinkMessage = \"Link copied.\";var heateorSssUrlCountFetched = [], heateorSssSharesText = 'Shares', heateorSssShareText = 'Share';function heateorSssPopup(e) {window.open(e,\"popUpWindow\",\"height=400,width=600,left=400,top=100,resizable,scrollbars,toolbar=0,personalbar=0,menubar=no,location=no,directories=no,status\")};var heateorSssWhatsappShareAPI = \"web\";\n",
       "</script>\n",
       "<script id=\"heateor_sss_sharing_js-js\" src=\"https://www.chicagomag.com/wp-content/plugins/sassy-social-share/public/js/sassy-social-share-public.js?ver=3.3.20\"></script>\n",
       "<script id=\"__ytprefsfitvids__-js\" src=\"https://www.chicagomag.com/wp-content/plugins/youtube-embed-plus-pro/scripts/fitvids.min.js?ver=13.4.2\"></script>\n",
       "<script id=\"wp-embed-js\" src=\"https://www.chicagomag.com/wp-includes/js/wp-embed.min.js?ver=5.6\"></script>\n",
       "<script>\n",
       "// When the user scrolls down 20px from the top of the document, slide down the navbar\n",
       "window.onscroll = function() {scrollFunction()};\n",
       "\n",
       "function scrollFunction() {\n",
       "  if (document.body.scrollTop > 240 || document.documentElement.scrollTop > 240) {\n",
       "    document.getElementById(\"navbar\").style.top = \"0\";\n",
       "  } else {\n",
       "    document.getElementById(\"navbar\").style.top = \"-45px\";\n",
       "  }\n",
       "}\n",
       "</script>\n",
       "</body>\n",
       "</html>"
      ]
     },
     "metadata": {},
     "execution_count": 1
    }
   ],
   "source": [
    "from bs4 import BeautifulSoup\n",
    "import urllib.request\n",
    "\n",
    "url = 'https://www.chicagomag.com/Chicago-Magazine/November-2012/Best-Sandwiches-Chicago/'\n",
    "\n",
    "headers = {'User-Agent':'Chrome/6.0.3359.181'}\n",
    "req = urllib.request.Request(url, headers=headers)\n",
    "html = urllib.request.urlopen(req)\n",
    "soup = BeautifulSoup(html, 'html.parser')\n",
    "\n",
    "soup"
   ]
  },
  {
   "cell_type": "code",
   "execution_count": 2,
   "metadata": {},
   "outputs": [
    {
     "output_type": "stream",
     "name": "stdout",
     "text": [
      "[<div class=\"sammy\" style=\"position: relative;\">\n<div class=\"sammyRank\">1</div>\n<div class=\"sammyListing\"><a href=\"/Chicago-Magazine/November-2012/Best-Sandwiches-in-Chicago-Old-Oak-Tap-BLT/\"><b>BLT</b><br/>\nOld Oak Tap<br/>\n<em>Read more</em> </a></div>\n</div>, <div class=\"sammy\" style=\"position: relative;\">\n<div class=\"sammyRank\">2</div>\n<div class=\"sammyListing\"><a href=\"/Chicago-Magazine/November-2012/Best-Sandwiches-in-Chicago-Au-Cheval-Fried-Bologna/\"><b>Fried Bologna</b><br/>\nAu Cheval<br/>\n<em>Read more</em> </a></div>\n</div>, <div class=\"sammy\" style=\"position: relative;\">\n<div class=\"sammyRank\">3</div>\n<div class=\"sammyListing\"><a href=\"/Chicago-Magazine/November-2012/Best-Sandwiches-in-Chicago-Xoco-Woodland-Mushroom/\"><b>Woodland Mushroom</b><br/>\nXoco<br/>\n<em>Read more</em> </a></div>\n</div>, <div class=\"sammy\" style=\"position: relative;\">\n<div class=\"sammyRank\">4</div>\n<div class=\"sammyListing\"><a href=\"/Chicago-Magazine/November-2012/Best-Sandwiches-in-Chicago-Als-Deli-Roast-Beef/\"><b>Roast Beef</b><br/>\nAl’s Deli<br/>\n<em>Read more</em> </a></div>\n</div>, <div class=\"sammy\" style=\"position: relative;\">\n<div class=\"sammyRank\">5</div>\n<div class=\"sammyListing\"><a href=\"/Chicago-Magazine/November-2012/Best-Sandwiches-in-Chicago-Publican-Quality-Meats-PB-L/\"><b>PB&amp;L</b><br/>\nPublican Quality Meats<br/>\n<em>Read more</em> </a></div>\n</div>, <div class=\"sammy\" style=\"position: relative;\">\n<div class=\"sammyRank\">6</div>\n<div class=\"sammyListing\"><a href=\"http://www.chicagomag.com/Chicago-Magazine/November-2012/Best-Sandwiches-in-Chicago-Hendrickx-Belgian-Bread-Crafter-Belgian-Chicken-Curry-Salad/\"><b>Belgian Chicken Curry Salad</b><br/>\nHendrickx Belgian Bread Crafter<br/>\n<em>Read more</em> </a></div>\n</div>, <div class=\"sammy\" style=\"position: relative;\">\n<div class=\"sammyRank\">7</div>\n<div class=\"sammyListing\"><a href=\"/Chicago-Magazine/November-2012/Best-Sandwiches-in-Chicago-Acadia-Lobster-Roll/\"><b>Lobster Roll</b><br/>\nAcadia<br/>\n<em>Read more</em> </a></div>\n</div>, <div class=\"sammy\" style=\"position: relative;\">\n<div class=\"sammyRank\">8</div>\n<div class=\"sammyListing\"><a href=\"/Chicago-Magazine/November-2012/Best-Sandwiches-in-Chicago-Birchwood-Kitchen-Smoked-Salmon-Salad/\"><b>Smoked Salmon Salad</b><br/>\nBirchwood Kitchen<br/>\n<em>Read more</em> </a></div>\n</div>, <div class=\"sammy\" style=\"position: relative;\">\n<div class=\"sammyRank\">9</div>\n<div class=\"sammyListing\"><a href=\"/Chicago-Magazine/November-2012/Best-Sandwiches-in-Chicago-Cemitas-Puebla-Atomica-Cemitas/\"><b>Atomica Cemitas</b><br/>\nCemitas Puebla<br/>\n<em>Read more</em> </a></div>\n</div>, <div class=\"sammy\" style=\"position: relative;\">\n<div class=\"sammyRank\">10</div>\n<div class=\"sammyListing\"><a href=\"/Chicago-Magazine/November-2012/Best-Sandwiches-in-Chicago-Nana-Grilled-Laughing-Bird-Shrimp-and-Fried-Oyster-Po-Boy/\"><b>Grilled Laughing Bird Shrimp and Fried Po’ Boy</b><br/>\nNana<br/>\n<em>Read more</em> </a></div>\n</div>, <div class=\"sammy\" style=\"position: relative;\">\n<div class=\"sammyRank\">11</div>\n<div class=\"sammyListing\"><a href=\"http://www.chicagomag.com/Chicago-Magazine/November-2012/Best-Sandwiches-in-Chicago-Lula-Cafe-Ham-and-Raclette-Panino/\"><b>Ham and Raclette Panino</b><br/>\nLula Cafe<br/>\n<em>Read more</em> </a></div>\n</div>, <div class=\"sammy\" style=\"position: relative;\">\n<div class=\"sammyRank\">12</div>\n<div class=\"sammyListing\"><a href=\"http://www.chicagomag.com/Chicago-Magazine/November-2012/Best-Sandwiches-in-Chicago-Ricobenes-Breaded-Steak/\"><b>Breaded Steak</b><br/>\nRicobene’s<br/>\n<em>Read more</em> </a></div>\n</div>, <div class=\"sammy\" style=\"position: relative;\">\n<div class=\"sammyRank\">13</div>\n<div class=\"sammyListing\"><a href=\"http://www.chicagomag.com/Chicago-Magazine/November-2012/Best-Sandwiches-in-Chicago-Frog-n-Snail-The-Hawkeye/\"><b>The Hawkeye</b><br/>\nFrog n Snail<br/>\n<em>Read more</em> </a></div>\n</div>, <div class=\"sammy\" style=\"position: relative;\">\n<div class=\"sammyRank\">14</div>\n<div class=\"sammyListing\"><a href=\"http://www.chicagomag.com/Chicago-Magazine/November-2012/Best-Sandwiches-in-Chicago-Crosbys-Kitchen-Chicken-Dip/\"><b>Chicken Dip</b><br/>\nCrosby’s Kitchen<br/>\n<em>Read more</em> </a></div>\n</div>, <div class=\"sammy\" style=\"position: relative;\">\n<div class=\"sammyRank\">15</div>\n<div class=\"sammyListing\"><a href=\"http://www.chicagomag.com/Chicago-Magazine/November-2012/Best-Sandwiches-in-Chicago-Longman-and-Eagle-Wild-Boar-Sloppy-Joe/\"><b>Wild Boar Sloppy Joe</b><br/>\nLongman &amp; Eagle<br/>\n<em>Read more</em> </a></div>\n</div>, <div class=\"sammy\" style=\"position: relative;\">\n<div class=\"sammyRank\">16</div>\n<div class=\"sammyListing\"><a href=\"http://www.chicagomag.com/Chicago-Magazine/November-2012/Best-Sandwiches-in-Chicago-Bari-Meatball-Sub/\"><b>Meatball Sub</b><br/>\nBari<br/>\n<em>Read more</em> </a></div>\n</div>, <div class=\"sammy\" style=\"position: relative;\">\n<div class=\"sammyRank\">17</div>\n<div class=\"sammyListing\"><a href=\"http://www.chicagomag.com/Chicago-Magazine/November-2012/Best-Sandwiches-in-Chicago-Mannys-Corned-Beef/\"><b>Corned Beef</b><br/>\nManny’s<br/>\n<em>Read more</em> </a></div>\n</div>, <div class=\"sammy\" style=\"position: relative;\">\n<div class=\"sammyRank\">18</div>\n<div class=\"sammyListing\"><a href=\"http://www.chicagomag.com/Chicago-Magazine/November-2012/Best-Sandwiches-in-Chicago-Eggys-Turkey-Club/\"><b>Turkey Club</b><br/>\nEggy’s<br/>\n<em>Read more</em> </a></div>\n</div>, <div class=\"sammy\" style=\"position: relative;\">\n<div class=\"sammyRank\">19</div>\n<div class=\"sammyListing\"><a href=\"http://www.chicagomag.com/Chicago-Magazine/November-2012/Best-Sandwiches-in-Chicago-Old-Jerusalem-Falafel/\"><b>Falafel</b><br/>\nOld Jerusalem<br/>\n<em>Read more</em> </a></div>\n</div>, <div class=\"sammy\" style=\"position: relative;\">\n<div class=\"sammyRank\">20</div>\n<div class=\"sammyListing\"><a href=\"http://www.chicagomag.com/Chicago-Magazine/November-2012/Best-Sandwiches-in-Chicago-Mindys-HotChocolate-Crab-Cake/\"><b>Crab Cake</b><br/>\nMindy’s HotChocolate<br/>\n<em>Read more</em> </a></div>\n</div>, <div class=\"sammy\" style=\"position: relative;\">\n<div class=\"sammyRank\">21</div>\n<div class=\"sammyListing\"><a href=\"http://www.chicagomag.com/Chicago-Magazine/November-2012/Best-Sandwiches-in-Chicago-Olgas-Delicatessen-Chicken-Schnitzel/\"><b>Chicken Schnitzel</b><br/>\nOlga’s Delicatessen<br/>\n<em>Read more</em> </a></div>\n</div>, <div class=\"sammy\" style=\"position: relative;\">\n<div class=\"sammyRank\">22</div>\n<div class=\"sammyListing\"><a href=\"http://www.chicagomag.com/Chicago-Magazine/November-2012/Best-Sandwiches-in-Chicago-Dawali-Mediterranean-Kitchen-Shawarma/\"><b>Shawarma</b><br/>\nDawali Mediterranean Kitchen<br/>\n<em>Read more</em> </a></div>\n</div>, <div class=\"sammy\" style=\"position: relative;\">\n<div class=\"sammyRank\">23</div>\n<div class=\"sammyListing\"><a href=\"http://www.chicagomag.com/Chicago-Magazine/November-2012/Best-Sandwiches-in-Chicago-Big-Jones-Toasted-Pimiento-Cheese/\"><b>Toasted Pimiento Cheese</b><br/>\nBig Jones<br/>\n<em>Read more</em> </a></div>\n</div>, <div class=\"sammy\" style=\"position: relative;\">\n<div class=\"sammyRank\">24</div>\n<div class=\"sammyListing\"><a href=\"http://www.chicagomag.com/Chicago-Magazine/November-2012/Best-Sandwiches-in-Chicago-La-Pane-Vegetarian-Panino/\"><b>Vegetarian Panino</b><br/>\nLa Pane<br/>\n<em>Read more</em> </a></div>\n</div>, <div class=\"sammy\" style=\"position: relative;\">\n<div class=\"sammyRank\">25</div>\n<div class=\"sammyListing\"><a href=\"/Chicago-Magazine/November-2012/Best-Sandwiches-in-Chicago-Pastoral-Cali-Chevre/\"><b>Cali Chèvre</b><br/>\nPastoral<br/>\n<em>Read more</em> </a></div>\n</div>, <div class=\"sammy\" style=\"position: relative;\">\n<div class=\"sammyRank\">26</div>\n<div class=\"sammyListing\"><a href=\"http://www.chicagomag.com/Chicago-Magazine/November-2012/Best-Sandwiches-in-Chicago-Maxs-Deli-Pastrami/\"><b>Pastrami</b><br/>\nMax’s Deli<br/>\n<em>Read more</em> </a></div>\n</div>, <div class=\"sammy\" style=\"position: relative;\">\n<div class=\"sammyRank\">27</div>\n<div class=\"sammyListing\"><a href=\"http://www.chicagomag.com/Chicago-Magazine/November-2012/Best-Sandwiches-in-Chicago-Luckys-Sandwich-Co-The-Fredo/\"><b>The Fredo</b><br/>\nLucky’s Sandwich Co.<br/>\n<em>Read more</em> </a></div>\n</div>, <div class=\"sammy\" style=\"position: relative;\">\n<div class=\"sammyRank\">28</div>\n<div class=\"sammyListing\"><a href=\"http://www.chicagomag.com/Chicago-Magazine/November-2012/Best-Sandwiches-in-Chicago-City-Provisions-Smoked-Ham/\"><b>Smoked Ham</b><br/>\nCity Provisions<br/>\n<em>Read more</em> </a></div>\n</div>, <div class=\"sammy\" style=\"position: relative;\">\n<div class=\"sammyRank\">29</div>\n<div class=\"sammyListing\"><a href=\"http://www.chicagomag.com/Chicago-Magazine/November-2012/Best-Sandwiches-in-Chicago-Papas-Cache-Sabroso-Jibarito/\"><b>Jibarito</b><br/>\nPapa’s Cache Sabroso<br/>\n<em>Read more</em> </a></div>\n</div>, <div class=\"sammy\" style=\"position: relative;\">\n<div class=\"sammyRank\">30</div>\n<div class=\"sammyListing\"><a href=\"http://www.chicagomag.com/Chicago-Magazine/November-2012/Best-Sandwiches-in-Chicago-Bavettes-Bar-and-Boeuf-Shaved-Prime-Rib/\"><b>Shaved Prime Rib</b><br/>\nBavette’s Bar &amp; Boeuf<br/>\n<em>Read more</em> </a></div>\n</div>, <div class=\"sammy\" style=\"position: relative;\">\n<div class=\"sammyRank\">31</div>\n<div class=\"sammyListing\"><a href=\"http://www.chicagomag.com/Chicago-Magazine/November-2012/Best-Sandwiches-in-Chicago-Hannahs-Bretzel-Serrano-Ham-and-Manchego-Cheese/\"><b>Serrano Ham and Manchego Cheese</b><br/>\nHannah’s Bretzel<br/>\n<em>Read more</em> </a></div>\n</div>, <div class=\"sammy\" style=\"position: relative;\">\n<div class=\"sammyRank\">32</div>\n<div class=\"sammyListing\"><a href=\"http://www.chicagomag.com/Chicago-Magazine/November-2012/Best-Sandwiches-in-Chicago-La-Fournette-Tuna-Salad/\"><b>Tuna Salad</b><br/>\nLa Fournette<br/>\n<em>Read more</em> </a></div>\n</div>, <div class=\"sammy\" style=\"position: relative;\">\n<div class=\"sammyRank\">33</div>\n<div class=\"sammyListing\"><a href=\"http://www.chicagomag.com/Chicago-Magazine/November-2012/Best-Sandwiches-in-Chicago-Paramount-Room-Paramount-Reuben/\"><b>Paramount Reuben</b><br/>\nParamount Room<br/>\n<em>Read more</em> </a></div>\n</div>, <div class=\"sammy\" style=\"position: relative;\">\n<div class=\"sammyRank\">34</div>\n<div class=\"sammyListing\"><a href=\"http://www.chicagomag.com/Chicago-Magazine/November-2012/Best-Sandwiches-in-Chicago-Melt-Sandwich-Shoppe-The-Istanbul/\"><b>The Istanbul</b><br/>\nMelt Sandwich Shoppe<br/>\n<em>Read more</em> </a></div>\n</div>, <div class=\"sammy\" style=\"position: relative;\">\n<div class=\"sammyRank\">35</div>\n<div class=\"sammyListing\"><a href=\"http://www.chicagomag.com/Chicago-Magazine/November-2012/Best-Sandwiches-in-Chicago-Floriole-Cafe-and-Bakery-BAD/\"><b>B.A.D.</b><br/>\nFloriole Cafe &amp; Bakery<br/>\n<em>Read more</em> </a></div>\n</div>, <div class=\"sammy\" style=\"position: relative;\">\n<div class=\"sammyRank\">36</div>\n<div class=\"sammyListing\"><a href=\"http://www.chicagomag.com/Chicago-Magazine/November-2012/Best-Sandwiches-in-Chicago-First-Slice-Pie-Cafe-Duck-Confit-and-Mozzarella/\"><b>Duck Confit and Mozzarella</b><br/>\nFirst Slice Pie Café<br/>\n<em>Read more</em> </a></div>\n</div>, <div class=\"sammy\" style=\"position: relative;\">\n<div class=\"sammyRank\">37</div>\n<div class=\"sammyListing\"><a href=\"http://www.chicagomag.com/Chicago-Magazine/November-2012/Best-Sandwiches-in-Chicago-Troquet-Croque-Monsieur/\"><b>Croque Monsieur</b><br/>\nTroquet<br/>\n<em>Read more</em> </a></div>\n</div>, <div class=\"sammy\" style=\"position: relative;\">\n<div class=\"sammyRank\">38</div>\n<div class=\"sammyListing\"><a href=\"http://www.chicagomag.com/Chicago-Magazine/November-2012/Best-Sandwiches-in-Chicago-Grahamwich-Green-Garbanzo/\"><b>Green Garbanzo</b><br/>\nGrahamwich<br/>\n<em>Read more</em> </a></div>\n</div>, <div class=\"sammy\" style=\"position: relative;\">\n<div class=\"sammyRank\">39</div>\n<div class=\"sammyListing\"><a href=\"http://www.chicagomag.com/Chicago-Magazine/November-2012/Best-Sandwiches-in-Chicago-Saigon-Sisters-The-Hen-House/\"><b>The Hen House</b><br/>\nSaigon Sisters<br/>\n<em>Read more</em> </a></div>\n</div>, <div class=\"sammy\" style=\"position: relative;\">\n<div class=\"sammyRank\">40</div>\n<div class=\"sammyListing\"><a href=\"http://www.chicagomag.com/Chicago-Magazine/November-2012/Best-Sandwiches-in-Chicago-Rosalias-Deli-Tuscan-Chicken/\"><b>Tuscan Chicken</b><br/>\nRosalia’s Deli<br/>\n<em>Read more</em> </a></div>\n</div>, <div class=\"sammy\" style=\"position: relative;\">\n<div class=\"sammyRank\">41</div>\n<div class=\"sammyListing\"><a href=\"http://www.chicagomag.com/Chicago-Magazine/November-2012/Best-Sandwiches-in-Chicago-Z-and-H-MarketCafe-The-Marty/\"><b>The Marty </b><br/>\nZ&amp;H MarketCafe<br/>\n<em>Read more</em> </a></div>\n</div>, <div class=\"sammy\" style=\"position: relative;\">\n<div class=\"sammyRank\">42</div>\n<div class=\"sammyListing\"><a href=\"http://www.chicagomag.com/Chicago-Magazine/November-2012/Best-Sandwiches-in-Chicago-Market-House-on-the-Square-Whitefish/\"><b>Whitefish</b><br/>\nMarket House on the Square<br/>\n<em>Read more</em> </a></div>\n</div>, <div class=\"sammy\" style=\"position: relative;\">\n<div class=\"sammyRank\">43</div>\n<div class=\"sammyListing\"><a href=\"http://www.chicagomag.com/Chicago-Magazine/November-2012/Best-Sandwiches-in-Chicago-Elaines-Coffee-Call-Oat-Bread-Pecan-Butter-and-Fruit-Jam/\"><b>Oat Bread, Pecan Butter, and Fruit Jam</b><br/>\nElaine’s Coffee Call<br/>\n<em>Read more</em> </a></div>\n</div>, <div class=\"sammy\" style=\"position: relative;\">\n<div class=\"sammyRank\">44</div>\n<div class=\"sammyListing\"><a href=\"http://www.chicagomag.com/Chicago-Magazine/November-2012/Best-Sandwiches-in-Chicago-Marion-Street-Cheese-Market-Cauliflower-Melt/\"><b>Cauliflower Melt</b><br/>\nMarion Street Cheese Market<br/>\n<em>Read more</em> </a></div>\n</div>, <div class=\"sammy\" style=\"position: relative;\">\n<div class=\"sammyRank\">45</div>\n<div class=\"sammyListing\"><a href=\"http://www.chicagomag.com/Chicago-Magazine/November-2012/Best-Sandwiches-in-Chicago-Cafecito-Cubano/\"><b>Cubana</b><br/>\nCafecito<br/>\n<em>Read more</em> </a></div>\n</div>, <div class=\"sammy\" style=\"position: relative;\">\n<div class=\"sammyRank\">46</div>\n<div class=\"sammyListing\"><a href=\"http://www.chicagomag.com/Chicago-Magazine/November-2012/Best-Sandwiches-in-Chicago-Chickpea-Kufta/\"><b>Kufta</b><br/>\nChickpea<br/>\n<em>Read more</em> </a></div>\n</div>, <div class=\"sammy\" style=\"position: relative;\">\n<div class=\"sammyRank\">47</div>\n<div class=\"sammyListing\"><a href=\"http://www.chicagomag.com/Chicago-Magazine/November-2012/Best-Sandwiches-in-Chicago-The-Goddess-and-Grocer-Debbies-Egg-Salad/\"><b>Debbie’s Egg Salad</b><br/>\nThe Goddess and Grocer<br/>\n<em>Read more</em> </a></div>\n</div>, <div class=\"sammy\" style=\"position: relative;\">\n<div class=\"sammyRank\">48</div>\n<div class=\"sammyListing\"><a href=\"http://www.chicagomag.com/Chicago-Magazine/November-2012/Best-Sandwiches-in-Chicago-Zenwich-Beef-Curry/\"><b>Beef Curry</b><br/>\nZenwich<br/>\n<em>Read more</em> </a></div>\n</div>, <div class=\"sammy\" style=\"position: relative;\">\n<div class=\"sammyRank\">49</div>\n<div class=\"sammyListing\"><a href=\"http://www.chicagomag.com/Chicago-Magazine/November-2012/Best-Sandwiches-in-Chicago-Toni-Patisserie-Le-Vegetarien/\"><b>Le Végétarien</b><br/>\nToni Patisserie<br/>\n<em>Read more</em> </a></div>\n</div>, <div class=\"sammy\" style=\"position: relative; border-bottom: 0\">\n<div class=\"sammyRank\">50</div>\n<div class=\"sammyListing\"><a href=\"http://www.chicagomag.com/Chicago-Magazine/November-2012/Best-Sandwiches-in-Chicago-Phoebes-Bakery-The-Gatsby/\"><b>The Gatsby</b><br/>\nPhoebe’s Bakery<br/>\n<em>Read more</em> </a></div>\n</div>]\n"
     ]
    }
   ],
   "source": [
    "print(soup.find_all('div', 'sammy'))"
   ]
  },
  {
   "cell_type": "code",
   "execution_count": 3,
   "metadata": {},
   "outputs": [
    {
     "output_type": "execute_result",
     "data": {
      "text/plain": [
       "50"
      ]
     },
     "metadata": {},
     "execution_count": 3
    }
   ],
   "source": [
    "len(soup.find_all('div', 'sammy'))"
   ]
  },
  {
   "cell_type": "code",
   "execution_count": 4,
   "metadata": {},
   "outputs": [
    {
     "output_type": "stream",
     "name": "stdout",
     "text": [
      "<div class=\"sammy\" style=\"position: relative;\">\n<div class=\"sammyRank\">1</div>\n<div class=\"sammyListing\"><a href=\"/Chicago-Magazine/November-2012/Best-Sandwiches-in-Chicago-Old-Oak-Tap-BLT/\"><b>BLT</b><br/>\nOld Oak Tap<br/>\n<em>Read more</em> </a></div>\n</div>\n"
     ]
    }
   ],
   "source": [
    "print(soup.find_all('div', 'sammy')[0])"
   ]
  },
  {
   "cell_type": "code",
   "execution_count": 5,
   "metadata": {},
   "outputs": [
    {
     "output_type": "execute_result",
     "data": {
      "text/plain": [
       "bs4.element.Tag"
      ]
     },
     "metadata": {},
     "execution_count": 5
    }
   ],
   "source": [
    "tmp_one = soup.find_all('div', 'sammy')[0]\n",
    "type(tmp_one)"
   ]
  },
  {
   "cell_type": "code",
   "execution_count": 10,
   "metadata": {},
   "outputs": [
    {
     "output_type": "execute_result",
     "data": {
      "text/plain": [
       "<div class=\"sammyRank\">1</div>"
      ]
     },
     "metadata": {},
     "execution_count": 10
    }
   ],
   "source": [
    "tmp_one.find(class_='sammyRank')"
   ]
  },
  {
   "cell_type": "code",
   "execution_count": 11,
   "metadata": {},
   "outputs": [
    {
     "output_type": "execute_result",
     "data": {
      "text/plain": [
       "'1'"
      ]
     },
     "metadata": {},
     "execution_count": 11
    }
   ],
   "source": [
    "tmp_one.find(class_='sammyRank').get_text()"
   ]
  },
  {
   "cell_type": "code",
   "execution_count": 12,
   "metadata": {},
   "outputs": [
    {
     "output_type": "execute_result",
     "data": {
      "text/plain": [
       "'BLT\\nOld Oak Tap\\nRead more '"
      ]
     },
     "metadata": {},
     "execution_count": 12
    }
   ],
   "source": [
    "tmp_one.find(class_='sammyListing').get_text()"
   ]
  },
  {
   "cell_type": "code",
   "execution_count": 14,
   "metadata": {},
   "outputs": [
    {
     "output_type": "execute_result",
     "data": {
      "text/plain": [
       "'/Chicago-Magazine/November-2012/Best-Sandwiches-in-Chicago-Old-Oak-Tap-BLT/'"
      ]
     },
     "metadata": {},
     "execution_count": 14
    }
   ],
   "source": [
    "tmp_one.find('a')['href']"
   ]
  },
  {
   "cell_type": "code",
   "execution_count": 17,
   "metadata": {},
   "outputs": [
    {
     "output_type": "stream",
     "name": "stdout",
     "text": [
      "BLT\nOld Oak Tap\nRead more \n"
     ]
    }
   ],
   "source": [
    "import re\n",
    "\n",
    "tmp_string = tmp_one.find(class_='sammyListing').get_text()\n",
    "\n",
    "tmp = re.split(('\\n|\\r\\n'), tmp_string)\n",
    "\n",
    "for val in tmp:\n",
    "    print(val)"
   ]
  },
  {
   "cell_type": "code",
   "execution_count": null,
   "metadata": {},
   "outputs": [],
   "source": []
  }
 ]
}
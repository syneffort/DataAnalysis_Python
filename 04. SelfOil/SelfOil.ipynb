{
 "metadata": {
  "language_info": {
   "codemirror_mode": {
    "name": "ipython",
    "version": 3
   },
   "file_extension": ".py",
   "mimetype": "text/x-python",
   "name": "python",
   "nbconvert_exporter": "python",
   "pygments_lexer": "ipython3",
   "version": "3.5.6-final"
  },
  "orig_nbformat": 2,
  "kernelspec": {
   "name": "python3",
   "display_name": "Python 3.5.6 64-bit ('da': conda)",
   "metadata": {
    "interpreter": {
     "hash": "8c3bf141ecf5125a7bd84b9d797dc4b221a671ab740c92630ce746eb636d4806"
    }
   }
  }
 },
 "nbformat": 4,
 "nbformat_minor": 2,
 "cells": [
  {
   "cell_type": "code",
   "execution_count": 2,
   "metadata": {},
   "outputs": [],
   "source": [
    "from selenium import webdriver"
   ]
  },
  {
   "cell_type": "code",
   "execution_count": 9,
   "metadata": {},
   "outputs": [],
   "source": [
    "driver = webdriver.Chrome('./driver/chromedriver')\n",
    "driver.get(\"https://www.opinet.co.kr/user/main/mainView.do\")"
   ]
  },
  {
   "cell_type": "code",
   "execution_count": 10,
   "metadata": {},
   "outputs": [],
   "source": [
    "xpath = '//*[@id=\"quick_ul\"]/li[2]/a'\n",
    "driver.find_element_by_xpath(xpath).click()"
   ]
  },
  {
   "cell_type": "code",
   "execution_count": 21,
   "metadata": {},
   "outputs": [],
   "source": [
    "siRaw = driver.find_element_by_xpath('//*[@id=\"SIGUNGU_NM0\"]')\n",
    "siList = siRaw.find_elements_by_tag_name('option')"
   ]
  },
  {
   "cell_type": "code",
   "execution_count": 27,
   "metadata": {},
   "outputs": [
    {
     "output_type": "execute_result",
     "data": {
      "text/plain": [
       "['가평군',\n",
       " '고양시',\n",
       " '고양시덕양구',\n",
       " '고양시일산동구',\n",
       " '고양시일산서구',\n",
       " '과천시',\n",
       " '광명시',\n",
       " '광주시',\n",
       " '구리시',\n",
       " '군포시',\n",
       " '김포시',\n",
       " '남양주시',\n",
       " '동두천시',\n",
       " '부천시',\n",
       " '성남시',\n",
       " '성남시분당구',\n",
       " '성남시수정구',\n",
       " '성남시중원구',\n",
       " '수원시',\n",
       " '수원시권선구',\n",
       " '수원시영통구',\n",
       " '수원시장안구',\n",
       " '수원시팔달구',\n",
       " '시흥시',\n",
       " '안산시',\n",
       " '안산시단원구',\n",
       " '안산시상록구',\n",
       " '안성시',\n",
       " '안양시',\n",
       " '안양시동안구',\n",
       " '안양시만안구',\n",
       " '양주시',\n",
       " '양평군',\n",
       " '여주시',\n",
       " '연천군',\n",
       " '오산시',\n",
       " '용인시',\n",
       " '용인시기흥구',\n",
       " '용인시수지구',\n",
       " '용인시처인구',\n",
       " '의왕시',\n",
       " '의정부시',\n",
       " '이천시',\n",
       " '파주시',\n",
       " '평택시',\n",
       " '포천시',\n",
       " '하남시',\n",
       " '화성시']"
      ]
     },
     "metadata": {},
     "execution_count": 27
    }
   ],
   "source": [
    "siNames = [option.get_attribute('value') for option in siList]\n",
    "siNames.remove('')\n",
    "siNames"
   ]
  },
  {
   "cell_type": "code",
   "execution_count": 30,
   "metadata": {},
   "outputs": [],
   "source": [
    "element = driver.find_element_by_id('SIGUNGU_NM0')\n",
    "element.send_keys(siNames[9])"
   ]
  },
  {
   "cell_type": "code",
   "execution_count": 31,
   "metadata": {},
   "outputs": [],
   "source": [
    "xpath = '//*[@id=\"searRgSelect\"]/span'\n",
    "elementSelect = driver.find_element_by_xpath(xpath).click()"
   ]
  },
  {
   "cell_type": "code",
   "execution_count": 32,
   "metadata": {},
   "outputs": [],
   "source": [
    "#xpath = '//*[@id=\"glopopd_excel\"]/span'\n",
    "#elementGetExel = driver.find_element_by_xpath(xpath).click()"
   ]
  },
  {
   "cell_type": "code",
   "execution_count": 34,
   "metadata": {},
   "outputs": [
    {
     "output_type": "stream",
     "name": "stderr",
     "text": [
      "100%|██████████| 48/48 [04:40<00:00,  5.83s/it]\n"
     ]
    }
   ],
   "source": [
    "import time\n",
    "from tqdm import tqdm\n",
    "\n",
    "for si in tqdm(siNames):\n",
    "    element = driver.find_element_by_id('SIGUNGU_NM0')\n",
    "    element.send_keys(si)\n",
    "\n",
    "    time.sleep(2)\n",
    "\n",
    "    xpath = '//*[@id=\"searRgSelect\"]/span'\n",
    "    elementSelect = driver.find_element_by_xpath(xpath).click()\n",
    "\n",
    "    time.sleep(1)\n",
    "\n",
    "    xpath = '//*[@id=\"glopopd_excel\"]/span'\n",
    "    elementGetExel = driver.find_element_by_xpath(xpath).click()\n",
    "\n",
    "    time.sleep(1)"
   ]
  },
  {
   "source": [
    "# 데이터 수집 완료, 분석 시작"
   ],
   "cell_type": "markdown",
   "metadata": {}
  },
  {
   "cell_type": "code",
   "execution_count": 37,
   "metadata": {},
   "outputs": [],
   "source": [
    "import pandas as pd\n",
    "from glob import glob"
   ]
  },
  {
   "cell_type": "code",
   "execution_count": 38,
   "metadata": {},
   "outputs": [
    {
     "output_type": "execute_result",
     "data": {
      "text/plain": [
       "['./data\\\\지역_위치별(주유소) (1).xls',\n",
       " './data\\\\지역_위치별(주유소) (10).xls',\n",
       " './data\\\\지역_위치별(주유소) (11).xls',\n",
       " './data\\\\지역_위치별(주유소) (12).xls',\n",
       " './data\\\\지역_위치별(주유소) (13).xls',\n",
       " './data\\\\지역_위치별(주유소) (14).xls',\n",
       " './data\\\\지역_위치별(주유소) (15).xls',\n",
       " './data\\\\지역_위치별(주유소) (16).xls',\n",
       " './data\\\\지역_위치별(주유소) (17).xls',\n",
       " './data\\\\지역_위치별(주유소) (18).xls',\n",
       " './data\\\\지역_위치별(주유소) (19).xls',\n",
       " './data\\\\지역_위치별(주유소) (2).xls',\n",
       " './data\\\\지역_위치별(주유소) (20).xls',\n",
       " './data\\\\지역_위치별(주유소) (21).xls',\n",
       " './data\\\\지역_위치별(주유소) (22).xls',\n",
       " './data\\\\지역_위치별(주유소) (23).xls',\n",
       " './data\\\\지역_위치별(주유소) (24).xls',\n",
       " './data\\\\지역_위치별(주유소) (25).xls',\n",
       " './data\\\\지역_위치별(주유소) (26).xls',\n",
       " './data\\\\지역_위치별(주유소) (27).xls',\n",
       " './data\\\\지역_위치별(주유소) (28).xls',\n",
       " './data\\\\지역_위치별(주유소) (29).xls',\n",
       " './data\\\\지역_위치별(주유소) (3).xls',\n",
       " './data\\\\지역_위치별(주유소) (30).xls',\n",
       " './data\\\\지역_위치별(주유소) (31).xls',\n",
       " './data\\\\지역_위치별(주유소) (32).xls',\n",
       " './data\\\\지역_위치별(주유소) (33).xls',\n",
       " './data\\\\지역_위치별(주유소) (34).xls',\n",
       " './data\\\\지역_위치별(주유소) (35).xls',\n",
       " './data\\\\지역_위치별(주유소) (36).xls',\n",
       " './data\\\\지역_위치별(주유소) (37).xls',\n",
       " './data\\\\지역_위치별(주유소) (38).xls',\n",
       " './data\\\\지역_위치별(주유소) (39).xls',\n",
       " './data\\\\지역_위치별(주유소) (4).xls',\n",
       " './data\\\\지역_위치별(주유소) (40).xls',\n",
       " './data\\\\지역_위치별(주유소) (41).xls',\n",
       " './data\\\\지역_위치별(주유소) (42).xls',\n",
       " './data\\\\지역_위치별(주유소) (43).xls',\n",
       " './data\\\\지역_위치별(주유소) (44).xls',\n",
       " './data\\\\지역_위치별(주유소) (45).xls',\n",
       " './data\\\\지역_위치별(주유소) (46).xls',\n",
       " './data\\\\지역_위치별(주유소) (47).xls',\n",
       " './data\\\\지역_위치별(주유소) (5).xls',\n",
       " './data\\\\지역_위치별(주유소) (6).xls',\n",
       " './data\\\\지역_위치별(주유소) (7).xls',\n",
       " './data\\\\지역_위치별(주유소) (8).xls',\n",
       " './data\\\\지역_위치별(주유소) (9).xls',\n",
       " './data\\\\지역_위치별(주유소).xls']"
      ]
     },
     "metadata": {},
     "execution_count": 38
    }
   ],
   "source": [
    "glob('./data/지역*.xls')"
   ]
  },
  {
   "cell_type": "code",
   "execution_count": null,
   "metadata": {},
   "outputs": [],
   "source": []
  }
 ]
}